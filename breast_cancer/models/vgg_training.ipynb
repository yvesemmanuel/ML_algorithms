{
 "cells": [
  {
   "cell_type": "markdown",
   "metadata": {},
   "source": [
    "### **Getting data**"
   ]
  },
  {
   "cell_type": "code",
   "execution_count": 1,
   "metadata": {},
   "outputs": [
    {
     "name": "stderr",
     "output_type": "stream",
     "text": [
      "2023-04-17 02:42:09.525088: I tensorflow/tsl/cuda/cudart_stub.cc:28] Could not find cuda drivers on your machine, GPU will not be used.\n",
      "2023-04-17 02:42:09.561227: I tensorflow/tsl/cuda/cudart_stub.cc:28] Could not find cuda drivers on your machine, GPU will not be used.\n",
      "2023-04-17 02:42:09.561822: I tensorflow/core/platform/cpu_feature_guard.cc:182] This TensorFlow binary is optimized to use available CPU instructions in performance-critical operations.\n",
      "To enable the following instructions: AVX2 FMA, in other operations, rebuild TensorFlow with the appropriate compiler flags.\n",
      "2023-04-17 02:42:10.352476: W tensorflow/compiler/tf2tensorrt/utils/py_utils.cc:38] TF-TRT Warning: Could not find TensorRT\n"
     ]
    }
   ],
   "source": [
    "from data.data_loader import get_data\n",
    "import tensorflow as tf"
   ]
  },
  {
   "cell_type": "code",
   "execution_count": 2,
   "metadata": {},
   "outputs": [],
   "source": [
    "seed = 0\n",
    "train_tensor, validation_tensor, test_tensor = get_data(selected_fold=1, seed=seed)"
   ]
  },
  {
   "cell_type": "code",
   "execution_count": 3,
   "metadata": {},
   "outputs": [],
   "source": [
    "AUTOTUNE = tf.data.AUTOTUNE\n",
    "\n",
    "training_data = train_tensor.cache().shuffle(961).prefetch(buffer_size=AUTOTUNE)\n",
    "validation_data = validation_tensor.cache().prefetch(buffer_size=AUTOTUNE)\n",
    "test_data = test_tensor.cache().prefetch(buffer_size=AUTOTUNE)"
   ]
  },
  {
   "cell_type": "markdown",
   "metadata": {},
   "source": [
    "### **Training model**"
   ]
  },
  {
   "cell_type": "code",
   "execution_count": 4,
   "metadata": {},
   "outputs": [],
   "source": [
    "from vgg import VGG\n",
    "\n",
    "model = VGG(img_dimension=224)"
   ]
  },
  {
   "cell_type": "code",
   "execution_count": 5,
   "metadata": {},
   "outputs": [
    {
     "name": "stdout",
     "output_type": "stream",
     "text": [
      "Epoch 1/1000\n"
     ]
    },
    {
     "name": "stderr",
     "output_type": "stream",
     "text": [
      "2023-04-17 02:42:12.624278: I tensorflow/core/common_runtime/executor.cc:1197] [/device:CPU:0] (DEBUG INFO) Executor start aborting (this does not indicate an error and you can ignore this message): INVALID_ARGUMENT: You must feed a value for placeholder tensor 'Placeholder/_1' with dtype int64 and shape [804]\n",
      "\t [[{{node Placeholder/_1}}]]\n",
      "2023-04-17 02:42:12.624735: I tensorflow/core/common_runtime/executor.cc:1197] [/device:CPU:0] (DEBUG INFO) Executor start aborting (this does not indicate an error and you can ignore this message): INVALID_ARGUMENT: You must feed a value for placeholder tensor 'Placeholder/_1' with dtype int64 and shape [804]\n",
      "\t [[{{node Placeholder/_1}}]]\n",
      "2023-04-17 02:42:16.368841: W tensorflow/tsl/framework/cpu_allocator_impl.cc:83] Allocation of 359661568 exceeds 10% of free system memory.\n",
      "2023-04-17 02:42:16.712148: W tensorflow/tsl/framework/cpu_allocator_impl.cc:83] Allocation of 359661568 exceeds 10% of free system memory.\n",
      "2023-04-17 02:42:18.635925: W tensorflow/tsl/framework/cpu_allocator_impl.cc:83] Allocation of 89915392 exceeds 10% of free system memory.\n",
      "2023-04-17 02:42:18.725758: W tensorflow/tsl/framework/cpu_allocator_impl.cc:83] Allocation of 179830784 exceeds 10% of free system memory.\n",
      "2023-04-17 02:42:19.023147: W tensorflow/tsl/framework/cpu_allocator_impl.cc:83] Allocation of 179830784 exceeds 10% of free system memory.\n"
     ]
    },
    {
     "name": "stdout",
     "output_type": "stream",
     "text": [
      "29/29 [==============================] - ETA: 0s - loss: 1.5018 - roc_auc: 0.6163 - binary_accuracy: 0.5933"
     ]
    },
    {
     "name": "stderr",
     "output_type": "stream",
     "text": [
      "2023-04-17 02:45:24.884762: I tensorflow/core/common_runtime/executor.cc:1197] [/device:CPU:0] (DEBUG INFO) Executor start aborting (this does not indicate an error and you can ignore this message): INVALID_ARGUMENT: You must feed a value for placeholder tensor 'Placeholder/_1' with dtype int64 and shape [268]\n",
      "\t [[{{node Placeholder/_1}}]]\n"
     ]
    },
    {
     "name": "stdout",
     "output_type": "stream",
     "text": [
      "29/29 [==============================] - 237s 8s/step - loss: 1.5018 - roc_auc: 0.6163 - binary_accuracy: 0.5933 - val_loss: 0.6405 - val_roc_auc: 0.7940 - val_binary_accuracy: 0.7276 - lr: 0.0100\n",
      "Epoch 2/1000\n",
      "29/29 [==============================] - 174s 6s/step - loss: 0.6402 - roc_auc: 0.7032 - binary_accuracy: 0.6642 - val_loss: 0.5563 - val_roc_auc: 0.8241 - val_binary_accuracy: 0.7313 - lr: 0.0100\n",
      "Epoch 3/1000\n",
      "29/29 [==============================] - 174s 6s/step - loss: 0.5754 - roc_auc: 0.7686 - binary_accuracy: 0.6953 - val_loss: 0.5558 - val_roc_auc: 0.8715 - val_binary_accuracy: 0.7090 - lr: 0.0100\n",
      "Epoch 4/1000\n",
      "29/29 [==============================] - 174s 6s/step - loss: 0.5634 - roc_auc: 0.7875 - binary_accuracy: 0.7127 - val_loss: 0.5551 - val_roc_auc: 0.8873 - val_binary_accuracy: 0.7388 - lr: 0.0100\n",
      "Epoch 5/1000\n",
      "29/29 [==============================] - 175s 6s/step - loss: 0.5431 - roc_auc: 0.8106 - binary_accuracy: 0.7338 - val_loss: 0.5021 - val_roc_auc: 0.8876 - val_binary_accuracy: 0.8060 - lr: 0.0100\n",
      "Epoch 6/1000\n",
      "29/29 [==============================] - 174s 6s/step - loss: 0.5403 - roc_auc: 0.8073 - binary_accuracy: 0.7363 - val_loss: 0.4950 - val_roc_auc: 0.8894 - val_binary_accuracy: 0.8209 - lr: 0.0100\n",
      "Epoch 7/1000\n",
      "29/29 [==============================] - 174s 6s/step - loss: 0.5500 - roc_auc: 0.7899 - binary_accuracy: 0.7152 - val_loss: 0.6130 - val_roc_auc: 0.8923 - val_binary_accuracy: 0.6194 - lr: 0.0100\n",
      "Epoch 8/1000\n",
      "29/29 [==============================] - 174s 6s/step - loss: 0.5270 - roc_auc: 0.8194 - binary_accuracy: 0.7488 - val_loss: 0.5082 - val_roc_auc: 0.8941 - val_binary_accuracy: 0.8209 - lr: 0.0100\n",
      "Epoch 9/1000\n",
      "29/29 [==============================] - 174s 6s/step - loss: 0.5228 - roc_auc: 0.8175 - binary_accuracy: 0.7537 - val_loss: 0.5000 - val_roc_auc: 0.8938 - val_binary_accuracy: 0.8433 - lr: 0.0100\n",
      "Epoch 10/1000\n",
      "29/29 [==============================] - 174s 6s/step - loss: 0.5109 - roc_auc: 0.8266 - binary_accuracy: 0.7425 - val_loss: 0.5363 - val_roc_auc: 0.8942 - val_binary_accuracy: 0.7388 - lr: 0.0100\n",
      "Epoch 11/1000\n",
      "29/29 [==============================] - ETA: 0s - loss: 0.4835 - roc_auc: 0.8441 - binary_accuracy: 0.7674Restoring model weights from the end of the best epoch: 6.\n",
      "\n",
      "Epoch 11: ReduceLROnPlateau reducing learning rate to 0.004999999888241291.\n",
      "29/29 [==============================] - 174s 6s/step - loss: 0.4835 - roc_auc: 0.8441 - binary_accuracy: 0.7674 - val_loss: 0.5116 - val_roc_auc: 0.8889 - val_binary_accuracy: 0.7649 - lr: 0.0100\n",
      "Epoch 11: early stopping\n"
     ]
    }
   ],
   "source": [
    "model.fit(\n",
    "    training_data,\n",
    "    validation_data,\n",
    "    learning_rate=0.01,\n",
    "    patience=5,\n",
    "    epochs=1000,\n",
    "    verbose=1\n",
    ")"
   ]
  },
  {
   "cell_type": "code",
   "execution_count": 6,
   "metadata": {},
   "outputs": [],
   "source": [
    "model.save_model('vgg_new')"
   ]
  }
 ],
 "metadata": {
  "interpreter": {
   "hash": "be8e997fbdc1ff99c03ccd8070361faa309a5347a5a70f010cee8e163bdcfe9e"
  },
  "kernelspec": {
   "display_name": "Python 3.8.16 ('machine_learning')",
   "language": "python",
   "name": "python3"
  },
  "language_info": {
   "codemirror_mode": {
    "name": "ipython",
    "version": 3
   },
   "file_extension": ".py",
   "mimetype": "text/x-python",
   "name": "python",
   "nbconvert_exporter": "python",
   "pygments_lexer": "ipython3",
   "version": "3.8.16"
  },
  "orig_nbformat": 4
 },
 "nbformat": 4,
 "nbformat_minor": 2
}

{
 "cells": [
  {
   "cell_type": "code",
   "execution_count": 1,
   "metadata": {},
   "outputs": [],
   "source": [
    "import joblib\n",
    "import matplotlib.pyplot as plt\n",
    "\n",
    "import pandas as pd\n",
    "import numpy as np\n",
    "\n",
    "from sklearn.metrics import accuracy_score\n",
    "from scipy.stats import ks_2samp\n",
    "\n",
    "from mlp_ensemble import MlpEnsemble"
   ]
  },
  {
   "attachments": {},
   "cell_type": "markdown",
   "metadata": {},
   "source": [
    "#### **Getting training & validation data**"
   ]
  },
  {
   "cell_type": "code",
   "execution_count": 2,
   "metadata": {},
   "outputs": [],
   "source": [
    "df_train = pd.read_csv('../databases/training.csv')\n",
    "df_valid = pd.read_csv('../databases/validation.csv')"
   ]
  },
  {
   "cell_type": "code",
   "execution_count": 3,
   "metadata": {},
   "outputs": [],
   "source": [
    "X_train, y_train = df_train.drop(['IND_BOM_1_1'], axis=1), df_train['IND_BOM_1_1']\n",
    "X_val, y_val = df_valid.drop(['IND_BOM_1_1'], axis=1), df_valid['IND_BOM_1_1']"
   ]
  },
  {
   "attachments": {},
   "cell_type": "markdown",
   "metadata": {},
   "source": [
    "#### **MLP Ensemble**"
   ]
  },
  {
   "cell_type": "code",
   "execution_count": 4,
   "metadata": {},
   "outputs": [],
   "source": [
    "models_params = [\n",
    "    {\n",
    "        'hidden_layer_units': 32,\n",
    "        'hidden_layers': 1,\n",
    "        'learning_rate': 0.0001,\n",
    "        'max_iter': 2000,\n",
    "        'batch_size': 128,\n",
    "        'activation': 'tanh',\n",
    "        'optimizer': 'Adam',\n",
    "        'output_activation': 'sigmoid',\n",
    "        'loss_function': 'mse',\n",
    "        'dropout_rate': 0.5\n",
    "    },\n",
    "    {\n",
    "        'hidden_layer_units': 32,\n",
    "        'hidden_layers': 1,\n",
    "        'learning_rate': 0.01,\n",
    "        'max_iter': 10000,\n",
    "        'batch_size': 128,\n",
    "        'activation': 'sigmoid',\n",
    "        'optimizer': 'Adam',\n",
    "        'output_activation': 'sigmoid',\n",
    "        'loss_function': 'mse',\n",
    "        'dropout_rate': 0.5\n",
    "    }\n",
    "]"
   ]
  },
  {
   "cell_type": "code",
   "execution_count": 8,
   "metadata": {},
   "outputs": [],
   "source": [
    "input_dimension = X_train.shape[1]\n",
    "\n",
    "ensemble_model = MlpEnsemble(models_params, input_dimension)"
   ]
  },
  {
   "cell_type": "code",
   "execution_count": 9,
   "metadata": {},
   "outputs": [
    {
     "data": {
      "text/plain": [
       "243"
      ]
     },
     "execution_count": 9,
     "metadata": {},
     "output_type": "execute_result"
    }
   ],
   "source": [
    "ensemble_model.input_dimension"
   ]
  },
  {
   "cell_type": "code",
   "execution_count": 10,
   "metadata": {},
   "outputs": [
    {
     "name": "stdout",
     "output_type": "stream",
     "text": [
      "Epoch 1/2000\n",
      "1977/1977 [==============================] - 5s 2ms/step - loss: 0.2154 - accuracy: 0.6607 - val_loss: 0.2098 - val_accuracy: 0.6671\n",
      "Epoch 2/2000\n",
      "1977/1977 [==============================] - 4s 2ms/step - loss: 0.2076 - accuracy: 0.6723 - val_loss: 0.2075 - val_accuracy: 0.6718\n",
      "Epoch 3/2000\n",
      "1977/1977 [==============================] - 4s 2ms/step - loss: 0.2063 - accuracy: 0.6747 - val_loss: 0.2070 - val_accuracy: 0.6724\n",
      "Epoch 4/2000\n",
      "1977/1977 [==============================] - 5s 2ms/step - loss: 0.2058 - accuracy: 0.6760 - val_loss: 0.2071 - val_accuracy: 0.6727\n",
      "Epoch 5/2000\n",
      "1977/1977 [==============================] - 4s 2ms/step - loss: 0.2054 - accuracy: 0.6772 - val_loss: 0.2063 - val_accuracy: 0.6743\n",
      "Epoch 6/2000\n",
      "1977/1977 [==============================] - 4s 2ms/step - loss: 0.2051 - accuracy: 0.6775 - val_loss: 0.2060 - val_accuracy: 0.6758\n",
      "Epoch 7/2000\n",
      "1977/1977 [==============================] - 4s 2ms/step - loss: 0.2048 - accuracy: 0.6786 - val_loss: 0.2059 - val_accuracy: 0.6758\n",
      "Epoch 8/2000\n",
      "1977/1977 [==============================] - 4s 2ms/step - loss: 0.2046 - accuracy: 0.6788 - val_loss: 0.2058 - val_accuracy: 0.6758\n",
      "Epoch 9/2000\n",
      "1977/1977 [==============================] - 5s 2ms/step - loss: 0.2043 - accuracy: 0.6789 - val_loss: 0.2058 - val_accuracy: 0.6754\n",
      "Epoch 10/2000\n",
      "1977/1977 [==============================] - 5s 2ms/step - loss: 0.2040 - accuracy: 0.6799 - val_loss: 0.2053 - val_accuracy: 0.6772\n",
      "Epoch 11/2000\n",
      "1977/1977 [==============================] - 4s 2ms/step - loss: 0.2038 - accuracy: 0.6804 - val_loss: 0.2049 - val_accuracy: 0.6777\n",
      "Epoch 12/2000\n",
      "1977/1977 [==============================] - 4s 2ms/step - loss: 0.2035 - accuracy: 0.6807 - val_loss: 0.2048 - val_accuracy: 0.6783\n",
      "Epoch 13/2000\n",
      "1977/1977 [==============================] - 4s 2ms/step - loss: 0.2033 - accuracy: 0.6812 - val_loss: 0.2045 - val_accuracy: 0.6783\n",
      "Epoch 14/2000\n",
      "1977/1977 [==============================] - 4s 2ms/step - loss: 0.2031 - accuracy: 0.6818 - val_loss: 0.2045 - val_accuracy: 0.6783\n",
      "Epoch 15/2000\n",
      "1977/1977 [==============================] - 4s 2ms/step - loss: 0.2029 - accuracy: 0.6822 - val_loss: 0.2042 - val_accuracy: 0.6796\n",
      "Epoch 16/2000\n",
      "1977/1977 [==============================] - 4s 2ms/step - loss: 0.2027 - accuracy: 0.6821 - val_loss: 0.2043 - val_accuracy: 0.6792\n",
      "Epoch 17/2000\n",
      "1977/1977 [==============================] - 5s 3ms/step - loss: 0.2025 - accuracy: 0.6829 - val_loss: 0.2040 - val_accuracy: 0.6797\n",
      "Epoch 18/2000\n",
      "1977/1977 [==============================] - 5s 2ms/step - loss: 0.2023 - accuracy: 0.6834 - val_loss: 0.2040 - val_accuracy: 0.6794\n",
      "Epoch 19/2000\n",
      "1977/1977 [==============================] - 5s 2ms/step - loss: 0.2022 - accuracy: 0.6834 - val_loss: 0.2038 - val_accuracy: 0.6797\n",
      "Epoch 20/2000\n",
      "1977/1977 [==============================] - 5s 3ms/step - loss: 0.2020 - accuracy: 0.6840 - val_loss: 0.2038 - val_accuracy: 0.6799\n",
      "Epoch 21/2000\n",
      "1977/1977 [==============================] - 5s 2ms/step - loss: 0.2019 - accuracy: 0.6843 - val_loss: 0.2038 - val_accuracy: 0.6793\n",
      "Epoch 22/2000\n",
      "1977/1977 [==============================] - 4s 2ms/step - loss: 0.2017 - accuracy: 0.6843 - val_loss: 0.2036 - val_accuracy: 0.6799\n",
      "Epoch 23/2000\n",
      "1977/1977 [==============================] - 4s 2ms/step - loss: 0.2016 - accuracy: 0.6843 - val_loss: 0.2041 - val_accuracy: 0.6784\n",
      "Epoch 24/2000\n",
      "1977/1977 [==============================] - 4s 2ms/step - loss: 0.2015 - accuracy: 0.6852 - val_loss: 0.2034 - val_accuracy: 0.6810\n",
      "Epoch 25/2000\n",
      "1977/1977 [==============================] - 4s 2ms/step - loss: 0.2013 - accuracy: 0.6858 - val_loss: 0.2037 - val_accuracy: 0.6809\n",
      "Epoch 26/2000\n",
      "1977/1977 [==============================] - 4s 2ms/step - loss: 0.2012 - accuracy: 0.6855 - val_loss: 0.2039 - val_accuracy: 0.6798\n",
      "Epoch 27/2000\n",
      "1977/1977 [==============================] - 4s 2ms/step - loss: 0.2011 - accuracy: 0.6856 - val_loss: 0.2033 - val_accuracy: 0.6810\n",
      "Epoch 28/2000\n",
      "1977/1977 [==============================] - 4s 2ms/step - loss: 0.2010 - accuracy: 0.6858 - val_loss: 0.2033 - val_accuracy: 0.6803\n",
      "Epoch 29/2000\n",
      "1977/1977 [==============================] - 5s 2ms/step - loss: 0.2009 - accuracy: 0.6861 - val_loss: 0.2032 - val_accuracy: 0.6815\n",
      "Epoch 30/2000\n",
      "1977/1977 [==============================] - 5s 2ms/step - loss: 0.2008 - accuracy: 0.6868 - val_loss: 0.2032 - val_accuracy: 0.6813\n",
      "Epoch 31/2000\n",
      "1977/1977 [==============================] - 5s 2ms/step - loss: 0.2007 - accuracy: 0.6867 - val_loss: 0.2038 - val_accuracy: 0.6782\n",
      "Epoch 32/2000\n",
      "1977/1977 [==============================] - 5s 2ms/step - loss: 0.2006 - accuracy: 0.6871 - val_loss: 0.2033 - val_accuracy: 0.6803\n",
      "Epoch 33/2000\n",
      "1977/1977 [==============================] - 5s 2ms/step - loss: 0.2005 - accuracy: 0.6872 - val_loss: 0.2031 - val_accuracy: 0.6810\n",
      "Epoch 34/2000\n",
      "1977/1977 [==============================] - 5s 2ms/step - loss: 0.2004 - accuracy: 0.6873 - val_loss: 0.2034 - val_accuracy: 0.6799\n",
      "Epoch 35/2000\n",
      "1977/1977 [==============================] - 5s 2ms/step - loss: 0.2003 - accuracy: 0.6874 - val_loss: 0.2030 - val_accuracy: 0.6815\n",
      "Epoch 36/2000\n",
      "1977/1977 [==============================] - 5s 2ms/step - loss: 0.2002 - accuracy: 0.6879 - val_loss: 0.2030 - val_accuracy: 0.6818\n",
      "Epoch 37/2000\n",
      "1977/1977 [==============================] - 5s 2ms/step - loss: 0.2001 - accuracy: 0.6882 - val_loss: 0.2030 - val_accuracy: 0.6817\n",
      "Epoch 38/2000\n",
      "1977/1977 [==============================] - 5s 2ms/step - loss: 0.2000 - accuracy: 0.6884 - val_loss: 0.2029 - val_accuracy: 0.6810\n",
      "Epoch 39/2000\n",
      "1977/1977 [==============================] - 5s 2ms/step - loss: 0.1999 - accuracy: 0.6885 - val_loss: 0.2032 - val_accuracy: 0.6814\n",
      "Epoch 40/2000\n",
      "1977/1977 [==============================] - 5s 2ms/step - loss: 0.1998 - accuracy: 0.6887 - val_loss: 0.2030 - val_accuracy: 0.6814\n",
      "Epoch 41/2000\n",
      "1977/1977 [==============================] - 5s 2ms/step - loss: 0.1998 - accuracy: 0.6892 - val_loss: 0.2029 - val_accuracy: 0.6816\n",
      "Epoch 42/2000\n",
      "1977/1977 [==============================] - 5s 2ms/step - loss: 0.1997 - accuracy: 0.6891 - val_loss: 0.2030 - val_accuracy: 0.6819\n",
      "Epoch 43/2000\n",
      "1977/1977 [==============================] - 5s 2ms/step - loss: 0.1996 - accuracy: 0.6893 - val_loss: 0.2030 - val_accuracy: 0.6811\n",
      "Epoch 44/2000\n",
      "1977/1977 [==============================] - 5s 2ms/step - loss: 0.1995 - accuracy: 0.6893 - val_loss: 0.2029 - val_accuracy: 0.6818\n",
      "Epoch 45/2000\n",
      "1977/1977 [==============================] - 5s 2ms/step - loss: 0.1994 - accuracy: 0.6897 - val_loss: 0.2031 - val_accuracy: 0.6803\n",
      "Epoch 46/2000\n",
      "1977/1977 [==============================] - 5s 2ms/step - loss: 0.1994 - accuracy: 0.6897 - val_loss: 0.2028 - val_accuracy: 0.6818\n",
      "Epoch 47/2000\n",
      "1977/1977 [==============================] - 5s 2ms/step - loss: 0.1993 - accuracy: 0.6901 - val_loss: 0.2029 - val_accuracy: 0.6816\n",
      "Epoch 48/2000\n",
      "1977/1977 [==============================] - 5s 2ms/step - loss: 0.1992 - accuracy: 0.6904 - val_loss: 0.2030 - val_accuracy: 0.6807\n",
      "Epoch 49/2000\n",
      "1977/1977 [==============================] - 5s 2ms/step - loss: 0.1991 - accuracy: 0.6904 - val_loss: 0.2031 - val_accuracy: 0.6820\n",
      "Epoch 50/2000\n",
      "1977/1977 [==============================] - 5s 2ms/step - loss: 0.1991 - accuracy: 0.6901 - val_loss: 0.2028 - val_accuracy: 0.6819\n",
      "Epoch 51/2000\n",
      "1977/1977 [==============================] - 5s 2ms/step - loss: 0.1990 - accuracy: 0.6907 - val_loss: 0.2028 - val_accuracy: 0.6817\n",
      "Epoch 52/2000\n",
      "1977/1977 [==============================] - 5s 2ms/step - loss: 0.1989 - accuracy: 0.6907 - val_loss: 0.2030 - val_accuracy: 0.6817\n",
      "Epoch 53/2000\n",
      "1977/1977 [==============================] - 5s 2ms/step - loss: 0.1989 - accuracy: 0.6912 - val_loss: 0.2029 - val_accuracy: 0.6818\n",
      "Epoch 54/2000\n",
      "1977/1977 [==============================] - 5s 2ms/step - loss: 0.1988 - accuracy: 0.6911 - val_loss: 0.2029 - val_accuracy: 0.6814\n",
      "Epoch 55/2000\n",
      "1977/1977 [==============================] - 5s 2ms/step - loss: 0.1987 - accuracy: 0.6911 - val_loss: 0.2031 - val_accuracy: 0.6821\n",
      "Epoch 56/2000\n",
      "1977/1977 [==============================] - 5s 2ms/step - loss: 0.1987 - accuracy: 0.6907 - val_loss: 0.2030 - val_accuracy: 0.6810\n",
      "Epoch 57/2000\n",
      "1977/1977 [==============================] - 5s 2ms/step - loss: 0.1986 - accuracy: 0.6917 - val_loss: 0.2028 - val_accuracy: 0.6816\n",
      "Epoch 58/2000\n",
      "1977/1977 [==============================] - 5s 2ms/step - loss: 0.1985 - accuracy: 0.6917 - val_loss: 0.2031 - val_accuracy: 0.6819\n",
      "Epoch 59/2000\n",
      "1977/1977 [==============================] - 5s 2ms/step - loss: 0.1985 - accuracy: 0.6919 - val_loss: 0.2029 - val_accuracy: 0.6819\n",
      "Epoch 60/2000\n",
      "1977/1977 [==============================] - 5s 2ms/step - loss: 0.1984 - accuracy: 0.6920 - val_loss: 0.2028 - val_accuracy: 0.6812\n",
      "Epoch 61/2000\n",
      "1977/1977 [==============================] - 5s 2ms/step - loss: 0.1984 - accuracy: 0.6917 - val_loss: 0.2028 - val_accuracy: 0.6811\n",
      "Epoch 62/2000\n",
      "1977/1977 [==============================] - 5s 2ms/step - loss: 0.1983 - accuracy: 0.6922 - val_loss: 0.2028 - val_accuracy: 0.6813\n",
      "Epoch 63/2000\n",
      "1977/1977 [==============================] - 5s 2ms/step - loss: 0.1982 - accuracy: 0.6919 - val_loss: 0.2030 - val_accuracy: 0.6819\n",
      "Epoch 64/2000\n",
      "1977/1977 [==============================] - 5s 2ms/step - loss: 0.1982 - accuracy: 0.6922 - val_loss: 0.2031 - val_accuracy: 0.6813\n",
      "Epoch 65/2000\n",
      "1977/1977 [==============================] - 5s 2ms/step - loss: 0.1981 - accuracy: 0.6923 - val_loss: 0.2030 - val_accuracy: 0.6808\n",
      "Epoch 66/2000\n",
      "1977/1977 [==============================] - 5s 2ms/step - loss: 0.1981 - accuracy: 0.6929 - val_loss: 0.2034 - val_accuracy: 0.6819\n",
      "Epoch 67/2000\n",
      "1977/1977 [==============================] - 5s 2ms/step - loss: 0.1980 - accuracy: 0.6924 - val_loss: 0.2031 - val_accuracy: 0.6819\n",
      "Epoch 68/2000\n",
      "1977/1977 [==============================] - 5s 2ms/step - loss: 0.1979 - accuracy: 0.6934 - val_loss: 0.2032 - val_accuracy: 0.6817\n",
      "Epoch 69/2000\n",
      "1977/1977 [==============================] - 5s 2ms/step - loss: 0.1979 - accuracy: 0.6932 - val_loss: 0.2030 - val_accuracy: 0.6810\n",
      "Epoch 70/2000\n",
      "1977/1977 [==============================] - 5s 2ms/step - loss: 0.1978 - accuracy: 0.6933 - val_loss: 0.2032 - val_accuracy: 0.6819\n",
      "Epoch 71/2000\n",
      "1977/1977 [==============================] - 5s 2ms/step - loss: 0.1978 - accuracy: 0.6930 - val_loss: 0.2029 - val_accuracy: 0.6816\n",
      "Epoch 72/2000\n",
      "1977/1977 [==============================] - 5s 2ms/step - loss: 0.1977 - accuracy: 0.6939 - val_loss: 0.2032 - val_accuracy: 0.6801\n",
      "Epoch 73/2000\n",
      "1977/1977 [==============================] - 5s 3ms/step - loss: 0.1976 - accuracy: 0.6938 - val_loss: 0.2030 - val_accuracy: 0.6806\n",
      "Epoch 74/2000\n",
      "1977/1977 [==============================] - 5s 3ms/step - loss: 0.1976 - accuracy: 0.6936 - val_loss: 0.2031 - val_accuracy: 0.6815\n",
      "Epoch 75/2000\n",
      "1977/1977 [==============================] - 6s 3ms/step - loss: 0.1976 - accuracy: 0.6935 - val_loss: 0.2037 - val_accuracy: 0.6782\n",
      "Epoch 76/2000\n",
      "1977/1977 [==============================] - 5s 2ms/step - loss: 0.1975 - accuracy: 0.6937 - val_loss: 0.2031 - val_accuracy: 0.6808\n",
      "Epoch 77/2000\n",
      "1957/1977 [============================>.] - ETA: 0s - loss: 0.1975 - accuracy: 0.6940Restoring model weights from the end of the best epoch: 57.\n",
      "1977/1977 [==============================] - 5s 2ms/step - loss: 0.1975 - accuracy: 0.6940 - val_loss: 0.2031 - val_accuracy: 0.6806\n",
      "Epoch 77: early stopping\n",
      "Epoch 1/10000\n",
      "1977/1977 [==============================] - 6s 3ms/step - loss: 0.2081 - accuracy: 0.6726 - val_loss: 0.2051 - val_accuracy: 0.6754\n",
      "Epoch 2/10000\n",
      "1977/1977 [==============================] - 5s 2ms/step - loss: 0.2044 - accuracy: 0.6782 - val_loss: 0.2047 - val_accuracy: 0.6783\n",
      "Epoch 3/10000\n",
      "1977/1977 [==============================] - 5s 3ms/step - loss: 0.2034 - accuracy: 0.6808 - val_loss: 0.2038 - val_accuracy: 0.6777\n",
      "Epoch 4/10000\n",
      "1977/1977 [==============================] - 5s 2ms/step - loss: 0.2028 - accuracy: 0.6815 - val_loss: 0.2056 - val_accuracy: 0.6741\n",
      "Epoch 5/10000\n",
      "1977/1977 [==============================] - 5s 2ms/step - loss: 0.2024 - accuracy: 0.6824 - val_loss: 0.2044 - val_accuracy: 0.6757\n",
      "Epoch 6/10000\n",
      "1977/1977 [==============================] - 5s 2ms/step - loss: 0.2020 - accuracy: 0.6837 - val_loss: 0.2038 - val_accuracy: 0.6778\n",
      "Epoch 7/10000\n",
      "1977/1977 [==============================] - 5s 2ms/step - loss: 0.2016 - accuracy: 0.6847 - val_loss: 0.2038 - val_accuracy: 0.6772\n",
      "Epoch 8/10000\n",
      "1977/1977 [==============================] - 5s 2ms/step - loss: 0.2012 - accuracy: 0.6853 - val_loss: 0.2044 - val_accuracy: 0.6762\n",
      "Epoch 9/10000\n",
      "1977/1977 [==============================] - 5s 2ms/step - loss: 0.2011 - accuracy: 0.6852 - val_loss: 0.2036 - val_accuracy: 0.6802\n",
      "Epoch 10/10000\n",
      "1977/1977 [==============================] - 5s 2ms/step - loss: 0.2006 - accuracy: 0.6864 - val_loss: 0.2035 - val_accuracy: 0.6802\n",
      "Epoch 11/10000\n",
      "1977/1977 [==============================] - 5s 2ms/step - loss: 0.2003 - accuracy: 0.6870 - val_loss: 0.2052 - val_accuracy: 0.6749\n",
      "Epoch 12/10000\n",
      "1977/1977 [==============================] - 5s 2ms/step - loss: 0.2000 - accuracy: 0.6875 - val_loss: 0.2040 - val_accuracy: 0.6789\n",
      "Epoch 13/10000\n",
      "1977/1977 [==============================] - 5s 2ms/step - loss: 0.1998 - accuracy: 0.6884 - val_loss: 0.2039 - val_accuracy: 0.6797\n",
      "Epoch 14/10000\n",
      "1977/1977 [==============================] - 5s 2ms/step - loss: 0.1995 - accuracy: 0.6894 - val_loss: 0.2038 - val_accuracy: 0.6782\n",
      "Epoch 15/10000\n",
      "1977/1977 [==============================] - 5s 2ms/step - loss: 0.1994 - accuracy: 0.6892 - val_loss: 0.2037 - val_accuracy: 0.6783\n",
      "Epoch 16/10000\n",
      "1977/1977 [==============================] - 5s 2ms/step - loss: 0.1992 - accuracy: 0.6900 - val_loss: 0.2041 - val_accuracy: 0.6792\n",
      "Epoch 17/10000\n",
      "1977/1977 [==============================] - 5s 2ms/step - loss: 0.1988 - accuracy: 0.6903 - val_loss: 0.2043 - val_accuracy: 0.6786\n",
      "Epoch 18/10000\n",
      "1977/1977 [==============================] - 5s 2ms/step - loss: 0.1987 - accuracy: 0.6908 - val_loss: 0.2041 - val_accuracy: 0.6788\n",
      "Epoch 19/10000\n",
      "1977/1977 [==============================] - 5s 3ms/step - loss: 0.1985 - accuracy: 0.6913 - val_loss: 0.2038 - val_accuracy: 0.6785\n",
      "Epoch 20/10000\n",
      "1977/1977 [==============================] - 5s 2ms/step - loss: 0.1983 - accuracy: 0.6917 - val_loss: 0.2042 - val_accuracy: 0.6791\n",
      "Epoch 21/10000\n",
      "1977/1977 [==============================] - 5s 3ms/step - loss: 0.1980 - accuracy: 0.6920 - val_loss: 0.2058 - val_accuracy: 0.6757\n",
      "Epoch 22/10000\n",
      "1977/1977 [==============================] - 4s 2ms/step - loss: 0.1978 - accuracy: 0.6928 - val_loss: 0.2040 - val_accuracy: 0.6787\n",
      "Epoch 23/10000\n",
      "1977/1977 [==============================] - 4s 2ms/step - loss: 0.1978 - accuracy: 0.6929 - val_loss: 0.2052 - val_accuracy: 0.6787\n",
      "Epoch 24/10000\n",
      "1977/1977 [==============================] - 5s 2ms/step - loss: 0.1975 - accuracy: 0.6932 - val_loss: 0.2046 - val_accuracy: 0.6782\n",
      "Epoch 25/10000\n",
      "1977/1977 [==============================] - 5s 3ms/step - loss: 0.1974 - accuracy: 0.6934 - val_loss: 0.2050 - val_accuracy: 0.6766\n",
      "Epoch 26/10000\n",
      "1977/1977 [==============================] - 5s 2ms/step - loss: 0.1974 - accuracy: 0.6936 - val_loss: 0.2053 - val_accuracy: 0.6783\n",
      "Epoch 27/10000\n",
      "1977/1977 [==============================] - 6s 3ms/step - loss: 0.1976 - accuracy: 0.6936 - val_loss: 0.2047 - val_accuracy: 0.6771\n",
      "Epoch 28/10000\n",
      "1977/1977 [==============================] - 6s 3ms/step - loss: 0.1973 - accuracy: 0.6936 - val_loss: 0.2049 - val_accuracy: 0.6769\n",
      "Epoch 29/10000\n",
      "1977/1977 [==============================] - 5s 3ms/step - loss: 0.1971 - accuracy: 0.6942 - val_loss: 0.2051 - val_accuracy: 0.6767\n",
      "Epoch 30/10000\n",
      "1952/1977 [============================>.] - ETA: 0s - loss: 0.1970 - accuracy: 0.6940Restoring model weights from the end of the best epoch: 10.\n",
      "1977/1977 [==============================] - 6s 3ms/step - loss: 0.1970 - accuracy: 0.6941 - val_loss: 0.2050 - val_accuracy: 0.6773\n",
      "Epoch 30: early stopping\n",
      "Keras weights file (<HDF5 file \"variables.h5\" (mode r+)>) saving:\n",
      "...layers\\dense\n",
      "......vars\n",
      ".........0\n",
      ".........1\n",
      "...layers\\dense_1\n",
      "......vars\n",
      ".........0\n",
      ".........1\n",
      "...layers\\dense_2\n",
      "......vars\n",
      ".........0\n",
      ".........1\n",
      "...metrics\\mean\n",
      "......vars\n",
      ".........0\n",
      ".........1\n",
      "...metrics\\mean_metric_wrapper\n",
      "......vars\n",
      ".........0\n",
      ".........1\n",
      "...vars\n",
      "Keras model archive saving:\n",
      "File Name                                             Modified             Size\n",
      "config.json                                    2023-03-31 12:30:15         2073\n",
      "metadata.json                                  2023-03-31 12:30:15           64\n",
      "variables.h5                                   2023-03-31 12:30:15        52240\n",
      "Keras weights file (<HDF5 file \"variables.h5\" (mode r+)>) saving:\n",
      "...layers\\dense\n",
      "......vars\n",
      ".........0\n",
      ".........1\n",
      "...layers\\dense_1\n",
      "......vars\n",
      ".........0\n",
      ".........1\n",
      "...layers\\dense_2\n",
      "......vars\n",
      ".........0\n",
      ".........1\n",
      "...metrics\\mean\n",
      "......vars\n",
      ".........0\n",
      ".........1\n",
      "...metrics\\mean_metric_wrapper\n",
      "......vars\n",
      ".........0\n",
      ".........1\n",
      "...vars\n",
      "Keras model archive saving:\n",
      "File Name                                             Modified             Size\n",
      "config.json                                    2023-03-31 12:30:15         2080\n",
      "metadata.json                                  2023-03-31 12:30:15           64\n",
      "variables.h5                                   2023-03-31 12:30:15        52240\n"
     ]
    }
   ],
   "source": [
    "ensemble_model.fit(X_train, y_train, X_val, y_val)"
   ]
  },
  {
   "attachments": {},
   "cell_type": "markdown",
   "metadata": {},
   "source": [
    "### **Model evaluation**"
   ]
  },
  {
   "cell_type": "code",
   "execution_count": 11,
   "metadata": {},
   "outputs": [
    {
     "name": "stdout",
     "output_type": "stream",
     "text": [
      "4257/4257 [==============================] - 5s 1ms/step\n"
     ]
    }
   ],
   "source": [
    "y_pred = ensemble_model.models[0].predict(X_val)"
   ]
  },
  {
   "cell_type": "code",
   "execution_count": 12,
   "metadata": {},
   "outputs": [],
   "source": [
    "y_pred = np.round(y_pred)"
   ]
  },
  {
   "cell_type": "code",
   "execution_count": 13,
   "metadata": {},
   "outputs": [
    {
     "data": {
      "text/plain": [
       "0.6816139547176461"
      ]
     },
     "execution_count": 13,
     "metadata": {},
     "output_type": "execute_result"
    }
   ],
   "source": [
    "accuracy_score(y_val, y_pred)"
   ]
  },
  {
   "cell_type": "code",
   "execution_count": 14,
   "metadata": {},
   "outputs": [
    {
     "data": {
      "image/png": "[encoded data removed]",
      "text/plain": [
       "<Figure size 1200x400 with 2 Axes>"
      ]
     },
     "metadata": {},
     "output_type": "display_data"
    }
   ],
   "source": [
    "history = ensemble_model.histories[0]\n",
    "\n",
    "fig, (ax1, ax2) = plt.subplots(1, 2, figsize=(12, 4))\n",
    "ax1.plot(history.history['loss'], label='training loss')\n",
    "ax1.plot(history.history['val_loss'], label='validation loss')\n",
    "ax1.set_xlabel('epoch')\n",
    "ax1.set_ylabel('loss')\n",
    "ax1.legend()\n",
    "ax2.plot(history.history['accuracy'], label='training accuracy')\n",
    "ax2.plot(history.history['val_accuracy'], label='validation accuracy')\n",
    "ax2.set_xlabel('epoch')\n",
    "ax2.set_ylabel('accuracy')\n",
    "ax2.legend()\n",
    "plt.show()"
   ]
  },
  {
   "cell_type": "code",
   "execution_count": 19,
   "metadata": {},
   "outputs": [],
   "source": [
    "ks_statistic, p_value = ks_2samp(y_pred.flatten(), y_val)"
   ]
  },
  {
   "cell_type": "code",
   "execution_count": 20,
   "metadata": {},
   "outputs": [
    {
     "data": {
      "text/plain": [
       "0.1649340733562388"
      ]
     },
     "execution_count": 20,
     "metadata": {},
     "output_type": "execute_result"
    }
   ],
   "source": [
    "ks_statistic"
   ]
  },
  {
   "cell_type": "code",
   "execution_count": 21,
   "metadata": {},
   "outputs": [
    {
     "data": {
      "text/plain": [
       "0.0"
      ]
     },
     "execution_count": 21,
     "metadata": {},
     "output_type": "execute_result"
    }
   ],
   "source": [
    "p_value"
   ]
  },
  {
   "cell_type": "code",
   "execution_count": null,
   "metadata": {},
   "outputs": [],
   "source": [
    "# joblib.dump(ensemble_model, 'ensemble.pkl')"
   ]
  }
 ],
 "metadata": {
  "kernelspec": {
   "display_name": "machine_learning",
   "language": "python",
   "name": "python3"
  },
  "language_info": {
   "codemirror_mode": {
    "name": "ipython",
    "version": 3
   },
   "file_extension": ".py",
   "mimetype": "text/x-python",
   "name": "python",
   "nbconvert_exporter": "python",
   "pygments_lexer": "ipython3",
   "version": "3.8.16"
  },
  "orig_nbformat": 4,
  "vscode": {
   "interpreter": {
    "hash": "bc61db7a6070c6c86b8447c28f804503118115942a6f856c38354ea7f041d17b"
   }
  }
 },
 "nbformat": 4,
 "nbformat_minor": 2
}

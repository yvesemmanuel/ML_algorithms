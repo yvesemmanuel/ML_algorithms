{
 "cells": [
  {
   "cell_type": "code",
   "execution_count": 1,
   "metadata": {},
   "outputs": [
    {
     "name": "stderr",
     "output_type": "stream",
     "text": [
      "C:\\Users\\yveem\\miniconda3\\envs\\machine_learning\\lib\\site-packages\\tqdm\\auto.py:21: TqdmWarning: IProgress not found. Please update jupyter and ipywidgets. See https://ipywidgets.readthedocs.io/en/stable/user_install.html\n",
      "  from .autonotebook import tqdm as notebook_tqdm\n"
     ]
    }
   ],
   "source": [
    "import pandas as pd\n",
    "import numpy as np\n",
    "\n",
    "import optuna\n",
    "\n",
    "from sklearn.tree import DecisionTreeClassifier\n",
    "from sklearn.metrics import log_loss\n",
    "import joblib"
   ]
  },
  {
   "cell_type": "markdown",
   "metadata": {},
   "source": [
    "#### **Getting training && validation data**"
   ]
  },
  {
   "cell_type": "code",
   "execution_count": 2,
   "metadata": {},
   "outputs": [],
   "source": [
    "df_train = pd.read_csv('../databases/training.csv')\n",
    "df_valid = pd.read_csv('../databases/validation.csv')"
   ]
  },
  {
   "cell_type": "code",
   "execution_count": 3,
   "metadata": {},
   "outputs": [],
   "source": [
    "X_train, y_train = df_train.drop(['IND_BOM_1_1'], axis=1), df_train['IND_BOM_1_1']\n",
    "X_val, y_val = df_valid.drop(['IND_BOM_1_1'], axis=1), df_valid['IND_BOM_1_1']"
   ]
  },
  {
   "cell_type": "code",
   "execution_count": 4,
   "metadata": {},
   "outputs": [],
   "source": [
    "X_train = np.array(X_train)\n",
    "X_val = np.array(X_val)"
   ]
  },
  {
   "cell_type": "markdown",
   "metadata": {},
   "source": [
    "#### **Parameters selection**"
   ]
  },
  {
   "cell_type": "code",
   "execution_count": 5,
   "metadata": {},
   "outputs": [],
   "source": [
    "def objective(trial):\n",
    "    model = DecisionTreeClassifier(\n",
    "        max_depth=trial.suggest_int('max_depth', 2, 50),\n",
    "        min_samples_split=trial.suggest_int('min_samples_split', 2, 20),\n",
    "        min_samples_leaf=trial.suggest_int('min_samples_leaf', 1, 10),\n",
    "        criterion='gini',\n",
    "        splitter=trial.suggest_categorical('splitter', ['best', 'random'])\n",
    "    )\n",
    "\n",
    "    model.fit(X_train, y_train)\n",
    "\n",
    "    y_probas = model.predict_proba(X_val)\n",
    "\n",
    "    loss = log_loss(y_val, y_probas)\n",
    "\n",
    "    return loss"
   ]
  },
  {
   "cell_type": "code",
   "execution_count": 6,
   "metadata": {},
   "outputs": [
    {
     "name": "stderr",
     "output_type": "stream",
     "text": [
      "\u001b[32m[I 2023-04-29 16:15:13,389]\u001b[0m A new study created in memory with name: no-name-eadea24b-a2d5-4690-ae19-1b371325c2b7\u001b[0m\n",
      "\u001b[32m[I 2023-04-29 16:15:16,603]\u001b[0m Trial 0 finished with value: 4.750687718149069 and parameters: {'max_depth': 48, 'min_samples_split': 16, 'min_samples_leaf': 6, 'splitter': 'random'}. Best is trial 0 with value: 4.750687718149069.\u001b[0m\n",
      "\u001b[32m[I 2023-04-29 16:15:19,816]\u001b[0m Trial 1 finished with value: 4.767634331371628 and parameters: {'max_depth': 44, 'min_samples_split': 4, 'min_samples_leaf': 7, 'splitter': 'random'}. Best is trial 0 with value: 4.750687718149069.\u001b[0m\n",
      "\u001b[32m[I 2023-04-29 16:15:32,715]\u001b[0m Trial 2 finished with value: 5.93686613711829 and parameters: {'max_depth': 45, 'min_samples_split': 3, 'min_samples_leaf': 8, 'splitter': 'best'}. Best is trial 0 with value: 4.750687718149069.\u001b[0m\n",
      "\u001b[32m[I 2023-04-29 16:15:40,905]\u001b[0m Trial 3 finished with value: 1.2785817960737238 and parameters: {'max_depth': 12, 'min_samples_split': 17, 'min_samples_leaf': 10, 'splitter': 'best'}. Best is trial 3 with value: 1.2785817960737238.\u001b[0m\n",
      "\u001b[32m[I 2023-04-29 16:15:52,601]\u001b[0m Trial 4 finished with value: 6.138091153692767 and parameters: {'max_depth': 18, 'min_samples_split': 4, 'min_samples_leaf': 2, 'splitter': 'best'}. Best is trial 3 with value: 1.2785817960737238.\u001b[0m\n",
      "\u001b[32m[I 2023-04-29 16:16:05,457]\u001b[0m Trial 5 finished with value: 7.357641917633381 and parameters: {'max_depth': 35, 'min_samples_split': 14, 'min_samples_leaf': 5, 'splitter': 'best'}. Best is trial 3 with value: 1.2785817960737238.\u001b[0m\n",
      "\u001b[32m[I 2023-04-29 16:16:07,665]\u001b[0m Trial 6 finished with value: 1.2698272117398521 and parameters: {'max_depth': 13, 'min_samples_split': 9, 'min_samples_leaf': 10, 'splitter': 'random'}. Best is trial 6 with value: 1.2698272117398521.\u001b[0m\n",
      "\u001b[32m[I 2023-04-29 16:16:20,958]\u001b[0m Trial 7 finished with value: 8.82131565565785 and parameters: {'max_depth': 27, 'min_samples_split': 11, 'min_samples_leaf': 2, 'splitter': 'best'}. Best is trial 6 with value: 1.2698272117398521.\u001b[0m\n",
      "\u001b[32m[I 2023-04-29 16:16:24,063]\u001b[0m Trial 8 finished with value: 5.564261465759822 and parameters: {'max_depth': 26, 'min_samples_split': 3, 'min_samples_leaf': 6, 'splitter': 'random'}. Best is trial 6 with value: 1.2698272117398521.\u001b[0m\n",
      "\u001b[32m[I 2023-04-29 16:16:37,998]\u001b[0m Trial 9 finished with value: 8.785832937976322 and parameters: {'max_depth': 34, 'min_samples_split': 10, 'min_samples_leaf': 4, 'splitter': 'best'}. Best is trial 6 with value: 1.2698272117398521.\u001b[0m\n",
      "\u001b[32m[I 2023-04-29 16:16:38,912]\u001b[0m Trial 10 finished with value: 0.655494847951946 and parameters: {'max_depth': 6, 'min_samples_split': 8, 'min_samples_leaf': 10, 'splitter': 'random'}. Best is trial 10 with value: 0.655494847951946.\u001b[0m\n",
      "\u001b[32m[I 2023-04-29 16:16:39,254]\u001b[0m Trial 11 finished with value: 0.6661780879759174 and parameters: {'max_depth': 2, 'min_samples_split': 7, 'min_samples_leaf': 10, 'splitter': 'random'}. Best is trial 10 with value: 0.655494847951946.\u001b[0m\n",
      "\u001b[32m[I 2023-04-29 16:16:39,721]\u001b[0m Trial 12 finished with value: 0.6628056991954654 and parameters: {'max_depth': 3, 'min_samples_split': 7, 'min_samples_leaf': 9, 'splitter': 'random'}. Best is trial 10 with value: 0.655494847951946.\u001b[0m\n",
      "\u001b[32m[I 2023-04-29 16:16:40,066]\u001b[0m Trial 13 finished with value: 0.6682815145862733 and parameters: {'max_depth': 2, 'min_samples_split': 7, 'min_samples_leaf': 8, 'splitter': 'random'}. Best is trial 10 with value: 0.655494847951946.\u001b[0m\n",
      "\u001b[32m[I 2023-04-29 16:16:41,196]\u001b[0m Trial 14 finished with value: 0.6527204917569133 and parameters: {'max_depth': 7, 'min_samples_split': 7, 'min_samples_leaf': 8, 'splitter': 'random'}. Best is trial 14 with value: 0.6527204917569133.\u001b[0m\n",
      "\u001b[32m[I 2023-04-29 16:16:42,869]\u001b[0m Trial 15 finished with value: 0.8017592845628393 and parameters: {'max_depth': 10, 'min_samples_split': 20, 'min_samples_leaf': 8, 'splitter': 'random'}. Best is trial 14 with value: 0.6527204917569133.\u001b[0m\n",
      "\u001b[32m[I 2023-04-29 16:16:45,666]\u001b[0m Trial 16 finished with value: 2.985104885194557 and parameters: {'max_depth': 19, 'min_samples_split': 13, 'min_samples_leaf': 9, 'splitter': 'random'}. Best is trial 14 with value: 0.6527204917569133.\u001b[0m\n",
      "\u001b[32m[I 2023-04-29 16:16:46,929]\u001b[0m Trial 17 finished with value: 0.6935910693077806 and parameters: {'max_depth': 8, 'min_samples_split': 6, 'min_samples_leaf': 7, 'splitter': 'random'}. Best is trial 14 with value: 0.6527204917569133.\u001b[0m\n",
      "\u001b[32m[I 2023-04-29 16:16:49,842]\u001b[0m Trial 18 finished with value: 5.103024526293075 and parameters: {'max_depth': 19, 'min_samples_split': 12, 'min_samples_leaf': 4, 'splitter': 'random'}. Best is trial 14 with value: 0.6527204917569133.\u001b[0m\n",
      "\u001b[32m[I 2023-04-29 16:16:50,918]\u001b[0m Trial 19 finished with value: 0.6542132384184697 and parameters: {'max_depth': 7, 'min_samples_split': 9, 'min_samples_leaf': 9, 'splitter': 'random'}. Best is trial 14 with value: 0.6527204917569133.\u001b[0m\n",
      "\u001b[32m[I 2023-04-29 16:16:53,720]\u001b[0m Trial 20 finished with value: 2.9269257085634064 and parameters: {'max_depth': 16, 'min_samples_split': 5, 'min_samples_leaf': 7, 'splitter': 'random'}. Best is trial 14 with value: 0.6527204917569133.\u001b[0m\n",
      "\u001b[32m[I 2023-04-29 16:16:54,825]\u001b[0m Trial 21 finished with value: 0.6644796187446813 and parameters: {'max_depth': 7, 'min_samples_split': 9, 'min_samples_leaf': 9, 'splitter': 'random'}. Best is trial 14 with value: 0.6527204917569133.\u001b[0m\n",
      "\u001b[32m[I 2023-04-29 16:16:55,953]\u001b[0m Trial 22 finished with value: 0.6611608797486274 and parameters: {'max_depth': 7, 'min_samples_split': 9, 'min_samples_leaf': 9, 'splitter': 'random'}. Best is trial 14 with value: 0.6527204917569133.\u001b[0m\n",
      "\u001b[32m[I 2023-04-29 16:16:59,074]\u001b[0m Trial 23 finished with value: 1.542634688114902 and parameters: {'max_depth': 14, 'min_samples_split': 8, 'min_samples_leaf': 10, 'splitter': 'random'}. Best is trial 14 with value: 0.6527204917569133.\u001b[0m\n",
      "\u001b[32m[I 2023-04-29 16:17:02,247]\u001b[0m Trial 24 finished with value: 3.9934117499147863 and parameters: {'max_depth': 22, 'min_samples_split': 11, 'min_samples_leaf': 8, 'splitter': 'random'}. Best is trial 14 with value: 0.6527204917569133.\u001b[0m\n",
      "\u001b[32m[I 2023-04-29 16:17:03,158]\u001b[0m Trial 25 finished with value: 0.6563214185495411 and parameters: {'max_depth': 6, 'min_samples_split': 2, 'min_samples_leaf': 9, 'splitter': 'random'}. Best is trial 14 with value: 0.6527204917569133.\u001b[0m\n",
      "\u001b[32m[I 2023-04-29 16:17:05,005]\u001b[0m Trial 26 finished with value: 0.8512843621105559 and parameters: {'max_depth': 11, 'min_samples_split': 6, 'min_samples_leaf': 10, 'splitter': 'random'}. Best is trial 14 with value: 0.6527204917569133.\u001b[0m\n",
      "\u001b[32m[I 2023-04-29 16:17:05,753]\u001b[0m Trial 27 finished with value: 0.6569247595065475 and parameters: {'max_depth': 5, 'min_samples_split': 14, 'min_samples_leaf': 7, 'splitter': 'random'}. Best is trial 14 with value: 0.6527204917569133.\u001b[0m\n",
      "\u001b[32m[I 2023-04-29 16:17:09,004]\u001b[0m Trial 28 finished with value: 7.930023073302927 and parameters: {'max_depth': 22, 'min_samples_split': 10, 'min_samples_leaf': 1, 'splitter': 'random'}. Best is trial 14 with value: 0.6527204917569133.\u001b[0m\n",
      "\u001b[32m[I 2023-04-29 16:17:12,117]\u001b[0m Trial 29 finished with value: 4.889177102487912 and parameters: {'max_depth': 31, 'min_samples_split': 16, 'min_samples_leaf': 5, 'splitter': 'random'}. Best is trial 14 with value: 0.6527204917569133.\u001b[0m\n",
      "\u001b[32m[I 2023-04-29 16:17:15,325]\u001b[0m Trial 30 finished with value: 3.2732306128561564 and parameters: {'max_depth': 16, 'min_samples_split': 8, 'min_samples_leaf': 6, 'splitter': 'random'}. Best is trial 14 with value: 0.6527204917569133.\u001b[0m\n",
      "\u001b[32m[I 2023-04-29 16:17:16,623]\u001b[0m Trial 31 finished with value: 0.654247722939334 and parameters: {'max_depth': 6, 'min_samples_split': 2, 'min_samples_leaf': 9, 'splitter': 'random'}. Best is trial 14 with value: 0.6527204917569133.\u001b[0m\n",
      "\u001b[32m[I 2023-04-29 16:17:18,482]\u001b[0m Trial 32 finished with value: 0.7604302181853874 and parameters: {'max_depth': 9, 'min_samples_split': 5, 'min_samples_leaf': 8, 'splitter': 'random'}. Best is trial 14 with value: 0.6527204917569133.\u001b[0m\n",
      "\u001b[32m[I 2023-04-29 16:17:19,270]\u001b[0m Trial 33 finished with value: 0.6547823108531561 and parameters: {'max_depth': 5, 'min_samples_split': 2, 'min_samples_leaf': 9, 'splitter': 'random'}. Best is trial 14 with value: 0.6527204917569133.\u001b[0m\n",
      "\u001b[32m[I 2023-04-29 16:17:22,417]\u001b[0m Trial 34 finished with value: 3.5804240017579954 and parameters: {'max_depth': 40, 'min_samples_split': 2, 'min_samples_leaf': 9, 'splitter': 'random'}. Best is trial 14 with value: 0.6527204917569133.\u001b[0m\n",
      "\u001b[32m[I 2023-04-29 16:17:34,439]\u001b[0m Trial 35 finished with value: 5.95452335956446 and parameters: {'max_depth': 49, 'min_samples_split': 4, 'min_samples_leaf': 8, 'splitter': 'best'}. Best is trial 14 with value: 0.6527204917569133.\u001b[0m\n",
      "\u001b[32m[I 2023-04-29 16:17:35,116]\u001b[0m Trial 36 finished with value: 0.6573404132978876 and parameters: {'max_depth': 4, 'min_samples_split': 3, 'min_samples_leaf': 7, 'splitter': 'random'}. Best is trial 14 with value: 0.6527204917569133.\u001b[0m\n",
      "\u001b[32m[I 2023-04-29 16:17:43,033]\u001b[0m Trial 37 finished with value: 1.1299003759225181 and parameters: {'max_depth': 11, 'min_samples_split': 2, 'min_samples_leaf': 9, 'splitter': 'best'}. Best is trial 14 with value: 0.6527204917569133.\u001b[0m\n",
      "\u001b[32m[I 2023-04-29 16:17:45,679]\u001b[0m Trial 38 finished with value: 2.045055916918685 and parameters: {'max_depth': 15, 'min_samples_split': 5, 'min_samples_leaf': 8, 'splitter': 'random'}. Best is trial 14 with value: 0.6527204917569133.\u001b[0m\n",
      "\u001b[32m[I 2023-04-29 16:17:54,320]\u001b[0m Trial 39 finished with value: 1.2703681634470663 and parameters: {'max_depth': 12, 'min_samples_split': 3, 'min_samples_leaf': 10, 'splitter': 'best'}. Best is trial 14 with value: 0.6527204917569133.\u001b[0m\n",
      "\u001b[32m[I 2023-04-29 16:17:55,034]\u001b[0m Trial 40 finished with value: 0.6582643061349063 and parameters: {'max_depth': 4, 'min_samples_split': 4, 'min_samples_leaf': 7, 'splitter': 'random'}. Best is trial 14 with value: 0.6527204917569133.\u001b[0m\n",
      "\u001b[32m[I 2023-04-29 16:17:56,585]\u001b[0m Trial 41 finished with value: 0.7219557494527522 and parameters: {'max_depth': 9, 'min_samples_split': 8, 'min_samples_leaf': 10, 'splitter': 'random'}. Best is trial 14 with value: 0.6527204917569133.\u001b[0m\n",
      "\u001b[32m[I 2023-04-29 16:17:57,577]\u001b[0m Trial 42 finished with value: 0.6568305132166258 and parameters: {'max_depth': 6, 'min_samples_split': 10, 'min_samples_leaf': 10, 'splitter': 'random'}. Best is trial 14 with value: 0.6527204917569133.\u001b[0m\n",
      "\u001b[32m[I 2023-04-29 16:17:58,581]\u001b[0m Trial 43 finished with value: 0.6542842053764152 and parameters: {'max_depth': 5, 'min_samples_split': 6, 'min_samples_leaf': 9, 'splitter': 'random'}. Best is trial 14 with value: 0.6527204917569133.\u001b[0m\n",
      "\u001b[32m[I 2023-04-29 16:17:59,111]\u001b[0m Trial 44 finished with value: 0.6672287466011669 and parameters: {'max_depth': 2, 'min_samples_split': 6, 'min_samples_leaf': 9, 'splitter': 'random'}. Best is trial 14 with value: 0.6527204917569133.\u001b[0m\n",
      "\u001b[32m[I 2023-04-29 16:18:08,253]\u001b[0m Trial 45 finished with value: 1.7254035507236836 and parameters: {'max_depth': 13, 'min_samples_split': 3, 'min_samples_leaf': 9, 'splitter': 'best'}. Best is trial 14 with value: 0.6527204917569133.\u001b[0m\n",
      "\u001b[32m[I 2023-04-29 16:18:09,515]\u001b[0m Trial 46 finished with value: 0.6894672503205919 and parameters: {'max_depth': 8, 'min_samples_split': 4, 'min_samples_leaf': 8, 'splitter': 'random'}. Best is trial 14 with value: 0.6527204917569133.\u001b[0m\n",
      "\u001b[32m[I 2023-04-29 16:18:11,238]\u001b[0m Trial 47 finished with value: 0.8703451990253032 and parameters: {'max_depth': 10, 'min_samples_split': 7, 'min_samples_leaf': 6, 'splitter': 'random'}. Best is trial 14 with value: 0.6527204917569133.\u001b[0m\n",
      "\u001b[32m[I 2023-04-29 16:18:11,992]\u001b[0m Trial 48 finished with value: 0.6555561486859239 and parameters: {'max_depth': 5, 'min_samples_split': 5, 'min_samples_leaf': 8, 'splitter': 'random'}. Best is trial 14 with value: 0.6527204917569133.\u001b[0m\n",
      "\u001b[32m[I 2023-04-29 16:18:15,031]\u001b[0m Trial 49 finished with value: 3.5095593597985433 and parameters: {'max_depth': 46, 'min_samples_split': 2, 'min_samples_leaf': 9, 'splitter': 'random'}. Best is trial 14 with value: 0.6527204917569133.\u001b[0m\n",
      "\u001b[32m[I 2023-04-29 16:18:17,250]\u001b[0m Trial 50 finished with value: 0.6599089002507469 and parameters: {'max_depth': 3, 'min_samples_split': 6, 'min_samples_leaf': 10, 'splitter': 'best'}. Best is trial 14 with value: 0.6527204917569133.\u001b[0m\n",
      "\u001b[32m[I 2023-04-29 16:18:18,591]\u001b[0m Trial 51 finished with value: 0.6628978934771375 and parameters: {'max_depth': 7, 'min_samples_split': 8, 'min_samples_leaf': 10, 'splitter': 'random'}. Best is trial 14 with value: 0.6527204917569133.\u001b[0m\n",
      "\u001b[32m[I 2023-04-29 16:18:19,336]\u001b[0m Trial 52 finished with value: 0.6603954769459273 and parameters: {'max_depth': 4, 'min_samples_split': 9, 'min_samples_leaf': 9, 'splitter': 'random'}. Best is trial 14 with value: 0.6527204917569133.\u001b[0m\n",
      "\u001b[32m[I 2023-04-29 16:18:19,746]\u001b[0m Trial 53 finished with value: 0.674046809436172 and parameters: {'max_depth': 2, 'min_samples_split': 12, 'min_samples_leaf': 9, 'splitter': 'random'}. Best is trial 14 with value: 0.6527204917569133.\u001b[0m\n",
      "\u001b[32m[I 2023-04-29 16:18:21,336]\u001b[0m Trial 54 finished with value: 0.7320117382940531 and parameters: {'max_depth': 9, 'min_samples_split': 7, 'min_samples_leaf': 8, 'splitter': 'random'}. Best is trial 14 with value: 0.6527204917569133.\u001b[0m\n",
      "\u001b[32m[I 2023-04-29 16:18:22,240]\u001b[0m Trial 55 finished with value: 0.6525376829670354 and parameters: {'max_depth': 6, 'min_samples_split': 9, 'min_samples_leaf': 10, 'splitter': 'random'}. Best is trial 55 with value: 0.6525376829670354.\u001b[0m\n",
      "\u001b[32m[I 2023-04-29 16:18:24,415]\u001b[0m Trial 56 finished with value: 1.4459837796841863 and parameters: {'max_depth': 12, 'min_samples_split': 10, 'min_samples_leaf': 4, 'splitter': 'random'}. Best is trial 55 with value: 0.6525376829670354.\u001b[0m\n",
      "\u001b[32m[I 2023-04-29 16:18:25,338]\u001b[0m Trial 57 finished with value: 0.6522474474250666 and parameters: {'max_depth': 6, 'min_samples_split': 9, 'min_samples_leaf': 10, 'splitter': 'random'}. Best is trial 57 with value: 0.6522474474250666.\u001b[0m\n",
      "\u001b[32m[I 2023-04-29 16:18:26,481]\u001b[0m Trial 58 finished with value: 0.6582630008697502 and parameters: {'max_depth': 7, 'min_samples_split': 12, 'min_samples_leaf': 10, 'splitter': 'random'}. Best is trial 57 with value: 0.6522474474250666.\u001b[0m\n",
      "\u001b[32m[I 2023-04-29 16:18:29,355]\u001b[0m Trial 59 finished with value: 2.894467867953097 and parameters: {'max_depth': 21, 'min_samples_split': 11, 'min_samples_leaf': 10, 'splitter': 'random'}. Best is trial 57 with value: 0.6522474474250666.\u001b[0m\n",
      "\u001b[32m[I 2023-04-29 16:18:32,711]\u001b[0m Trial 60 finished with value: 8.945792355312468 and parameters: {'max_depth': 39, 'min_samples_split': 8, 'min_samples_leaf': 3, 'splitter': 'random'}. Best is trial 57 with value: 0.6522474474250666.\u001b[0m\n",
      "\u001b[32m[I 2023-04-29 16:18:33,442]\u001b[0m Trial 61 finished with value: 0.6555694198037326 and parameters: {'max_depth': 5, 'min_samples_split': 9, 'min_samples_leaf': 9, 'splitter': 'random'}. Best is trial 57 with value: 0.6522474474250666.\u001b[0m\n",
      "\u001b[32m[I 2023-04-29 16:18:34,817]\u001b[0m Trial 62 finished with value: 0.6769606465336113 and parameters: {'max_depth': 8, 'min_samples_split': 9, 'min_samples_leaf': 10, 'splitter': 'random'}. Best is trial 57 with value: 0.6522474474250666.\u001b[0m\n",
      "\u001b[32m[I 2023-04-29 16:18:36,584]\u001b[0m Trial 63 finished with value: 0.830890781005448 and parameters: {'max_depth': 10, 'min_samples_split': 10, 'min_samples_leaf': 9, 'splitter': 'random'}. Best is trial 57 with value: 0.6522474474250666.\u001b[0m\n",
      "\u001b[32m[I 2023-04-29 16:18:37,512]\u001b[0m Trial 64 finished with value: 0.6542341170430609 and parameters: {'max_depth': 6, 'min_samples_split': 6, 'min_samples_leaf': 10, 'splitter': 'random'}. Best is trial 57 with value: 0.6522474474250666.\u001b[0m\n",
      "\u001b[32m[I 2023-04-29 16:18:39,997]\u001b[0m Trial 65 finished with value: 1.5231250918813453 and parameters: {'max_depth': 14, 'min_samples_split': 7, 'min_samples_leaf': 10, 'splitter': 'random'}. Best is trial 57 with value: 0.6522474474250666.\u001b[0m\n",
      "\u001b[32m[I 2023-04-29 16:18:40,462]\u001b[0m Trial 66 finished with value: 0.6674879237647817 and parameters: {'max_depth': 3, 'min_samples_split': 6, 'min_samples_leaf': 10, 'splitter': 'random'}. Best is trial 57 with value: 0.6522474474250666.\u001b[0m\n",
      "\u001b[32m[I 2023-04-29 16:18:41,471]\u001b[0m Trial 67 finished with value: 0.6527599177746166 and parameters: {'max_depth': 6, 'min_samples_split': 20, 'min_samples_leaf': 10, 'splitter': 'random'}. Best is trial 57 with value: 0.6522474474250666.\u001b[0m\n",
      "\u001b[32m[I 2023-04-29 16:18:44,531]\u001b[0m Trial 68 finished with value: 3.0098457478255556 and parameters: {'max_depth': 31, 'min_samples_split': 20, 'min_samples_leaf': 10, 'splitter': 'random'}. Best is trial 57 with value: 0.6522474474250666.\u001b[0m\n",
      "\u001b[32m[I 2023-04-29 16:18:47,479]\u001b[0m Trial 69 finished with value: 2.25850149261849 and parameters: {'max_depth': 18, 'min_samples_split': 18, 'min_samples_leaf': 10, 'splitter': 'random'}. Best is trial 57 with value: 0.6522474474250666.\u001b[0m\n",
      "\u001b[32m[I 2023-04-29 16:18:55,072]\u001b[0m Trial 70 finished with value: 1.0362829099489896 and parameters: {'max_depth': 11, 'min_samples_split': 18, 'min_samples_leaf': 10, 'splitter': 'best'}. Best is trial 57 with value: 0.6522474474250666.\u001b[0m\n",
      "\u001b[32m[I 2023-04-29 16:18:55,991]\u001b[0m Trial 71 finished with value: 0.6527331103541554 and parameters: {'max_depth': 6, 'min_samples_split': 7, 'min_samples_leaf': 9, 'splitter': 'random'}. Best is trial 57 with value: 0.6522474474250666.\u001b[0m\n",
      "\u001b[32m[I 2023-04-29 16:18:57,091]\u001b[0m Trial 72 finished with value: 0.6583842720350384 and parameters: {'max_depth': 7, 'min_samples_split': 11, 'min_samples_leaf': 9, 'splitter': 'random'}. Best is trial 57 with value: 0.6522474474250666.\u001b[0m\n",
      "\u001b[32m[I 2023-04-29 16:18:58,575]\u001b[0m Trial 73 finished with value: 0.730610282204056 and parameters: {'max_depth': 9, 'min_samples_split': 9, 'min_samples_leaf': 10, 'splitter': 'random'}. Best is trial 57 with value: 0.6522474474250666.\u001b[0m\n",
      "\u001b[32m[I 2023-04-29 16:18:59,675]\u001b[0m Trial 74 finished with value: 0.6530143113793911 and parameters: {'max_depth': 6, 'min_samples_split': 16, 'min_samples_leaf': 9, 'splitter': 'random'}. Best is trial 57 with value: 0.6522474474250666.\u001b[0m\n",
      "\u001b[32m[I 2023-04-29 16:19:00,315]\u001b[0m Trial 75 finished with value: 0.6581846388147773 and parameters: {'max_depth': 4, 'min_samples_split': 16, 'min_samples_leaf': 8, 'splitter': 'random'}. Best is trial 57 with value: 0.6522474474250666.\u001b[0m\n",
      "\u001b[32m[I 2023-04-29 16:19:01,645]\u001b[0m Trial 76 finished with value: 0.6713408926008838 and parameters: {'max_depth': 8, 'min_samples_split': 15, 'min_samples_leaf': 9, 'splitter': 'random'}. Best is trial 57 with value: 0.6522474474250666.\u001b[0m\n",
      "\u001b[32m[I 2023-04-29 16:19:02,595]\u001b[0m Trial 77 finished with value: 0.6564676612795367 and parameters: {'max_depth': 6, 'min_samples_split': 19, 'min_samples_leaf': 10, 'splitter': 'random'}. Best is trial 57 with value: 0.6522474474250666.\u001b[0m\n",
      "\u001b[32m[I 2023-04-29 16:19:02,947]\u001b[0m Trial 78 finished with value: 0.665522449490436 and parameters: {'max_depth': 2, 'min_samples_split': 7, 'min_samples_leaf': 9, 'splitter': 'random'}. Best is trial 57 with value: 0.6522474474250666.\u001b[0m\n",
      "\u001b[32m[I 2023-04-29 16:19:05,301]\u001b[0m Trial 79 finished with value: 1.3048913086219376 and parameters: {'max_depth': 13, 'min_samples_split': 14, 'min_samples_leaf': 10, 'splitter': 'random'}. Best is trial 57 with value: 0.6522474474250666.\u001b[0m\n",
      "\u001b[32m[I 2023-04-29 16:19:05,961]\u001b[0m Trial 80 finished with value: 0.6583920555181434 and parameters: {'max_depth': 4, 'min_samples_split': 17, 'min_samples_leaf': 8, 'splitter': 'random'}. Best is trial 57 with value: 0.6522474474250666.\u001b[0m\n",
      "\u001b[32m[I 2023-04-29 16:19:07,050]\u001b[0m Trial 81 finished with value: 0.6619229473854106 and parameters: {'max_depth': 6, 'min_samples_split': 8, 'min_samples_leaf': 9, 'splitter': 'random'}. Best is trial 57 with value: 0.6522474474250666.\u001b[0m\n",
      "\u001b[32m[I 2023-04-29 16:19:08,790]\u001b[0m Trial 82 finished with value: 0.8133109741311064 and parameters: {'max_depth': 10, 'min_samples_split': 10, 'min_samples_leaf': 9, 'splitter': 'random'}. Best is trial 57 with value: 0.6522474474250666.\u001b[0m\n",
      "\u001b[32m[I 2023-04-29 16:19:09,701]\u001b[0m Trial 83 finished with value: 0.6550970133682809 and parameters: {'max_depth': 6, 'min_samples_split': 13, 'min_samples_leaf': 9, 'splitter': 'random'}. Best is trial 57 with value: 0.6522474474250666.\u001b[0m\n",
      "\u001b[32m[I 2023-04-29 16:19:10,998]\u001b[0m Trial 84 finished with value: 0.6732240235294059 and parameters: {'max_depth': 8, 'min_samples_split': 5, 'min_samples_leaf': 10, 'splitter': 'random'}. Best is trial 57 with value: 0.6522474474250666.\u001b[0m\n",
      "\u001b[32m[I 2023-04-29 16:19:11,461]\u001b[0m Trial 85 finished with value: 0.6624751827785863 and parameters: {'max_depth': 3, 'min_samples_split': 11, 'min_samples_leaf': 9, 'splitter': 'random'}. Best is trial 57 with value: 0.6522474474250666.\u001b[0m\n",
      "\u001b[32m[I 2023-04-29 16:19:15,065]\u001b[0m Trial 86 finished with value: 0.6505690052643475 and parameters: {'max_depth': 5, 'min_samples_split': 19, 'min_samples_leaf': 10, 'splitter': 'best'}. Best is trial 86 with value: 0.6505690052643475.\u001b[0m\n",
      "\u001b[32m[I 2023-04-29 16:19:22,681]\u001b[0m Trial 87 finished with value: 1.0324222852872398 and parameters: {'max_depth': 11, 'min_samples_split': 20, 'min_samples_leaf': 10, 'splitter': 'best'}. Best is trial 86 with value: 0.6505690052643475.\u001b[0m\n",
      "\u001b[32m[I 2023-04-29 16:19:24,885]\u001b[0m Trial 88 finished with value: 0.6599089002507469 and parameters: {'max_depth': 3, 'min_samples_split': 19, 'min_samples_leaf': 10, 'splitter': 'best'}. Best is trial 86 with value: 0.6505690052643475.\u001b[0m\n",
      "\u001b[32m[I 2023-04-29 16:19:25,694]\u001b[0m Trial 89 finished with value: 0.6552823283193856 and parameters: {'max_depth': 5, 'min_samples_split': 19, 'min_samples_leaf': 10, 'splitter': 'random'}. Best is trial 86 with value: 0.6505690052643475.\u001b[0m\n",
      "\u001b[32m[I 2023-04-29 16:19:30,707]\u001b[0m Trial 90 finished with value: 0.6696596821999657 and parameters: {'max_depth': 7, 'min_samples_split': 18, 'min_samples_leaf': 10, 'splitter': 'best'}. Best is trial 86 with value: 0.6505690052643475.\u001b[0m\n",
      "\u001b[32m[I 2023-04-29 16:19:37,045]\u001b[0m Trial 91 finished with value: 0.7984359654932548 and parameters: {'max_depth': 9, 'min_samples_split': 7, 'min_samples_leaf': 9, 'splitter': 'best'}. Best is trial 86 with value: 0.6505690052643475.\u001b[0m\n",
      "\u001b[32m[I 2023-04-29 16:19:42,126]\u001b[0m Trial 92 finished with value: 0.6664998850206886 and parameters: {'max_depth': 7, 'min_samples_split': 19, 'min_samples_leaf': 8, 'splitter': 'best'}. Best is trial 86 with value: 0.6505690052643475.\u001b[0m\n",
      "\u001b[32m[I 2023-04-29 16:19:42,916]\u001b[0m Trial 93 finished with value: 0.6548778989380152 and parameters: {'max_depth': 5, 'min_samples_split': 17, 'min_samples_leaf': 7, 'splitter': 'random'}. Best is trial 86 with value: 0.6505690052643475.\u001b[0m\n",
      "\u001b[32m[I 2023-04-29 16:19:45,952]\u001b[0m Trial 94 finished with value: 3.396192038216784 and parameters: {'max_depth': 24, 'min_samples_split': 9, 'min_samples_leaf': 9, 'splitter': 'random'}. Best is trial 86 with value: 0.6505690052643475.\u001b[0m\n",
      "\u001b[32m[I 2023-04-29 16:19:48,916]\u001b[0m Trial 95 finished with value: 0.6549299542181781 and parameters: {'max_depth': 4, 'min_samples_split': 15, 'min_samples_leaf': 10, 'splitter': 'best'}. Best is trial 86 with value: 0.6505690052643475.\u001b[0m\n",
      "\u001b[32m[I 2023-04-29 16:19:49,884]\u001b[0m Trial 96 finished with value: 0.6557620695436034 and parameters: {'max_depth': 6, 'min_samples_split': 20, 'min_samples_leaf': 1, 'splitter': 'random'}. Best is trial 86 with value: 0.6505690052643475.\u001b[0m\n",
      "\u001b[32m[I 2023-04-29 16:19:51,150]\u001b[0m Trial 97 finished with value: 0.6805644983961928 and parameters: {'max_depth': 8, 'min_samples_split': 8, 'min_samples_leaf': 9, 'splitter': 'random'}. Best is trial 86 with value: 0.6505690052643475.\u001b[0m\n",
      "\u001b[32m[I 2023-04-29 16:19:52,987]\u001b[0m Trial 98 finished with value: 0.820080584447785 and parameters: {'max_depth': 10, 'min_samples_split': 8, 'min_samples_leaf': 8, 'splitter': 'random'}. Best is trial 86 with value: 0.6505690052643475.\u001b[0m\n",
      "\u001b[32m[I 2023-04-29 16:19:53,358]\u001b[0m Trial 99 finished with value: 0.6682915675063476 and parameters: {'max_depth': 2, 'min_samples_split': 13, 'min_samples_leaf': 10, 'splitter': 'random'}. Best is trial 86 with value: 0.6505690052643475.\u001b[0m\n"
     ]
    }
   ],
   "source": [
    "n_trials = 100\n",
    "\n",
    "study = optuna.create_study(direction='minimize')\n",
    "study.optimize(objective, n_trials=n_trials)"
   ]
  },
  {
   "cell_type": "markdown",
   "metadata": {},
   "source": [
    "#### **Saving study**"
   ]
  },
  {
   "cell_type": "code",
   "execution_count": 7,
   "metadata": {
    "tags": []
   },
   "outputs": [
    {
     "data": {
      "text/plain": [
       "['./optuna_studies/decision_tree_study.pkl']"
      ]
     },
     "execution_count": 7,
     "metadata": {},
     "output_type": "execute_result"
    }
   ],
   "source": [
    "save_path = './optuna_studies/decision_tree_study.pkl'\n",
    "\n",
    "joblib.dump(study, save_path)"
   ]
  }
 ],
 "metadata": {
  "kernelspec": {
   "display_name": "Python 3 (ipykernel)",
   "language": "python",
   "name": "python3"
  },
  "language_info": {
   "codemirror_mode": {
    "name": "ipython",
    "version": 3
   },
   "file_extension": ".py",
   "mimetype": "text/x-python",
   "name": "python",
   "nbconvert_exporter": "python",
   "pygments_lexer": "ipython3",
   "version": "3.8.16"
  }
 },
 "nbformat": 4,
 "nbformat_minor": 4
}

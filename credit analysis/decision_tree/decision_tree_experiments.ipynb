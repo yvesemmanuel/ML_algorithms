{
 "cells": [
  {
   "cell_type": "markdown",
   "metadata": {},
   "source": [
    "#### **Import Libs**"
   ]
  },
  {
   "cell_type": "code",
   "execution_count": 1,
   "metadata": {},
   "outputs": [
    {
     "name": "stderr",
     "output_type": "stream",
     "text": [
      "d:\\MiniConda\\envs\\DataScience\\Lib\\site-packages\\tqdm\\auto.py:21: TqdmWarning: IProgress not found. Please update jupyter and ipywidgets. See https://ipywidgets.readthedocs.io/en/stable/user_install.html\n",
      "  from .autonotebook import tqdm as notebook_tqdm\n"
     ]
    }
   ],
   "source": [
    "import pandas as pd\n",
    "import numpy as np\n",
    "\n",
    "from keras import Sequential\n",
    "from keras.layers import Dense, Dropout\n",
    "from keras.callbacks import EarlyStopping\n",
    "from keras.optimizers import SGD, Adam\n",
    "\n",
    "import optuna\n",
    "\n",
    "from sklearn.tree import DecisionTreeClassifier\n",
    "from sklearn.metrics import accuracy_score\n",
    "import joblib"
   ]
  },
  {
   "cell_type": "markdown",
   "metadata": {},
   "source": [
    "#### **Getting training && validation data**"
   ]
  },
  {
   "cell_type": "code",
   "execution_count": 2,
   "metadata": {},
   "outputs": [],
   "source": [
    "df_train = pd.read_csv('../databases/training.csv')\n",
    "df_valid = pd.read_csv('../databases/validation.csv')"
   ]
  },
  {
   "cell_type": "code",
   "execution_count": 3,
   "metadata": {},
   "outputs": [],
   "source": [
    "X_train, y_train = df_train.drop(['IND_BOM_1_1'], axis=1), df_train['IND_BOM_1_1']\n",
    "X_val, y_val = df_valid.drop(['IND_BOM_1_1'], axis=1), df_valid['IND_BOM_1_1']"
   ]
  },
  {
   "cell_type": "code",
   "execution_count": 4,
   "metadata": {},
   "outputs": [],
   "source": [
    "X_train = np.array(X_train)\n",
    "X_val = np.array(X_val)"
   ]
  },
  {
   "cell_type": "markdown",
   "metadata": {},
   "source": [
    "#### **Parameters selection**"
   ]
  },
  {
   "cell_type": "code",
   "execution_count": 5,
   "metadata": {},
   "outputs": [],
   "source": [
    "def objective(trial):\n",
    "    model = DecisionTreeClassifier(\n",
    "        max_depth=trial.suggest_int('max_depth', 2, 10),\n",
    "        min_samples_split=trial.suggest_int('min_samples_split', 2, 10),\n",
    "        min_samples_leaf=trial.suggest_int('min_samples_leaf', 1, 5),\n",
    "        criterion=trial.suggest_categorical('criterion', ['gini', 'entropy']),\n",
    "        splitter=trial.suggest_categorical('splitter', ['best', 'random'])\n",
    "    )\n",
    "\n",
    "    model.fit(X_train, y_train)\n",
    "\n",
    "    y_pred = model.predict(X_val)\n",
    "\n",
    "    accuracy = accuracy_score(y_val, y_pred)\n",
    "\n",
    "    return 1 - accuracy"
   ]
  },
  {
   "cell_type": "code",
   "execution_count": 6,
   "metadata": {},
   "outputs": [
    {
     "name": "stderr",
     "output_type": "stream",
     "text": [
      "\u001b[32m[I 2023-04-16 14:33:09,830]\u001b[0m A new study created in memory with name: no-name-1db9c78b-fcfb-42e1-841a-d384cef86341\u001b[0m\n",
      "\u001b[32m[I 2023-04-16 14:33:35,937]\u001b[0m Trial 0 finished with value: 0.3322321087716207 and parameters: {'max_depth': 8, 'min_samples_split': 9, 'min_samples_leaf': 5, 'criterion': 'entropy', 'splitter': 'best'}. Best is trial 0 with value: 0.3322321087716207.\u001b[0m\n",
      "\u001b[32m[I 2023-04-16 14:33:52,204]\u001b[0m Trial 1 finished with value: 0.34402255307902385 and parameters: {'max_depth': 5, 'min_samples_split': 9, 'min_samples_leaf': 4, 'criterion': 'entropy', 'splitter': 'best'}. Best is trial 0 with value: 0.3322321087716207.\u001b[0m\n",
      "\u001b[32m[I 2023-04-16 14:34:17,823]\u001b[0m Trial 2 finished with value: 0.32988282970663374 and parameters: {'max_depth': 9, 'min_samples_split': 9, 'min_samples_leaf': 5, 'criterion': 'gini', 'splitter': 'best'}. Best is trial 2 with value: 0.32988282970663374.\u001b[0m\n",
      "\u001b[32m[I 2023-04-16 14:34:29,687]\u001b[0m Trial 3 finished with value: 0.33430241094764046 and parameters: {'max_depth': 9, 'min_samples_split': 5, 'min_samples_leaf': 5, 'criterion': 'gini', 'splitter': 'random'}. Best is trial 2 with value: 0.32988282970663374.\u001b[0m\n",
      "\u001b[32m[I 2023-04-16 14:34:41,615]\u001b[0m Trial 4 finished with value: 0.3332085278830059 and parameters: {'max_depth': 10, 'min_samples_split': 3, 'min_samples_leaf': 3, 'criterion': 'entropy', 'splitter': 'random'}. Best is trial 2 with value: 0.32988282970663374.\u001b[0m\n",
      "\u001b[32m[I 2023-04-16 14:34:48,992]\u001b[0m Trial 5 finished with value: 0.3445658238628021 and parameters: {'max_depth': 2, 'min_samples_split': 6, 'min_samples_leaf': 3, 'criterion': 'gini', 'splitter': 'best'}. Best is trial 2 with value: 0.32988282970663374.\u001b[0m\n",
      "\u001b[32m[I 2023-04-16 14:34:56,293]\u001b[0m Trial 6 finished with value: 0.33859718673831973 and parameters: {'max_depth': 6, 'min_samples_split': 10, 'min_samples_leaf': 4, 'criterion': 'entropy', 'splitter': 'random'}. Best is trial 2 with value: 0.32988282970663374.\u001b[0m\n",
      "\u001b[32m[I 2023-04-16 14:35:03,827]\u001b[0m Trial 7 finished with value: 0.33400140956743896 and parameters: {'max_depth': 7, 'min_samples_split': 7, 'min_samples_leaf': 5, 'criterion': 'entropy', 'splitter': 'random'}. Best is trial 2 with value: 0.32988282970663374.\u001b[0m\n",
      "\u001b[32m[I 2023-04-16 14:35:10,171]\u001b[0m Trial 8 finished with value: 0.33485302322849675 and parameters: {'max_depth': 6, 'min_samples_split': 3, 'min_samples_leaf': 1, 'criterion': 'gini', 'splitter': 'random'}. Best is trial 2 with value: 0.32988282970663374.\u001b[0m\n",
      "\u001b[32m[I 2023-04-16 14:35:19,698]\u001b[0m Trial 9 finished with value: 0.3445658238628021 and parameters: {'max_depth': 3, 'min_samples_split': 3, 'min_samples_leaf': 1, 'criterion': 'entropy', 'splitter': 'best'}. Best is trial 2 with value: 0.32988282970663374.\u001b[0m\n",
      "\u001b[32m[I 2023-04-16 14:35:47,856]\u001b[0m Trial 10 finished with value: 0.33140986109887527 and parameters: {'max_depth': 10, 'min_samples_split': 8, 'min_samples_leaf': 2, 'criterion': 'gini', 'splitter': 'best'}. Best is trial 2 with value: 0.32988282970663374.\u001b[0m\n",
      "\u001b[32m[I 2023-04-16 14:36:15,796]\u001b[0m Trial 11 finished with value: 0.331380495110563 and parameters: {'max_depth': 10, 'min_samples_split': 8, 'min_samples_leaf': 2, 'criterion': 'gini', 'splitter': 'best'}. Best is trial 2 with value: 0.32988282970663374.\u001b[0m\n",
      "\u001b[32m[I 2023-04-16 14:36:38,056]\u001b[0m Trial 12 finished with value: 0.3330176489589757 and parameters: {'max_depth': 8, 'min_samples_split': 10, 'min_samples_leaf': 2, 'criterion': 'gini', 'splitter': 'best'}. Best is trial 2 with value: 0.32988282970663374.\u001b[0m\n",
      "\u001b[32m[I 2023-04-16 14:37:05,995]\u001b[0m Trial 13 finished with value: 0.3314832760696561 and parameters: {'max_depth': 10, 'min_samples_split': 7, 'min_samples_leaf': 2, 'criterion': 'gini', 'splitter': 'best'}. Best is trial 2 with value: 0.32988282970663374.\u001b[0m\n",
      "\u001b[32m[I 2023-04-16 14:37:28,770]\u001b[0m Trial 14 finished with value: 0.33303233195313187 and parameters: {'max_depth': 8, 'min_samples_split': 8, 'min_samples_leaf': 4, 'criterion': 'gini', 'splitter': 'best'}. Best is trial 2 with value: 0.32988282970663374.\u001b[0m\n",
      "\u001b[32m[I 2023-04-16 14:37:54,195]\u001b[0m Trial 15 finished with value: 0.32986814671247766 and parameters: {'max_depth': 9, 'min_samples_split': 5, 'min_samples_leaf': 2, 'criterion': 'gini', 'splitter': 'best'}. Best is trial 15 with value: 0.32986814671247766.\u001b[0m\n",
      "\u001b[32m[I 2023-04-16 14:38:05,442]\u001b[0m Trial 16 finished with value: 0.34445570140663084 and parameters: {'max_depth': 4, 'min_samples_split': 5, 'min_samples_leaf': 3, 'criterion': 'gini', 'splitter': 'best'}. Best is trial 15 with value: 0.32986814671247766.\u001b[0m\n",
      "\u001b[32m[I 2023-04-16 14:38:25,170]\u001b[0m Trial 17 finished with value: 0.33090329780048744 and parameters: {'max_depth': 7, 'min_samples_split': 5, 'min_samples_leaf': 4, 'criterion': 'gini', 'splitter': 'best'}. Best is trial 15 with value: 0.32986814671247766.\u001b[0m\n",
      "\u001b[32m[I 2023-04-16 14:38:50,512]\u001b[0m Trial 18 finished with value: 0.3298754882095557 and parameters: {'max_depth': 9, 'min_samples_split': 2, 'min_samples_leaf': 3, 'criterion': 'gini', 'splitter': 'best'}. Best is trial 15 with value: 0.32986814671247766.\u001b[0m\n",
      "\u001b[32m[I 2023-04-16 14:39:16,444]\u001b[0m Trial 19 finished with value: 0.3299048541978681 and parameters: {'max_depth': 9, 'min_samples_split': 2, 'min_samples_leaf': 3, 'criterion': 'gini', 'splitter': 'best'}. Best is trial 15 with value: 0.32986814671247766.\u001b[0m\n",
      "\u001b[32m[I 2023-04-16 14:39:37,079]\u001b[0m Trial 20 finished with value: 0.33091798079464363 and parameters: {'max_depth': 7, 'min_samples_split': 2, 'min_samples_leaf': 1, 'criterion': 'gini', 'splitter': 'best'}. Best is trial 15 with value: 0.32986814671247766.\u001b[0m\n",
      "\u001b[32m[I 2023-04-16 14:40:08,013]\u001b[0m Trial 21 finished with value: 0.32993422018618035 and parameters: {'max_depth': 9, 'min_samples_split': 4, 'min_samples_leaf': 3, 'criterion': 'gini', 'splitter': 'best'}. Best is trial 15 with value: 0.32986814671247766.\u001b[0m\n",
      "\u001b[32m[I 2023-04-16 14:40:33,734]\u001b[0m Trial 22 finished with value: 0.3299048541978681 and parameters: {'max_depth': 9, 'min_samples_split': 6, 'min_samples_leaf': 2, 'criterion': 'gini', 'splitter': 'best'}. Best is trial 15 with value: 0.32986814671247766.\u001b[0m\n",
      "\u001b[32m[I 2023-04-16 14:40:56,108]\u001b[0m Trial 23 finished with value: 0.3330910639297565 and parameters: {'max_depth': 8, 'min_samples_split': 4, 'min_samples_leaf': 3, 'criterion': 'gini', 'splitter': 'best'}. Best is trial 15 with value: 0.32986814671247766.\u001b[0m\n",
      "\u001b[32m[I 2023-04-16 14:41:24,878]\u001b[0m Trial 24 finished with value: 0.32986814671247766 and parameters: {'max_depth': 9, 'min_samples_split': 4, 'min_samples_leaf': 4, 'criterion': 'gini', 'splitter': 'best'}. Best is trial 15 with value: 0.32986814671247766.\u001b[0m\n",
      "\u001b[32m[I 2023-04-16 14:41:48,209]\u001b[0m Trial 25 finished with value: 0.33090329780048744 and parameters: {'max_depth': 7, 'min_samples_split': 4, 'min_samples_leaf': 4, 'criterion': 'gini', 'splitter': 'best'}. Best is trial 15 with value: 0.32986814671247766.\u001b[0m\n",
      "\u001b[32m[I 2023-04-16 14:41:54,095]\u001b[0m Trial 26 finished with value: 0.34415470002642934 and parameters: {'max_depth': 5, 'min_samples_split': 2, 'min_samples_leaf': 2, 'criterion': 'gini', 'splitter': 'random'}. Best is trial 15 with value: 0.32986814671247766.\u001b[0m\n",
      "\u001b[32m[I 2023-04-16 14:42:21,328]\u001b[0m Trial 27 finished with value: 0.33303233195313187 and parameters: {'max_depth': 8, 'min_samples_split': 3, 'min_samples_leaf': 4, 'criterion': 'gini', 'splitter': 'best'}. Best is trial 15 with value: 0.32986814671247766.\u001b[0m\n",
      "\u001b[32m[I 2023-04-16 14:42:55,252]\u001b[0m Trial 28 finished with value: 0.3312263236719232 and parameters: {'max_depth': 10, 'min_samples_split': 4, 'min_samples_leaf': 3, 'criterion': 'gini', 'splitter': 'best'}. Best is trial 15 with value: 0.32986814671247766.\u001b[0m\n",
      "\u001b[32m[I 2023-04-16 14:43:34,842]\u001b[0m Trial 29 finished with value: 0.3322541332628549 and parameters: {'max_depth': 8, 'min_samples_split': 5, 'min_samples_leaf': 3, 'criterion': 'entropy', 'splitter': 'best'}. Best is trial 15 with value: 0.32986814671247766.\u001b[0m\n",
      "\u001b[32m[I 2023-04-16 14:43:59,538]\u001b[0m Trial 30 finished with value: 0.3298461222212433 and parameters: {'max_depth': 9, 'min_samples_split': 2, 'min_samples_leaf': 2, 'criterion': 'gini', 'splitter': 'best'}. Best is trial 30 with value: 0.3298461222212433.\u001b[0m\n",
      "\u001b[32m[I 2023-04-16 14:44:22,448]\u001b[0m Trial 31 finished with value: 0.3299415616832585 and parameters: {'max_depth': 9, 'min_samples_split': 2, 'min_samples_leaf': 2, 'criterion': 'gini', 'splitter': 'best'}. Best is trial 30 with value: 0.3298461222212433.\u001b[0m\n",
      "\u001b[32m[I 2023-04-16 14:44:45,000]\u001b[0m Trial 32 finished with value: 0.32991953719202416 and parameters: {'max_depth': 9, 'min_samples_split': 3, 'min_samples_leaf': 1, 'criterion': 'gini', 'splitter': 'best'}. Best is trial 30 with value: 0.3298461222212433.\u001b[0m\n",
      "\u001b[32m[I 2023-04-16 14:45:05,270]\u001b[0m Trial 33 finished with value: 0.33303233195313187 and parameters: {'max_depth': 8, 'min_samples_split': 2, 'min_samples_leaf': 2, 'criterion': 'gini', 'splitter': 'best'}. Best is trial 30 with value: 0.3298461222212433.\u001b[0m\n",
      "\u001b[32m[I 2023-04-16 14:45:30,558]\u001b[0m Trial 34 finished with value: 0.32980207323877486 and parameters: {'max_depth': 9, 'min_samples_split': 6, 'min_samples_leaf': 5, 'criterion': 'gini', 'splitter': 'best'}. Best is trial 34 with value: 0.32980207323877486.\u001b[0m\n",
      "\u001b[32m[I 2023-04-16 14:46:07,566]\u001b[0m Trial 35 finished with value: 0.3298461222212433 and parameters: {'max_depth': 10, 'min_samples_split': 6, 'min_samples_leaf': 5, 'criterion': 'entropy', 'splitter': 'best'}. Best is trial 34 with value: 0.32980207323877486.\u001b[0m\n",
      "\u001b[32m[I 2023-04-16 14:46:15,829]\u001b[0m Trial 36 finished with value: 0.3358661498252724 and parameters: {'max_depth': 10, 'min_samples_split': 6, 'min_samples_leaf': 5, 'criterion': 'entropy', 'splitter': 'random'}. Best is trial 34 with value: 0.32980207323877486.\u001b[0m\n",
      "\u001b[32m[I 2023-04-16 14:46:45,141]\u001b[0m Trial 37 finished with value: 0.3298240977300091 and parameters: {'max_depth': 10, 'min_samples_split': 7, 'min_samples_leaf': 5, 'criterion': 'entropy', 'splitter': 'best'}. Best is trial 34 with value: 0.32980207323877486.\u001b[0m\n",
      "\u001b[32m[I 2023-04-16 14:46:53,096]\u001b[0m Trial 38 finished with value: 0.33359762722814434 and parameters: {'max_depth': 10, 'min_samples_split': 7, 'min_samples_leaf': 5, 'criterion': 'entropy', 'splitter': 'random'}. Best is trial 34 with value: 0.32980207323877486.\u001b[0m\n",
      "\u001b[32m[I 2023-04-16 14:47:23,119]\u001b[0m Trial 39 finished with value: 0.32985346371832147 and parameters: {'max_depth': 10, 'min_samples_split': 6, 'min_samples_leaf': 5, 'criterion': 'entropy', 'splitter': 'best'}. Best is trial 34 with value: 0.32980207323877486.\u001b[0m\n",
      "\u001b[32m[I 2023-04-16 14:47:53,440]\u001b[0m Trial 40 finished with value: 0.32988282970663374 and parameters: {'max_depth': 10, 'min_samples_split': 7, 'min_samples_leaf': 5, 'criterion': 'entropy', 'splitter': 'best'}. Best is trial 34 with value: 0.32980207323877486.\u001b[0m\n",
      "\u001b[32m[I 2023-04-16 14:48:22,831]\u001b[0m Trial 41 finished with value: 0.3297947317416967 and parameters: {'max_depth': 10, 'min_samples_split': 6, 'min_samples_leaf': 5, 'criterion': 'entropy', 'splitter': 'best'}. Best is trial 41 with value: 0.3297947317416967.\u001b[0m\n",
      "\u001b[32m[I 2023-04-16 14:48:52,731]\u001b[0m Trial 42 finished with value: 0.32988282970663374 and parameters: {'max_depth': 10, 'min_samples_split': 6, 'min_samples_leaf': 5, 'criterion': 'entropy', 'splitter': 'best'}. Best is trial 41 with value: 0.3297947317416967.\u001b[0m\n",
      "\u001b[32m[I 2023-04-16 14:49:22,589]\u001b[0m Trial 43 finished with value: 0.32985346371832147 and parameters: {'max_depth': 10, 'min_samples_split': 9, 'min_samples_leaf': 5, 'criterion': 'entropy', 'splitter': 'best'}. Best is trial 41 with value: 0.3297947317416967.\u001b[0m\n",
      "\u001b[32m[I 2023-04-16 14:49:49,444]\u001b[0m Trial 44 finished with value: 0.32899450856018564 and parameters: {'max_depth': 9, 'min_samples_split': 7, 'min_samples_leaf': 5, 'criterion': 'entropy', 'splitter': 'best'}. Best is trial 44 with value: 0.32899450856018564.\u001b[0m\n",
      "\u001b[32m[I 2023-04-16 14:49:56,259]\u001b[0m Trial 45 finished with value: 0.3352935130531818 and parameters: {'max_depth': 9, 'min_samples_split': 8, 'min_samples_leaf': 5, 'criterion': 'entropy', 'splitter': 'random'}. Best is trial 44 with value: 0.32899450856018564.\u001b[0m\n",
      "\u001b[32m[I 2023-04-16 14:50:01,851]\u001b[0m Trial 46 finished with value: 0.3445658238628021 and parameters: {'max_depth': 2, 'min_samples_split': 7, 'min_samples_leaf': 5, 'criterion': 'entropy', 'splitter': 'best'}. Best is trial 44 with value: 0.32899450856018564.\u001b[0m\n",
      "\u001b[32m[I 2023-04-16 14:50:25,721]\u001b[0m Trial 47 finished with value: 0.3322321087716207 and parameters: {'max_depth': 8, 'min_samples_split': 7, 'min_samples_leaf': 5, 'criterion': 'entropy', 'splitter': 'best'}. Best is trial 44 with value: 0.32899450856018564.\u001b[0m\n",
      "\u001b[32m[I 2023-04-16 14:50:40,059]\u001b[0m Trial 48 finished with value: 0.34402255307902385 and parameters: {'max_depth': 5, 'min_samples_split': 8, 'min_samples_leaf': 4, 'criterion': 'entropy', 'splitter': 'best'}. Best is trial 44 with value: 0.32899450856018564.\u001b[0m\n",
      "\u001b[32m[I 2023-04-16 14:50:41,996]\u001b[0m Trial 49 finished with value: 0.3445658238628021 and parameters: {'max_depth': 3, 'min_samples_split': 8, 'min_samples_leaf': 4, 'criterion': 'entropy', 'splitter': 'random'}. Best is trial 44 with value: 0.32899450856018564.\u001b[0m\n",
      "\u001b[32m[I 2023-04-16 14:50:59,834]\u001b[0m Trial 50 finished with value: 0.3352935130531818 and parameters: {'max_depth': 6, 'min_samples_split': 9, 'min_samples_leaf': 5, 'criterion': 'entropy', 'splitter': 'best'}. Best is trial 44 with value: 0.32899450856018564.\u001b[0m\n",
      "\u001b[32m[I 2023-04-16 14:51:29,898]\u001b[0m Trial 51 finished with value: 0.32985346371832147 and parameters: {'max_depth': 10, 'min_samples_split': 6, 'min_samples_leaf': 5, 'criterion': 'entropy', 'splitter': 'best'}. Best is trial 44 with value: 0.32899450856018564.\u001b[0m\n",
      "\u001b[32m[I 2023-04-16 14:52:00,362]\u001b[0m Trial 52 finished with value: 0.3299121956949461 and parameters: {'max_depth': 10, 'min_samples_split': 6, 'min_samples_leaf': 5, 'criterion': 'entropy', 'splitter': 'best'}. Best is trial 44 with value: 0.32899450856018564.\u001b[0m\n",
      "\u001b[32m[I 2023-04-16 14:52:27,151]\u001b[0m Trial 53 finished with value: 0.3289578010747952 and parameters: {'max_depth': 9, 'min_samples_split': 7, 'min_samples_leaf': 5, 'criterion': 'entropy', 'splitter': 'best'}. Best is trial 53 with value: 0.3289578010747952.\u001b[0m\n",
      "\u001b[32m[I 2023-04-16 14:52:54,198]\u001b[0m Trial 54 finished with value: 0.328855020115702 and parameters: {'max_depth': 9, 'min_samples_split': 7, 'min_samples_leaf': 4, 'criterion': 'entropy', 'splitter': 'best'}. Best is trial 54 with value: 0.328855020115702.\u001b[0m\n",
      "\u001b[32m[I 2023-04-16 14:53:20,806]\u001b[0m Trial 55 finished with value: 0.32894311808063903 and parameters: {'max_depth': 9, 'min_samples_split': 7, 'min_samples_leaf': 4, 'criterion': 'entropy', 'splitter': 'best'}. Best is trial 54 with value: 0.328855020115702.\u001b[0m\n",
      "\u001b[32m[I 2023-04-16 14:53:44,587]\u001b[0m Trial 56 finished with value: 0.33227615775408925 and parameters: {'max_depth': 8, 'min_samples_split': 7, 'min_samples_leaf': 4, 'criterion': 'entropy', 'splitter': 'best'}. Best is trial 54 with value: 0.328855020115702.\u001b[0m\n",
      "\u001b[32m[I 2023-04-16 14:54:10,963]\u001b[0m Trial 57 finished with value: 0.32889906909817046 and parameters: {'max_depth': 9, 'min_samples_split': 8, 'min_samples_leaf': 4, 'criterion': 'entropy', 'splitter': 'best'}. Best is trial 54 with value: 0.328855020115702.\u001b[0m\n",
      "\u001b[32m[I 2023-04-16 14:54:31,415]\u001b[0m Trial 58 finished with value: 0.3311455672040643 and parameters: {'max_depth': 7, 'min_samples_split': 8, 'min_samples_leaf': 4, 'criterion': 'entropy', 'splitter': 'best'}. Best is trial 54 with value: 0.328855020115702.\u001b[0m\n",
      "\u001b[32m[I 2023-04-16 14:54:57,729]\u001b[0m Trial 59 finished with value: 0.3288843861040144 and parameters: {'max_depth': 9, 'min_samples_split': 8, 'min_samples_leaf': 4, 'criterion': 'entropy', 'splitter': 'best'}. Best is trial 54 with value: 0.328855020115702.\u001b[0m\n",
      "\u001b[32m[I 2023-04-16 14:55:21,197]\u001b[0m Trial 60 finished with value: 0.3322541332628549 and parameters: {'max_depth': 8, 'min_samples_split': 10, 'min_samples_leaf': 4, 'criterion': 'entropy', 'splitter': 'best'}. Best is trial 54 with value: 0.328855020115702.\u001b[0m\n",
      "\u001b[32m[I 2023-04-16 14:55:49,010]\u001b[0m Trial 61 finished with value: 0.32894311808063903 and parameters: {'max_depth': 9, 'min_samples_split': 8, 'min_samples_leaf': 4, 'criterion': 'entropy', 'splitter': 'best'}. Best is trial 54 with value: 0.328855020115702.\u001b[0m\n",
      "\u001b[32m[I 2023-04-16 14:56:15,759]\u001b[0m Trial 62 finished with value: 0.32887704460693623 and parameters: {'max_depth': 9, 'min_samples_split': 8, 'min_samples_leaf': 4, 'criterion': 'entropy', 'splitter': 'best'}. Best is trial 54 with value: 0.328855020115702.\u001b[0m\n",
      "\u001b[32m[I 2023-04-16 14:56:42,072]\u001b[0m Trial 63 finished with value: 0.32887704460693623 and parameters: {'max_depth': 9, 'min_samples_split': 8, 'min_samples_leaf': 4, 'criterion': 'entropy', 'splitter': 'best'}. Best is trial 54 with value: 0.328855020115702.\u001b[0m\n",
      "\u001b[32m[I 2023-04-16 14:57:05,589]\u001b[0m Trial 64 finished with value: 0.33226147475993306 and parameters: {'max_depth': 8, 'min_samples_split': 9, 'min_samples_leaf': 4, 'criterion': 'entropy', 'splitter': 'best'}. Best is trial 54 with value: 0.328855020115702.\u001b[0m\n",
      "\u001b[32m[I 2023-04-16 14:57:32,432]\u001b[0m Trial 65 finished with value: 0.32889906909817046 and parameters: {'max_depth': 9, 'min_samples_split': 8, 'min_samples_leaf': 4, 'criterion': 'entropy', 'splitter': 'best'}. Best is trial 54 with value: 0.328855020115702.\u001b[0m\n",
      "\u001b[32m[I 2023-04-16 14:57:58,871]\u001b[0m Trial 66 finished with value: 0.32896514257187326 and parameters: {'max_depth': 9, 'min_samples_split': 9, 'min_samples_leaf': 4, 'criterion': 'entropy', 'splitter': 'best'}. Best is trial 54 with value: 0.328855020115702.\u001b[0m\n",
      "\u001b[32m[I 2023-04-16 14:58:22,401]\u001b[0m Trial 67 finished with value: 0.3322541332628549 and parameters: {'max_depth': 8, 'min_samples_split': 8, 'min_samples_leaf': 4, 'criterion': 'entropy', 'splitter': 'best'}. Best is trial 54 with value: 0.328855020115702.\u001b[0m\n",
      "\u001b[32m[I 2023-04-16 14:58:29,198]\u001b[0m Trial 68 finished with value: 0.3339206530995801 and parameters: {'max_depth': 9, 'min_samples_split': 9, 'min_samples_leaf': 4, 'criterion': 'entropy', 'splitter': 'random'}. Best is trial 54 with value: 0.328855020115702.\u001b[0m\n",
      "\u001b[32m[I 2023-04-16 14:58:49,917]\u001b[0m Trial 69 finished with value: 0.3311602501982204 and parameters: {'max_depth': 7, 'min_samples_split': 8, 'min_samples_leaf': 4, 'criterion': 'entropy', 'splitter': 'best'}. Best is trial 54 with value: 0.328855020115702.\u001b[0m\n",
      "\u001b[32m[I 2023-04-16 14:59:16,823]\u001b[0m Trial 70 finished with value: 0.32889906909817046 and parameters: {'max_depth': 9, 'min_samples_split': 8, 'min_samples_leaf': 4, 'criterion': 'entropy', 'splitter': 'best'}. Best is trial 54 with value: 0.328855020115702.\u001b[0m\n",
      "\u001b[32m[I 2023-04-16 14:59:43,475]\u001b[0m Trial 71 finished with value: 0.3288917276010924 and parameters: {'max_depth': 9, 'min_samples_split': 8, 'min_samples_leaf': 4, 'criterion': 'entropy', 'splitter': 'best'}. Best is trial 54 with value: 0.328855020115702.\u001b[0m\n",
      "\u001b[32m[I 2023-04-16 15:00:09,425]\u001b[0m Trial 72 finished with value: 0.32889906909817046 and parameters: {'max_depth': 9, 'min_samples_split': 8, 'min_samples_leaf': 4, 'criterion': 'entropy', 'splitter': 'best'}. Best is trial 54 with value: 0.328855020115702.\u001b[0m\n",
      "\u001b[32m[I 2023-04-16 15:00:32,683]\u001b[0m Trial 73 finished with value: 0.3322541332628549 and parameters: {'max_depth': 8, 'min_samples_split': 8, 'min_samples_leaf': 4, 'criterion': 'entropy', 'splitter': 'best'}. Best is trial 54 with value: 0.328855020115702.\u001b[0m\n",
      "\u001b[32m[I 2023-04-16 15:00:58,903]\u001b[0m Trial 74 finished with value: 0.32894311808063903 and parameters: {'max_depth': 9, 'min_samples_split': 8, 'min_samples_leaf': 3, 'criterion': 'entropy', 'splitter': 'best'}. Best is trial 54 with value: 0.328855020115702.\u001b[0m\n",
      "\u001b[32m[I 2023-04-16 15:01:23,012]\u001b[0m Trial 75 finished with value: 0.33223945026869883 and parameters: {'max_depth': 8, 'min_samples_split': 10, 'min_samples_leaf': 4, 'criterion': 'entropy', 'splitter': 'best'}. Best is trial 54 with value: 0.328855020115702.\u001b[0m\n",
      "\u001b[32m[I 2023-04-16 15:01:49,541]\u001b[0m Trial 76 finished with value: 0.3289724840689513 and parameters: {'max_depth': 9, 'min_samples_split': 9, 'min_samples_leaf': 4, 'criterion': 'entropy', 'splitter': 'best'}. Best is trial 54 with value: 0.328855020115702.\u001b[0m\n",
      "\u001b[32m[I 2023-04-16 15:02:15,762]\u001b[0m Trial 77 finished with value: 0.32889906909817046 and parameters: {'max_depth': 9, 'min_samples_split': 8, 'min_samples_leaf': 4, 'criterion': 'entropy', 'splitter': 'best'}. Best is trial 54 with value: 0.328855020115702.\u001b[0m\n",
      "\u001b[32m[I 2023-04-16 15:02:42,170]\u001b[0m Trial 78 finished with value: 0.3289210935894048 and parameters: {'max_depth': 9, 'min_samples_split': 9, 'min_samples_leaf': 4, 'criterion': 'entropy', 'splitter': 'best'}. Best is trial 54 with value: 0.328855020115702.\u001b[0m\n",
      "\u001b[32m[I 2023-04-16 15:03:05,956]\u001b[0m Trial 79 finished with value: 0.3322541332628549 and parameters: {'max_depth': 8, 'min_samples_split': 8, 'min_samples_leaf': 3, 'criterion': 'entropy', 'splitter': 'best'}. Best is trial 54 with value: 0.328855020115702.\u001b[0m\n",
      "\u001b[32m[I 2023-04-16 15:03:17,224]\u001b[0m Trial 80 finished with value: 0.34445570140663084 and parameters: {'max_depth': 4, 'min_samples_split': 8, 'min_samples_leaf': 4, 'criterion': 'entropy', 'splitter': 'best'}. Best is trial 54 with value: 0.328855020115702.\u001b[0m\n",
      "\u001b[32m[I 2023-04-16 15:03:42,977]\u001b[0m Trial 81 finished with value: 0.3289064105952486 and parameters: {'max_depth': 9, 'min_samples_split': 8, 'min_samples_leaf': 4, 'criterion': 'entropy', 'splitter': 'best'}. Best is trial 54 with value: 0.328855020115702.\u001b[0m\n",
      "\u001b[32m[I 2023-04-16 15:04:08,799]\u001b[0m Trial 82 finished with value: 0.3288917276010924 and parameters: {'max_depth': 9, 'min_samples_split': 8, 'min_samples_leaf': 4, 'criterion': 'entropy', 'splitter': 'best'}. Best is trial 54 with value: 0.328855020115702.\u001b[0m\n",
      "\u001b[32m[I 2023-04-16 15:04:35,581]\u001b[0m Trial 83 finished with value: 0.32894311808063903 and parameters: {'max_depth': 9, 'min_samples_split': 9, 'min_samples_leaf': 4, 'criterion': 'entropy', 'splitter': 'best'}. Best is trial 54 with value: 0.328855020115702.\u001b[0m\n",
      "\u001b[32m[I 2023-04-16 15:05:02,551]\u001b[0m Trial 84 finished with value: 0.32891375209232665 and parameters: {'max_depth': 9, 'min_samples_split': 8, 'min_samples_leaf': 4, 'criterion': 'entropy', 'splitter': 'best'}. Best is trial 54 with value: 0.328855020115702.\u001b[0m\n",
      "\u001b[32m[I 2023-04-16 15:05:30,841]\u001b[0m Trial 85 finished with value: 0.3298608052153995 and parameters: {'max_depth': 10, 'min_samples_split': 7, 'min_samples_leaf': 4, 'criterion': 'entropy', 'splitter': 'best'}. Best is trial 54 with value: 0.328855020115702.\u001b[0m\n",
      "\u001b[32m[I 2023-04-16 15:05:36,503]\u001b[0m Trial 86 finished with value: 0.3355651484450709 and parameters: {'max_depth': 8, 'min_samples_split': 8, 'min_samples_leaf': 4, 'criterion': 'entropy', 'splitter': 'random'}. Best is trial 54 with value: 0.328855020115702.\u001b[0m\n",
      "\u001b[32m[I 2023-04-16 15:06:03,241]\u001b[0m Trial 87 finished with value: 0.3289724840689513 and parameters: {'max_depth': 9, 'min_samples_split': 9, 'min_samples_leaf': 3, 'criterion': 'entropy', 'splitter': 'best'}. Best is trial 54 with value: 0.328855020115702.\u001b[0m\n",
      "\u001b[32m[I 2023-04-16 15:06:33,583]\u001b[0m Trial 88 finished with value: 0.3298094147358529 and parameters: {'max_depth': 10, 'min_samples_split': 7, 'min_samples_leaf': 4, 'criterion': 'entropy', 'splitter': 'best'}. Best is trial 54 with value: 0.328855020115702.\u001b[0m\n",
      "\u001b[32m[I 2023-04-16 15:06:59,568]\u001b[0m Trial 89 finished with value: 0.32889906909817046 and parameters: {'max_depth': 9, 'min_samples_split': 8, 'min_samples_leaf': 4, 'criterion': 'entropy', 'splitter': 'best'}. Best is trial 54 with value: 0.328855020115702.\u001b[0m\n",
      "\u001b[32m[I 2023-04-16 15:07:22,509]\u001b[0m Trial 90 finished with value: 0.3322688162570111 and parameters: {'max_depth': 8, 'min_samples_split': 8, 'min_samples_leaf': 3, 'criterion': 'entropy', 'splitter': 'best'}. Best is trial 54 with value: 0.328855020115702.\u001b[0m\n",
      "\u001b[32m[I 2023-04-16 15:07:49,599]\u001b[0m Trial 91 finished with value: 0.3289064105952486 and parameters: {'max_depth': 9, 'min_samples_split': 8, 'min_samples_leaf': 4, 'criterion': 'entropy', 'splitter': 'best'}. Best is trial 54 with value: 0.328855020115702.\u001b[0m\n",
      "\u001b[32m[I 2023-04-16 15:08:15,896]\u001b[0m Trial 92 finished with value: 0.32887704460693623 and parameters: {'max_depth': 9, 'min_samples_split': 7, 'min_samples_leaf': 4, 'criterion': 'entropy', 'splitter': 'best'}. Best is trial 54 with value: 0.328855020115702.\u001b[0m\n",
      "\u001b[32m[I 2023-04-16 15:08:42,434]\u001b[0m Trial 93 finished with value: 0.328855020115702 and parameters: {'max_depth': 9, 'min_samples_split': 7, 'min_samples_leaf': 4, 'criterion': 'entropy', 'splitter': 'best'}. Best is trial 54 with value: 0.328855020115702.\u001b[0m\n",
      "\u001b[32m[I 2023-04-16 15:09:12,068]\u001b[0m Trial 94 finished with value: 0.3299562446774146 and parameters: {'max_depth': 10, 'min_samples_split': 7, 'min_samples_leaf': 4, 'criterion': 'entropy', 'splitter': 'best'}. Best is trial 54 with value: 0.328855020115702.\u001b[0m\n",
      "\u001b[32m[I 2023-04-16 15:09:38,755]\u001b[0m Trial 95 finished with value: 0.3289064105952486 and parameters: {'max_depth': 9, 'min_samples_split': 7, 'min_samples_leaf': 4, 'criterion': 'entropy', 'splitter': 'best'}. Best is trial 54 with value: 0.328855020115702.\u001b[0m\n",
      "\u001b[32m[I 2023-04-16 15:10:05,957]\u001b[0m Trial 96 finished with value: 0.32889906909817046 and parameters: {'max_depth': 9, 'min_samples_split': 7, 'min_samples_leaf': 4, 'criterion': 'entropy', 'splitter': 'best'}. Best is trial 54 with value: 0.328855020115702.\u001b[0m\n",
      "\u001b[32m[I 2023-04-16 15:10:35,816]\u001b[0m Trial 97 finished with value: 0.3298240977300091 and parameters: {'max_depth': 10, 'min_samples_split': 7, 'min_samples_leaf': 4, 'criterion': 'entropy', 'splitter': 'best'}. Best is trial 54 with value: 0.328855020115702.\u001b[0m\n",
      "\u001b[32m[I 2023-04-16 15:10:41,927]\u001b[0m Trial 98 finished with value: 0.3364681525856753 and parameters: {'max_depth': 8, 'min_samples_split': 7, 'min_samples_leaf': 4, 'criterion': 'entropy', 'splitter': 'random'}. Best is trial 54 with value: 0.328855020115702.\u001b[0m\n",
      "\u001b[32m[I 2023-04-16 15:11:09,120]\u001b[0m Trial 99 finished with value: 0.3289210935894048 and parameters: {'max_depth': 9, 'min_samples_split': 8, 'min_samples_leaf': 4, 'criterion': 'entropy', 'splitter': 'best'}. Best is trial 54 with value: 0.328855020115702.\u001b[0m\n",
      "\u001b[32m[I 2023-04-16 15:11:26,243]\u001b[0m Trial 100 finished with value: 0.3352935130531818 and parameters: {'max_depth': 6, 'min_samples_split': 7, 'min_samples_leaf': 3, 'criterion': 'entropy', 'splitter': 'best'}. Best is trial 54 with value: 0.328855020115702.\u001b[0m\n",
      "\u001b[32m[I 2023-04-16 15:11:52,942]\u001b[0m Trial 101 finished with value: 0.3289357765835609 and parameters: {'max_depth': 9, 'min_samples_split': 8, 'min_samples_leaf': 4, 'criterion': 'entropy', 'splitter': 'best'}. Best is trial 54 with value: 0.328855020115702.\u001b[0m\n",
      "\u001b[32m[I 2023-04-16 15:12:20,036]\u001b[0m Trial 102 finished with value: 0.3288843861040144 and parameters: {'max_depth': 9, 'min_samples_split': 8, 'min_samples_leaf': 4, 'criterion': 'entropy', 'splitter': 'best'}. Best is trial 54 with value: 0.328855020115702.\u001b[0m\n",
      "\u001b[32m[I 2023-04-16 15:12:46,412]\u001b[0m Trial 103 finished with value: 0.3288697031098582 and parameters: {'max_depth': 9, 'min_samples_split': 8, 'min_samples_leaf': 4, 'criterion': 'entropy', 'splitter': 'best'}. Best is trial 54 with value: 0.328855020115702.\u001b[0m\n",
      "\u001b[32m[I 2023-04-16 15:13:12,183]\u001b[0m Trial 104 finished with value: 0.3289724840689513 and parameters: {'max_depth': 9, 'min_samples_split': 9, 'min_samples_leaf': 4, 'criterion': 'entropy', 'splitter': 'best'}. Best is trial 54 with value: 0.328855020115702.\u001b[0m\n",
      "\u001b[32m[I 2023-04-16 15:13:41,647]\u001b[0m Trial 105 finished with value: 0.3298387807241653 and parameters: {'max_depth': 10, 'min_samples_split': 8, 'min_samples_leaf': 4, 'criterion': 'entropy', 'splitter': 'best'}. Best is trial 54 with value: 0.328855020115702.\u001b[0m\n",
      "\u001b[32m[I 2023-04-16 15:14:07,622]\u001b[0m Trial 106 finished with value: 0.32889906909817046 and parameters: {'max_depth': 9, 'min_samples_split': 8, 'min_samples_leaf': 4, 'criterion': 'entropy', 'splitter': 'best'}. Best is trial 54 with value: 0.328855020115702.\u001b[0m\n",
      "\u001b[32m[I 2023-04-16 15:14:34,101]\u001b[0m Trial 107 finished with value: 0.32889906909817046 and parameters: {'max_depth': 9, 'min_samples_split': 7, 'min_samples_leaf': 4, 'criterion': 'entropy', 'splitter': 'best'}. Best is trial 54 with value: 0.328855020115702.\u001b[0m\n",
      "\u001b[32m[I 2023-04-16 15:14:57,695]\u001b[0m Trial 108 finished with value: 0.3322541332628549 and parameters: {'max_depth': 8, 'min_samples_split': 9, 'min_samples_leaf': 4, 'criterion': 'entropy', 'splitter': 'best'}. Best is trial 54 with value: 0.328855020115702.\u001b[0m\n",
      "\u001b[32m[I 2023-04-16 15:15:24,435]\u001b[0m Trial 109 finished with value: 0.3288917276010924 and parameters: {'max_depth': 9, 'min_samples_split': 8, 'min_samples_leaf': 4, 'criterion': 'entropy', 'splitter': 'best'}. Best is trial 54 with value: 0.328855020115702.\u001b[0m\n",
      "\u001b[32m[I 2023-04-16 15:15:53,474]\u001b[0m Trial 110 finished with value: 0.32997092767157077 and parameters: {'max_depth': 10, 'min_samples_split': 7, 'min_samples_leaf': 4, 'criterion': 'entropy', 'splitter': 'best'}. Best is trial 54 with value: 0.328855020115702.\u001b[0m\n",
      "\u001b[32m[I 2023-04-16 15:16:19,679]\u001b[0m Trial 111 finished with value: 0.32889906909817046 and parameters: {'max_depth': 9, 'min_samples_split': 8, 'min_samples_leaf': 4, 'criterion': 'entropy', 'splitter': 'best'}. Best is trial 54 with value: 0.328855020115702.\u001b[0m\n",
      "\u001b[32m[I 2023-04-16 15:16:45,824]\u001b[0m Trial 112 finished with value: 0.3289578010747952 and parameters: {'max_depth': 9, 'min_samples_split': 8, 'min_samples_leaf': 4, 'criterion': 'entropy', 'splitter': 'best'}. Best is trial 54 with value: 0.328855020115702.\u001b[0m\n",
      "\u001b[32m[I 2023-04-16 15:17:12,382]\u001b[0m Trial 113 finished with value: 0.3289210935894048 and parameters: {'max_depth': 9, 'min_samples_split': 8, 'min_samples_leaf': 4, 'criterion': 'entropy', 'splitter': 'best'}. Best is trial 54 with value: 0.328855020115702.\u001b[0m\n",
      "\u001b[32m[I 2023-04-16 15:17:35,537]\u001b[0m Trial 114 finished with value: 0.33227615775408925 and parameters: {'max_depth': 8, 'min_samples_split': 9, 'min_samples_leaf': 4, 'criterion': 'entropy', 'splitter': 'best'}. Best is trial 54 with value: 0.328855020115702.\u001b[0m\n",
      "\u001b[32m[I 2023-04-16 15:18:02,318]\u001b[0m Trial 115 finished with value: 0.3288843861040144 and parameters: {'max_depth': 9, 'min_samples_split': 8, 'min_samples_leaf': 4, 'criterion': 'entropy', 'splitter': 'best'}. Best is trial 54 with value: 0.328855020115702.\u001b[0m\n",
      "\u001b[32m[I 2023-04-16 15:18:29,298]\u001b[0m Trial 116 finished with value: 0.32889906909817046 and parameters: {'max_depth': 9, 'min_samples_split': 7, 'min_samples_leaf': 4, 'criterion': 'entropy', 'splitter': 'best'}. Best is trial 54 with value: 0.328855020115702.\u001b[0m\n",
      "\u001b[32m[I 2023-04-16 15:18:56,395]\u001b[0m Trial 117 finished with value: 0.3289210935894048 and parameters: {'max_depth': 9, 'min_samples_split': 8, 'min_samples_leaf': 4, 'criterion': 'entropy', 'splitter': 'best'}. Best is trial 54 with value: 0.328855020115702.\u001b[0m\n",
      "\u001b[32m[I 2023-04-16 15:19:05,001]\u001b[0m Trial 118 finished with value: 0.3304628079758024 and parameters: {'max_depth': 10, 'min_samples_split': 8, 'min_samples_leaf': 4, 'criterion': 'entropy', 'splitter': 'random'}. Best is trial 54 with value: 0.328855020115702.\u001b[0m\n",
      "\u001b[32m[I 2023-04-16 15:19:19,904]\u001b[0m Trial 119 finished with value: 0.34402255307902385 and parameters: {'max_depth': 5, 'min_samples_split': 9, 'min_samples_leaf': 4, 'criterion': 'entropy', 'splitter': 'best'}. Best is trial 54 with value: 0.328855020115702.\u001b[0m\n",
      "\u001b[32m[I 2023-04-16 15:19:46,432]\u001b[0m Trial 120 finished with value: 0.3288843861040144 and parameters: {'max_depth': 9, 'min_samples_split': 8, 'min_samples_leaf': 4, 'criterion': 'entropy', 'splitter': 'best'}. Best is trial 54 with value: 0.328855020115702.\u001b[0m\n",
      "\u001b[32m[I 2023-04-16 15:20:12,005]\u001b[0m Trial 121 finished with value: 0.3289578010747952 and parameters: {'max_depth': 9, 'min_samples_split': 8, 'min_samples_leaf': 4, 'criterion': 'entropy', 'splitter': 'best'}. Best is trial 54 with value: 0.328855020115702.\u001b[0m\n",
      "\u001b[32m[I 2023-04-16 15:20:39,046]\u001b[0m Trial 122 finished with value: 0.32889906909817046 and parameters: {'max_depth': 9, 'min_samples_split': 8, 'min_samples_leaf': 4, 'criterion': 'entropy', 'splitter': 'best'}. Best is trial 54 with value: 0.328855020115702.\u001b[0m\n",
      "\u001b[32m[I 2023-04-16 15:21:05,095]\u001b[0m Trial 123 finished with value: 0.3289064105952486 and parameters: {'max_depth': 9, 'min_samples_split': 8, 'min_samples_leaf': 4, 'criterion': 'entropy', 'splitter': 'best'}. Best is trial 54 with value: 0.328855020115702.\u001b[0m\n",
      "\u001b[32m[I 2023-04-16 15:21:32,084]\u001b[0m Trial 124 finished with value: 0.32884767861862396 and parameters: {'max_depth': 9, 'min_samples_split': 8, 'min_samples_leaf': 4, 'criterion': 'entropy', 'splitter': 'best'}. Best is trial 124 with value: 0.32884767861862396.\u001b[0m\n",
      "\u001b[32m[I 2023-04-16 15:21:55,620]\u001b[0m Trial 125 finished with value: 0.33224679176577687 and parameters: {'max_depth': 8, 'min_samples_split': 7, 'min_samples_leaf': 4, 'criterion': 'entropy', 'splitter': 'best'}. Best is trial 124 with value: 0.32884767861862396.\u001b[0m\n",
      "\u001b[32m[I 2023-04-16 15:22:22,359]\u001b[0m Trial 126 finished with value: 0.3288843861040144 and parameters: {'max_depth': 9, 'min_samples_split': 8, 'min_samples_leaf': 4, 'criterion': 'entropy', 'splitter': 'best'}. Best is trial 124 with value: 0.32884767861862396.\u001b[0m\n",
      "\u001b[32m[I 2023-04-16 15:22:48,515]\u001b[0m Trial 127 finished with value: 0.32891375209232665 and parameters: {'max_depth': 9, 'min_samples_split': 8, 'min_samples_leaf': 4, 'criterion': 'entropy', 'splitter': 'best'}. Best is trial 124 with value: 0.32884767861862396.\u001b[0m\n",
      "\u001b[32m[I 2023-04-16 15:23:14,844]\u001b[0m Trial 128 finished with value: 0.32889906909817046 and parameters: {'max_depth': 9, 'min_samples_split': 9, 'min_samples_leaf': 4, 'criterion': 'entropy', 'splitter': 'best'}. Best is trial 124 with value: 0.32884767861862396.\u001b[0m\n",
      "\u001b[32m[I 2023-04-16 15:23:38,720]\u001b[0m Trial 129 finished with value: 0.3322541332628549 and parameters: {'max_depth': 8, 'min_samples_split': 7, 'min_samples_leaf': 4, 'criterion': 'entropy', 'splitter': 'best'}. Best is trial 124 with value: 0.32884767861862396.\u001b[0m\n",
      "\u001b[32m[I 2023-04-16 15:24:09,062]\u001b[0m Trial 130 finished with value: 0.3298901712037119 and parameters: {'max_depth': 10, 'min_samples_split': 6, 'min_samples_leaf': 4, 'criterion': 'entropy', 'splitter': 'best'}. Best is trial 124 with value: 0.32884767861862396.\u001b[0m\n",
      "\u001b[32m[I 2023-04-16 15:24:35,861]\u001b[0m Trial 131 finished with value: 0.3289210935894048 and parameters: {'max_depth': 9, 'min_samples_split': 8, 'min_samples_leaf': 4, 'criterion': 'entropy', 'splitter': 'best'}. Best is trial 124 with value: 0.32884767861862396.\u001b[0m\n",
      "\u001b[32m[I 2023-04-16 15:25:02,158]\u001b[0m Trial 132 finished with value: 0.3288403371215458 and parameters: {'max_depth': 9, 'min_samples_split': 8, 'min_samples_leaf': 4, 'criterion': 'entropy', 'splitter': 'best'}. Best is trial 132 with value: 0.3288403371215458.\u001b[0m\n",
      "\u001b[32m[I 2023-04-16 15:25:28,783]\u001b[0m Trial 133 finished with value: 0.3288917276010924 and parameters: {'max_depth': 9, 'min_samples_split': 8, 'min_samples_leaf': 4, 'criterion': 'entropy', 'splitter': 'best'}. Best is trial 132 with value: 0.3288403371215458.\u001b[0m\n",
      "\u001b[32m[I 2023-04-16 15:25:54,266]\u001b[0m Trial 134 finished with value: 0.3288843861040144 and parameters: {'max_depth': 9, 'min_samples_split': 8, 'min_samples_leaf': 4, 'criterion': 'entropy', 'splitter': 'best'}. Best is trial 132 with value: 0.3288403371215458.\u001b[0m\n",
      "\u001b[32m[I 2023-04-16 15:26:21,126]\u001b[0m Trial 135 finished with value: 0.32892843508648284 and parameters: {'max_depth': 9, 'min_samples_split': 8, 'min_samples_leaf': 4, 'criterion': 'entropy', 'splitter': 'best'}. Best is trial 132 with value: 0.3288403371215458.\u001b[0m\n",
      "\u001b[32m[I 2023-04-16 15:26:47,375]\u001b[0m Trial 136 finished with value: 0.32895045957771707 and parameters: {'max_depth': 9, 'min_samples_split': 5, 'min_samples_leaf': 4, 'criterion': 'entropy', 'splitter': 'best'}. Best is trial 132 with value: 0.3288403371215458.\u001b[0m\n",
      "\u001b[32m[I 2023-04-16 15:27:13,203]\u001b[0m Trial 137 finished with value: 0.32889906909817046 and parameters: {'max_depth': 9, 'min_samples_split': 8, 'min_samples_leaf': 4, 'criterion': 'entropy', 'splitter': 'best'}. Best is trial 132 with value: 0.3288403371215458.\u001b[0m\n",
      "\u001b[32m[I 2023-04-16 15:27:33,330]\u001b[0m Trial 138 finished with value: 0.3330543564443661 and parameters: {'max_depth': 8, 'min_samples_split': 8, 'min_samples_leaf': 4, 'criterion': 'gini', 'splitter': 'best'}. Best is trial 132 with value: 0.3288403371215458.\u001b[0m\n",
      "\u001b[32m[I 2023-04-16 15:27:39,625]\u001b[0m Trial 139 finished with value: 0.33982321675035976 and parameters: {'max_depth': 9, 'min_samples_split': 7, 'min_samples_leaf': 4, 'criterion': 'entropy', 'splitter': 'random'}. Best is trial 132 with value: 0.3288403371215458.\u001b[0m\n",
      "\u001b[32m[I 2023-04-16 15:28:06,002]\u001b[0m Trial 140 finished with value: 0.3289210935894048 and parameters: {'max_depth': 9, 'min_samples_split': 8, 'min_samples_leaf': 4, 'criterion': 'entropy', 'splitter': 'best'}. Best is trial 132 with value: 0.3288403371215458.\u001b[0m\n",
      "\u001b[32m[I 2023-04-16 15:28:32,393]\u001b[0m Trial 141 finished with value: 0.32891375209232665 and parameters: {'max_depth': 9, 'min_samples_split': 8, 'min_samples_leaf': 4, 'criterion': 'entropy', 'splitter': 'best'}. Best is trial 132 with value: 0.3288403371215458.\u001b[0m\n",
      "\u001b[32m[I 2023-04-16 15:28:58,751]\u001b[0m Trial 142 finished with value: 0.32892843508648284 and parameters: {'max_depth': 9, 'min_samples_split': 8, 'min_samples_leaf': 4, 'criterion': 'entropy', 'splitter': 'best'}. Best is trial 132 with value: 0.3288403371215458.\u001b[0m\n",
      "\u001b[32m[I 2023-04-16 15:29:23,828]\u001b[0m Trial 143 finished with value: 0.3289210935894048 and parameters: {'max_depth': 9, 'min_samples_split': 8, 'min_samples_leaf': 4, 'criterion': 'entropy', 'splitter': 'best'}. Best is trial 132 with value: 0.3288403371215458.\u001b[0m\n",
      "\u001b[32m[I 2023-04-16 15:29:50,783]\u001b[0m Trial 144 finished with value: 0.32892843508648284 and parameters: {'max_depth': 9, 'min_samples_split': 9, 'min_samples_leaf': 4, 'criterion': 'entropy', 'splitter': 'best'}. Best is trial 132 with value: 0.3288403371215458.\u001b[0m\n",
      "\u001b[32m[I 2023-04-16 15:30:17,315]\u001b[0m Trial 145 finished with value: 0.32889906909817046 and parameters: {'max_depth': 9, 'min_samples_split': 7, 'min_samples_leaf': 4, 'criterion': 'entropy', 'splitter': 'best'}. Best is trial 132 with value: 0.3288403371215458.\u001b[0m\n",
      "\u001b[32m[I 2023-04-16 15:30:46,174]\u001b[0m Trial 146 finished with value: 0.3299415616832585 and parameters: {'max_depth': 10, 'min_samples_split': 8, 'min_samples_leaf': 4, 'criterion': 'entropy', 'splitter': 'best'}. Best is trial 132 with value: 0.3288403371215458.\u001b[0m\n",
      "\u001b[32m[I 2023-04-16 15:31:13,077]\u001b[0m Trial 147 finished with value: 0.3289210935894048 and parameters: {'max_depth': 9, 'min_samples_split': 8, 'min_samples_leaf': 4, 'criterion': 'entropy', 'splitter': 'best'}. Best is trial 132 with value: 0.3288403371215458.\u001b[0m\n",
      "\u001b[32m[I 2023-04-16 15:31:42,563]\u001b[0m Trial 148 finished with value: 0.32989751270078993 and parameters: {'max_depth': 10, 'min_samples_split': 7, 'min_samples_leaf': 4, 'criterion': 'entropy', 'splitter': 'best'}. Best is trial 132 with value: 0.3288403371215458.\u001b[0m\n",
      "\u001b[32m[I 2023-04-16 15:32:09,172]\u001b[0m Trial 149 finished with value: 0.3288917276010924 and parameters: {'max_depth': 9, 'min_samples_split': 8, 'min_samples_leaf': 4, 'criterion': 'entropy', 'splitter': 'best'}. Best is trial 132 with value: 0.3288403371215458.\u001b[0m\n"
     ]
    }
   ],
   "source": [
    "n_trials = 150\n",
    "\n",
    "study = optuna.create_study(direction='minimize')\n",
    "study.optimize(objective, n_trials=n_trials)"
   ]
  },
  {
   "cell_type": "markdown",
   "metadata": {},
   "source": [
    "#### **Saving study**"
   ]
  },
  {
   "cell_type": "code",
   "execution_count": 7,
   "metadata": {},
   "outputs": [
    {
     "data": {
      "text/plain": [
       "['./optuna_studies/decision_tree_study.pkl']"
      ]
     },
     "execution_count": 7,
     "metadata": {},
     "output_type": "execute_result"
    }
   ],
   "source": [
    "save_path = './optuna_studies/decision_tree_study.pkl'\n",
    "\n",
    "joblib.dump(study, save_path)"
   ]
  }
 ],
 "metadata": {
  "kernelspec": {
   "display_name": "DataScience",
   "language": "python",
   "name": "python3"
  },
  "language_info": {
   "codemirror_mode": {
    "name": "ipython",
    "version": 3
   },
   "file_extension": ".py",
   "mimetype": "text/x-python",
   "name": "python",
   "nbconvert_exporter": "python",
   "pygments_lexer": "ipython3",
   "version": "3.11.3"
  },
  "orig_nbformat": 4
 },
 "nbformat": 4,
 "nbformat_minor": 2
}

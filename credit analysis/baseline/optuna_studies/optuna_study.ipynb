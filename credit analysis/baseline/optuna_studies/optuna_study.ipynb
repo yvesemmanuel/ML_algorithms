{
 "cells": [
  {
   "cell_type": "code",
   "execution_count": 1,
   "metadata": {},
   "outputs": [
    {
     "name": "stderr",
     "output_type": "stream",
     "text": [
      "c:\\Users\\yveem\\miniconda3\\envs\\machine_learning\\lib\\site-packages\\tqdm\\auto.py:21: TqdmWarning: IProgress not found. Please update jupyter and ipywidgets. See https://ipywidgets.readthedocs.io/en/stable/user_install.html\n",
      "  from .autonotebook import tqdm as notebook_tqdm\n"
     ]
    }
   ],
   "source": [
    "import joblib\n",
    "import optuna"
   ]
  },
  {
   "attachments": {},
   "cell_type": "markdown",
   "metadata": {},
   "source": [
    "```python\n",
    "\n",
    "n_trials = 150\n",
    "\n",
    "early_stopping = EarlyStopping(\n",
    "    monitor='val_loss',\n",
    "    patience=10,\n",
    "    verbose=1,\n",
    "    restore_best_weights=True,\n",
    "    min_delta=0.001\n",
    ")\n",
    "\n",
    "params = {\n",
    "    'hidden_layer_units': [32, 128, 256],\n",
    "    'hidden_layers': {\n",
    "        'low': 1,\n",
    "        'high': 2\n",
    "    },\n",
    "    'alpha': [0.0001, 0.01],\n",
    "    'max_iter': [2000, 5000, 10000],\n",
    "    'batch_size': [32, 64, 128],\n",
    "    'activation': ['tanh', 'relu', 'sigmoid'],\n",
    "    'optimizer': ['SGD', 'Adam'],\n",
    "    'output_activation': ['sigmoid', 'softmax'],\n",
    "    'loss_function': ['binary_crossentropy', 'mse'],\n",
    "    'dropout_rate': [0.5, 0.3, 0.02]\n",
    "}\n",
    "```"
   ]
  },
  {
   "cell_type": "code",
   "execution_count": 3,
   "metadata": {},
   "outputs": [],
   "source": [
    "study = joblib.load('mlp_study.pkl')"
   ]
  },
  {
   "cell_type": "code",
   "execution_count": 4,
   "metadata": {},
   "outputs": [
    {
     "data": {
      "text/plain": [
       "0.20584022998809814"
      ]
     },
     "execution_count": 4,
     "metadata": {},
     "output_type": "execute_result"
    }
   ],
   "source": [
    "study.best_value"
   ]
  },
  {
   "cell_type": "code",
   "execution_count": 5,
   "metadata": {},
   "outputs": [
    {
     "data": {
      "text/plain": [
       "{'hidden_layer_units': 256,\n",
       " 'activation': 'sigmoid',\n",
       " 'hidden_layers': 1,\n",
       " 'dropout_rate': 0.5,\n",
       " 'output_activation': 'sigmoid',\n",
       " 'alpha': 0.01,\n",
       " 'optimizer': 'Adam',\n",
       " 'loss_function': 'mse',\n",
       " 'batch_size': 32,\n",
       " 'max_iter': 5000}"
      ]
     },
     "execution_count": 5,
     "metadata": {},
     "output_type": "execute_result"
    }
   ],
   "source": [
    "study.best_params"
   ]
  },
  {
   "cell_type": "code",
   "execution_count": 6,
   "metadata": {},
   "outputs": [
    {
     "data": {
      "application/vnd.plotly.v1+json": {
       "config": {
        "plotlyServerURL": "https://plot.ly"
       },
       "data": [
        {
         "cliponaxis": false,
         "hovertemplate": [
          "hidden_layers (IntDistribution): 0.00016297341983696843<extra></extra>",
          "alpha (CategoricalDistribution): 0.00026002696091940287<extra></extra>",
          "hidden_layer_units (CategoricalDistribution): 0.001723777380829808<extra></extra>",
          "batch_size (CategoricalDistribution): 0.0037764867175646647<extra></extra>",
          "optimizer (CategoricalDistribution): 0.005150387747056124<extra></extra>",
          "output_activation (CategoricalDistribution): 0.008708724808595785<extra></extra>",
          "dropout_rate (CategoricalDistribution): 0.014371665666726782<extra></extra>",
          "max_iter (CategoricalDistribution): 0.018397640059371754<extra></extra>",
          "activation (CategoricalDistribution): 0.028533743330413155<extra></extra>",
          "loss_function (CategoricalDistribution): 0.9189145739086856<extra></extra>"
         ],
         "marker": {
          "color": "rgb(66,146,198)"
         },
         "orientation": "h",
         "text": [
          "<0.01",
          "<0.01",
          "<0.01",
          "<0.01",
          "<0.01",
          "<0.01",
          "0.01",
          "0.02",
          "0.03",
          "0.92"
         ],
         "textposition": "outside",
         "type": "bar",
         "x": [
          0.00016297341983696843,
          0.00026002696091940287,
          0.001723777380829808,
          0.0037764867175646647,
          0.005150387747056124,
          0.008708724808595785,
          0.014371665666726782,
          0.018397640059371754,
          0.028533743330413155,
          0.9189145739086856
         ],
         "y": [
          "hidden_layers",
          "alpha",
          "hidden_layer_units",
          "batch_size",
          "optimizer",
          "output_activation",
          "dropout_rate",
          "max_iter",
          "activation",
          "loss_function"
         ]
        }
       ],
       "layout": {
        "showlegend": false,
        "template": {
         "data": {
          "bar": [
           {
            "error_x": {
             "color": "#2a3f5f"
            },
            "error_y": {
             "color": "#2a3f5f"
            },
            "marker": {
             "line": {
              "color": "#E5ECF6",
              "width": 0.5
             },
             "pattern": {
              "fillmode": "overlay",
              "size": 10,
              "solidity": 0.2
             }
            },
            "type": "bar"
           }
          ],
          "barpolar": [
           {
            "marker": {
             "line": {
              "color": "#E5ECF6",
              "width": 0.5
             },
             "pattern": {
              "fillmode": "overlay",
              "size": 10,
              "solidity": 0.2
             }
            },
            "type": "barpolar"
           }
          ],
          "carpet": [
           {
            "aaxis": {
             "endlinecolor": "#2a3f5f",
             "gridcolor": "white",
             "linecolor": "white",
             "minorgridcolor": "white",
             "startlinecolor": "#2a3f5f"
            },
            "baxis": {
             "endlinecolor": "#2a3f5f",
             "gridcolor": "white",
             "linecolor": "white",
             "minorgridcolor": "white",
             "startlinecolor": "#2a3f5f"
            },
            "type": "carpet"
           }
          ],
          "choropleth": [
           {
            "colorbar": {
             "outlinewidth": 0,
             "ticks": ""
            },
            "type": "choropleth"
           }
          ],
          "contour": [
           {
            "colorbar": {
             "outlinewidth": 0,
             "ticks": ""
            },
            "colorscale": [
             [
              0,
              "#0d0887"
             ],
             [
              0.1111111111111111,
              "#46039f"
             ],
             [
              0.2222222222222222,
              "#7201a8"
             ],
             [
              0.3333333333333333,
              "#9c179e"
             ],
             [
              0.4444444444444444,
              "#bd3786"
             ],
             [
              0.5555555555555556,
              "#d8576b"
             ],
             [
              0.6666666666666666,
              "#ed7953"
             ],
             [
              0.7777777777777778,
              "#fb9f3a"
             ],
             [
              0.8888888888888888,
              "#fdca26"
             ],
             [
              1,
              "#f0f921"
             ]
            ],
            "type": "contour"
           }
          ],
          "contourcarpet": [
           {
            "colorbar": {
             "outlinewidth": 0,
             "ticks": ""
            },
            "type": "contourcarpet"
           }
          ],
          "heatmap": [
           {
            "colorbar": {
             "outlinewidth": 0,
             "ticks": ""
            },
            "colorscale": [
             [
              0,
              "#0d0887"
             ],
             [
              0.1111111111111111,
              "#46039f"
             ],
             [
              0.2222222222222222,
              "#7201a8"
             ],
             [
              0.3333333333333333,
              "#9c179e"
             ],
             [
              0.4444444444444444,
              "#bd3786"
             ],
             [
              0.5555555555555556,
              "#d8576b"
             ],
             [
              0.6666666666666666,
              "#ed7953"
             ],
             [
              0.7777777777777778,
              "#fb9f3a"
             ],
             [
              0.8888888888888888,
              "#fdca26"
             ],
             [
              1,
              "#f0f921"
             ]
            ],
            "type": "heatmap"
           }
          ],
          "heatmapgl": [
           {
            "colorbar": {
             "outlinewidth": 0,
             "ticks": ""
            },
            "colorscale": [
             [
              0,
              "#0d0887"
             ],
             [
              0.1111111111111111,
              "#46039f"
             ],
             [
              0.2222222222222222,
              "#7201a8"
             ],
             [
              0.3333333333333333,
              "#9c179e"
             ],
             [
              0.4444444444444444,
              "#bd3786"
             ],
             [
              0.5555555555555556,
              "#d8576b"
             ],
             [
              0.6666666666666666,
              "#ed7953"
             ],
             [
              0.7777777777777778,
              "#fb9f3a"
             ],
             [
              0.8888888888888888,
              "#fdca26"
             ],
             [
              1,
              "#f0f921"
             ]
            ],
            "type": "heatmapgl"
           }
          ],
          "histogram": [
           {
            "marker": {
             "pattern": {
              "fillmode": "overlay",
              "size": 10,
              "solidity": 0.2
             }
            },
            "type": "histogram"
           }
          ],
          "histogram2d": [
           {
            "colorbar": {
             "outlinewidth": 0,
             "ticks": ""
            },
            "colorscale": [
             [
              0,
              "#0d0887"
             ],
             [
              0.1111111111111111,
              "#46039f"
             ],
             [
              0.2222222222222222,
              "#7201a8"
             ],
             [
              0.3333333333333333,
              "#9c179e"
             ],
             [
              0.4444444444444444,
              "#bd3786"
             ],
             [
              0.5555555555555556,
              "#d8576b"
             ],
             [
              0.6666666666666666,
              "#ed7953"
             ],
             [
              0.7777777777777778,
              "#fb9f3a"
             ],
             [
              0.8888888888888888,
              "#fdca26"
             ],
             [
              1,
              "#f0f921"
             ]
            ],
            "type": "histogram2d"
           }
          ],
          "histogram2dcontour": [
           {
            "colorbar": {
             "outlinewidth": 0,
             "ticks": ""
            },
            "colorscale": [
             [
              0,
              "#0d0887"
             ],
             [
              0.1111111111111111,
              "#46039f"
             ],
             [
              0.2222222222222222,
              "#7201a8"
             ],
             [
              0.3333333333333333,
              "#9c179e"
             ],
             [
              0.4444444444444444,
              "#bd3786"
             ],
             [
              0.5555555555555556,
              "#d8576b"
             ],
             [
              0.6666666666666666,
              "#ed7953"
             ],
             [
              0.7777777777777778,
              "#fb9f3a"
             ],
             [
              0.8888888888888888,
              "#fdca26"
             ],
             [
              1,
              "#f0f921"
             ]
            ],
            "type": "histogram2dcontour"
           }
          ],
          "mesh3d": [
           {
            "colorbar": {
             "outlinewidth": 0,
             "ticks": ""
            },
            "type": "mesh3d"
           }
          ],
          "parcoords": [
           {
            "line": {
             "colorbar": {
              "outlinewidth": 0,
              "ticks": ""
             }
            },
            "type": "parcoords"
           }
          ],
          "pie": [
           {
            "automargin": true,
            "type": "pie"
           }
          ],
          "scatter": [
           {
            "fillpattern": {
             "fillmode": "overlay",
             "size": 10,
             "solidity": 0.2
            },
            "type": "scatter"
           }
          ],
          "scatter3d": [
           {
            "line": {
             "colorbar": {
              "outlinewidth": 0,
              "ticks": ""
             }
            },
            "marker": {
             "colorbar": {
              "outlinewidth": 0,
              "ticks": ""
             }
            },
            "type": "scatter3d"
           }
          ],
          "scattercarpet": [
           {
            "marker": {
             "colorbar": {
              "outlinewidth": 0,
              "ticks": ""
             }
            },
            "type": "scattercarpet"
           }
          ],
          "scattergeo": [
           {
            "marker": {
             "colorbar": {
              "outlinewidth": 0,
              "ticks": ""
             }
            },
            "type": "scattergeo"
           }
          ],
          "scattergl": [
           {
            "marker": {
             "colorbar": {
              "outlinewidth": 0,
              "ticks": ""
             }
            },
            "type": "scattergl"
           }
          ],
          "scattermapbox": [
           {
            "marker": {
             "colorbar": {
              "outlinewidth": 0,
              "ticks": ""
             }
            },
            "type": "scattermapbox"
           }
          ],
          "scatterpolar": [
           {
            "marker": {
             "colorbar": {
              "outlinewidth": 0,
              "ticks": ""
             }
            },
            "type": "scatterpolar"
           }
          ],
          "scatterpolargl": [
           {
            "marker": {
             "colorbar": {
              "outlinewidth": 0,
              "ticks": ""
             }
            },
            "type": "scatterpolargl"
           }
          ],
          "scatterternary": [
           {
            "marker": {
             "colorbar": {
              "outlinewidth": 0,
              "ticks": ""
             }
            },
            "type": "scatterternary"
           }
          ],
          "surface": [
           {
            "colorbar": {
             "outlinewidth": 0,
             "ticks": ""
            },
            "colorscale": [
             [
              0,
              "#0d0887"
             ],
             [
              0.1111111111111111,
              "#46039f"
             ],
             [
              0.2222222222222222,
              "#7201a8"
             ],
             [
              0.3333333333333333,
              "#9c179e"
             ],
             [
              0.4444444444444444,
              "#bd3786"
             ],
             [
              0.5555555555555556,
              "#d8576b"
             ],
             [
              0.6666666666666666,
              "#ed7953"
             ],
             [
              0.7777777777777778,
              "#fb9f3a"
             ],
             [
              0.8888888888888888,
              "#fdca26"
             ],
             [
              1,
              "#f0f921"
             ]
            ],
            "type": "surface"
           }
          ],
          "table": [
           {
            "cells": {
             "fill": {
              "color": "#EBF0F8"
             },
             "line": {
              "color": "white"
             }
            },
            "header": {
             "fill": {
              "color": "#C8D4E3"
             },
             "line": {
              "color": "white"
             }
            },
            "type": "table"
           }
          ]
         },
         "layout": {
          "annotationdefaults": {
           "arrowcolor": "#2a3f5f",
           "arrowhead": 0,
           "arrowwidth": 1
          },
          "autotypenumbers": "strict",
          "coloraxis": {
           "colorbar": {
            "outlinewidth": 0,
            "ticks": ""
           }
          },
          "colorscale": {
           "diverging": [
            [
             0,
             "#8e0152"
            ],
            [
             0.1,
             "#c51b7d"
            ],
            [
             0.2,
             "#de77ae"
            ],
            [
             0.3,
             "#f1b6da"
            ],
            [
             0.4,
             "#fde0ef"
            ],
            [
             0.5,
             "#f7f7f7"
            ],
            [
             0.6,
             "#e6f5d0"
            ],
            [
             0.7,
             "#b8e186"
            ],
            [
             0.8,
             "#7fbc41"
            ],
            [
             0.9,
             "#4d9221"
            ],
            [
             1,
             "#276419"
            ]
           ],
           "sequential": [
            [
             0,
             "#0d0887"
            ],
            [
             0.1111111111111111,
             "#46039f"
            ],
            [
             0.2222222222222222,
             "#7201a8"
            ],
            [
             0.3333333333333333,
             "#9c179e"
            ],
            [
             0.4444444444444444,
             "#bd3786"
            ],
            [
             0.5555555555555556,
             "#d8576b"
            ],
            [
             0.6666666666666666,
             "#ed7953"
            ],
            [
             0.7777777777777778,
             "#fb9f3a"
            ],
            [
             0.8888888888888888,
             "#fdca26"
            ],
            [
             1,
             "#f0f921"
            ]
           ],
           "sequentialminus": [
            [
             0,
             "#0d0887"
            ],
            [
             0.1111111111111111,
             "#46039f"
            ],
            [
             0.2222222222222222,
             "#7201a8"
            ],
            [
             0.3333333333333333,
             "#9c179e"
            ],
            [
             0.4444444444444444,
             "#bd3786"
            ],
            [
             0.5555555555555556,
             "#d8576b"
            ],
            [
             0.6666666666666666,
             "#ed7953"
            ],
            [
             0.7777777777777778,
             "#fb9f3a"
            ],
            [
             0.8888888888888888,
             "#fdca26"
            ],
            [
             1,
             "#f0f921"
            ]
           ]
          },
          "colorway": [
           "#636efa",
           "#EF553B",
           "#00cc96",
           "#ab63fa",
           "#FFA15A",
           "#19d3f3",
           "#FF6692",
           "#B6E880",
           "#FF97FF",
           "#FECB52"
          ],
          "font": {
           "color": "#2a3f5f"
          },
          "geo": {
           "bgcolor": "white",
           "lakecolor": "white",
           "landcolor": "#E5ECF6",
           "showlakes": true,
           "showland": true,
           "subunitcolor": "white"
          },
          "hoverlabel": {
           "align": "left"
          },
          "hovermode": "closest",
          "mapbox": {
           "style": "light"
          },
          "paper_bgcolor": "white",
          "plot_bgcolor": "#E5ECF6",
          "polar": {
           "angularaxis": {
            "gridcolor": "white",
            "linecolor": "white",
            "ticks": ""
           },
           "bgcolor": "#E5ECF6",
           "radialaxis": {
            "gridcolor": "white",
            "linecolor": "white",
            "ticks": ""
           }
          },
          "scene": {
           "xaxis": {
            "backgroundcolor": "#E5ECF6",
            "gridcolor": "white",
            "gridwidth": 2,
            "linecolor": "white",
            "showbackground": true,
            "ticks": "",
            "zerolinecolor": "white"
           },
           "yaxis": {
            "backgroundcolor": "#E5ECF6",
            "gridcolor": "white",
            "gridwidth": 2,
            "linecolor": "white",
            "showbackground": true,
            "ticks": "",
            "zerolinecolor": "white"
           },
           "zaxis": {
            "backgroundcolor": "#E5ECF6",
            "gridcolor": "white",
            "gridwidth": 2,
            "linecolor": "white",
            "showbackground": true,
            "ticks": "",
            "zerolinecolor": "white"
           }
          },
          "shapedefaults": {
           "line": {
            "color": "#2a3f5f"
           }
          },
          "ternary": {
           "aaxis": {
            "gridcolor": "white",
            "linecolor": "white",
            "ticks": ""
           },
           "baxis": {
            "gridcolor": "white",
            "linecolor": "white",
            "ticks": ""
           },
           "bgcolor": "#E5ECF6",
           "caxis": {
            "gridcolor": "white",
            "linecolor": "white",
            "ticks": ""
           }
          },
          "title": {
           "x": 0.05
          },
          "xaxis": {
           "automargin": true,
           "gridcolor": "white",
           "linecolor": "white",
           "ticks": "",
           "title": {
            "standoff": 15
           },
           "zerolinecolor": "white",
           "zerolinewidth": 2
          },
          "yaxis": {
           "automargin": true,
           "gridcolor": "white",
           "linecolor": "white",
           "ticks": "",
           "title": {
            "standoff": 15
           },
           "zerolinecolor": "white",
           "zerolinewidth": 2
          }
         }
        },
        "title": {
         "text": "Hyperparameter Importances"
        },
        "xaxis": {
         "title": {
          "text": "Importance for Objective Value"
         }
        },
        "yaxis": {
         "title": {
          "text": "Hyperparameter"
         }
        }
       }
      }
     },
     "metadata": {},
     "output_type": "display_data"
    }
   ],
   "source": [
    "optuna.visualization.plot_param_importances(study)"
   ]
  },
  {
   "cell_type": "code",
   "execution_count": 7,
   "metadata": {},
   "outputs": [
    {
     "data": {
      "application/vnd.plotly.v1+json": {
       "config": {
        "plotlyServerURL": "https://plot.ly"
       },
       "data": [
        {
         "mode": "markers",
         "name": "Objective Value",
         "type": "scatter",
         "x": [
          0,
          1,
          2,
          3,
          4,
          5,
          6,
          7,
          8,
          9,
          10,
          11,
          12,
          13,
          14,
          15,
          16,
          17,
          18,
          19,
          20,
          21,
          22,
          23,
          24,
          25,
          26,
          27,
          28,
          29,
          30,
          31,
          32,
          33,
          34,
          35,
          36,
          37,
          38,
          39,
          40,
          41,
          42,
          43,
          44,
          45,
          46,
          47,
          48,
          49,
          50,
          51,
          52,
          53,
          54,
          55,
          56,
          57,
          58,
          59,
          60,
          61,
          62,
          63,
          64,
          65,
          66,
          67,
          68,
          69,
          70,
          71,
          72,
          73,
          74,
          75,
          76,
          77,
          78,
          79,
          80,
          81,
          82,
          83,
          84,
          85,
          86,
          87,
          88,
          89,
          90,
          91,
          92,
          93,
          94,
          95,
          96,
          97,
          98,
          99,
          100,
          101,
          102,
          103,
          104,
          105,
          106,
          107,
          108,
          109,
          110,
          111,
          112,
          113,
          114,
          115,
          116,
          117,
          118,
          119,
          120,
          121,
          122,
          123,
          124,
          125,
          126,
          127,
          128,
          129,
          130,
          131,
          132,
          133,
          134,
          135,
          136,
          137,
          138,
          139,
          140,
          141,
          142,
          143,
          144,
          145,
          146,
          147,
          148,
          149
         ],
         "y": [
          0.24575841426849365,
          0.6202553510665894,
          0.22046668827533722,
          0.6901261210441589,
          0.2154790312051773,
          0.21790792047977448,
          0.6279371380805969,
          0.6516808271408081,
          0.344547837972641,
          0.6500706672668457,
          0.344547837972641,
          0.2162514626979828,
          0.21108092367649078,
          0.21279609203338623,
          0.2129603773355484,
          0.344547837972641,
          0.344547837972641,
          0.21394437551498413,
          0.344547837972641,
          0.344547837972641,
          0.21330556273460388,
          0.21584738790988922,
          0.21627020835876465,
          0.21449516713619232,
          0.2132558524608612,
          0.2127208709716797,
          0.2136133909225464,
          0.6041551828384399,
          0.21515531837940216,
          0.344547837972641,
          0.2115245908498764,
          0.2084178328514099,
          0.21029448509216309,
          0.21264339983463287,
          0.6090985536575317,
          0.20912139117717743,
          0.24596847593784332,
          0.344547837972641,
          0.6089057326316833,
          0.2469317466020584,
          0.6058604121208191,
          0.20584022998809814,
          0.2105138748884201,
          0.21244436502456665,
          0.21569521725177765,
          0.22281323373317719,
          0.20970764756202698,
          0.344547837972641,
          0.24611414968967438,
          0.6177918314933777,
          0.2131710797548294,
          0.20965172350406647,
          0.21227161586284637,
          0.2263471484184265,
          0.21194981038570404,
          0.2175508439540863,
          0.344547837972641,
          0.20932739973068237,
          0.217051163315773,
          0.24395735561847687,
          0.21084392070770264,
          0.21438108384609222,
          0.20839102566242218,
          0.2074023187160492,
          0.211875319480896,
          0.21211344003677368,
          0.20591211318969727,
          0.344547837972641,
          0.6087932586669922,
          0.20956037938594818,
          0.21198880672454834,
          0.6554521918296814,
          0.344547837972641,
          0.2143000215291977,
          0.344547837972641,
          0.6554521918296814,
          0.21078041195869446,
          0.21106217801570892,
          0.23068027198314667,
          0.6178409457206726,
          0.20957785844802856,
          0.21215954422950745,
          0.21598313748836517,
          0.20907825231552124,
          0.21258334815502167,
          0.21519765257835388,
          0.2115355283021927,
          0.2112792730331421,
          0.6554521918296814,
          0.20825500786304474,
          0.242228701710701,
          0.21134191751480103,
          0.20868027210235596,
          0.21551300585269928,
          0.21397000551223755,
          0.2139306217432022,
          0.6125741600990295,
          0.3445478081703186,
          0.344547837972641,
          0.20886017382144928,
          0.21557538211345673,
          0.21148677170276642,
          0.21208851039409637,
          0.21137084066867828,
          0.2088516354560852,
          0.20743107795715332,
          0.20967309176921844,
          0.2110397219657898,
          0.21615473926067352,
          0.2416149228811264,
          0.20767439901828766,
          0.210477814078331,
          0.21102195978164673,
          0.2119656354188919,
          0.344547837972641,
          0.2134852111339569,
          0.6120967864990234,
          0.2137426882982254,
          0.21163828670978546,
          0.21338562667369843,
          0.22583696246147156,
          0.2058408111333847,
          0.20836026966571808,
          0.21051479876041412,
          0.20724612474441528,
          0.20863060653209686,
          0.21612578630447388,
          0.20952340960502625,
          0.21629686653614044,
          0.2494613379240036,
          0.20732128620147705,
          0.20625723898410797,
          0.21368755400180817,
          0.2271881401538849,
          0.20855183899402618,
          0.20699083805084229,
          0.21051982045173645,
          0.6061258912086487,
          0.21289564669132233,
          0.20622310042381287,
          0.20904865860939026,
          0.21175576746463776,
          0.20944127440452576,
          0.21058782935142517,
          0.20864826440811157,
          0.344547837972641,
          0.21112105250358582,
          0.344547837972641,
          0.2078184187412262,
          0.20945768058300018
         ]
        },
        {
         "name": "Best Value",
         "type": "scatter",
         "x": [
          0,
          1,
          2,
          3,
          4,
          5,
          6,
          7,
          8,
          9,
          10,
          11,
          12,
          13,
          14,
          15,
          16,
          17,
          18,
          19,
          20,
          21,
          22,
          23,
          24,
          25,
          26,
          27,
          28,
          29,
          30,
          31,
          32,
          33,
          34,
          35,
          36,
          37,
          38,
          39,
          40,
          41,
          42,
          43,
          44,
          45,
          46,
          47,
          48,
          49,
          50,
          51,
          52,
          53,
          54,
          55,
          56,
          57,
          58,
          59,
          60,
          61,
          62,
          63,
          64,
          65,
          66,
          67,
          68,
          69,
          70,
          71,
          72,
          73,
          74,
          75,
          76,
          77,
          78,
          79,
          80,
          81,
          82,
          83,
          84,
          85,
          86,
          87,
          88,
          89,
          90,
          91,
          92,
          93,
          94,
          95,
          96,
          97,
          98,
          99,
          100,
          101,
          102,
          103,
          104,
          105,
          106,
          107,
          108,
          109,
          110,
          111,
          112,
          113,
          114,
          115,
          116,
          117,
          118,
          119,
          120,
          121,
          122,
          123,
          124,
          125,
          126,
          127,
          128,
          129,
          130,
          131,
          132,
          133,
          134,
          135,
          136,
          137,
          138,
          139,
          140,
          141,
          142,
          143,
          144,
          145,
          146,
          147,
          148,
          149
         ],
         "y": [
          0.24575841426849365,
          0.24575841426849365,
          0.22046668827533722,
          0.22046668827533722,
          0.2154790312051773,
          0.2154790312051773,
          0.2154790312051773,
          0.2154790312051773,
          0.2154790312051773,
          0.2154790312051773,
          0.2154790312051773,
          0.2154790312051773,
          0.21108092367649078,
          0.21108092367649078,
          0.21108092367649078,
          0.21108092367649078,
          0.21108092367649078,
          0.21108092367649078,
          0.21108092367649078,
          0.21108092367649078,
          0.21108092367649078,
          0.21108092367649078,
          0.21108092367649078,
          0.21108092367649078,
          0.21108092367649078,
          0.21108092367649078,
          0.21108092367649078,
          0.21108092367649078,
          0.21108092367649078,
          0.21108092367649078,
          0.21108092367649078,
          0.2084178328514099,
          0.2084178328514099,
          0.2084178328514099,
          0.2084178328514099,
          0.2084178328514099,
          0.2084178328514099,
          0.2084178328514099,
          0.2084178328514099,
          0.2084178328514099,
          0.2084178328514099,
          0.20584022998809814,
          0.20584022998809814,
          0.20584022998809814,
          0.20584022998809814,
          0.20584022998809814,
          0.20584022998809814,
          0.20584022998809814,
          0.20584022998809814,
          0.20584022998809814,
          0.20584022998809814,
          0.20584022998809814,
          0.20584022998809814,
          0.20584022998809814,
          0.20584022998809814,
          0.20584022998809814,
          0.20584022998809814,
          0.20584022998809814,
          0.20584022998809814,
          0.20584022998809814,
          0.20584022998809814,
          0.20584022998809814,
          0.20584022998809814,
          0.20584022998809814,
          0.20584022998809814,
          0.20584022998809814,
          0.20584022998809814,
          0.20584022998809814,
          0.20584022998809814,
          0.20584022998809814,
          0.20584022998809814,
          0.20584022998809814,
          0.20584022998809814,
          0.20584022998809814,
          0.20584022998809814,
          0.20584022998809814,
          0.20584022998809814,
          0.20584022998809814,
          0.20584022998809814,
          0.20584022998809814,
          0.20584022998809814,
          0.20584022998809814,
          0.20584022998809814,
          0.20584022998809814,
          0.20584022998809814,
          0.20584022998809814,
          0.20584022998809814,
          0.20584022998809814,
          0.20584022998809814,
          0.20584022998809814,
          0.20584022998809814,
          0.20584022998809814,
          0.20584022998809814,
          0.20584022998809814,
          0.20584022998809814,
          0.20584022998809814,
          0.20584022998809814,
          0.20584022998809814,
          0.20584022998809814,
          0.20584022998809814,
          0.20584022998809814,
          0.20584022998809814,
          0.20584022998809814,
          0.20584022998809814,
          0.20584022998809814,
          0.20584022998809814,
          0.20584022998809814,
          0.20584022998809814,
          0.20584022998809814,
          0.20584022998809814,
          0.20584022998809814,
          0.20584022998809814,
          0.20584022998809814,
          0.20584022998809814,
          0.20584022998809814,
          0.20584022998809814,
          0.20584022998809814,
          0.20584022998809814,
          0.20584022998809814,
          0.20584022998809814,
          0.20584022998809814,
          0.20584022998809814,
          0.20584022998809814,
          0.20584022998809814,
          0.20584022998809814,
          0.20584022998809814,
          0.20584022998809814,
          0.20584022998809814,
          0.20584022998809814,
          0.20584022998809814,
          0.20584022998809814,
          0.20584022998809814,
          0.20584022998809814,
          0.20584022998809814,
          0.20584022998809814,
          0.20584022998809814,
          0.20584022998809814,
          0.20584022998809814,
          0.20584022998809814,
          0.20584022998809814,
          0.20584022998809814,
          0.20584022998809814,
          0.20584022998809814,
          0.20584022998809814,
          0.20584022998809814,
          0.20584022998809814,
          0.20584022998809814,
          0.20584022998809814,
          0.20584022998809814,
          0.20584022998809814
         ]
        }
       ],
       "layout": {
        "template": {
         "data": {
          "bar": [
           {
            "error_x": {
             "color": "#2a3f5f"
            },
            "error_y": {
             "color": "#2a3f5f"
            },
            "marker": {
             "line": {
              "color": "#E5ECF6",
              "width": 0.5
             },
             "pattern": {
              "fillmode": "overlay",
              "size": 10,
              "solidity": 0.2
             }
            },
            "type": "bar"
           }
          ],
          "barpolar": [
           {
            "marker": {
             "line": {
              "color": "#E5ECF6",
              "width": 0.5
             },
             "pattern": {
              "fillmode": "overlay",
              "size": 10,
              "solidity": 0.2
             }
            },
            "type": "barpolar"
           }
          ],
          "carpet": [
           {
            "aaxis": {
             "endlinecolor": "#2a3f5f",
             "gridcolor": "white",
             "linecolor": "white",
             "minorgridcolor": "white",
             "startlinecolor": "#2a3f5f"
            },
            "baxis": {
             "endlinecolor": "#2a3f5f",
             "gridcolor": "white",
             "linecolor": "white",
             "minorgridcolor": "white",
             "startlinecolor": "#2a3f5f"
            },
            "type": "carpet"
           }
          ],
          "choropleth": [
           {
            "colorbar": {
             "outlinewidth": 0,
             "ticks": ""
            },
            "type": "choropleth"
           }
          ],
          "contour": [
           {
            "colorbar": {
             "outlinewidth": 0,
             "ticks": ""
            },
            "colorscale": [
             [
              0,
              "#0d0887"
             ],
             [
              0.1111111111111111,
              "#46039f"
             ],
             [
              0.2222222222222222,
              "#7201a8"
             ],
             [
              0.3333333333333333,
              "#9c179e"
             ],
             [
              0.4444444444444444,
              "#bd3786"
             ],
             [
              0.5555555555555556,
              "#d8576b"
             ],
             [
              0.6666666666666666,
              "#ed7953"
             ],
             [
              0.7777777777777778,
              "#fb9f3a"
             ],
             [
              0.8888888888888888,
              "#fdca26"
             ],
             [
              1,
              "#f0f921"
             ]
            ],
            "type": "contour"
           }
          ],
          "contourcarpet": [
           {
            "colorbar": {
             "outlinewidth": 0,
             "ticks": ""
            },
            "type": "contourcarpet"
           }
          ],
          "heatmap": [
           {
            "colorbar": {
             "outlinewidth": 0,
             "ticks": ""
            },
            "colorscale": [
             [
              0,
              "#0d0887"
             ],
             [
              0.1111111111111111,
              "#46039f"
             ],
             [
              0.2222222222222222,
              "#7201a8"
             ],
             [
              0.3333333333333333,
              "#9c179e"
             ],
             [
              0.4444444444444444,
              "#bd3786"
             ],
             [
              0.5555555555555556,
              "#d8576b"
             ],
             [
              0.6666666666666666,
              "#ed7953"
             ],
             [
              0.7777777777777778,
              "#fb9f3a"
             ],
             [
              0.8888888888888888,
              "#fdca26"
             ],
             [
              1,
              "#f0f921"
             ]
            ],
            "type": "heatmap"
           }
          ],
          "heatmapgl": [
           {
            "colorbar": {
             "outlinewidth": 0,
             "ticks": ""
            },
            "colorscale": [
             [
              0,
              "#0d0887"
             ],
             [
              0.1111111111111111,
              "#46039f"
             ],
             [
              0.2222222222222222,
              "#7201a8"
             ],
             [
              0.3333333333333333,
              "#9c179e"
             ],
             [
              0.4444444444444444,
              "#bd3786"
             ],
             [
              0.5555555555555556,
              "#d8576b"
             ],
             [
              0.6666666666666666,
              "#ed7953"
             ],
             [
              0.7777777777777778,
              "#fb9f3a"
             ],
             [
              0.8888888888888888,
              "#fdca26"
             ],
             [
              1,
              "#f0f921"
             ]
            ],
            "type": "heatmapgl"
           }
          ],
          "histogram": [
           {
            "marker": {
             "pattern": {
              "fillmode": "overlay",
              "size": 10,
              "solidity": 0.2
             }
            },
            "type": "histogram"
           }
          ],
          "histogram2d": [
           {
            "colorbar": {
             "outlinewidth": 0,
             "ticks": ""
            },
            "colorscale": [
             [
              0,
              "#0d0887"
             ],
             [
              0.1111111111111111,
              "#46039f"
             ],
             [
              0.2222222222222222,
              "#7201a8"
             ],
             [
              0.3333333333333333,
              "#9c179e"
             ],
             [
              0.4444444444444444,
              "#bd3786"
             ],
             [
              0.5555555555555556,
              "#d8576b"
             ],
             [
              0.6666666666666666,
              "#ed7953"
             ],
             [
              0.7777777777777778,
              "#fb9f3a"
             ],
             [
              0.8888888888888888,
              "#fdca26"
             ],
             [
              1,
              "#f0f921"
             ]
            ],
            "type": "histogram2d"
           }
          ],
          "histogram2dcontour": [
           {
            "colorbar": {
             "outlinewidth": 0,
             "ticks": ""
            },
            "colorscale": [
             [
              0,
              "#0d0887"
             ],
             [
              0.1111111111111111,
              "#46039f"
             ],
             [
              0.2222222222222222,
              "#7201a8"
             ],
             [
              0.3333333333333333,
              "#9c179e"
             ],
             [
              0.4444444444444444,
              "#bd3786"
             ],
             [
              0.5555555555555556,
              "#d8576b"
             ],
             [
              0.6666666666666666,
              "#ed7953"
             ],
             [
              0.7777777777777778,
              "#fb9f3a"
             ],
             [
              0.8888888888888888,
              "#fdca26"
             ],
             [
              1,
              "#f0f921"
             ]
            ],
            "type": "histogram2dcontour"
           }
          ],
          "mesh3d": [
           {
            "colorbar": {
             "outlinewidth": 0,
             "ticks": ""
            },
            "type": "mesh3d"
           }
          ],
          "parcoords": [
           {
            "line": {
             "colorbar": {
              "outlinewidth": 0,
              "ticks": ""
             }
            },
            "type": "parcoords"
           }
          ],
          "pie": [
           {
            "automargin": true,
            "type": "pie"
           }
          ],
          "scatter": [
           {
            "fillpattern": {
             "fillmode": "overlay",
             "size": 10,
             "solidity": 0.2
            },
            "type": "scatter"
           }
          ],
          "scatter3d": [
           {
            "line": {
             "colorbar": {
              "outlinewidth": 0,
              "ticks": ""
             }
            },
            "marker": {
             "colorbar": {
              "outlinewidth": 0,
              "ticks": ""
             }
            },
            "type": "scatter3d"
           }
          ],
          "scattercarpet": [
           {
            "marker": {
             "colorbar": {
              "outlinewidth": 0,
              "ticks": ""
             }
            },
            "type": "scattercarpet"
           }
          ],
          "scattergeo": [
           {
            "marker": {
             "colorbar": {
              "outlinewidth": 0,
              "ticks": ""
             }
            },
            "type": "scattergeo"
           }
          ],
          "scattergl": [
           {
            "marker": {
             "colorbar": {
              "outlinewidth": 0,
              "ticks": ""
             }
            },
            "type": "scattergl"
           }
          ],
          "scattermapbox": [
           {
            "marker": {
             "colorbar": {
              "outlinewidth": 0,
              "ticks": ""
             }
            },
            "type": "scattermapbox"
           }
          ],
          "scatterpolar": [
           {
            "marker": {
             "colorbar": {
              "outlinewidth": 0,
              "ticks": ""
             }
            },
            "type": "scatterpolar"
           }
          ],
          "scatterpolargl": [
           {
            "marker": {
             "colorbar": {
              "outlinewidth": 0,
              "ticks": ""
             }
            },
            "type": "scatterpolargl"
           }
          ],
          "scatterternary": [
           {
            "marker": {
             "colorbar": {
              "outlinewidth": 0,
              "ticks": ""
             }
            },
            "type": "scatterternary"
           }
          ],
          "surface": [
           {
            "colorbar": {
             "outlinewidth": 0,
             "ticks": ""
            },
            "colorscale": [
             [
              0,
              "#0d0887"
             ],
             [
              0.1111111111111111,
              "#46039f"
             ],
             [
              0.2222222222222222,
              "#7201a8"
             ],
             [
              0.3333333333333333,
              "#9c179e"
             ],
             [
              0.4444444444444444,
              "#bd3786"
             ],
             [
              0.5555555555555556,
              "#d8576b"
             ],
             [
              0.6666666666666666,
              "#ed7953"
             ],
             [
              0.7777777777777778,
              "#fb9f3a"
             ],
             [
              0.8888888888888888,
              "#fdca26"
             ],
             [
              1,
              "#f0f921"
             ]
            ],
            "type": "surface"
           }
          ],
          "table": [
           {
            "cells": {
             "fill": {
              "color": "#EBF0F8"
             },
             "line": {
              "color": "white"
             }
            },
            "header": {
             "fill": {
              "color": "#C8D4E3"
             },
             "line": {
              "color": "white"
             }
            },
            "type": "table"
           }
          ]
         },
         "layout": {
          "annotationdefaults": {
           "arrowcolor": "#2a3f5f",
           "arrowhead": 0,
           "arrowwidth": 1
          },
          "autotypenumbers": "strict",
          "coloraxis": {
           "colorbar": {
            "outlinewidth": 0,
            "ticks": ""
           }
          },
          "colorscale": {
           "diverging": [
            [
             0,
             "#8e0152"
            ],
            [
             0.1,
             "#c51b7d"
            ],
            [
             0.2,
             "#de77ae"
            ],
            [
             0.3,
             "#f1b6da"
            ],
            [
             0.4,
             "#fde0ef"
            ],
            [
             0.5,
             "#f7f7f7"
            ],
            [
             0.6,
             "#e6f5d0"
            ],
            [
             0.7,
             "#b8e186"
            ],
            [
             0.8,
             "#7fbc41"
            ],
            [
             0.9,
             "#4d9221"
            ],
            [
             1,
             "#276419"
            ]
           ],
           "sequential": [
            [
             0,
             "#0d0887"
            ],
            [
             0.1111111111111111,
             "#46039f"
            ],
            [
             0.2222222222222222,
             "#7201a8"
            ],
            [
             0.3333333333333333,
             "#9c179e"
            ],
            [
             0.4444444444444444,
             "#bd3786"
            ],
            [
             0.5555555555555556,
             "#d8576b"
            ],
            [
             0.6666666666666666,
             "#ed7953"
            ],
            [
             0.7777777777777778,
             "#fb9f3a"
            ],
            [
             0.8888888888888888,
             "#fdca26"
            ],
            [
             1,
             "#f0f921"
            ]
           ],
           "sequentialminus": [
            [
             0,
             "#0d0887"
            ],
            [
             0.1111111111111111,
             "#46039f"
            ],
            [
             0.2222222222222222,
             "#7201a8"
            ],
            [
             0.3333333333333333,
             "#9c179e"
            ],
            [
             0.4444444444444444,
             "#bd3786"
            ],
            [
             0.5555555555555556,
             "#d8576b"
            ],
            [
             0.6666666666666666,
             "#ed7953"
            ],
            [
             0.7777777777777778,
             "#fb9f3a"
            ],
            [
             0.8888888888888888,
             "#fdca26"
            ],
            [
             1,
             "#f0f921"
            ]
           ]
          },
          "colorway": [
           "#636efa",
           "#EF553B",
           "#00cc96",
           "#ab63fa",
           "#FFA15A",
           "#19d3f3",
           "#FF6692",
           "#B6E880",
           "#FF97FF",
           "#FECB52"
          ],
          "font": {
           "color": "#2a3f5f"
          },
          "geo": {
           "bgcolor": "white",
           "lakecolor": "white",
           "landcolor": "#E5ECF6",
           "showlakes": true,
           "showland": true,
           "subunitcolor": "white"
          },
          "hoverlabel": {
           "align": "left"
          },
          "hovermode": "closest",
          "mapbox": {
           "style": "light"
          },
          "paper_bgcolor": "white",
          "plot_bgcolor": "#E5ECF6",
          "polar": {
           "angularaxis": {
            "gridcolor": "white",
            "linecolor": "white",
            "ticks": ""
           },
           "bgcolor": "#E5ECF6",
           "radialaxis": {
            "gridcolor": "white",
            "linecolor": "white",
            "ticks": ""
           }
          },
          "scene": {
           "xaxis": {
            "backgroundcolor": "#E5ECF6",
            "gridcolor": "white",
            "gridwidth": 2,
            "linecolor": "white",
            "showbackground": true,
            "ticks": "",
            "zerolinecolor": "white"
           },
           "yaxis": {
            "backgroundcolor": "#E5ECF6",
            "gridcolor": "white",
            "gridwidth": 2,
            "linecolor": "white",
            "showbackground": true,
            "ticks": "",
            "zerolinecolor": "white"
           },
           "zaxis": {
            "backgroundcolor": "#E5ECF6",
            "gridcolor": "white",
            "gridwidth": 2,
            "linecolor": "white",
            "showbackground": true,
            "ticks": "",
            "zerolinecolor": "white"
           }
          },
          "shapedefaults": {
           "line": {
            "color": "#2a3f5f"
           }
          },
          "ternary": {
           "aaxis": {
            "gridcolor": "white",
            "linecolor": "white",
            "ticks": ""
           },
           "baxis": {
            "gridcolor": "white",
            "linecolor": "white",
            "ticks": ""
           },
           "bgcolor": "#E5ECF6",
           "caxis": {
            "gridcolor": "white",
            "linecolor": "white",
            "ticks": ""
           }
          },
          "title": {
           "x": 0.05
          },
          "xaxis": {
           "automargin": true,
           "gridcolor": "white",
           "linecolor": "white",
           "ticks": "",
           "title": {
            "standoff": 15
           },
           "zerolinecolor": "white",
           "zerolinewidth": 2
          },
          "yaxis": {
           "automargin": true,
           "gridcolor": "white",
           "linecolor": "white",
           "ticks": "",
           "title": {
            "standoff": 15
           },
           "zerolinecolor": "white",
           "zerolinewidth": 2
          }
         }
        },
        "title": {
         "text": "Optimization History Plot"
        },
        "xaxis": {
         "title": {
          "text": "Trial"
         }
        },
        "yaxis": {
         "title": {
          "text": "Objective Value"
         }
        }
       }
      }
     },
     "metadata": {},
     "output_type": "display_data"
    }
   ],
   "source": [
    "optuna.visualization.plot_optimization_history(study)"
   ]
  },
  {
   "cell_type": "code",
   "execution_count": 8,
   "metadata": {},
   "outputs": [
    {
     "data": {
      "application/vnd.plotly.v1+json": {
       "config": {
        "plotlyServerURL": "https://plot.ly"
       },
       "data": [
        {
         "marker": {
          "color": [
           0,
           1,
           2,
           3,
           4,
           5,
           6,
           7,
           8,
           9,
           10,
           11,
           12,
           13,
           14,
           15,
           16,
           17,
           18,
           19,
           20,
           21,
           22,
           23,
           24,
           25,
           26,
           27,
           28,
           29,
           30,
           31,
           32,
           33,
           34,
           35,
           36,
           37,
           38,
           39,
           40,
           41,
           42,
           43,
           44,
           45,
           46,
           47,
           48,
           49,
           50,
           51,
           52,
           53,
           54,
           55,
           56,
           57,
           58,
           59,
           60,
           61,
           62,
           63,
           64,
           65,
           66,
           67,
           68,
           69,
           70,
           71,
           72,
           73,
           74,
           75,
           76,
           77,
           78,
           79,
           80,
           81,
           82,
           83,
           84,
           85,
           86,
           87,
           88,
           89,
           90,
           91,
           92,
           93,
           94,
           95,
           96,
           97,
           98,
           99,
           100,
           101,
           102,
           103,
           104,
           105,
           106,
           107,
           108,
           109,
           110,
           111,
           112,
           113,
           114,
           115,
           116,
           117,
           118,
           119,
           120,
           121,
           122,
           123,
           124,
           125,
           126,
           127,
           128,
           129,
           130,
           131,
           132,
           133,
           134,
           135,
           136,
           137,
           138,
           139,
           140,
           141,
           142,
           143,
           144,
           145,
           146,
           147,
           148,
           149
          ],
          "colorbar": {
           "title": {
            "text": "Trial"
           },
           "x": 1,
           "xpad": 40
          },
          "colorscale": [
           [
            0,
            "rgb(247,251,255)"
           ],
           [
            0.125,
            "rgb(222,235,247)"
           ],
           [
            0.25,
            "rgb(198,219,239)"
           ],
           [
            0.375,
            "rgb(158,202,225)"
           ],
           [
            0.5,
            "rgb(107,174,214)"
           ],
           [
            0.625,
            "rgb(66,146,198)"
           ],
           [
            0.75,
            "rgb(33,113,181)"
           ],
           [
            0.875,
            "rgb(8,81,156)"
           ],
           [
            1,
            "rgb(8,48,107)"
           ]
          ],
          "line": {
           "color": "Grey",
           "width": 0.5
          },
          "showscale": true
         },
         "mode": "markers",
         "showlegend": false,
         "type": "scatter",
         "x": [
          "sigmoid",
          "relu",
          "sigmoid",
          "sigmoid",
          "relu",
          "tanh",
          "sigmoid",
          "relu",
          "sigmoid",
          "tanh",
          "relu",
          "tanh",
          "tanh",
          "relu",
          "tanh",
          "tanh",
          "relu",
          "relu",
          "tanh",
          "tanh",
          "relu",
          "tanh",
          "tanh",
          "tanh",
          "tanh",
          "tanh",
          "relu",
          "tanh",
          "tanh",
          "relu",
          "sigmoid",
          "sigmoid",
          "sigmoid",
          "sigmoid",
          "sigmoid",
          "sigmoid",
          "sigmoid",
          "sigmoid",
          "sigmoid",
          "sigmoid",
          "sigmoid",
          "sigmoid",
          "sigmoid",
          "sigmoid",
          "sigmoid",
          "sigmoid",
          "sigmoid",
          "sigmoid",
          "sigmoid",
          "sigmoid",
          "sigmoid",
          "sigmoid",
          "sigmoid",
          "sigmoid",
          "sigmoid",
          "sigmoid",
          "sigmoid",
          "sigmoid",
          "sigmoid",
          "sigmoid",
          "sigmoid",
          "sigmoid",
          "sigmoid",
          "sigmoid",
          "sigmoid",
          "sigmoid",
          "sigmoid",
          "sigmoid",
          "sigmoid",
          "relu",
          "sigmoid",
          "relu",
          "relu",
          "relu",
          "relu",
          "relu",
          "sigmoid",
          "sigmoid",
          "relu",
          "sigmoid",
          "sigmoid",
          "sigmoid",
          "sigmoid",
          "sigmoid",
          "sigmoid",
          "sigmoid",
          "sigmoid",
          "sigmoid",
          "relu",
          "sigmoid",
          "sigmoid",
          "sigmoid",
          "sigmoid",
          "sigmoid",
          "sigmoid",
          "sigmoid",
          "sigmoid",
          "sigmoid",
          "sigmoid",
          "sigmoid",
          "sigmoid",
          "sigmoid",
          "sigmoid",
          "sigmoid",
          "sigmoid",
          "sigmoid",
          "tanh",
          "sigmoid",
          "sigmoid",
          "sigmoid",
          "sigmoid",
          "sigmoid",
          "sigmoid",
          "sigmoid",
          "sigmoid",
          "sigmoid",
          "sigmoid",
          "sigmoid",
          "sigmoid",
          "sigmoid",
          "tanh",
          "sigmoid",
          "sigmoid",
          "sigmoid",
          "sigmoid",
          "sigmoid",
          "sigmoid",
          "sigmoid",
          "sigmoid",
          "sigmoid",
          "sigmoid",
          "sigmoid",
          "sigmoid",
          "sigmoid",
          "sigmoid",
          "sigmoid",
          "sigmoid",
          "sigmoid",
          "sigmoid",
          "sigmoid",
          "sigmoid",
          "sigmoid",
          "sigmoid",
          "sigmoid",
          "sigmoid",
          "sigmoid",
          "sigmoid",
          "tanh",
          "sigmoid",
          "sigmoid"
         ],
         "xaxis": "x",
         "y": [
          0.24575841426849365,
          0.6202553510665894,
          0.22046668827533722,
          0.6901261210441589,
          0.2154790312051773,
          0.21790792047977448,
          0.6279371380805969,
          0.6516808271408081,
          0.344547837972641,
          0.6500706672668457,
          0.344547837972641,
          0.2162514626979828,
          0.21108092367649078,
          0.21279609203338623,
          0.2129603773355484,
          0.344547837972641,
          0.344547837972641,
          0.21394437551498413,
          0.344547837972641,
          0.344547837972641,
          0.21330556273460388,
          0.21584738790988922,
          0.21627020835876465,
          0.21449516713619232,
          0.2132558524608612,
          0.2127208709716797,
          0.2136133909225464,
          0.6041551828384399,
          0.21515531837940216,
          0.344547837972641,
          0.2115245908498764,
          0.2084178328514099,
          0.21029448509216309,
          0.21264339983463287,
          0.6090985536575317,
          0.20912139117717743,
          0.24596847593784332,
          0.344547837972641,
          0.6089057326316833,
          0.2469317466020584,
          0.6058604121208191,
          0.20584022998809814,
          0.2105138748884201,
          0.21244436502456665,
          0.21569521725177765,
          0.22281323373317719,
          0.20970764756202698,
          0.344547837972641,
          0.24611414968967438,
          0.6177918314933777,
          0.2131710797548294,
          0.20965172350406647,
          0.21227161586284637,
          0.2263471484184265,
          0.21194981038570404,
          0.2175508439540863,
          0.344547837972641,
          0.20932739973068237,
          0.217051163315773,
          0.24395735561847687,
          0.21084392070770264,
          0.21438108384609222,
          0.20839102566242218,
          0.2074023187160492,
          0.211875319480896,
          0.21211344003677368,
          0.20591211318969727,
          0.344547837972641,
          0.6087932586669922,
          0.20956037938594818,
          0.21198880672454834,
          0.6554521918296814,
          0.344547837972641,
          0.2143000215291977,
          0.344547837972641,
          0.6554521918296814,
          0.21078041195869446,
          0.21106217801570892,
          0.23068027198314667,
          0.6178409457206726,
          0.20957785844802856,
          0.21215954422950745,
          0.21598313748836517,
          0.20907825231552124,
          0.21258334815502167,
          0.21519765257835388,
          0.2115355283021927,
          0.2112792730331421,
          0.6554521918296814,
          0.20825500786304474,
          0.242228701710701,
          0.21134191751480103,
          0.20868027210235596,
          0.21551300585269928,
          0.21397000551223755,
          0.2139306217432022,
          0.6125741600990295,
          0.3445478081703186,
          0.344547837972641,
          0.20886017382144928,
          0.21557538211345673,
          0.21148677170276642,
          0.21208851039409637,
          0.21137084066867828,
          0.2088516354560852,
          0.20743107795715332,
          0.20967309176921844,
          0.2110397219657898,
          0.21615473926067352,
          0.2416149228811264,
          0.20767439901828766,
          0.210477814078331,
          0.21102195978164673,
          0.2119656354188919,
          0.344547837972641,
          0.2134852111339569,
          0.6120967864990234,
          0.2137426882982254,
          0.21163828670978546,
          0.21338562667369843,
          0.22583696246147156,
          0.2058408111333847,
          0.20836026966571808,
          0.21051479876041412,
          0.20724612474441528,
          0.20863060653209686,
          0.21612578630447388,
          0.20952340960502625,
          0.21629686653614044,
          0.2494613379240036,
          0.20732128620147705,
          0.20625723898410797,
          0.21368755400180817,
          0.2271881401538849,
          0.20855183899402618,
          0.20699083805084229,
          0.21051982045173645,
          0.6061258912086487,
          0.21289564669132233,
          0.20622310042381287,
          0.20904865860939026,
          0.21175576746463776,
          0.20944127440452576,
          0.21058782935142517,
          0.20864826440811157,
          0.344547837972641,
          0.21112105250358582,
          0.344547837972641,
          0.2078184187412262,
          0.20945768058300018
         ],
         "yaxis": "y"
        },
        {
         "marker": {
          "color": [
           0,
           1,
           2,
           3,
           4,
           5,
           6,
           7,
           8,
           9,
           10,
           11,
           12,
           13,
           14,
           15,
           16,
           17,
           18,
           19,
           20,
           21,
           22,
           23,
           24,
           25,
           26,
           27,
           28,
           29,
           30,
           31,
           32,
           33,
           34,
           35,
           36,
           37,
           38,
           39,
           40,
           41,
           42,
           43,
           44,
           45,
           46,
           47,
           48,
           49,
           50,
           51,
           52,
           53,
           54,
           55,
           56,
           57,
           58,
           59,
           60,
           61,
           62,
           63,
           64,
           65,
           66,
           67,
           68,
           69,
           70,
           71,
           72,
           73,
           74,
           75,
           76,
           77,
           78,
           79,
           80,
           81,
           82,
           83,
           84,
           85,
           86,
           87,
           88,
           89,
           90,
           91,
           92,
           93,
           94,
           95,
           96,
           97,
           98,
           99,
           100,
           101,
           102,
           103,
           104,
           105,
           106,
           107,
           108,
           109,
           110,
           111,
           112,
           113,
           114,
           115,
           116,
           117,
           118,
           119,
           120,
           121,
           122,
           123,
           124,
           125,
           126,
           127,
           128,
           129,
           130,
           131,
           132,
           133,
           134,
           135,
           136,
           137,
           138,
           139,
           140,
           141,
           142,
           143,
           144,
           145,
           146,
           147,
           148,
           149
          ],
          "colorbar": {
           "title": {
            "text": "Trial"
           },
           "x": 1,
           "xpad": 40
          },
          "colorscale": [
           [
            0,
            "rgb(247,251,255)"
           ],
           [
            0.125,
            "rgb(222,235,247)"
           ],
           [
            0.25,
            "rgb(198,219,239)"
           ],
           [
            0.375,
            "rgb(158,202,225)"
           ],
           [
            0.5,
            "rgb(107,174,214)"
           ],
           [
            0.625,
            "rgb(66,146,198)"
           ],
           [
            0.75,
            "rgb(33,113,181)"
           ],
           [
            0.875,
            "rgb(8,81,156)"
           ],
           [
            1,
            "rgb(8,48,107)"
           ]
          ],
          "line": {
           "color": "Grey",
           "width": 0.5
          },
          "showscale": false
         },
         "mode": "markers",
         "showlegend": false,
         "type": "scatter",
         "x": [
          0.0001,
          0.0001,
          0.0001,
          0.01,
          0.01,
          0.0001,
          0.0001,
          0.0001,
          0.0001,
          0.0001,
          0.01,
          0.01,
          0.01,
          0.01,
          0.01,
          0.01,
          0.01,
          0.01,
          0.01,
          0.01,
          0.01,
          0.01,
          0.01,
          0.01,
          0.01,
          0.01,
          0.01,
          0.01,
          0.01,
          0.01,
          0.01,
          0.01,
          0.01,
          0.01,
          0.01,
          0.01,
          0.01,
          0.0001,
          0.01,
          0.0001,
          0.01,
          0.01,
          0.01,
          0.01,
          0.0001,
          0.01,
          0.01,
          0.01,
          0.0001,
          0.01,
          0.01,
          0.01,
          0.01,
          0.01,
          0.01,
          0.01,
          0.01,
          0.01,
          0.0001,
          0.01,
          0.01,
          0.01,
          0.01,
          0.01,
          0.01,
          0.01,
          0.01,
          0.01,
          0.01,
          0.01,
          0.01,
          0.01,
          0.01,
          0.01,
          0.01,
          0.01,
          0.01,
          0.01,
          0.0001,
          0.01,
          0.01,
          0.01,
          0.01,
          0.01,
          0.01,
          0.01,
          0.01,
          0.01,
          0.01,
          0.01,
          0.0001,
          0.01,
          0.01,
          0.01,
          0.01,
          0.01,
          0.01,
          0.01,
          0.01,
          0.01,
          0.01,
          0.01,
          0.01,
          0.01,
          0.01,
          0.01,
          0.01,
          0.01,
          0.01,
          0.0001,
          0.01,
          0.01,
          0.01,
          0.01,
          0.01,
          0.01,
          0.01,
          0.01,
          0.01,
          0.01,
          0.01,
          0.01,
          0.01,
          0.01,
          0.01,
          0.01,
          0.01,
          0.01,
          0.01,
          0.0001,
          0.01,
          0.01,
          0.01,
          0.01,
          0.01,
          0.01,
          0.01,
          0.01,
          0.01,
          0.01,
          0.01,
          0.01,
          0.01,
          0.01,
          0.01,
          0.01,
          0.01,
          0.01,
          0.01,
          0.01
         ],
         "xaxis": "x2",
         "y": [
          0.24575841426849365,
          0.6202553510665894,
          0.22046668827533722,
          0.6901261210441589,
          0.2154790312051773,
          0.21790792047977448,
          0.6279371380805969,
          0.6516808271408081,
          0.344547837972641,
          0.6500706672668457,
          0.344547837972641,
          0.2162514626979828,
          0.21108092367649078,
          0.21279609203338623,
          0.2129603773355484,
          0.344547837972641,
          0.344547837972641,
          0.21394437551498413,
          0.344547837972641,
          0.344547837972641,
          0.21330556273460388,
          0.21584738790988922,
          0.21627020835876465,
          0.21449516713619232,
          0.2132558524608612,
          0.2127208709716797,
          0.2136133909225464,
          0.6041551828384399,
          0.21515531837940216,
          0.344547837972641,
          0.2115245908498764,
          0.2084178328514099,
          0.21029448509216309,
          0.21264339983463287,
          0.6090985536575317,
          0.20912139117717743,
          0.24596847593784332,
          0.344547837972641,
          0.6089057326316833,
          0.2469317466020584,
          0.6058604121208191,
          0.20584022998809814,
          0.2105138748884201,
          0.21244436502456665,
          0.21569521725177765,
          0.22281323373317719,
          0.20970764756202698,
          0.344547837972641,
          0.24611414968967438,
          0.6177918314933777,
          0.2131710797548294,
          0.20965172350406647,
          0.21227161586284637,
          0.2263471484184265,
          0.21194981038570404,
          0.2175508439540863,
          0.344547837972641,
          0.20932739973068237,
          0.217051163315773,
          0.24395735561847687,
          0.21084392070770264,
          0.21438108384609222,
          0.20839102566242218,
          0.2074023187160492,
          0.211875319480896,
          0.21211344003677368,
          0.20591211318969727,
          0.344547837972641,
          0.6087932586669922,
          0.20956037938594818,
          0.21198880672454834,
          0.6554521918296814,
          0.344547837972641,
          0.2143000215291977,
          0.344547837972641,
          0.6554521918296814,
          0.21078041195869446,
          0.21106217801570892,
          0.23068027198314667,
          0.6178409457206726,
          0.20957785844802856,
          0.21215954422950745,
          0.21598313748836517,
          0.20907825231552124,
          0.21258334815502167,
          0.21519765257835388,
          0.2115355283021927,
          0.2112792730331421,
          0.6554521918296814,
          0.20825500786304474,
          0.242228701710701,
          0.21134191751480103,
          0.20868027210235596,
          0.21551300585269928,
          0.21397000551223755,
          0.2139306217432022,
          0.6125741600990295,
          0.3445478081703186,
          0.344547837972641,
          0.20886017382144928,
          0.21557538211345673,
          0.21148677170276642,
          0.21208851039409637,
          0.21137084066867828,
          0.2088516354560852,
          0.20743107795715332,
          0.20967309176921844,
          0.2110397219657898,
          0.21615473926067352,
          0.2416149228811264,
          0.20767439901828766,
          0.210477814078331,
          0.21102195978164673,
          0.2119656354188919,
          0.344547837972641,
          0.2134852111339569,
          0.6120967864990234,
          0.2137426882982254,
          0.21163828670978546,
          0.21338562667369843,
          0.22583696246147156,
          0.2058408111333847,
          0.20836026966571808,
          0.21051479876041412,
          0.20724612474441528,
          0.20863060653209686,
          0.21612578630447388,
          0.20952340960502625,
          0.21629686653614044,
          0.2494613379240036,
          0.20732128620147705,
          0.20625723898410797,
          0.21368755400180817,
          0.2271881401538849,
          0.20855183899402618,
          0.20699083805084229,
          0.21051982045173645,
          0.6061258912086487,
          0.21289564669132233,
          0.20622310042381287,
          0.20904865860939026,
          0.21175576746463776,
          0.20944127440452576,
          0.21058782935142517,
          0.20864826440811157,
          0.344547837972641,
          0.21112105250358582,
          0.344547837972641,
          0.2078184187412262,
          0.20945768058300018
         ],
         "yaxis": "y2"
        },
        {
         "marker": {
          "color": [
           0,
           1,
           2,
           3,
           4,
           5,
           6,
           7,
           8,
           9,
           10,
           11,
           12,
           13,
           14,
           15,
           16,
           17,
           18,
           19,
           20,
           21,
           22,
           23,
           24,
           25,
           26,
           27,
           28,
           29,
           30,
           31,
           32,
           33,
           34,
           35,
           36,
           37,
           38,
           39,
           40,
           41,
           42,
           43,
           44,
           45,
           46,
           47,
           48,
           49,
           50,
           51,
           52,
           53,
           54,
           55,
           56,
           57,
           58,
           59,
           60,
           61,
           62,
           63,
           64,
           65,
           66,
           67,
           68,
           69,
           70,
           71,
           72,
           73,
           74,
           75,
           76,
           77,
           78,
           79,
           80,
           81,
           82,
           83,
           84,
           85,
           86,
           87,
           88,
           89,
           90,
           91,
           92,
           93,
           94,
           95,
           96,
           97,
           98,
           99,
           100,
           101,
           102,
           103,
           104,
           105,
           106,
           107,
           108,
           109,
           110,
           111,
           112,
           113,
           114,
           115,
           116,
           117,
           118,
           119,
           120,
           121,
           122,
           123,
           124,
           125,
           126,
           127,
           128,
           129,
           130,
           131,
           132,
           133,
           134,
           135,
           136,
           137,
           138,
           139,
           140,
           141,
           142,
           143,
           144,
           145,
           146,
           147,
           148,
           149
          ],
          "colorbar": {
           "title": {
            "text": "Trial"
           },
           "x": 1,
           "xpad": 40
          },
          "colorscale": [
           [
            0,
            "rgb(247,251,255)"
           ],
           [
            0.125,
            "rgb(222,235,247)"
           ],
           [
            0.25,
            "rgb(198,219,239)"
           ],
           [
            0.375,
            "rgb(158,202,225)"
           ],
           [
            0.5,
            "rgb(107,174,214)"
           ],
           [
            0.625,
            "rgb(66,146,198)"
           ],
           [
            0.75,
            "rgb(33,113,181)"
           ],
           [
            0.875,
            "rgb(8,81,156)"
           ],
           [
            1,
            "rgb(8,48,107)"
           ]
          ],
          "line": {
           "color": "Grey",
           "width": 0.5
          },
          "showscale": false
         },
         "mode": "markers",
         "showlegend": false,
         "type": "scatter",
         "x": [
          32,
          32,
          128,
          128,
          32,
          32,
          128,
          64,
          128,
          32,
          64,
          32,
          32,
          32,
          32,
          32,
          64,
          32,
          32,
          64,
          32,
          32,
          32,
          32,
          32,
          32,
          32,
          128,
          32,
          64,
          32,
          32,
          32,
          32,
          32,
          32,
          128,
          32,
          32,
          128,
          32,
          32,
          32,
          32,
          32,
          32,
          64,
          64,
          64,
          64,
          64,
          64,
          64,
          64,
          64,
          64,
          64,
          128,
          128,
          128,
          128,
          128,
          128,
          128,
          128,
          128,
          128,
          128,
          128,
          128,
          128,
          128,
          128,
          128,
          128,
          128,
          128,
          128,
          128,
          128,
          128,
          128,
          128,
          128,
          128,
          128,
          32,
          128,
          32,
          128,
          32,
          128,
          128,
          128,
          128,
          128,
          32,
          128,
          32,
          128,
          128,
          128,
          128,
          128,
          128,
          32,
          128,
          32,
          128,
          128,
          32,
          32,
          32,
          32,
          32,
          32,
          128,
          128,
          32,
          128,
          128,
          32,
          32,
          32,
          32,
          32,
          32,
          32,
          32,
          32,
          32,
          32,
          32,
          32,
          32,
          32,
          32,
          32,
          32,
          32,
          32,
          32,
          32,
          32,
          32,
          32,
          32,
          32,
          32,
          32
         ],
         "xaxis": "x3",
         "y": [
          0.24575841426849365,
          0.6202553510665894,
          0.22046668827533722,
          0.6901261210441589,
          0.2154790312051773,
          0.21790792047977448,
          0.6279371380805969,
          0.6516808271408081,
          0.344547837972641,
          0.6500706672668457,
          0.344547837972641,
          0.2162514626979828,
          0.21108092367649078,
          0.21279609203338623,
          0.2129603773355484,
          0.344547837972641,
          0.344547837972641,
          0.21394437551498413,
          0.344547837972641,
          0.344547837972641,
          0.21330556273460388,
          0.21584738790988922,
          0.21627020835876465,
          0.21449516713619232,
          0.2132558524608612,
          0.2127208709716797,
          0.2136133909225464,
          0.6041551828384399,
          0.21515531837940216,
          0.344547837972641,
          0.2115245908498764,
          0.2084178328514099,
          0.21029448509216309,
          0.21264339983463287,
          0.6090985536575317,
          0.20912139117717743,
          0.24596847593784332,
          0.344547837972641,
          0.6089057326316833,
          0.2469317466020584,
          0.6058604121208191,
          0.20584022998809814,
          0.2105138748884201,
          0.21244436502456665,
          0.21569521725177765,
          0.22281323373317719,
          0.20970764756202698,
          0.344547837972641,
          0.24611414968967438,
          0.6177918314933777,
          0.2131710797548294,
          0.20965172350406647,
          0.21227161586284637,
          0.2263471484184265,
          0.21194981038570404,
          0.2175508439540863,
          0.344547837972641,
          0.20932739973068237,
          0.217051163315773,
          0.24395735561847687,
          0.21084392070770264,
          0.21438108384609222,
          0.20839102566242218,
          0.2074023187160492,
          0.211875319480896,
          0.21211344003677368,
          0.20591211318969727,
          0.344547837972641,
          0.6087932586669922,
          0.20956037938594818,
          0.21198880672454834,
          0.6554521918296814,
          0.344547837972641,
          0.2143000215291977,
          0.344547837972641,
          0.6554521918296814,
          0.21078041195869446,
          0.21106217801570892,
          0.23068027198314667,
          0.6178409457206726,
          0.20957785844802856,
          0.21215954422950745,
          0.21598313748836517,
          0.20907825231552124,
          0.21258334815502167,
          0.21519765257835388,
          0.2115355283021927,
          0.2112792730331421,
          0.6554521918296814,
          0.20825500786304474,
          0.242228701710701,
          0.21134191751480103,
          0.20868027210235596,
          0.21551300585269928,
          0.21397000551223755,
          0.2139306217432022,
          0.6125741600990295,
          0.3445478081703186,
          0.344547837972641,
          0.20886017382144928,
          0.21557538211345673,
          0.21148677170276642,
          0.21208851039409637,
          0.21137084066867828,
          0.2088516354560852,
          0.20743107795715332,
          0.20967309176921844,
          0.2110397219657898,
          0.21615473926067352,
          0.2416149228811264,
          0.20767439901828766,
          0.210477814078331,
          0.21102195978164673,
          0.2119656354188919,
          0.344547837972641,
          0.2134852111339569,
          0.6120967864990234,
          0.2137426882982254,
          0.21163828670978546,
          0.21338562667369843,
          0.22583696246147156,
          0.2058408111333847,
          0.20836026966571808,
          0.21051479876041412,
          0.20724612474441528,
          0.20863060653209686,
          0.21612578630447388,
          0.20952340960502625,
          0.21629686653614044,
          0.2494613379240036,
          0.20732128620147705,
          0.20625723898410797,
          0.21368755400180817,
          0.2271881401538849,
          0.20855183899402618,
          0.20699083805084229,
          0.21051982045173645,
          0.6061258912086487,
          0.21289564669132233,
          0.20622310042381287,
          0.20904865860939026,
          0.21175576746463776,
          0.20944127440452576,
          0.21058782935142517,
          0.20864826440811157,
          0.344547837972641,
          0.21112105250358582,
          0.344547837972641,
          0.2078184187412262,
          0.20945768058300018
         ],
         "yaxis": "y3"
        },
        {
         "marker": {
          "color": [
           0,
           1,
           2,
           3,
           4,
           5,
           6,
           7,
           8,
           9,
           10,
           11,
           12,
           13,
           14,
           15,
           16,
           17,
           18,
           19,
           20,
           21,
           22,
           23,
           24,
           25,
           26,
           27,
           28,
           29,
           30,
           31,
           32,
           33,
           34,
           35,
           36,
           37,
           38,
           39,
           40,
           41,
           42,
           43,
           44,
           45,
           46,
           47,
           48,
           49,
           50,
           51,
           52,
           53,
           54,
           55,
           56,
           57,
           58,
           59,
           60,
           61,
           62,
           63,
           64,
           65,
           66,
           67,
           68,
           69,
           70,
           71,
           72,
           73,
           74,
           75,
           76,
           77,
           78,
           79,
           80,
           81,
           82,
           83,
           84,
           85,
           86,
           87,
           88,
           89,
           90,
           91,
           92,
           93,
           94,
           95,
           96,
           97,
           98,
           99,
           100,
           101,
           102,
           103,
           104,
           105,
           106,
           107,
           108,
           109,
           110,
           111,
           112,
           113,
           114,
           115,
           116,
           117,
           118,
           119,
           120,
           121,
           122,
           123,
           124,
           125,
           126,
           127,
           128,
           129,
           130,
           131,
           132,
           133,
           134,
           135,
           136,
           137,
           138,
           139,
           140,
           141,
           142,
           143,
           144,
           145,
           146,
           147,
           148,
           149
          ],
          "colorbar": {
           "title": {
            "text": "Trial"
           },
           "x": 1,
           "xpad": 40
          },
          "colorscale": [
           [
            0,
            "rgb(247,251,255)"
           ],
           [
            0.125,
            "rgb(222,235,247)"
           ],
           [
            0.25,
            "rgb(198,219,239)"
           ],
           [
            0.375,
            "rgb(158,202,225)"
           ],
           [
            0.5,
            "rgb(107,174,214)"
           ],
           [
            0.625,
            "rgb(66,146,198)"
           ],
           [
            0.75,
            "rgb(33,113,181)"
           ],
           [
            0.875,
            "rgb(8,81,156)"
           ],
           [
            1,
            "rgb(8,48,107)"
           ]
          ],
          "line": {
           "color": "Grey",
           "width": 0.5
          },
          "showscale": false
         },
         "mode": "markers",
         "showlegend": false,
         "type": "scatter",
         "x": [
          0.5,
          0.3,
          0.02,
          0.3,
          0.3,
          0.3,
          0.5,
          0.3,
          0.02,
          0.5,
          0.3,
          0.3,
          0.3,
          0.3,
          0.3,
          0.02,
          0.3,
          0.3,
          0.5,
          0.02,
          0.3,
          0.3,
          0.3,
          0.3,
          0.3,
          0.3,
          0.3,
          0.5,
          0.3,
          0.02,
          0.5,
          0.5,
          0.5,
          0.5,
          0.5,
          0.5,
          0.5,
          0.5,
          0.5,
          0.5,
          0.5,
          0.5,
          0.5,
          0.5,
          0.5,
          0.5,
          0.5,
          0.5,
          0.5,
          0.5,
          0.5,
          0.5,
          0.5,
          0.5,
          0.5,
          0.02,
          0.5,
          0.5,
          0.5,
          0.5,
          0.02,
          0.5,
          0.5,
          0.5,
          0.5,
          0.5,
          0.5,
          0.5,
          0.5,
          0.02,
          0.5,
          0.02,
          0.02,
          0.02,
          0.02,
          0.02,
          0.5,
          0.5,
          0.5,
          0.5,
          0.5,
          0.5,
          0.5,
          0.5,
          0.5,
          0.5,
          0.5,
          0.02,
          0.5,
          0.5,
          0.5,
          0.5,
          0.5,
          0.5,
          0.5,
          0.5,
          0.5,
          0.5,
          0.5,
          0.5,
          0.5,
          0.5,
          0.5,
          0.5,
          0.5,
          0.5,
          0.5,
          0.5,
          0.5,
          0.3,
          0.5,
          0.5,
          0.5,
          0.5,
          0.5,
          0.5,
          0.5,
          0.5,
          0.5,
          0.5,
          0.5,
          0.5,
          0.5,
          0.5,
          0.5,
          0.5,
          0.5,
          0.5,
          0.5,
          0.5,
          0.3,
          0.3,
          0.3,
          0.3,
          0.3,
          0.3,
          0.3,
          0.3,
          0.3,
          0.3,
          0.3,
          0.3,
          0.3,
          0.3,
          0.3,
          0.3,
          0.3,
          0.3,
          0.3,
          0.3
         ],
         "xaxis": "x4",
         "y": [
          0.24575841426849365,
          0.6202553510665894,
          0.22046668827533722,
          0.6901261210441589,
          0.2154790312051773,
          0.21790792047977448,
          0.6279371380805969,
          0.6516808271408081,
          0.344547837972641,
          0.6500706672668457,
          0.344547837972641,
          0.2162514626979828,
          0.21108092367649078,
          0.21279609203338623,
          0.2129603773355484,
          0.344547837972641,
          0.344547837972641,
          0.21394437551498413,
          0.344547837972641,
          0.344547837972641,
          0.21330556273460388,
          0.21584738790988922,
          0.21627020835876465,
          0.21449516713619232,
          0.2132558524608612,
          0.2127208709716797,
          0.2136133909225464,
          0.6041551828384399,
          0.21515531837940216,
          0.344547837972641,
          0.2115245908498764,
          0.2084178328514099,
          0.21029448509216309,
          0.21264339983463287,
          0.6090985536575317,
          0.20912139117717743,
          0.24596847593784332,
          0.344547837972641,
          0.6089057326316833,
          0.2469317466020584,
          0.6058604121208191,
          0.20584022998809814,
          0.2105138748884201,
          0.21244436502456665,
          0.21569521725177765,
          0.22281323373317719,
          0.20970764756202698,
          0.344547837972641,
          0.24611414968967438,
          0.6177918314933777,
          0.2131710797548294,
          0.20965172350406647,
          0.21227161586284637,
          0.2263471484184265,
          0.21194981038570404,
          0.2175508439540863,
          0.344547837972641,
          0.20932739973068237,
          0.217051163315773,
          0.24395735561847687,
          0.21084392070770264,
          0.21438108384609222,
          0.20839102566242218,
          0.2074023187160492,
          0.211875319480896,
          0.21211344003677368,
          0.20591211318969727,
          0.344547837972641,
          0.6087932586669922,
          0.20956037938594818,
          0.21198880672454834,
          0.6554521918296814,
          0.344547837972641,
          0.2143000215291977,
          0.344547837972641,
          0.6554521918296814,
          0.21078041195869446,
          0.21106217801570892,
          0.23068027198314667,
          0.6178409457206726,
          0.20957785844802856,
          0.21215954422950745,
          0.21598313748836517,
          0.20907825231552124,
          0.21258334815502167,
          0.21519765257835388,
          0.2115355283021927,
          0.2112792730331421,
          0.6554521918296814,
          0.20825500786304474,
          0.242228701710701,
          0.21134191751480103,
          0.20868027210235596,
          0.21551300585269928,
          0.21397000551223755,
          0.2139306217432022,
          0.6125741600990295,
          0.3445478081703186,
          0.344547837972641,
          0.20886017382144928,
          0.21557538211345673,
          0.21148677170276642,
          0.21208851039409637,
          0.21137084066867828,
          0.2088516354560852,
          0.20743107795715332,
          0.20967309176921844,
          0.2110397219657898,
          0.21615473926067352,
          0.2416149228811264,
          0.20767439901828766,
          0.210477814078331,
          0.21102195978164673,
          0.2119656354188919,
          0.344547837972641,
          0.2134852111339569,
          0.6120967864990234,
          0.2137426882982254,
          0.21163828670978546,
          0.21338562667369843,
          0.22583696246147156,
          0.2058408111333847,
          0.20836026966571808,
          0.21051479876041412,
          0.20724612474441528,
          0.20863060653209686,
          0.21612578630447388,
          0.20952340960502625,
          0.21629686653614044,
          0.2494613379240036,
          0.20732128620147705,
          0.20625723898410797,
          0.21368755400180817,
          0.2271881401538849,
          0.20855183899402618,
          0.20699083805084229,
          0.21051982045173645,
          0.6061258912086487,
          0.21289564669132233,
          0.20622310042381287,
          0.20904865860939026,
          0.21175576746463776,
          0.20944127440452576,
          0.21058782935142517,
          0.20864826440811157,
          0.344547837972641,
          0.21112105250358582,
          0.344547837972641,
          0.2078184187412262,
          0.20945768058300018
         ],
         "yaxis": "y4"
        },
        {
         "marker": {
          "color": [
           0,
           1,
           2,
           3,
           4,
           5,
           6,
           7,
           8,
           9,
           10,
           11,
           12,
           13,
           14,
           15,
           16,
           17,
           18,
           19,
           20,
           21,
           22,
           23,
           24,
           25,
           26,
           27,
           28,
           29,
           30,
           31,
           32,
           33,
           34,
           35,
           36,
           37,
           38,
           39,
           40,
           41,
           42,
           43,
           44,
           45,
           46,
           47,
           48,
           49,
           50,
           51,
           52,
           53,
           54,
           55,
           56,
           57,
           58,
           59,
           60,
           61,
           62,
           63,
           64,
           65,
           66,
           67,
           68,
           69,
           70,
           71,
           72,
           73,
           74,
           75,
           76,
           77,
           78,
           79,
           80,
           81,
           82,
           83,
           84,
           85,
           86,
           87,
           88,
           89,
           90,
           91,
           92,
           93,
           94,
           95,
           96,
           97,
           98,
           99,
           100,
           101,
           102,
           103,
           104,
           105,
           106,
           107,
           108,
           109,
           110,
           111,
           112,
           113,
           114,
           115,
           116,
           117,
           118,
           119,
           120,
           121,
           122,
           123,
           124,
           125,
           126,
           127,
           128,
           129,
           130,
           131,
           132,
           133,
           134,
           135,
           136,
           137,
           138,
           139,
           140,
           141,
           142,
           143,
           144,
           145,
           146,
           147,
           148,
           149
          ],
          "colorbar": {
           "title": {
            "text": "Trial"
           },
           "x": 1,
           "xpad": 40
          },
          "colorscale": [
           [
            0,
            "rgb(247,251,255)"
           ],
           [
            0.125,
            "rgb(222,235,247)"
           ],
           [
            0.25,
            "rgb(198,219,239)"
           ],
           [
            0.375,
            "rgb(158,202,225)"
           ],
           [
            0.5,
            "rgb(107,174,214)"
           ],
           [
            0.625,
            "rgb(66,146,198)"
           ],
           [
            0.75,
            "rgb(33,113,181)"
           ],
           [
            0.875,
            "rgb(8,81,156)"
           ],
           [
            1,
            "rgb(8,48,107)"
           ]
          ],
          "line": {
           "color": "Grey",
           "width": 0.5
          },
          "showscale": false
         },
         "mode": "markers",
         "showlegend": false,
         "type": "scatter",
         "x": [
          256,
          128,
          128,
          32,
          32,
          32,
          128,
          256,
          128,
          32,
          32,
          32,
          32,
          32,
          32,
          32,
          256,
          32,
          32,
          256,
          32,
          32,
          32,
          32,
          32,
          32,
          32,
          128,
          32,
          256,
          256,
          256,
          256,
          256,
          256,
          256,
          256,
          256,
          256,
          256,
          256,
          256,
          256,
          256,
          256,
          256,
          256,
          128,
          256,
          256,
          256,
          256,
          256,
          256,
          256,
          128,
          256,
          256,
          256,
          256,
          256,
          256,
          256,
          256,
          256,
          128,
          256,
          256,
          256,
          256,
          256,
          256,
          256,
          256,
          256,
          256,
          128,
          256,
          256,
          256,
          256,
          256,
          256,
          256,
          256,
          256,
          256,
          256,
          256,
          256,
          128,
          256,
          256,
          256,
          256,
          256,
          256,
          256,
          256,
          256,
          256,
          256,
          256,
          256,
          256,
          256,
          256,
          256,
          32,
          256,
          256,
          256,
          256,
          256,
          256,
          256,
          128,
          256,
          256,
          256,
          256,
          256,
          256,
          256,
          256,
          256,
          256,
          256,
          32,
          256,
          256,
          256,
          256,
          256,
          256,
          256,
          256,
          256,
          128,
          256,
          256,
          256,
          256,
          256,
          256,
          256,
          256,
          256,
          256,
          256
         ],
         "xaxis": "x5",
         "y": [
          0.24575841426849365,
          0.6202553510665894,
          0.22046668827533722,
          0.6901261210441589,
          0.2154790312051773,
          0.21790792047977448,
          0.6279371380805969,
          0.6516808271408081,
          0.344547837972641,
          0.6500706672668457,
          0.344547837972641,
          0.2162514626979828,
          0.21108092367649078,
          0.21279609203338623,
          0.2129603773355484,
          0.344547837972641,
          0.344547837972641,
          0.21394437551498413,
          0.344547837972641,
          0.344547837972641,
          0.21330556273460388,
          0.21584738790988922,
          0.21627020835876465,
          0.21449516713619232,
          0.2132558524608612,
          0.2127208709716797,
          0.2136133909225464,
          0.6041551828384399,
          0.21515531837940216,
          0.344547837972641,
          0.2115245908498764,
          0.2084178328514099,
          0.21029448509216309,
          0.21264339983463287,
          0.6090985536575317,
          0.20912139117717743,
          0.24596847593784332,
          0.344547837972641,
          0.6089057326316833,
          0.2469317466020584,
          0.6058604121208191,
          0.20584022998809814,
          0.2105138748884201,
          0.21244436502456665,
          0.21569521725177765,
          0.22281323373317719,
          0.20970764756202698,
          0.344547837972641,
          0.24611414968967438,
          0.6177918314933777,
          0.2131710797548294,
          0.20965172350406647,
          0.21227161586284637,
          0.2263471484184265,
          0.21194981038570404,
          0.2175508439540863,
          0.344547837972641,
          0.20932739973068237,
          0.217051163315773,
          0.24395735561847687,
          0.21084392070770264,
          0.21438108384609222,
          0.20839102566242218,
          0.2074023187160492,
          0.211875319480896,
          0.21211344003677368,
          0.20591211318969727,
          0.344547837972641,
          0.6087932586669922,
          0.20956037938594818,
          0.21198880672454834,
          0.6554521918296814,
          0.344547837972641,
          0.2143000215291977,
          0.344547837972641,
          0.6554521918296814,
          0.21078041195869446,
          0.21106217801570892,
          0.23068027198314667,
          0.6178409457206726,
          0.20957785844802856,
          0.21215954422950745,
          0.21598313748836517,
          0.20907825231552124,
          0.21258334815502167,
          0.21519765257835388,
          0.2115355283021927,
          0.2112792730331421,
          0.6554521918296814,
          0.20825500786304474,
          0.242228701710701,
          0.21134191751480103,
          0.20868027210235596,
          0.21551300585269928,
          0.21397000551223755,
          0.2139306217432022,
          0.6125741600990295,
          0.3445478081703186,
          0.344547837972641,
          0.20886017382144928,
          0.21557538211345673,
          0.21148677170276642,
          0.21208851039409637,
          0.21137084066867828,
          0.2088516354560852,
          0.20743107795715332,
          0.20967309176921844,
          0.2110397219657898,
          0.21615473926067352,
          0.2416149228811264,
          0.20767439901828766,
          0.210477814078331,
          0.21102195978164673,
          0.2119656354188919,
          0.344547837972641,
          0.2134852111339569,
          0.6120967864990234,
          0.2137426882982254,
          0.21163828670978546,
          0.21338562667369843,
          0.22583696246147156,
          0.2058408111333847,
          0.20836026966571808,
          0.21051479876041412,
          0.20724612474441528,
          0.20863060653209686,
          0.21612578630447388,
          0.20952340960502625,
          0.21629686653614044,
          0.2494613379240036,
          0.20732128620147705,
          0.20625723898410797,
          0.21368755400180817,
          0.2271881401538849,
          0.20855183899402618,
          0.20699083805084229,
          0.21051982045173645,
          0.6061258912086487,
          0.21289564669132233,
          0.20622310042381287,
          0.20904865860939026,
          0.21175576746463776,
          0.20944127440452576,
          0.21058782935142517,
          0.20864826440811157,
          0.344547837972641,
          0.21112105250358582,
          0.344547837972641,
          0.2078184187412262,
          0.20945768058300018
         ],
         "yaxis": "y5"
        },
        {
         "marker": {
          "color": [
           0,
           1,
           2,
           3,
           4,
           5,
           6,
           7,
           8,
           9,
           10,
           11,
           12,
           13,
           14,
           15,
           16,
           17,
           18,
           19,
           20,
           21,
           22,
           23,
           24,
           25,
           26,
           27,
           28,
           29,
           30,
           31,
           32,
           33,
           34,
           35,
           36,
           37,
           38,
           39,
           40,
           41,
           42,
           43,
           44,
           45,
           46,
           47,
           48,
           49,
           50,
           51,
           52,
           53,
           54,
           55,
           56,
           57,
           58,
           59,
           60,
           61,
           62,
           63,
           64,
           65,
           66,
           67,
           68,
           69,
           70,
           71,
           72,
           73,
           74,
           75,
           76,
           77,
           78,
           79,
           80,
           81,
           82,
           83,
           84,
           85,
           86,
           87,
           88,
           89,
           90,
           91,
           92,
           93,
           94,
           95,
           96,
           97,
           98,
           99,
           100,
           101,
           102,
           103,
           104,
           105,
           106,
           107,
           108,
           109,
           110,
           111,
           112,
           113,
           114,
           115,
           116,
           117,
           118,
           119,
           120,
           121,
           122,
           123,
           124,
           125,
           126,
           127,
           128,
           129,
           130,
           131,
           132,
           133,
           134,
           135,
           136,
           137,
           138,
           139,
           140,
           141,
           142,
           143,
           144,
           145,
           146,
           147,
           148,
           149
          ],
          "colorbar": {
           "title": {
            "text": "Trial"
           },
           "x": 1,
           "xpad": 40
          },
          "colorscale": [
           [
            0,
            "rgb(247,251,255)"
           ],
           [
            0.125,
            "rgb(222,235,247)"
           ],
           [
            0.25,
            "rgb(198,219,239)"
           ],
           [
            0.375,
            "rgb(158,202,225)"
           ],
           [
            0.5,
            "rgb(107,174,214)"
           ],
           [
            0.625,
            "rgb(66,146,198)"
           ],
           [
            0.75,
            "rgb(33,113,181)"
           ],
           [
            0.875,
            "rgb(8,81,156)"
           ],
           [
            1,
            "rgb(8,48,107)"
           ]
          ],
          "line": {
           "color": "Grey",
           "width": 0.5
          },
          "showscale": false
         },
         "mode": "markers",
         "showlegend": false,
         "type": "scatter",
         "x": [
          1,
          2,
          2,
          2,
          1,
          2,
          2,
          1,
          1,
          1,
          1,
          2,
          1,
          1,
          1,
          1,
          1,
          1,
          1,
          1,
          1,
          1,
          1,
          1,
          1,
          1,
          1,
          1,
          1,
          1,
          1,
          1,
          1,
          1,
          2,
          1,
          1,
          2,
          1,
          2,
          1,
          1,
          1,
          1,
          1,
          1,
          1,
          1,
          1,
          2,
          1,
          1,
          1,
          1,
          1,
          1,
          1,
          1,
          1,
          1,
          1,
          1,
          1,
          1,
          1,
          1,
          1,
          1,
          1,
          1,
          1,
          1,
          1,
          1,
          1,
          1,
          1,
          1,
          1,
          1,
          1,
          1,
          1,
          1,
          1,
          1,
          1,
          1,
          1,
          1,
          1,
          1,
          1,
          1,
          1,
          1,
          2,
          1,
          1,
          1,
          1,
          1,
          1,
          1,
          1,
          1,
          1,
          1,
          1,
          1,
          1,
          1,
          1,
          1,
          1,
          1,
          1,
          1,
          1,
          1,
          1,
          1,
          1,
          1,
          1,
          1,
          1,
          1,
          1,
          1,
          1,
          1,
          1,
          1,
          1,
          1,
          1,
          2,
          1,
          1,
          1,
          1,
          1,
          1,
          1,
          1,
          1,
          1,
          1,
          1
         ],
         "xaxis": "x6",
         "y": [
          0.24575841426849365,
          0.6202553510665894,
          0.22046668827533722,
          0.6901261210441589,
          0.2154790312051773,
          0.21790792047977448,
          0.6279371380805969,
          0.6516808271408081,
          0.344547837972641,
          0.6500706672668457,
          0.344547837972641,
          0.2162514626979828,
          0.21108092367649078,
          0.21279609203338623,
          0.2129603773355484,
          0.344547837972641,
          0.344547837972641,
          0.21394437551498413,
          0.344547837972641,
          0.344547837972641,
          0.21330556273460388,
          0.21584738790988922,
          0.21627020835876465,
          0.21449516713619232,
          0.2132558524608612,
          0.2127208709716797,
          0.2136133909225464,
          0.6041551828384399,
          0.21515531837940216,
          0.344547837972641,
          0.2115245908498764,
          0.2084178328514099,
          0.21029448509216309,
          0.21264339983463287,
          0.6090985536575317,
          0.20912139117717743,
          0.24596847593784332,
          0.344547837972641,
          0.6089057326316833,
          0.2469317466020584,
          0.6058604121208191,
          0.20584022998809814,
          0.2105138748884201,
          0.21244436502456665,
          0.21569521725177765,
          0.22281323373317719,
          0.20970764756202698,
          0.344547837972641,
          0.24611414968967438,
          0.6177918314933777,
          0.2131710797548294,
          0.20965172350406647,
          0.21227161586284637,
          0.2263471484184265,
          0.21194981038570404,
          0.2175508439540863,
          0.344547837972641,
          0.20932739973068237,
          0.217051163315773,
          0.24395735561847687,
          0.21084392070770264,
          0.21438108384609222,
          0.20839102566242218,
          0.2074023187160492,
          0.211875319480896,
          0.21211344003677368,
          0.20591211318969727,
          0.344547837972641,
          0.6087932586669922,
          0.20956037938594818,
          0.21198880672454834,
          0.6554521918296814,
          0.344547837972641,
          0.2143000215291977,
          0.344547837972641,
          0.6554521918296814,
          0.21078041195869446,
          0.21106217801570892,
          0.23068027198314667,
          0.6178409457206726,
          0.20957785844802856,
          0.21215954422950745,
          0.21598313748836517,
          0.20907825231552124,
          0.21258334815502167,
          0.21519765257835388,
          0.2115355283021927,
          0.2112792730331421,
          0.6554521918296814,
          0.20825500786304474,
          0.242228701710701,
          0.21134191751480103,
          0.20868027210235596,
          0.21551300585269928,
          0.21397000551223755,
          0.2139306217432022,
          0.6125741600990295,
          0.3445478081703186,
          0.344547837972641,
          0.20886017382144928,
          0.21557538211345673,
          0.21148677170276642,
          0.21208851039409637,
          0.21137084066867828,
          0.2088516354560852,
          0.20743107795715332,
          0.20967309176921844,
          0.2110397219657898,
          0.21615473926067352,
          0.2416149228811264,
          0.20767439901828766,
          0.210477814078331,
          0.21102195978164673,
          0.2119656354188919,
          0.344547837972641,
          0.2134852111339569,
          0.6120967864990234,
          0.2137426882982254,
          0.21163828670978546,
          0.21338562667369843,
          0.22583696246147156,
          0.2058408111333847,
          0.20836026966571808,
          0.21051479876041412,
          0.20724612474441528,
          0.20863060653209686,
          0.21612578630447388,
          0.20952340960502625,
          0.21629686653614044,
          0.2494613379240036,
          0.20732128620147705,
          0.20625723898410797,
          0.21368755400180817,
          0.2271881401538849,
          0.20855183899402618,
          0.20699083805084229,
          0.21051982045173645,
          0.6061258912086487,
          0.21289564669132233,
          0.20622310042381287,
          0.20904865860939026,
          0.21175576746463776,
          0.20944127440452576,
          0.21058782935142517,
          0.20864826440811157,
          0.344547837972641,
          0.21112105250358582,
          0.344547837972641,
          0.2078184187412262,
          0.20945768058300018
         ],
         "yaxis": "y6"
        },
        {
         "marker": {
          "color": [
           0,
           1,
           2,
           3,
           4,
           5,
           6,
           7,
           8,
           9,
           10,
           11,
           12,
           13,
           14,
           15,
           16,
           17,
           18,
           19,
           20,
           21,
           22,
           23,
           24,
           25,
           26,
           27,
           28,
           29,
           30,
           31,
           32,
           33,
           34,
           35,
           36,
           37,
           38,
           39,
           40,
           41,
           42,
           43,
           44,
           45,
           46,
           47,
           48,
           49,
           50,
           51,
           52,
           53,
           54,
           55,
           56,
           57,
           58,
           59,
           60,
           61,
           62,
           63,
           64,
           65,
           66,
           67,
           68,
           69,
           70,
           71,
           72,
           73,
           74,
           75,
           76,
           77,
           78,
           79,
           80,
           81,
           82,
           83,
           84,
           85,
           86,
           87,
           88,
           89,
           90,
           91,
           92,
           93,
           94,
           95,
           96,
           97,
           98,
           99,
           100,
           101,
           102,
           103,
           104,
           105,
           106,
           107,
           108,
           109,
           110,
           111,
           112,
           113,
           114,
           115,
           116,
           117,
           118,
           119,
           120,
           121,
           122,
           123,
           124,
           125,
           126,
           127,
           128,
           129,
           130,
           131,
           132,
           133,
           134,
           135,
           136,
           137,
           138,
           139,
           140,
           141,
           142,
           143,
           144,
           145,
           146,
           147,
           148,
           149
          ],
          "colorbar": {
           "title": {
            "text": "Trial"
           },
           "x": 1,
           "xpad": 40
          },
          "colorscale": [
           [
            0,
            "rgb(247,251,255)"
           ],
           [
            0.125,
            "rgb(222,235,247)"
           ],
           [
            0.25,
            "rgb(198,219,239)"
           ],
           [
            0.375,
            "rgb(158,202,225)"
           ],
           [
            0.5,
            "rgb(107,174,214)"
           ],
           [
            0.625,
            "rgb(66,146,198)"
           ],
           [
            0.75,
            "rgb(33,113,181)"
           ],
           [
            0.875,
            "rgb(8,81,156)"
           ],
           [
            1,
            "rgb(8,48,107)"
           ]
          ],
          "line": {
           "color": "Grey",
           "width": 0.5
          },
          "showscale": false
         },
         "mode": "markers",
         "showlegend": false,
         "type": "scatter",
         "x": [
          "mse",
          "binary_crossentropy",
          "mse",
          "binary_crossentropy",
          "mse",
          "mse",
          "binary_crossentropy",
          "binary_crossentropy",
          "mse",
          "binary_crossentropy",
          "mse",
          "mse",
          "mse",
          "mse",
          "mse",
          "mse",
          "mse",
          "mse",
          "mse",
          "mse",
          "mse",
          "mse",
          "mse",
          "mse",
          "mse",
          "mse",
          "mse",
          "binary_crossentropy",
          "mse",
          "mse",
          "mse",
          "mse",
          "mse",
          "mse",
          "binary_crossentropy",
          "mse",
          "mse",
          "mse",
          "binary_crossentropy",
          "mse",
          "binary_crossentropy",
          "mse",
          "mse",
          "mse",
          "mse",
          "mse",
          "mse",
          "mse",
          "mse",
          "binary_crossentropy",
          "mse",
          "mse",
          "mse",
          "mse",
          "mse",
          "mse",
          "mse",
          "mse",
          "mse",
          "mse",
          "mse",
          "mse",
          "mse",
          "mse",
          "mse",
          "mse",
          "mse",
          "mse",
          "binary_crossentropy",
          "mse",
          "mse",
          "mse",
          "mse",
          "mse",
          "mse",
          "mse",
          "mse",
          "mse",
          "mse",
          "binary_crossentropy",
          "mse",
          "mse",
          "mse",
          "mse",
          "mse",
          "mse",
          "mse",
          "mse",
          "mse",
          "mse",
          "mse",
          "mse",
          "mse",
          "mse",
          "mse",
          "mse",
          "binary_crossentropy",
          "mse",
          "mse",
          "mse",
          "mse",
          "mse",
          "mse",
          "mse",
          "mse",
          "mse",
          "mse",
          "mse",
          "mse",
          "mse",
          "mse",
          "mse",
          "mse",
          "mse",
          "mse",
          "mse",
          "binary_crossentropy",
          "mse",
          "mse",
          "mse",
          "mse",
          "mse",
          "mse",
          "mse",
          "mse",
          "mse",
          "mse",
          "mse",
          "mse",
          "mse",
          "mse",
          "mse",
          "mse",
          "mse",
          "mse",
          "mse",
          "mse",
          "binary_crossentropy",
          "mse",
          "mse",
          "mse",
          "mse",
          "mse",
          "mse",
          "mse",
          "mse",
          "mse",
          "mse",
          "mse",
          "mse"
         ],
         "xaxis": "x7",
         "y": [
          0.24575841426849365,
          0.6202553510665894,
          0.22046668827533722,
          0.6901261210441589,
          0.2154790312051773,
          0.21790792047977448,
          0.6279371380805969,
          0.6516808271408081,
          0.344547837972641,
          0.6500706672668457,
          0.344547837972641,
          0.2162514626979828,
          0.21108092367649078,
          0.21279609203338623,
          0.2129603773355484,
          0.344547837972641,
          0.344547837972641,
          0.21394437551498413,
          0.344547837972641,
          0.344547837972641,
          0.21330556273460388,
          0.21584738790988922,
          0.21627020835876465,
          0.21449516713619232,
          0.2132558524608612,
          0.2127208709716797,
          0.2136133909225464,
          0.6041551828384399,
          0.21515531837940216,
          0.344547837972641,
          0.2115245908498764,
          0.2084178328514099,
          0.21029448509216309,
          0.21264339983463287,
          0.6090985536575317,
          0.20912139117717743,
          0.24596847593784332,
          0.344547837972641,
          0.6089057326316833,
          0.2469317466020584,
          0.6058604121208191,
          0.20584022998809814,
          0.2105138748884201,
          0.21244436502456665,
          0.21569521725177765,
          0.22281323373317719,
          0.20970764756202698,
          0.344547837972641,
          0.24611414968967438,
          0.6177918314933777,
          0.2131710797548294,
          0.20965172350406647,
          0.21227161586284637,
          0.2263471484184265,
          0.21194981038570404,
          0.2175508439540863,
          0.344547837972641,
          0.20932739973068237,
          0.217051163315773,
          0.24395735561847687,
          0.21084392070770264,
          0.21438108384609222,
          0.20839102566242218,
          0.2074023187160492,
          0.211875319480896,
          0.21211344003677368,
          0.20591211318969727,
          0.344547837972641,
          0.6087932586669922,
          0.20956037938594818,
          0.21198880672454834,
          0.6554521918296814,
          0.344547837972641,
          0.2143000215291977,
          0.344547837972641,
          0.6554521918296814,
          0.21078041195869446,
          0.21106217801570892,
          0.23068027198314667,
          0.6178409457206726,
          0.20957785844802856,
          0.21215954422950745,
          0.21598313748836517,
          0.20907825231552124,
          0.21258334815502167,
          0.21519765257835388,
          0.2115355283021927,
          0.2112792730331421,
          0.6554521918296814,
          0.20825500786304474,
          0.242228701710701,
          0.21134191751480103,
          0.20868027210235596,
          0.21551300585269928,
          0.21397000551223755,
          0.2139306217432022,
          0.6125741600990295,
          0.3445478081703186,
          0.344547837972641,
          0.20886017382144928,
          0.21557538211345673,
          0.21148677170276642,
          0.21208851039409637,
          0.21137084066867828,
          0.2088516354560852,
          0.20743107795715332,
          0.20967309176921844,
          0.2110397219657898,
          0.21615473926067352,
          0.2416149228811264,
          0.20767439901828766,
          0.210477814078331,
          0.21102195978164673,
          0.2119656354188919,
          0.344547837972641,
          0.2134852111339569,
          0.6120967864990234,
          0.2137426882982254,
          0.21163828670978546,
          0.21338562667369843,
          0.22583696246147156,
          0.2058408111333847,
          0.20836026966571808,
          0.21051479876041412,
          0.20724612474441528,
          0.20863060653209686,
          0.21612578630447388,
          0.20952340960502625,
          0.21629686653614044,
          0.2494613379240036,
          0.20732128620147705,
          0.20625723898410797,
          0.21368755400180817,
          0.2271881401538849,
          0.20855183899402618,
          0.20699083805084229,
          0.21051982045173645,
          0.6061258912086487,
          0.21289564669132233,
          0.20622310042381287,
          0.20904865860939026,
          0.21175576746463776,
          0.20944127440452576,
          0.21058782935142517,
          0.20864826440811157,
          0.344547837972641,
          0.21112105250358582,
          0.344547837972641,
          0.2078184187412262,
          0.20945768058300018
         ],
         "yaxis": "y7"
        },
        {
         "marker": {
          "color": [
           0,
           1,
           2,
           3,
           4,
           5,
           6,
           7,
           8,
           9,
           10,
           11,
           12,
           13,
           14,
           15,
           16,
           17,
           18,
           19,
           20,
           21,
           22,
           23,
           24,
           25,
           26,
           27,
           28,
           29,
           30,
           31,
           32,
           33,
           34,
           35,
           36,
           37,
           38,
           39,
           40,
           41,
           42,
           43,
           44,
           45,
           46,
           47,
           48,
           49,
           50,
           51,
           52,
           53,
           54,
           55,
           56,
           57,
           58,
           59,
           60,
           61,
           62,
           63,
           64,
           65,
           66,
           67,
           68,
           69,
           70,
           71,
           72,
           73,
           74,
           75,
           76,
           77,
           78,
           79,
           80,
           81,
           82,
           83,
           84,
           85,
           86,
           87,
           88,
           89,
           90,
           91,
           92,
           93,
           94,
           95,
           96,
           97,
           98,
           99,
           100,
           101,
           102,
           103,
           104,
           105,
           106,
           107,
           108,
           109,
           110,
           111,
           112,
           113,
           114,
           115,
           116,
           117,
           118,
           119,
           120,
           121,
           122,
           123,
           124,
           125,
           126,
           127,
           128,
           129,
           130,
           131,
           132,
           133,
           134,
           135,
           136,
           137,
           138,
           139,
           140,
           141,
           142,
           143,
           144,
           145,
           146,
           147,
           148,
           149
          ],
          "colorbar": {
           "title": {
            "text": "Trial"
           },
           "x": 1,
           "xpad": 40
          },
          "colorscale": [
           [
            0,
            "rgb(247,251,255)"
           ],
           [
            0.125,
            "rgb(222,235,247)"
           ],
           [
            0.25,
            "rgb(198,219,239)"
           ],
           [
            0.375,
            "rgb(158,202,225)"
           ],
           [
            0.5,
            "rgb(107,174,214)"
           ],
           [
            0.625,
            "rgb(66,146,198)"
           ],
           [
            0.75,
            "rgb(33,113,181)"
           ],
           [
            0.875,
            "rgb(8,81,156)"
           ],
           [
            1,
            "rgb(8,48,107)"
           ]
          ],
          "line": {
           "color": "Grey",
           "width": 0.5
          },
          "showscale": false
         },
         "mode": "markers",
         "showlegend": false,
         "type": "scatter",
         "x": [
          5000,
          10000,
          2000,
          2000,
          2000,
          5000,
          10000,
          10000,
          5000,
          10000,
          2000,
          5000,
          2000,
          2000,
          2000,
          2000,
          2000,
          2000,
          2000,
          2000,
          2000,
          2000,
          2000,
          2000,
          2000,
          2000,
          2000,
          10000,
          5000,
          2000,
          5000,
          5000,
          5000,
          5000,
          5000,
          5000,
          5000,
          5000,
          5000,
          5000,
          5000,
          5000,
          5000,
          5000,
          5000,
          5000,
          5000,
          5000,
          5000,
          10000,
          5000,
          5000,
          5000,
          5000,
          5000,
          5000,
          5000,
          10000,
          10000,
          10000,
          10000,
          10000,
          5000,
          5000,
          10000,
          5000,
          5000,
          5000,
          10000,
          5000,
          5000,
          5000,
          5000,
          5000,
          5000,
          5000,
          5000,
          5000,
          10000,
          5000,
          5000,
          5000,
          5000,
          5000,
          5000,
          5000,
          5000,
          5000,
          5000,
          5000,
          10000,
          5000,
          5000,
          5000,
          5000,
          5000,
          5000,
          5000,
          5000,
          5000,
          5000,
          5000,
          5000,
          5000,
          10000,
          5000,
          5000,
          5000,
          5000,
          10000,
          2000,
          2000,
          2000,
          2000,
          2000,
          2000,
          5000,
          5000,
          5000,
          5000,
          10000,
          5000,
          5000,
          5000,
          5000,
          5000,
          5000,
          5000,
          5000,
          5000,
          5000,
          5000,
          5000,
          5000,
          5000,
          5000,
          5000,
          5000,
          5000,
          2000,
          2000,
          2000,
          2000,
          2000,
          5000,
          2000,
          5000,
          5000,
          5000,
          5000
         ],
         "xaxis": "x8",
         "y": [
          0.24575841426849365,
          0.6202553510665894,
          0.22046668827533722,
          0.6901261210441589,
          0.2154790312051773,
          0.21790792047977448,
          0.6279371380805969,
          0.6516808271408081,
          0.344547837972641,
          0.6500706672668457,
          0.344547837972641,
          0.2162514626979828,
          0.21108092367649078,
          0.21279609203338623,
          0.2129603773355484,
          0.344547837972641,
          0.344547837972641,
          0.21394437551498413,
          0.344547837972641,
          0.344547837972641,
          0.21330556273460388,
          0.21584738790988922,
          0.21627020835876465,
          0.21449516713619232,
          0.2132558524608612,
          0.2127208709716797,
          0.2136133909225464,
          0.6041551828384399,
          0.21515531837940216,
          0.344547837972641,
          0.2115245908498764,
          0.2084178328514099,
          0.21029448509216309,
          0.21264339983463287,
          0.6090985536575317,
          0.20912139117717743,
          0.24596847593784332,
          0.344547837972641,
          0.6089057326316833,
          0.2469317466020584,
          0.6058604121208191,
          0.20584022998809814,
          0.2105138748884201,
          0.21244436502456665,
          0.21569521725177765,
          0.22281323373317719,
          0.20970764756202698,
          0.344547837972641,
          0.24611414968967438,
          0.6177918314933777,
          0.2131710797548294,
          0.20965172350406647,
          0.21227161586284637,
          0.2263471484184265,
          0.21194981038570404,
          0.2175508439540863,
          0.344547837972641,
          0.20932739973068237,
          0.217051163315773,
          0.24395735561847687,
          0.21084392070770264,
          0.21438108384609222,
          0.20839102566242218,
          0.2074023187160492,
          0.211875319480896,
          0.21211344003677368,
          0.20591211318969727,
          0.344547837972641,
          0.6087932586669922,
          0.20956037938594818,
          0.21198880672454834,
          0.6554521918296814,
          0.344547837972641,
          0.2143000215291977,
          0.344547837972641,
          0.6554521918296814,
          0.21078041195869446,
          0.21106217801570892,
          0.23068027198314667,
          0.6178409457206726,
          0.20957785844802856,
          0.21215954422950745,
          0.21598313748836517,
          0.20907825231552124,
          0.21258334815502167,
          0.21519765257835388,
          0.2115355283021927,
          0.2112792730331421,
          0.6554521918296814,
          0.20825500786304474,
          0.242228701710701,
          0.21134191751480103,
          0.20868027210235596,
          0.21551300585269928,
          0.21397000551223755,
          0.2139306217432022,
          0.6125741600990295,
          0.3445478081703186,
          0.344547837972641,
          0.20886017382144928,
          0.21557538211345673,
          0.21148677170276642,
          0.21208851039409637,
          0.21137084066867828,
          0.2088516354560852,
          0.20743107795715332,
          0.20967309176921844,
          0.2110397219657898,
          0.21615473926067352,
          0.2416149228811264,
          0.20767439901828766,
          0.210477814078331,
          0.21102195978164673,
          0.2119656354188919,
          0.344547837972641,
          0.2134852111339569,
          0.6120967864990234,
          0.2137426882982254,
          0.21163828670978546,
          0.21338562667369843,
          0.22583696246147156,
          0.2058408111333847,
          0.20836026966571808,
          0.21051479876041412,
          0.20724612474441528,
          0.20863060653209686,
          0.21612578630447388,
          0.20952340960502625,
          0.21629686653614044,
          0.2494613379240036,
          0.20732128620147705,
          0.20625723898410797,
          0.21368755400180817,
          0.2271881401538849,
          0.20855183899402618,
          0.20699083805084229,
          0.21051982045173645,
          0.6061258912086487,
          0.21289564669132233,
          0.20622310042381287,
          0.20904865860939026,
          0.21175576746463776,
          0.20944127440452576,
          0.21058782935142517,
          0.20864826440811157,
          0.344547837972641,
          0.21112105250358582,
          0.344547837972641,
          0.2078184187412262,
          0.20945768058300018
         ],
         "yaxis": "y8"
        },
        {
         "marker": {
          "color": [
           0,
           1,
           2,
           3,
           4,
           5,
           6,
           7,
           8,
           9,
           10,
           11,
           12,
           13,
           14,
           15,
           16,
           17,
           18,
           19,
           20,
           21,
           22,
           23,
           24,
           25,
           26,
           27,
           28,
           29,
           30,
           31,
           32,
           33,
           34,
           35,
           36,
           37,
           38,
           39,
           40,
           41,
           42,
           43,
           44,
           45,
           46,
           47,
           48,
           49,
           50,
           51,
           52,
           53,
           54,
           55,
           56,
           57,
           58,
           59,
           60,
           61,
           62,
           63,
           64,
           65,
           66,
           67,
           68,
           69,
           70,
           71,
           72,
           73,
           74,
           75,
           76,
           77,
           78,
           79,
           80,
           81,
           82,
           83,
           84,
           85,
           86,
           87,
           88,
           89,
           90,
           91,
           92,
           93,
           94,
           95,
           96,
           97,
           98,
           99,
           100,
           101,
           102,
           103,
           104,
           105,
           106,
           107,
           108,
           109,
           110,
           111,
           112,
           113,
           114,
           115,
           116,
           117,
           118,
           119,
           120,
           121,
           122,
           123,
           124,
           125,
           126,
           127,
           128,
           129,
           130,
           131,
           132,
           133,
           134,
           135,
           136,
           137,
           138,
           139,
           140,
           141,
           142,
           143,
           144,
           145,
           146,
           147,
           148,
           149
          ],
          "colorbar": {
           "title": {
            "text": "Trial"
           },
           "x": 1,
           "xpad": 40
          },
          "colorscale": [
           [
            0,
            "rgb(247,251,255)"
           ],
           [
            0.125,
            "rgb(222,235,247)"
           ],
           [
            0.25,
            "rgb(198,219,239)"
           ],
           [
            0.375,
            "rgb(158,202,225)"
           ],
           [
            0.5,
            "rgb(107,174,214)"
           ],
           [
            0.625,
            "rgb(66,146,198)"
           ],
           [
            0.75,
            "rgb(33,113,181)"
           ],
           [
            0.875,
            "rgb(8,81,156)"
           ],
           [
            1,
            "rgb(8,48,107)"
           ]
          ],
          "line": {
           "color": "Grey",
           "width": 0.5
          },
          "showscale": false
         },
         "mode": "markers",
         "showlegend": false,
         "type": "scatter",
         "x": [
          "SGD",
          "Adam",
          "Adam",
          "SGD",
          "SGD",
          "Adam",
          "Adam",
          "SGD",
          "SGD",
          "SGD",
          "SGD",
          "Adam",
          "Adam",
          "Adam",
          "Adam",
          "Adam",
          "Adam",
          "Adam",
          "Adam",
          "Adam",
          "Adam",
          "Adam",
          "Adam",
          "Adam",
          "Adam",
          "Adam",
          "Adam",
          "Adam",
          "Adam",
          "Adam",
          "Adam",
          "Adam",
          "Adam",
          "Adam",
          "Adam",
          "Adam",
          "SGD",
          "Adam",
          "Adam",
          "SGD",
          "Adam",
          "Adam",
          "Adam",
          "Adam",
          "Adam",
          "SGD",
          "Adam",
          "Adam",
          "SGD",
          "Adam",
          "Adam",
          "Adam",
          "Adam",
          "Adam",
          "Adam",
          "Adam",
          "Adam",
          "Adam",
          "Adam",
          "SGD",
          "Adam",
          "Adam",
          "Adam",
          "Adam",
          "Adam",
          "Adam",
          "Adam",
          "Adam",
          "Adam",
          "Adam",
          "Adam",
          "Adam",
          "Adam",
          "Adam",
          "Adam",
          "Adam",
          "Adam",
          "Adam",
          "SGD",
          "Adam",
          "Adam",
          "Adam",
          "Adam",
          "Adam",
          "Adam",
          "Adam",
          "Adam",
          "Adam",
          "Adam",
          "Adam",
          "SGD",
          "Adam",
          "Adam",
          "Adam",
          "Adam",
          "Adam",
          "Adam",
          "Adam",
          "Adam",
          "Adam",
          "Adam",
          "Adam",
          "Adam",
          "Adam",
          "Adam",
          "Adam",
          "Adam",
          "Adam",
          "Adam",
          "SGD",
          "Adam",
          "Adam",
          "Adam",
          "Adam",
          "Adam",
          "Adam",
          "Adam",
          "Adam",
          "Adam",
          "Adam",
          "Adam",
          "Adam",
          "Adam",
          "Adam",
          "Adam",
          "Adam",
          "Adam",
          "Adam",
          "Adam",
          "SGD",
          "Adam",
          "Adam",
          "Adam",
          "Adam",
          "Adam",
          "Adam",
          "Adam",
          "Adam",
          "Adam",
          "Adam",
          "Adam",
          "Adam",
          "Adam",
          "Adam",
          "Adam",
          "Adam",
          "Adam",
          "Adam",
          "Adam",
          "Adam"
         ],
         "xaxis": "x9",
         "y": [
          0.24575841426849365,
          0.6202553510665894,
          0.22046668827533722,
          0.6901261210441589,
          0.2154790312051773,
          0.21790792047977448,
          0.6279371380805969,
          0.6516808271408081,
          0.344547837972641,
          0.6500706672668457,
          0.344547837972641,
          0.2162514626979828,
          0.21108092367649078,
          0.21279609203338623,
          0.2129603773355484,
          0.344547837972641,
          0.344547837972641,
          0.21394437551498413,
          0.344547837972641,
          0.344547837972641,
          0.21330556273460388,
          0.21584738790988922,
          0.21627020835876465,
          0.21449516713619232,
          0.2132558524608612,
          0.2127208709716797,
          0.2136133909225464,
          0.6041551828384399,
          0.21515531837940216,
          0.344547837972641,
          0.2115245908498764,
          0.2084178328514099,
          0.21029448509216309,
          0.21264339983463287,
          0.6090985536575317,
          0.20912139117717743,
          0.24596847593784332,
          0.344547837972641,
          0.6089057326316833,
          0.2469317466020584,
          0.6058604121208191,
          0.20584022998809814,
          0.2105138748884201,
          0.21244436502456665,
          0.21569521725177765,
          0.22281323373317719,
          0.20970764756202698,
          0.344547837972641,
          0.24611414968967438,
          0.6177918314933777,
          0.2131710797548294,
          0.20965172350406647,
          0.21227161586284637,
          0.2263471484184265,
          0.21194981038570404,
          0.2175508439540863,
          0.344547837972641,
          0.20932739973068237,
          0.217051163315773,
          0.24395735561847687,
          0.21084392070770264,
          0.21438108384609222,
          0.20839102566242218,
          0.2074023187160492,
          0.211875319480896,
          0.21211344003677368,
          0.20591211318969727,
          0.344547837972641,
          0.6087932586669922,
          0.20956037938594818,
          0.21198880672454834,
          0.6554521918296814,
          0.344547837972641,
          0.2143000215291977,
          0.344547837972641,
          0.6554521918296814,
          0.21078041195869446,
          0.21106217801570892,
          0.23068027198314667,
          0.6178409457206726,
          0.20957785844802856,
          0.21215954422950745,
          0.21598313748836517,
          0.20907825231552124,
          0.21258334815502167,
          0.21519765257835388,
          0.2115355283021927,
          0.2112792730331421,
          0.6554521918296814,
          0.20825500786304474,
          0.242228701710701,
          0.21134191751480103,
          0.20868027210235596,
          0.21551300585269928,
          0.21397000551223755,
          0.2139306217432022,
          0.6125741600990295,
          0.3445478081703186,
          0.344547837972641,
          0.20886017382144928,
          0.21557538211345673,
          0.21148677170276642,
          0.21208851039409637,
          0.21137084066867828,
          0.2088516354560852,
          0.20743107795715332,
          0.20967309176921844,
          0.2110397219657898,
          0.21615473926067352,
          0.2416149228811264,
          0.20767439901828766,
          0.210477814078331,
          0.21102195978164673,
          0.2119656354188919,
          0.344547837972641,
          0.2134852111339569,
          0.6120967864990234,
          0.2137426882982254,
          0.21163828670978546,
          0.21338562667369843,
          0.22583696246147156,
          0.2058408111333847,
          0.20836026966571808,
          0.21051479876041412,
          0.20724612474441528,
          0.20863060653209686,
          0.21612578630447388,
          0.20952340960502625,
          0.21629686653614044,
          0.2494613379240036,
          0.20732128620147705,
          0.20625723898410797,
          0.21368755400180817,
          0.2271881401538849,
          0.20855183899402618,
          0.20699083805084229,
          0.21051982045173645,
          0.6061258912086487,
          0.21289564669132233,
          0.20622310042381287,
          0.20904865860939026,
          0.21175576746463776,
          0.20944127440452576,
          0.21058782935142517,
          0.20864826440811157,
          0.344547837972641,
          0.21112105250358582,
          0.344547837972641,
          0.2078184187412262,
          0.20945768058300018
         ],
         "yaxis": "y9"
        },
        {
         "marker": {
          "color": [
           0,
           1,
           2,
           3,
           4,
           5,
           6,
           7,
           8,
           9,
           10,
           11,
           12,
           13,
           14,
           15,
           16,
           17,
           18,
           19,
           20,
           21,
           22,
           23,
           24,
           25,
           26,
           27,
           28,
           29,
           30,
           31,
           32,
           33,
           34,
           35,
           36,
           37,
           38,
           39,
           40,
           41,
           42,
           43,
           44,
           45,
           46,
           47,
           48,
           49,
           50,
           51,
           52,
           53,
           54,
           55,
           56,
           57,
           58,
           59,
           60,
           61,
           62,
           63,
           64,
           65,
           66,
           67,
           68,
           69,
           70,
           71,
           72,
           73,
           74,
           75,
           76,
           77,
           78,
           79,
           80,
           81,
           82,
           83,
           84,
           85,
           86,
           87,
           88,
           89,
           90,
           91,
           92,
           93,
           94,
           95,
           96,
           97,
           98,
           99,
           100,
           101,
           102,
           103,
           104,
           105,
           106,
           107,
           108,
           109,
           110,
           111,
           112,
           113,
           114,
           115,
           116,
           117,
           118,
           119,
           120,
           121,
           122,
           123,
           124,
           125,
           126,
           127,
           128,
           129,
           130,
           131,
           132,
           133,
           134,
           135,
           136,
           137,
           138,
           139,
           140,
           141,
           142,
           143,
           144,
           145,
           146,
           147,
           148,
           149
          ],
          "colorbar": {
           "title": {
            "text": "Trial"
           },
           "x": 1,
           "xpad": 40
          },
          "colorscale": [
           [
            0,
            "rgb(247,251,255)"
           ],
           [
            0.125,
            "rgb(222,235,247)"
           ],
           [
            0.25,
            "rgb(198,219,239)"
           ],
           [
            0.375,
            "rgb(158,202,225)"
           ],
           [
            0.5,
            "rgb(107,174,214)"
           ],
           [
            0.625,
            "rgb(66,146,198)"
           ],
           [
            0.75,
            "rgb(33,113,181)"
           ],
           [
            0.875,
            "rgb(8,81,156)"
           ],
           [
            1,
            "rgb(8,48,107)"
           ]
          ],
          "line": {
           "color": "Grey",
           "width": 0.5
          },
          "showscale": false
         },
         "mode": "markers",
         "showlegend": false,
         "type": "scatter",
         "x": [
          "sigmoid",
          "sigmoid",
          "sigmoid",
          "softmax",
          "sigmoid",
          "sigmoid",
          "sigmoid",
          "sigmoid",
          "softmax",
          "sigmoid",
          "softmax",
          "sigmoid",
          "sigmoid",
          "sigmoid",
          "sigmoid",
          "softmax",
          "sigmoid",
          "sigmoid",
          "softmax",
          "sigmoid",
          "sigmoid",
          "sigmoid",
          "sigmoid",
          "sigmoid",
          "sigmoid",
          "sigmoid",
          "sigmoid",
          "softmax",
          "sigmoid",
          "sigmoid",
          "sigmoid",
          "sigmoid",
          "sigmoid",
          "sigmoid",
          "sigmoid",
          "sigmoid",
          "sigmoid",
          "softmax",
          "sigmoid",
          "sigmoid",
          "sigmoid",
          "sigmoid",
          "sigmoid",
          "sigmoid",
          "sigmoid",
          "sigmoid",
          "sigmoid",
          "softmax",
          "sigmoid",
          "sigmoid",
          "sigmoid",
          "sigmoid",
          "sigmoid",
          "sigmoid",
          "sigmoid",
          "sigmoid",
          "softmax",
          "sigmoid",
          "sigmoid",
          "sigmoid",
          "sigmoid",
          "sigmoid",
          "sigmoid",
          "sigmoid",
          "sigmoid",
          "sigmoid",
          "sigmoid",
          "softmax",
          "sigmoid",
          "sigmoid",
          "sigmoid",
          "sigmoid",
          "sigmoid",
          "sigmoid",
          "sigmoid",
          "sigmoid",
          "sigmoid",
          "sigmoid",
          "sigmoid",
          "softmax",
          "sigmoid",
          "sigmoid",
          "sigmoid",
          "sigmoid",
          "sigmoid",
          "sigmoid",
          "sigmoid",
          "sigmoid",
          "sigmoid",
          "sigmoid",
          "sigmoid",
          "sigmoid",
          "sigmoid",
          "sigmoid",
          "sigmoid",
          "sigmoid",
          "sigmoid",
          "sigmoid",
          "softmax",
          "sigmoid",
          "sigmoid",
          "sigmoid",
          "sigmoid",
          "sigmoid",
          "sigmoid",
          "sigmoid",
          "sigmoid",
          "sigmoid",
          "sigmoid",
          "sigmoid",
          "sigmoid",
          "sigmoid",
          "sigmoid",
          "sigmoid",
          "sigmoid",
          "sigmoid",
          "softmax",
          "sigmoid",
          "sigmoid",
          "sigmoid",
          "sigmoid",
          "sigmoid",
          "sigmoid",
          "sigmoid",
          "sigmoid",
          "sigmoid",
          "sigmoid",
          "sigmoid",
          "sigmoid",
          "sigmoid",
          "sigmoid",
          "sigmoid",
          "sigmoid",
          "sigmoid",
          "sigmoid",
          "sigmoid",
          "sigmoid",
          "softmax",
          "sigmoid",
          "sigmoid",
          "sigmoid",
          "sigmoid",
          "sigmoid",
          "sigmoid",
          "sigmoid",
          "sigmoid",
          "sigmoid",
          "sigmoid",
          "sigmoid",
          "sigmoid"
         ],
         "xaxis": "x10",
         "y": [
          0.24575841426849365,
          0.6202553510665894,
          0.22046668827533722,
          0.6901261210441589,
          0.2154790312051773,
          0.21790792047977448,
          0.6279371380805969,
          0.6516808271408081,
          0.344547837972641,
          0.6500706672668457,
          0.344547837972641,
          0.2162514626979828,
          0.21108092367649078,
          0.21279609203338623,
          0.2129603773355484,
          0.344547837972641,
          0.344547837972641,
          0.21394437551498413,
          0.344547837972641,
          0.344547837972641,
          0.21330556273460388,
          0.21584738790988922,
          0.21627020835876465,
          0.21449516713619232,
          0.2132558524608612,
          0.2127208709716797,
          0.2136133909225464,
          0.6041551828384399,
          0.21515531837940216,
          0.344547837972641,
          0.2115245908498764,
          0.2084178328514099,
          0.21029448509216309,
          0.21264339983463287,
          0.6090985536575317,
          0.20912139117717743,
          0.24596847593784332,
          0.344547837972641,
          0.6089057326316833,
          0.2469317466020584,
          0.6058604121208191,
          0.20584022998809814,
          0.2105138748884201,
          0.21244436502456665,
          0.21569521725177765,
          0.22281323373317719,
          0.20970764756202698,
          0.344547837972641,
          0.24611414968967438,
          0.6177918314933777,
          0.2131710797548294,
          0.20965172350406647,
          0.21227161586284637,
          0.2263471484184265,
          0.21194981038570404,
          0.2175508439540863,
          0.344547837972641,
          0.20932739973068237,
          0.217051163315773,
          0.24395735561847687,
          0.21084392070770264,
          0.21438108384609222,
          0.20839102566242218,
          0.2074023187160492,
          0.211875319480896,
          0.21211344003677368,
          0.20591211318969727,
          0.344547837972641,
          0.6087932586669922,
          0.20956037938594818,
          0.21198880672454834,
          0.6554521918296814,
          0.344547837972641,
          0.2143000215291977,
          0.344547837972641,
          0.6554521918296814,
          0.21078041195869446,
          0.21106217801570892,
          0.23068027198314667,
          0.6178409457206726,
          0.20957785844802856,
          0.21215954422950745,
          0.21598313748836517,
          0.20907825231552124,
          0.21258334815502167,
          0.21519765257835388,
          0.2115355283021927,
          0.2112792730331421,
          0.6554521918296814,
          0.20825500786304474,
          0.242228701710701,
          0.21134191751480103,
          0.20868027210235596,
          0.21551300585269928,
          0.21397000551223755,
          0.2139306217432022,
          0.6125741600990295,
          0.3445478081703186,
          0.344547837972641,
          0.20886017382144928,
          0.21557538211345673,
          0.21148677170276642,
          0.21208851039409637,
          0.21137084066867828,
          0.2088516354560852,
          0.20743107795715332,
          0.20967309176921844,
          0.2110397219657898,
          0.21615473926067352,
          0.2416149228811264,
          0.20767439901828766,
          0.210477814078331,
          0.21102195978164673,
          0.2119656354188919,
          0.344547837972641,
          0.2134852111339569,
          0.6120967864990234,
          0.2137426882982254,
          0.21163828670978546,
          0.21338562667369843,
          0.22583696246147156,
          0.2058408111333847,
          0.20836026966571808,
          0.21051479876041412,
          0.20724612474441528,
          0.20863060653209686,
          0.21612578630447388,
          0.20952340960502625,
          0.21629686653614044,
          0.2494613379240036,
          0.20732128620147705,
          0.20625723898410797,
          0.21368755400180817,
          0.2271881401538849,
          0.20855183899402618,
          0.20699083805084229,
          0.21051982045173645,
          0.6061258912086487,
          0.21289564669132233,
          0.20622310042381287,
          0.20904865860939026,
          0.21175576746463776,
          0.20944127440452576,
          0.21058782935142517,
          0.20864826440811157,
          0.344547837972641,
          0.21112105250358582,
          0.344547837972641,
          0.2078184187412262,
          0.20945768058300018
         ],
         "yaxis": "y10"
        }
       ],
       "layout": {
        "template": {
         "data": {
          "bar": [
           {
            "error_x": {
             "color": "#2a3f5f"
            },
            "error_y": {
             "color": "#2a3f5f"
            },
            "marker": {
             "line": {
              "color": "#E5ECF6",
              "width": 0.5
             },
             "pattern": {
              "fillmode": "overlay",
              "size": 10,
              "solidity": 0.2
             }
            },
            "type": "bar"
           }
          ],
          "barpolar": [
           {
            "marker": {
             "line": {
              "color": "#E5ECF6",
              "width": 0.5
             },
             "pattern": {
              "fillmode": "overlay",
              "size": 10,
              "solidity": 0.2
             }
            },
            "type": "barpolar"
           }
          ],
          "carpet": [
           {
            "aaxis": {
             "endlinecolor": "#2a3f5f",
             "gridcolor": "white",
             "linecolor": "white",
             "minorgridcolor": "white",
             "startlinecolor": "#2a3f5f"
            },
            "baxis": {
             "endlinecolor": "#2a3f5f",
             "gridcolor": "white",
             "linecolor": "white",
             "minorgridcolor": "white",
             "startlinecolor": "#2a3f5f"
            },
            "type": "carpet"
           }
          ],
          "choropleth": [
           {
            "colorbar": {
             "outlinewidth": 0,
             "ticks": ""
            },
            "type": "choropleth"
           }
          ],
          "contour": [
           {
            "colorbar": {
             "outlinewidth": 0,
             "ticks": ""
            },
            "colorscale": [
             [
              0,
              "#0d0887"
             ],
             [
              0.1111111111111111,
              "#46039f"
             ],
             [
              0.2222222222222222,
              "#7201a8"
             ],
             [
              0.3333333333333333,
              "#9c179e"
             ],
             [
              0.4444444444444444,
              "#bd3786"
             ],
             [
              0.5555555555555556,
              "#d8576b"
             ],
             [
              0.6666666666666666,
              "#ed7953"
             ],
             [
              0.7777777777777778,
              "#fb9f3a"
             ],
             [
              0.8888888888888888,
              "#fdca26"
             ],
             [
              1,
              "#f0f921"
             ]
            ],
            "type": "contour"
           }
          ],
          "contourcarpet": [
           {
            "colorbar": {
             "outlinewidth": 0,
             "ticks": ""
            },
            "type": "contourcarpet"
           }
          ],
          "heatmap": [
           {
            "colorbar": {
             "outlinewidth": 0,
             "ticks": ""
            },
            "colorscale": [
             [
              0,
              "#0d0887"
             ],
             [
              0.1111111111111111,
              "#46039f"
             ],
             [
              0.2222222222222222,
              "#7201a8"
             ],
             [
              0.3333333333333333,
              "#9c179e"
             ],
             [
              0.4444444444444444,
              "#bd3786"
             ],
             [
              0.5555555555555556,
              "#d8576b"
             ],
             [
              0.6666666666666666,
              "#ed7953"
             ],
             [
              0.7777777777777778,
              "#fb9f3a"
             ],
             [
              0.8888888888888888,
              "#fdca26"
             ],
             [
              1,
              "#f0f921"
             ]
            ],
            "type": "heatmap"
           }
          ],
          "heatmapgl": [
           {
            "colorbar": {
             "outlinewidth": 0,
             "ticks": ""
            },
            "colorscale": [
             [
              0,
              "#0d0887"
             ],
             [
              0.1111111111111111,
              "#46039f"
             ],
             [
              0.2222222222222222,
              "#7201a8"
             ],
             [
              0.3333333333333333,
              "#9c179e"
             ],
             [
              0.4444444444444444,
              "#bd3786"
             ],
             [
              0.5555555555555556,
              "#d8576b"
             ],
             [
              0.6666666666666666,
              "#ed7953"
             ],
             [
              0.7777777777777778,
              "#fb9f3a"
             ],
             [
              0.8888888888888888,
              "#fdca26"
             ],
             [
              1,
              "#f0f921"
             ]
            ],
            "type": "heatmapgl"
           }
          ],
          "histogram": [
           {
            "marker": {
             "pattern": {
              "fillmode": "overlay",
              "size": 10,
              "solidity": 0.2
             }
            },
            "type": "histogram"
           }
          ],
          "histogram2d": [
           {
            "colorbar": {
             "outlinewidth": 0,
             "ticks": ""
            },
            "colorscale": [
             [
              0,
              "#0d0887"
             ],
             [
              0.1111111111111111,
              "#46039f"
             ],
             [
              0.2222222222222222,
              "#7201a8"
             ],
             [
              0.3333333333333333,
              "#9c179e"
             ],
             [
              0.4444444444444444,
              "#bd3786"
             ],
             [
              0.5555555555555556,
              "#d8576b"
             ],
             [
              0.6666666666666666,
              "#ed7953"
             ],
             [
              0.7777777777777778,
              "#fb9f3a"
             ],
             [
              0.8888888888888888,
              "#fdca26"
             ],
             [
              1,
              "#f0f921"
             ]
            ],
            "type": "histogram2d"
           }
          ],
          "histogram2dcontour": [
           {
            "colorbar": {
             "outlinewidth": 0,
             "ticks": ""
            },
            "colorscale": [
             [
              0,
              "#0d0887"
             ],
             [
              0.1111111111111111,
              "#46039f"
             ],
             [
              0.2222222222222222,
              "#7201a8"
             ],
             [
              0.3333333333333333,
              "#9c179e"
             ],
             [
              0.4444444444444444,
              "#bd3786"
             ],
             [
              0.5555555555555556,
              "#d8576b"
             ],
             [
              0.6666666666666666,
              "#ed7953"
             ],
             [
              0.7777777777777778,
              "#fb9f3a"
             ],
             [
              0.8888888888888888,
              "#fdca26"
             ],
             [
              1,
              "#f0f921"
             ]
            ],
            "type": "histogram2dcontour"
           }
          ],
          "mesh3d": [
           {
            "colorbar": {
             "outlinewidth": 0,
             "ticks": ""
            },
            "type": "mesh3d"
           }
          ],
          "parcoords": [
           {
            "line": {
             "colorbar": {
              "outlinewidth": 0,
              "ticks": ""
             }
            },
            "type": "parcoords"
           }
          ],
          "pie": [
           {
            "automargin": true,
            "type": "pie"
           }
          ],
          "scatter": [
           {
            "fillpattern": {
             "fillmode": "overlay",
             "size": 10,
             "solidity": 0.2
            },
            "type": "scatter"
           }
          ],
          "scatter3d": [
           {
            "line": {
             "colorbar": {
              "outlinewidth": 0,
              "ticks": ""
             }
            },
            "marker": {
             "colorbar": {
              "outlinewidth": 0,
              "ticks": ""
             }
            },
            "type": "scatter3d"
           }
          ],
          "scattercarpet": [
           {
            "marker": {
             "colorbar": {
              "outlinewidth": 0,
              "ticks": ""
             }
            },
            "type": "scattercarpet"
           }
          ],
          "scattergeo": [
           {
            "marker": {
             "colorbar": {
              "outlinewidth": 0,
              "ticks": ""
             }
            },
            "type": "scattergeo"
           }
          ],
          "scattergl": [
           {
            "marker": {
             "colorbar": {
              "outlinewidth": 0,
              "ticks": ""
             }
            },
            "type": "scattergl"
           }
          ],
          "scattermapbox": [
           {
            "marker": {
             "colorbar": {
              "outlinewidth": 0,
              "ticks": ""
             }
            },
            "type": "scattermapbox"
           }
          ],
          "scatterpolar": [
           {
            "marker": {
             "colorbar": {
              "outlinewidth": 0,
              "ticks": ""
             }
            },
            "type": "scatterpolar"
           }
          ],
          "scatterpolargl": [
           {
            "marker": {
             "colorbar": {
              "outlinewidth": 0,
              "ticks": ""
             }
            },
            "type": "scatterpolargl"
           }
          ],
          "scatterternary": [
           {
            "marker": {
             "colorbar": {
              "outlinewidth": 0,
              "ticks": ""
             }
            },
            "type": "scatterternary"
           }
          ],
          "surface": [
           {
            "colorbar": {
             "outlinewidth": 0,
             "ticks": ""
            },
            "colorscale": [
             [
              0,
              "#0d0887"
             ],
             [
              0.1111111111111111,
              "#46039f"
             ],
             [
              0.2222222222222222,
              "#7201a8"
             ],
             [
              0.3333333333333333,
              "#9c179e"
             ],
             [
              0.4444444444444444,
              "#bd3786"
             ],
             [
              0.5555555555555556,
              "#d8576b"
             ],
             [
              0.6666666666666666,
              "#ed7953"
             ],
             [
              0.7777777777777778,
              "#fb9f3a"
             ],
             [
              0.8888888888888888,
              "#fdca26"
             ],
             [
              1,
              "#f0f921"
             ]
            ],
            "type": "surface"
           }
          ],
          "table": [
           {
            "cells": {
             "fill": {
              "color": "#EBF0F8"
             },
             "line": {
              "color": "white"
             }
            },
            "header": {
             "fill": {
              "color": "#C8D4E3"
             },
             "line": {
              "color": "white"
             }
            },
            "type": "table"
           }
          ]
         },
         "layout": {
          "annotationdefaults": {
           "arrowcolor": "#2a3f5f",
           "arrowhead": 0,
           "arrowwidth": 1
          },
          "autotypenumbers": "strict",
          "coloraxis": {
           "colorbar": {
            "outlinewidth": 0,
            "ticks": ""
           }
          },
          "colorscale": {
           "diverging": [
            [
             0,
             "#8e0152"
            ],
            [
             0.1,
             "#c51b7d"
            ],
            [
             0.2,
             "#de77ae"
            ],
            [
             0.3,
             "#f1b6da"
            ],
            [
             0.4,
             "#fde0ef"
            ],
            [
             0.5,
             "#f7f7f7"
            ],
            [
             0.6,
             "#e6f5d0"
            ],
            [
             0.7,
             "#b8e186"
            ],
            [
             0.8,
             "#7fbc41"
            ],
            [
             0.9,
             "#4d9221"
            ],
            [
             1,
             "#276419"
            ]
           ],
           "sequential": [
            [
             0,
             "#0d0887"
            ],
            [
             0.1111111111111111,
             "#46039f"
            ],
            [
             0.2222222222222222,
             "#7201a8"
            ],
            [
             0.3333333333333333,
             "#9c179e"
            ],
            [
             0.4444444444444444,
             "#bd3786"
            ],
            [
             0.5555555555555556,
             "#d8576b"
            ],
            [
             0.6666666666666666,
             "#ed7953"
            ],
            [
             0.7777777777777778,
             "#fb9f3a"
            ],
            [
             0.8888888888888888,
             "#fdca26"
            ],
            [
             1,
             "#f0f921"
            ]
           ],
           "sequentialminus": [
            [
             0,
             "#0d0887"
            ],
            [
             0.1111111111111111,
             "#46039f"
            ],
            [
             0.2222222222222222,
             "#7201a8"
            ],
            [
             0.3333333333333333,
             "#9c179e"
            ],
            [
             0.4444444444444444,
             "#bd3786"
            ],
            [
             0.5555555555555556,
             "#d8576b"
            ],
            [
             0.6666666666666666,
             "#ed7953"
            ],
            [
             0.7777777777777778,
             "#fb9f3a"
            ],
            [
             0.8888888888888888,
             "#fdca26"
            ],
            [
             1,
             "#f0f921"
            ]
           ]
          },
          "colorway": [
           "#636efa",
           "#EF553B",
           "#00cc96",
           "#ab63fa",
           "#FFA15A",
           "#19d3f3",
           "#FF6692",
           "#B6E880",
           "#FF97FF",
           "#FECB52"
          ],
          "font": {
           "color": "#2a3f5f"
          },
          "geo": {
           "bgcolor": "white",
           "lakecolor": "white",
           "landcolor": "#E5ECF6",
           "showlakes": true,
           "showland": true,
           "subunitcolor": "white"
          },
          "hoverlabel": {
           "align": "left"
          },
          "hovermode": "closest",
          "mapbox": {
           "style": "light"
          },
          "paper_bgcolor": "white",
          "plot_bgcolor": "#E5ECF6",
          "polar": {
           "angularaxis": {
            "gridcolor": "white",
            "linecolor": "white",
            "ticks": ""
           },
           "bgcolor": "#E5ECF6",
           "radialaxis": {
            "gridcolor": "white",
            "linecolor": "white",
            "ticks": ""
           }
          },
          "scene": {
           "xaxis": {
            "backgroundcolor": "#E5ECF6",
            "gridcolor": "white",
            "gridwidth": 2,
            "linecolor": "white",
            "showbackground": true,
            "ticks": "",
            "zerolinecolor": "white"
           },
           "yaxis": {
            "backgroundcolor": "#E5ECF6",
            "gridcolor": "white",
            "gridwidth": 2,
            "linecolor": "white",
            "showbackground": true,
            "ticks": "",
            "zerolinecolor": "white"
           },
           "zaxis": {
            "backgroundcolor": "#E5ECF6",
            "gridcolor": "white",
            "gridwidth": 2,
            "linecolor": "white",
            "showbackground": true,
            "ticks": "",
            "zerolinecolor": "white"
           }
          },
          "shapedefaults": {
           "line": {
            "color": "#2a3f5f"
           }
          },
          "ternary": {
           "aaxis": {
            "gridcolor": "white",
            "linecolor": "white",
            "ticks": ""
           },
           "baxis": {
            "gridcolor": "white",
            "linecolor": "white",
            "ticks": ""
           },
           "bgcolor": "#E5ECF6",
           "caxis": {
            "gridcolor": "white",
            "linecolor": "white",
            "ticks": ""
           }
          },
          "title": {
           "x": 0.05
          },
          "xaxis": {
           "automargin": true,
           "gridcolor": "white",
           "linecolor": "white",
           "ticks": "",
           "title": {
            "standoff": 15
           },
           "zerolinecolor": "white",
           "zerolinewidth": 2
          },
          "yaxis": {
           "automargin": true,
           "gridcolor": "white",
           "linecolor": "white",
           "ticks": "",
           "title": {
            "standoff": 15
           },
           "zerolinecolor": "white",
           "zerolinewidth": 2
          }
         }
        },
        "title": {
         "text": "Slice Plot"
        },
        "width": 3000,
        "xaxis": {
         "anchor": "y",
         "domain": [
          0,
          0.082
         ],
         "title": {
          "text": "activation"
         }
        },
        "xaxis10": {
         "anchor": "y10",
         "domain": [
          0.9179999999999999,
          0.9999999999999999
         ],
         "title": {
          "text": "output_activation"
         }
        },
        "xaxis2": {
         "anchor": "y2",
         "domain": [
          0.10200000000000001,
          0.184
         ],
         "title": {
          "text": "alpha"
         }
        },
        "xaxis3": {
         "anchor": "y3",
         "domain": [
          0.20400000000000001,
          0.28600000000000003
         ],
         "title": {
          "text": "batch_size"
         }
        },
        "xaxis4": {
         "anchor": "y4",
         "domain": [
          0.306,
          0.388
         ],
         "title": {
          "text": "dropout_rate"
         }
        },
        "xaxis5": {
         "anchor": "y5",
         "domain": [
          0.40800000000000003,
          0.49000000000000005
         ],
         "title": {
          "text": "hidden_layer_units"
         }
        },
        "xaxis6": {
         "anchor": "y6",
         "domain": [
          0.51,
          0.592
         ],
         "title": {
          "text": "hidden_layers"
         }
        },
        "xaxis7": {
         "anchor": "y7",
         "domain": [
          0.6120000000000001,
          0.6940000000000001
         ],
         "title": {
          "text": "loss_function"
         }
        },
        "xaxis8": {
         "anchor": "y8",
         "domain": [
          0.7140000000000001,
          0.796
         ],
         "title": {
          "text": "max_iter"
         }
        },
        "xaxis9": {
         "anchor": "y9",
         "domain": [
          0.8160000000000001,
          0.898
         ],
         "title": {
          "text": "optimizer"
         }
        },
        "yaxis": {
         "anchor": "x",
         "domain": [
          0,
          1
         ],
         "title": {
          "text": "Objective Value"
         }
        },
        "yaxis10": {
         "anchor": "x10",
         "domain": [
          0,
          1
         ],
         "matches": "y",
         "showticklabels": false
        },
        "yaxis2": {
         "anchor": "x2",
         "domain": [
          0,
          1
         ],
         "matches": "y",
         "showticklabels": false
        },
        "yaxis3": {
         "anchor": "x3",
         "domain": [
          0,
          1
         ],
         "matches": "y",
         "showticklabels": false
        },
        "yaxis4": {
         "anchor": "x4",
         "domain": [
          0,
          1
         ],
         "matches": "y",
         "showticklabels": false
        },
        "yaxis5": {
         "anchor": "x5",
         "domain": [
          0,
          1
         ],
         "matches": "y",
         "showticklabels": false
        },
        "yaxis6": {
         "anchor": "x6",
         "domain": [
          0,
          1
         ],
         "matches": "y",
         "showticklabels": false
        },
        "yaxis7": {
         "anchor": "x7",
         "domain": [
          0,
          1
         ],
         "matches": "y",
         "showticklabels": false
        },
        "yaxis8": {
         "anchor": "x8",
         "domain": [
          0,
          1
         ],
         "matches": "y",
         "showticklabels": false
        },
        "yaxis9": {
         "anchor": "x9",
         "domain": [
          0,
          1
         ],
         "matches": "y",
         "showticklabels": false
        }
       }
      }
     },
     "metadata": {},
     "output_type": "display_data"
    }
   ],
   "source": [
    "optuna.visualization.plot_slice(study)"
   ]
  }
 ],
 "metadata": {
  "kernelspec": {
   "display_name": "machine_learning",
   "language": "python",
   "name": "python3"
  },
  "language_info": {
   "codemirror_mode": {
    "name": "ipython",
    "version": 3
   },
   "file_extension": ".py",
   "mimetype": "text/x-python",
   "name": "python",
   "nbconvert_exporter": "python",
   "pygments_lexer": "ipython3",
   "version": "3.8.16"
  },
  "orig_nbformat": 4,
  "vscode": {
   "interpreter": {
    "hash": "bc61db7a6070c6c86b8447c28f804503118115942a6f856c38354ea7f041d17b"
   }
  }
 },
 "nbformat": 4,
 "nbformat_minor": 2
}

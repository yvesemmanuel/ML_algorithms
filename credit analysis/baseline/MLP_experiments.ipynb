{
 "cells": [
  {
   "cell_type": "code",
   "execution_count": 1,
   "metadata": {},
   "outputs": [
    {
     "name": "stderr",
     "output_type": "stream",
     "text": [
      "c:\\Users\\yveem\\miniconda3\\envs\\machine_learning\\lib\\site-packages\\tqdm\\auto.py:21: TqdmWarning: IProgress not found. Please update jupyter and ipywidgets. See https://ipywidgets.readthedocs.io/en/stable/user_install.html\n",
      "  from .autonotebook import tqdm as notebook_tqdm\n"
     ]
    }
   ],
   "source": [
    "import pandas as pd\n",
    "import numpy as np\n",
    "\n",
    "from keras import Sequential\n",
    "from keras.layers import Dense\n",
    "from keras.callbacks import EarlyStopping\n",
    "from keras.optimizers import SGD, Adam\n",
    "\n",
    "import optuna"
   ]
  },
  {
   "attachments": {},
   "cell_type": "markdown",
   "metadata": {},
   "source": [
    "#### **Getting training & validation data**"
   ]
  },
  {
   "cell_type": "code",
   "execution_count": 2,
   "metadata": {},
   "outputs": [],
   "source": [
    "df_train = pd.read_csv('../databases/training.csv')\n",
    "df_valid = pd.read_csv('../databases/validation.csv')"
   ]
  },
  {
   "cell_type": "code",
   "execution_count": 3,
   "metadata": {},
   "outputs": [],
   "source": [
    "X_train, y_train = df_train.drop(['IND_BOM_1_1'], axis=1), df_train['IND_BOM_1_1']\n",
    "X_val, y_val = df_valid.drop(['IND_BOM_1_1'], axis=1), df_valid['IND_BOM_1_1']"
   ]
  },
  {
   "cell_type": "code",
   "execution_count": 4,
   "metadata": {},
   "outputs": [],
   "source": [
    "X_train = np.array(X_train)\n",
    "X_val = np.array(X_val)"
   ]
  },
  {
   "attachments": {},
   "cell_type": "markdown",
   "metadata": {},
   "source": [
    "#### **Parameters selection**"
   ]
  },
  {
   "cell_type": "code",
   "execution_count": 5,
   "metadata": {},
   "outputs": [],
   "source": [
    "params = {\n",
    "    'hidden_layer_sizes': [32, 128, 256],\n",
    "    'hidden_layers': {\n",
    "        'low': 1,\n",
    "        'high': 2\n",
    "    },\n",
    "    'alpha': [0.0001, 0.01],\n",
    "    'max_iter': [2000, 5000, 10000],\n",
    "    'batch_size': [32, 64, 128],\n",
    "    'activation': ['tanh', 'relu', 'sigmoid'],\n",
    "    'optimizer': ['SGD', 'Adam'],\n",
    "    'output_activation': ['sigmoid', 'softmax']\n",
    "}\n",
    "\n",
    "early_stopping = EarlyStopping(\n",
    "    monitor='val_loss',\n",
    "    patience=10,\n",
    "    verbose=1,\n",
    "    restore_best_weights=True,\n",
    "    min_delta=0.001\n",
    ")\n",
    "\n",
    "def objective(trial):\n",
    "    model = Sequential()\n",
    "    input_dimension = X_train.shape[1]\n",
    "    \n",
    "    model.add(\n",
    "        Dense(\n",
    "            input_dim=input_dimension,\n",
    "            units=trial.suggest_categorical(\n",
    "                'hidden_layer_sizes',\n",
    "                params['hidden_layer_sizes']\n",
    "            ),\n",
    "            activation=trial.suggest_categorical(\n",
    "                'activation',\n",
    "                params['activation']\n",
    "            )\n",
    "        )\n",
    "    )\n",
    "\n",
    "    hidden_layers = trial.suggest_int('hidden_layers', params['hidden_layers']['low'], params['hidden_layers']['high'])\n",
    "    \n",
    "    for _ in range(hidden_layers):\n",
    "        model.add(\n",
    "            Dense(\n",
    "                units=trial.suggest_categorical(\n",
    "                    'hidden_layer_sizes',\n",
    "                    params['hidden_layer_sizes']\n",
    "                ),\n",
    "                activation=trial.suggest_categorical(\n",
    "                    'activation',\n",
    "                    params['activation']\n",
    "                )\n",
    "            )\n",
    "        )\n",
    "    \n",
    "    model.add(\n",
    "        Dense(\n",
    "            units=1,\n",
    "            activation=trial.suggest_categorical(\n",
    "                'output_activation',\n",
    "                params['output_activation']\n",
    "            )\n",
    "        )\n",
    "    )\n",
    "\n",
    "    alpha = trial.suggest_categorical('alpha', params['alpha'])\n",
    "    optimizer_name = trial.suggest_categorical('optimizer', params['optimizer'])\n",
    "\n",
    "    if optimizer_name == 'SGD':\n",
    "        optimizer = SGD(learning_rate=alpha)\n",
    "    elif optimizer_name == 'Adam':\n",
    "        optimizer = Adam(learning_rate=alpha)\n",
    "\n",
    "    model.compile(\n",
    "        optimizer=optimizer,\n",
    "        loss='mse',\n",
    "        metrics=['accuracy']\n",
    "    )\n",
    "\n",
    "    model.fit(\n",
    "        X_train,\n",
    "        y_train,\n",
    "        batch_size=trial.suggest_categorical(\n",
    "            'batch_size',\n",
    "            params['batch_size']\n",
    "        ),\n",
    "        epochs=trial.suggest_categorical(\n",
    "            'max_iter',\n",
    "            params['max_iter']\n",
    "        ),\n",
    "        validation_data=(X_val, y_val),\n",
    "        callbacks=[early_stopping]\n",
    "    )\n",
    "\n",
    "    loss, accuracy = model.evaluate(X_val, y_val)\n",
    "\n",
    "    return loss"
   ]
  },
  {
   "cell_type": "code",
   "execution_count": 6,
   "metadata": {},
   "outputs": [
    {
     "name": "stderr",
     "output_type": "stream",
     "text": [
      "\u001b[32m[I 2023-03-29 19:14:48,542]\u001b[0m A new study created in memory with name: no-name-5ab2e6da-f0fc-4803-b5fa-704c8fb4d87b\u001b[0m\n"
     ]
    },
    {
     "name": "stdout",
     "output_type": "stream",
     "text": [
      "Epoch 1/2000\n",
      "1977/1977 [==============================] - 6s 3ms/step - loss: 0.3445 - accuracy: 0.6555 - val_loss: 0.3446 - val_accuracy: 0.6554\n",
      "Epoch 2/2000\n",
      "1977/1977 [==============================] - 6s 3ms/step - loss: 0.3445 - accuracy: 0.6555 - val_loss: 0.3446 - val_accuracy: 0.6554\n",
      "Epoch 3/2000\n",
      "1977/1977 [==============================] - 6s 3ms/step - loss: 0.3445 - accuracy: 0.6555 - val_loss: 0.3446 - val_accuracy: 0.6554\n",
      "Epoch 4/2000\n",
      "1977/1977 [==============================] - 6s 3ms/step - loss: 0.3445 - accuracy: 0.6555 - val_loss: 0.3446 - val_accuracy: 0.6554\n",
      "Epoch 5/2000\n",
      "1977/1977 [==============================] - 5s 3ms/step - loss: 0.3445 - accuracy: 0.6555 - val_loss: 0.3446 - val_accuracy: 0.6554\n",
      "Epoch 6/2000\n",
      "1977/1977 [==============================] - 5s 3ms/step - loss: 0.3445 - accuracy: 0.6555 - val_loss: 0.3446 - val_accuracy: 0.6554\n",
      "Epoch 7/2000\n",
      "1977/1977 [==============================] - 5s 2ms/step - loss: 0.3445 - accuracy: 0.6555 - val_loss: 0.3446 - val_accuracy: 0.6554\n",
      "Epoch 8/2000\n",
      "1977/1977 [==============================] - 5s 3ms/step - loss: 0.3445 - accuracy: 0.6555 - val_loss: 0.3446 - val_accuracy: 0.6554\n",
      "Epoch 9/2000\n",
      "1977/1977 [==============================] - 5s 2ms/step - loss: 0.3445 - accuracy: 0.6555 - val_loss: 0.3446 - val_accuracy: 0.6554\n",
      "Epoch 10/2000\n",
      "1977/1977 [==============================] - 5s 2ms/step - loss: 0.3445 - accuracy: 0.6555 - val_loss: 0.3446 - val_accuracy: 0.6554\n",
      "Epoch 11/2000\n",
      "1976/1977 [============================>.] - ETA: 0s - loss: 0.3446 - accuracy: 0.6554Restoring model weights from the end of the best epoch: 1.\n",
      "1977/1977 [==============================] - 5s 2ms/step - loss: 0.3445 - accuracy: 0.6555 - val_loss: 0.3446 - val_accuracy: 0.6554\n",
      "Epoch 11: early stopping\n",
      "4257/4257 [==============================] - 5s 1ms/step - loss: 0.3446 - accuracy: 0.6554\n"
     ]
    },
    {
     "name": "stderr",
     "output_type": "stream",
     "text": [
      "\u001b[32m[I 2023-03-29 19:15:52,765]\u001b[0m Trial 0 finished with value: 0.34456583857536316 and parameters: {'hidden_layer_sizes': 32, 'activation': 'relu', 'hidden_layers': 2, 'output_activation': 'softmax', 'alpha': 0.0001, 'optimizer': 'Adam', 'batch_size': 128, 'max_iter': 2000}. Best is trial 0 with value: 0.34456583857536316.\u001b[0m\n"
     ]
    },
    {
     "name": "stdout",
     "output_type": "stream",
     "text": [
      "Epoch 1/10000\n",
      "1977/1977 [==============================] - 10s 5ms/step - loss: 0.2376 - accuracy: 0.6078 - val_loss: 0.2315 - val_accuracy: 0.6435\n",
      "Epoch 2/10000\n",
      "1977/1977 [==============================] - 9s 4ms/step - loss: 0.2306 - accuracy: 0.6478 - val_loss: 0.2301 - val_accuracy: 0.6500\n",
      "Epoch 3/10000\n",
      "1977/1977 [==============================] - 9s 5ms/step - loss: 0.2296 - accuracy: 0.6508 - val_loss: 0.2292 - val_accuracy: 0.6513\n",
      "Epoch 4/10000\n",
      "1977/1977 [==============================] - 9s 4ms/step - loss: 0.2287 - accuracy: 0.6517 - val_loss: 0.2283 - val_accuracy: 0.6522\n",
      "Epoch 5/10000\n",
      "1977/1977 [==============================] - 9s 4ms/step - loss: 0.2279 - accuracy: 0.6522 - val_loss: 0.2275 - val_accuracy: 0.6527\n",
      "Epoch 6/10000\n",
      "1977/1977 [==============================] - 10s 5ms/step - loss: 0.2271 - accuracy: 0.6529 - val_loss: 0.2268 - val_accuracy: 0.6530\n",
      "Epoch 7/10000\n",
      "1977/1977 [==============================] - 9s 4ms/step - loss: 0.2264 - accuracy: 0.6534 - val_loss: 0.2261 - val_accuracy: 0.6533\n",
      "Epoch 8/10000\n",
      "1977/1977 [==============================] - 9s 5ms/step - loss: 0.2257 - accuracy: 0.6535 - val_loss: 0.2255 - val_accuracy: 0.6536\n",
      "Epoch 9/10000\n",
      "1977/1977 [==============================] - 9s 5ms/step - loss: 0.2251 - accuracy: 0.6539 - val_loss: 0.2249 - val_accuracy: 0.6540\n",
      "Epoch 10/10000\n",
      "1977/1977 [==============================] - 9s 5ms/step - loss: 0.2246 - accuracy: 0.6541 - val_loss: 0.2244 - val_accuracy: 0.6542\n",
      "Epoch 11/10000\n",
      "1977/1977 [==============================] - 8s 4ms/step - loss: 0.2240 - accuracy: 0.6543 - val_loss: 0.2239 - val_accuracy: 0.6543\n",
      "Epoch 12/10000\n",
      "1977/1977 [==============================] - 9s 4ms/step - loss: 0.2236 - accuracy: 0.6544 - val_loss: 0.2234 - val_accuracy: 0.6546\n",
      "Epoch 13/10000\n",
      "1977/1977 [==============================] - 8s 4ms/step - loss: 0.2231 - accuracy: 0.6546 - val_loss: 0.2230 - val_accuracy: 0.6548\n",
      "Epoch 14/10000\n",
      "1977/1977 [==============================] - 9s 4ms/step - loss: 0.2226 - accuracy: 0.6547 - val_loss: 0.2225 - val_accuracy: 0.6549\n",
      "Epoch 15/10000\n",
      "1977/1977 [==============================] - 9s 4ms/step - loss: 0.2222 - accuracy: 0.6548 - val_loss: 0.2221 - val_accuracy: 0.6550\n",
      "Epoch 16/10000\n",
      "1977/1977 [==============================] - 9s 4ms/step - loss: 0.2218 - accuracy: 0.6550 - val_loss: 0.2218 - val_accuracy: 0.6551\n",
      "Epoch 17/10000\n",
      "1977/1977 [==============================] - 9s 4ms/step - loss: 0.2214 - accuracy: 0.6551 - val_loss: 0.2214 - val_accuracy: 0.6552\n",
      "Epoch 18/10000\n",
      "1977/1977 [==============================] - 9s 4ms/step - loss: 0.2211 - accuracy: 0.6552 - val_loss: 0.2211 - val_accuracy: 0.6553\n",
      "Epoch 19/10000\n",
      "1977/1977 [==============================] - 9s 4ms/step - loss: 0.2207 - accuracy: 0.6553 - val_loss: 0.2207 - val_accuracy: 0.6553\n",
      "Epoch 20/10000\n",
      "1977/1977 [==============================] - 9s 5ms/step - loss: 0.2204 - accuracy: 0.6554 - val_loss: 0.2204 - val_accuracy: 0.6554\n",
      "Epoch 21/10000\n",
      "1977/1977 [==============================] - 9s 5ms/step - loss: 0.2201 - accuracy: 0.6555 - val_loss: 0.2201 - val_accuracy: 0.6556\n",
      "Epoch 22/10000\n",
      "1977/1977 [==============================] - 9s 5ms/step - loss: 0.2198 - accuracy: 0.6557 - val_loss: 0.2199 - val_accuracy: 0.6557\n",
      "Epoch 23/10000\n",
      "1977/1977 [==============================] - 9s 4ms/step - loss: 0.2195 - accuracy: 0.6559 - val_loss: 0.2196 - val_accuracy: 0.6558\n",
      "Epoch 24/10000\n",
      "1977/1977 [==============================] - 9s 4ms/step - loss: 0.2193 - accuracy: 0.6560 - val_loss: 0.2193 - val_accuracy: 0.6558\n",
      "Epoch 25/10000\n",
      "1977/1977 [==============================] - 9s 4ms/step - loss: 0.2190 - accuracy: 0.6560 - val_loss: 0.2191 - val_accuracy: 0.6559\n",
      "Epoch 26/10000\n",
      "1977/1977 [==============================] - 9s 4ms/step - loss: 0.2187 - accuracy: 0.6561 - val_loss: 0.2188 - val_accuracy: 0.6561\n",
      "Epoch 27/10000\n",
      "1977/1977 [==============================] - 9s 4ms/step - loss: 0.2185 - accuracy: 0.6562 - val_loss: 0.2186 - val_accuracy: 0.6562\n",
      "Epoch 28/10000\n",
      "1977/1977 [==============================] - 9s 4ms/step - loss: 0.2183 - accuracy: 0.6563 - val_loss: 0.2184 - val_accuracy: 0.6563\n",
      "Epoch 29/10000\n",
      "1977/1977 [==============================] - 9s 4ms/step - loss: 0.2180 - accuracy: 0.6565 - val_loss: 0.2182 - val_accuracy: 0.6564\n",
      "Epoch 30/10000\n",
      "1977/1977 [==============================] - 9s 5ms/step - loss: 0.2178 - accuracy: 0.6568 - val_loss: 0.2180 - val_accuracy: 0.6565\n",
      "Epoch 31/10000\n",
      "1977/1977 [==============================] - 10s 5ms/step - loss: 0.2176 - accuracy: 0.6568 - val_loss: 0.2178 - val_accuracy: 0.6566\n",
      "Epoch 32/10000\n",
      "1977/1977 [==============================] - 9s 4ms/step - loss: 0.2174 - accuracy: 0.6571 - val_loss: 0.2176 - val_accuracy: 0.6567\n",
      "Epoch 33/10000\n",
      "1977/1977 [==============================] - 9s 4ms/step - loss: 0.2172 - accuracy: 0.6572 - val_loss: 0.2174 - val_accuracy: 0.6569\n",
      "Epoch 34/10000\n",
      "1977/1977 [==============================] - 9s 5ms/step - loss: 0.2170 - accuracy: 0.6571 - val_loss: 0.2172 - val_accuracy: 0.6571\n",
      "Epoch 35/10000\n",
      "1977/1977 [==============================] - 9s 5ms/step - loss: 0.2168 - accuracy: 0.6572 - val_loss: 0.2170 - val_accuracy: 0.6572\n",
      "Epoch 36/10000\n",
      "1977/1977 [==============================] - 9s 5ms/step - loss: 0.2166 - accuracy: 0.6574 - val_loss: 0.2169 - val_accuracy: 0.6571\n",
      "Epoch 37/10000\n",
      "1977/1977 [==============================] - 9s 5ms/step - loss: 0.2165 - accuracy: 0.6576 - val_loss: 0.2167 - val_accuracy: 0.6572\n",
      "Epoch 38/10000\n",
      "1977/1977 [==============================] - 12s 6ms/step - loss: 0.2163 - accuracy: 0.6576 - val_loss: 0.2165 - val_accuracy: 0.6573\n",
      "Epoch 39/10000\n",
      "1977/1977 [==============================] - 11s 6ms/step - loss: 0.2161 - accuracy: 0.6577 - val_loss: 0.2164 - val_accuracy: 0.6575\n",
      "Epoch 40/10000\n",
      "1977/1977 [==============================] - 11s 6ms/step - loss: 0.2160 - accuracy: 0.6580 - val_loss: 0.2162 - val_accuracy: 0.6576\n",
      "Epoch 41/10000\n",
      "1977/1977 [==============================] - 10s 5ms/step - loss: 0.2158 - accuracy: 0.6581 - val_loss: 0.2161 - val_accuracy: 0.6578\n",
      "Epoch 42/10000\n",
      "1977/1977 [==============================] - 11s 5ms/step - loss: 0.2157 - accuracy: 0.6582 - val_loss: 0.2160 - val_accuracy: 0.6581\n",
      "Epoch 43/10000\n",
      "1977/1977 [==============================] - 11s 5ms/step - loss: 0.2155 - accuracy: 0.6585 - val_loss: 0.2158 - val_accuracy: 0.6582\n",
      "Epoch 44/10000\n",
      "1977/1977 [==============================] - 13s 7ms/step - loss: 0.2154 - accuracy: 0.6587 - val_loss: 0.2157 - val_accuracy: 0.6585\n",
      "Epoch 45/10000\n",
      "1977/1977 [==============================] - 9s 5ms/step - loss: 0.2152 - accuracy: 0.6587 - val_loss: 0.2156 - val_accuracy: 0.6586\n",
      "Epoch 46/10000\n",
      "1977/1977 [==============================] - 9s 5ms/step - loss: 0.2151 - accuracy: 0.6588 - val_loss: 0.2154 - val_accuracy: 0.6587\n",
      "Epoch 47/10000\n",
      "1977/1977 [==============================] - 9s 4ms/step - loss: 0.2150 - accuracy: 0.6591 - val_loss: 0.2153 - val_accuracy: 0.6588\n",
      "Epoch 48/10000\n",
      "1977/1977 [==============================] - 9s 4ms/step - loss: 0.2149 - accuracy: 0.6592 - val_loss: 0.2152 - val_accuracy: 0.6593\n",
      "Epoch 49/10000\n",
      "1977/1977 [==============================] - 9s 4ms/step - loss: 0.2147 - accuracy: 0.6594 - val_loss: 0.2151 - val_accuracy: 0.6594\n",
      "Epoch 50/10000\n",
      "1977/1977 [==============================] - 9s 4ms/step - loss: 0.2146 - accuracy: 0.6596 - val_loss: 0.2150 - val_accuracy: 0.6594\n",
      "Epoch 51/10000\n",
      "1977/1977 [==============================] - 9s 4ms/step - loss: 0.2145 - accuracy: 0.6599 - val_loss: 0.2149 - val_accuracy: 0.6597\n",
      "Epoch 52/10000\n",
      "1977/1977 [==============================] - 9s 4ms/step - loss: 0.2144 - accuracy: 0.6600 - val_loss: 0.2148 - val_accuracy: 0.6599\n",
      "Epoch 53/10000\n",
      "1977/1977 [==============================] - 9s 4ms/step - loss: 0.2143 - accuracy: 0.6603 - val_loss: 0.2146 - val_accuracy: 0.6602\n",
      "Epoch 54/10000\n",
      "1977/1977 [==============================] - 9s 4ms/step - loss: 0.2142 - accuracy: 0.6606 - val_loss: 0.2145 - val_accuracy: 0.6604\n",
      "Epoch 55/10000\n",
      "1977/1977 [==============================] - 9s 4ms/step - loss: 0.2141 - accuracy: 0.6607 - val_loss: 0.2144 - val_accuracy: 0.6604\n",
      "Epoch 56/10000\n",
      "1977/1977 [==============================] - 9s 4ms/step - loss: 0.2140 - accuracy: 0.6610 - val_loss: 0.2144 - val_accuracy: 0.6606\n",
      "Epoch 57/10000\n",
      "1977/1977 [==============================] - 9s 4ms/step - loss: 0.2139 - accuracy: 0.6611 - val_loss: 0.2143 - val_accuracy: 0.6606\n",
      "Epoch 58/10000\n",
      "1977/1977 [==============================] - 9s 4ms/step - loss: 0.2138 - accuracy: 0.6612 - val_loss: 0.2142 - val_accuracy: 0.6606\n",
      "Epoch 59/10000\n",
      "1975/1977 [============================>.] - ETA: 0s - loss: 0.2137 - accuracy: 0.6613Restoring model weights from the end of the best epoch: 49.\n",
      "1977/1977 [==============================] - 9s 5ms/step - loss: 0.2137 - accuracy: 0.6613 - val_loss: 0.2141 - val_accuracy: 0.6608\n",
      "Epoch 59: early stopping\n",
      "4257/4257 [==============================] - 9s 2ms/step - loss: 0.2151 - accuracy: 0.6594\n"
     ]
    },
    {
     "name": "stderr",
     "output_type": "stream",
     "text": [
      "\u001b[32m[I 2023-03-29 19:25:04,107]\u001b[0m Trial 1 finished with value: 0.21507668495178223 and parameters: {'hidden_layer_sizes': 256, 'activation': 'tanh', 'hidden_layers': 2, 'output_activation': 'sigmoid', 'alpha': 0.0001, 'optimizer': 'SGD', 'batch_size': 128, 'max_iter': 10000}. Best is trial 1 with value: 0.21507668495178223.\u001b[0m\n"
     ]
    },
    {
     "name": "stdout",
     "output_type": "stream",
     "text": [
      "Epoch 1/2000\n",
      "1977/1977 [==============================] - 6s 3ms/step - loss: 0.2952 - accuracy: 0.3445 - val_loss: 0.2806 - val_accuracy: 0.3446\n",
      "Epoch 2/2000\n",
      "1977/1977 [==============================] - 5s 3ms/step - loss: 0.2694 - accuracy: 0.3445 - val_loss: 0.2597 - val_accuracy: 0.3446\n",
      "Epoch 3/2000\n",
      "1977/1977 [==============================] - 5s 3ms/step - loss: 0.2525 - accuracy: 0.4432 - val_loss: 0.2465 - val_accuracy: 0.6554\n",
      "Epoch 4/2000\n",
      "1977/1977 [==============================] - 5s 2ms/step - loss: 0.2422 - accuracy: 0.6555 - val_loss: 0.2385 - val_accuracy: 0.6554\n",
      "Epoch 5/2000\n",
      "1977/1977 [==============================] - 5s 2ms/step - loss: 0.2359 - accuracy: 0.6555 - val_loss: 0.2337 - val_accuracy: 0.6554\n",
      "Epoch 6/2000\n",
      "1977/1977 [==============================] - 6s 3ms/step - loss: 0.2321 - accuracy: 0.6555 - val_loss: 0.2307 - val_accuracy: 0.6554\n",
      "Epoch 7/2000\n",
      "1977/1977 [==============================] - 5s 2ms/step - loss: 0.2297 - accuracy: 0.6555 - val_loss: 0.2289 - val_accuracy: 0.6554\n",
      "Epoch 8/2000\n",
      "1977/1977 [==============================] - 4s 2ms/step - loss: 0.2283 - accuracy: 0.6555 - val_loss: 0.2278 - val_accuracy: 0.6554\n",
      "Epoch 9/2000\n",
      "1977/1977 [==============================] - 5s 2ms/step - loss: 0.2274 - accuracy: 0.6555 - val_loss: 0.2271 - val_accuracy: 0.6554\n",
      "Epoch 10/2000\n",
      "1977/1977 [==============================] - 4s 2ms/step - loss: 0.2268 - accuracy: 0.6555 - val_loss: 0.2266 - val_accuracy: 0.6554\n",
      "Epoch 11/2000\n",
      "1977/1977 [==============================] - 6s 3ms/step - loss: 0.2265 - accuracy: 0.6555 - val_loss: 0.2263 - val_accuracy: 0.6554\n",
      "Epoch 12/2000\n",
      "1977/1977 [==============================] - 6s 3ms/step - loss: 0.2262 - accuracy: 0.6555 - val_loss: 0.2262 - val_accuracy: 0.6554\n",
      "Epoch 13/2000\n",
      "1977/1977 [==============================] - 5s 3ms/step - loss: 0.2261 - accuracy: 0.6555 - val_loss: 0.2260 - val_accuracy: 0.6554\n",
      "Epoch 14/2000\n",
      "1977/1977 [==============================] - 4s 2ms/step - loss: 0.2260 - accuracy: 0.6555 - val_loss: 0.2260 - val_accuracy: 0.6554\n",
      "Epoch 15/2000\n",
      "1977/1977 [==============================] - 5s 2ms/step - loss: 0.2259 - accuracy: 0.6555 - val_loss: 0.2259 - val_accuracy: 0.6554\n",
      "Epoch 16/2000\n",
      "1977/1977 [==============================] - 5s 2ms/step - loss: 0.2259 - accuracy: 0.6555 - val_loss: 0.2259 - val_accuracy: 0.6554\n",
      "Epoch 17/2000\n",
      "1977/1977 [==============================] - 4s 2ms/step - loss: 0.2259 - accuracy: 0.6555 - val_loss: 0.2259 - val_accuracy: 0.6554\n",
      "Epoch 18/2000\n",
      "1977/1977 [==============================] - 4s 2ms/step - loss: 0.2258 - accuracy: 0.6555 - val_loss: 0.2258 - val_accuracy: 0.6554\n",
      "Epoch 19/2000\n",
      "1977/1977 [==============================] - 4s 2ms/step - loss: 0.2258 - accuracy: 0.6555 - val_loss: 0.2258 - val_accuracy: 0.6554\n",
      "Epoch 20/2000\n",
      "1953/1977 [============================>.] - ETA: 0s - loss: 0.2258 - accuracy: 0.6555Restoring model weights from the end of the best epoch: 10.\n",
      "1977/1977 [==============================] - 4s 2ms/step - loss: 0.2258 - accuracy: 0.6555 - val_loss: 0.2258 - val_accuracy: 0.6554\n",
      "Epoch 20: early stopping\n",
      "4257/4257 [==============================] - 5s 1ms/step - loss: 0.2266 - accuracy: 0.6554\n"
     ]
    },
    {
     "name": "stderr",
     "output_type": "stream",
     "text": [
      "\u001b[32m[I 2023-03-29 19:26:46,574]\u001b[0m Trial 2 finished with value: 0.22663159668445587 and parameters: {'hidden_layer_sizes': 32, 'activation': 'sigmoid', 'hidden_layers': 2, 'output_activation': 'sigmoid', 'alpha': 0.0001, 'optimizer': 'SGD', 'batch_size': 128, 'max_iter': 2000}. Best is trial 1 with value: 0.21507668495178223.\u001b[0m\n"
     ]
    },
    {
     "name": "stdout",
     "output_type": "stream",
     "text": [
      "Epoch 1/2000\n",
      "3953/3953 [==============================] - 10s 2ms/step - loss: 0.3445 - accuracy: 0.6555 - val_loss: 0.3446 - val_accuracy: 0.6554\n",
      "Epoch 2/2000\n",
      "3953/3953 [==============================] - 13s 3ms/step - loss: 0.3445 - accuracy: 0.6555 - val_loss: 0.3446 - val_accuracy: 0.6554\n",
      "Epoch 3/2000\n",
      "3953/3953 [==============================] - 8s 2ms/step - loss: 0.3445 - accuracy: 0.6555 - val_loss: 0.3446 - val_accuracy: 0.6554\n",
      "Epoch 4/2000\n",
      "3953/3953 [==============================] - 8s 2ms/step - loss: 0.3445 - accuracy: 0.6555 - val_loss: 0.3446 - val_accuracy: 0.6554\n",
      "Epoch 5/2000\n",
      "3953/3953 [==============================] - 9s 2ms/step - loss: 0.3445 - accuracy: 0.6555 - val_loss: 0.3446 - val_accuracy: 0.6554\n",
      "Epoch 6/2000\n",
      "3953/3953 [==============================] - 9s 2ms/step - loss: 0.3445 - accuracy: 0.6555 - val_loss: 0.3446 - val_accuracy: 0.6554\n",
      "Epoch 7/2000\n",
      "3953/3953 [==============================] - 9s 2ms/step - loss: 0.3445 - accuracy: 0.6555 - val_loss: 0.3446 - val_accuracy: 0.6554\n",
      "Epoch 8/2000\n",
      "3953/3953 [==============================] - 8s 2ms/step - loss: 0.3445 - accuracy: 0.6555 - val_loss: 0.3446 - val_accuracy: 0.6554\n",
      "Epoch 9/2000\n",
      "3953/3953 [==============================] - 8s 2ms/step - loss: 0.3445 - accuracy: 0.6555 - val_loss: 0.3446 - val_accuracy: 0.6554\n",
      "Epoch 10/2000\n",
      "3953/3953 [==============================] - 12s 3ms/step - loss: 0.3445 - accuracy: 0.6555 - val_loss: 0.3446 - val_accuracy: 0.6554\n",
      "Epoch 11/2000\n",
      "3922/3953 [============================>.] - ETA: 0s - loss: 0.3446 - accuracy: 0.6554Restoring model weights from the end of the best epoch: 1.\n",
      "3953/3953 [==============================] - 9s 2ms/step - loss: 0.3445 - accuracy: 0.6555 - val_loss: 0.3446 - val_accuracy: 0.6554\n",
      "Epoch 11: early stopping\n",
      "4257/4257 [==============================] - 7s 2ms/step - loss: 0.3446 - accuracy: 0.6554\n"
     ]
    },
    {
     "name": "stderr",
     "output_type": "stream",
     "text": [
      "\u001b[32m[I 2023-03-29 19:28:38,852]\u001b[0m Trial 3 finished with value: 0.34456583857536316 and parameters: {'hidden_layer_sizes': 32, 'activation': 'relu', 'hidden_layers': 2, 'output_activation': 'softmax', 'alpha': 0.0001, 'optimizer': 'Adam', 'batch_size': 64, 'max_iter': 2000}. Best is trial 1 with value: 0.21507668495178223.\u001b[0m\n"
     ]
    },
    {
     "name": "stdout",
     "output_type": "stream",
     "text": [
      "Epoch 1/5000\n",
      "3953/3953 [==============================] - 9s 2ms/step - loss: 0.2262 - accuracy: 0.6414 - val_loss: 0.2163 - val_accuracy: 0.6554\n",
      "Epoch 2/5000\n",
      "3953/3953 [==============================] - 9s 2ms/step - loss: 0.2116 - accuracy: 0.6653 - val_loss: 0.2100 - val_accuracy: 0.6688\n",
      "Epoch 3/5000\n",
      "3953/3953 [==============================] - 8s 2ms/step - loss: 0.2084 - accuracy: 0.6714 - val_loss: 0.2092 - val_accuracy: 0.6687\n",
      "Epoch 4/5000\n",
      "3953/3953 [==============================] - 8s 2ms/step - loss: 0.2074 - accuracy: 0.6736 - val_loss: 0.2081 - val_accuracy: 0.6714\n",
      "Epoch 5/5000\n",
      "3953/3953 [==============================] - 9s 2ms/step - loss: 0.2067 - accuracy: 0.6749 - val_loss: 0.2076 - val_accuracy: 0.6725\n",
      "Epoch 6/5000\n",
      "3953/3953 [==============================] - 9s 2ms/step - loss: 0.2063 - accuracy: 0.6756 - val_loss: 0.2072 - val_accuracy: 0.6732\n",
      "Epoch 7/5000\n",
      "3953/3953 [==============================] - 9s 2ms/step - loss: 0.2060 - accuracy: 0.6762 - val_loss: 0.2069 - val_accuracy: 0.6738\n",
      "Epoch 8/5000\n",
      "3953/3953 [==============================] - 9s 2ms/step - loss: 0.2058 - accuracy: 0.6765 - val_loss: 0.2067 - val_accuracy: 0.6741\n",
      "Epoch 9/5000\n",
      "3953/3953 [==============================] - 9s 2ms/step - loss: 0.2056 - accuracy: 0.6770 - val_loss: 0.2069 - val_accuracy: 0.6734\n",
      "Epoch 10/5000\n",
      "3953/3953 [==============================] - 8s 2ms/step - loss: 0.2054 - accuracy: 0.6775 - val_loss: 0.2064 - val_accuracy: 0.6743\n",
      "Epoch 11/5000\n",
      "3953/3953 [==============================] - 8s 2ms/step - loss: 0.2053 - accuracy: 0.6780 - val_loss: 0.2065 - val_accuracy: 0.6743\n",
      "Epoch 12/5000\n",
      "3953/3953 [==============================] - 8s 2ms/step - loss: 0.2051 - accuracy: 0.6780 - val_loss: 0.2061 - val_accuracy: 0.6752\n",
      "Epoch 13/5000\n",
      "3953/3953 [==============================] - 8s 2ms/step - loss: 0.2049 - accuracy: 0.6782 - val_loss: 0.2060 - val_accuracy: 0.6751\n",
      "Epoch 14/5000\n",
      "3953/3953 [==============================] - 8s 2ms/step - loss: 0.2047 - accuracy: 0.6785 - val_loss: 0.2058 - val_accuracy: 0.6754\n",
      "Epoch 15/5000\n",
      "3953/3953 [==============================] - 8s 2ms/step - loss: 0.2046 - accuracy: 0.6792 - val_loss: 0.2056 - val_accuracy: 0.6758\n",
      "Epoch 16/5000\n",
      "3953/3953 [==============================] - 8s 2ms/step - loss: 0.2044 - accuracy: 0.6796 - val_loss: 0.2054 - val_accuracy: 0.6763\n",
      "Epoch 17/5000\n",
      "3953/3953 [==============================] - 8s 2ms/step - loss: 0.2041 - accuracy: 0.6798 - val_loss: 0.2053 - val_accuracy: 0.6766\n",
      "Epoch 18/5000\n",
      "3953/3953 [==============================] - 8s 2ms/step - loss: 0.2040 - accuracy: 0.6800 - val_loss: 0.2050 - val_accuracy: 0.6778\n",
      "Epoch 19/5000\n",
      "3953/3953 [==============================] - 8s 2ms/step - loss: 0.2038 - accuracy: 0.6802 - val_loss: 0.2050 - val_accuracy: 0.6781\n",
      "Epoch 20/5000\n",
      "3953/3953 [==============================] - 8s 2ms/step - loss: 0.2036 - accuracy: 0.6812 - val_loss: 0.2047 - val_accuracy: 0.6776\n",
      "Epoch 21/5000\n",
      "3953/3953 [==============================] - 8s 2ms/step - loss: 0.2034 - accuracy: 0.6812 - val_loss: 0.2046 - val_accuracy: 0.6778\n",
      "Epoch 22/5000\n",
      "3953/3953 [==============================] - 8s 2ms/step - loss: 0.2033 - accuracy: 0.6814 - val_loss: 0.2045 - val_accuracy: 0.6776\n",
      "Epoch 23/5000\n",
      "3953/3953 [==============================] - 8s 2ms/step - loss: 0.2031 - accuracy: 0.6816 - val_loss: 0.2045 - val_accuracy: 0.6788\n",
      "Epoch 24/5000\n",
      "3953/3953 [==============================] - 8s 2ms/step - loss: 0.2030 - accuracy: 0.6819 - val_loss: 0.2043 - val_accuracy: 0.6790\n",
      "Epoch 25/5000\n",
      "3953/3953 [==============================] - 8s 2ms/step - loss: 0.2029 - accuracy: 0.6821 - val_loss: 0.2041 - val_accuracy: 0.6792\n",
      "Epoch 26/5000\n",
      "3953/3953 [==============================] - 8s 2ms/step - loss: 0.2028 - accuracy: 0.6822 - val_loss: 0.2041 - val_accuracy: 0.6795\n",
      "Epoch 27/5000\n",
      "3953/3953 [==============================] - 9s 2ms/step - loss: 0.2027 - accuracy: 0.6823 - val_loss: 0.2039 - val_accuracy: 0.6802\n",
      "Epoch 28/5000\n",
      "3953/3953 [==============================] - 10s 2ms/step - loss: 0.2026 - accuracy: 0.6824 - val_loss: 0.2042 - val_accuracy: 0.6798\n",
      "Epoch 29/5000\n",
      "3953/3953 [==============================] - 8s 2ms/step - loss: 0.2025 - accuracy: 0.6827 - val_loss: 0.2037 - val_accuracy: 0.6801\n",
      "Epoch 30/5000\n",
      "3953/3953 [==============================] - ETA: 0s - loss: 0.2024 - accuracy: 0.6832Restoring model weights from the end of the best epoch: 20.\n",
      "3953/3953 [==============================] - 8s 2ms/step - loss: 0.2024 - accuracy: 0.6832 - val_loss: 0.2038 - val_accuracy: 0.6799\n",
      "Epoch 30: early stopping\n",
      "4257/4257 [==============================] - 5s 1ms/step - loss: 0.2047 - accuracy: 0.6776\n"
     ]
    },
    {
     "name": "stderr",
     "output_type": "stream",
     "text": [
      "\u001b[32m[I 2023-03-29 19:32:53,569]\u001b[0m Trial 4 finished with value: 0.20473061501979828 and parameters: {'hidden_layer_sizes': 32, 'activation': 'sigmoid', 'hidden_layers': 2, 'output_activation': 'sigmoid', 'alpha': 0.0001, 'optimizer': 'Adam', 'batch_size': 64, 'max_iter': 5000}. Best is trial 4 with value: 0.20473061501979828.\u001b[0m\n"
     ]
    },
    {
     "name": "stdout",
     "output_type": "stream",
     "text": [
      "Epoch 1/5000\n",
      "1977/1977 [==============================] - 8s 4ms/step - loss: 0.3445 - accuracy: 0.6555 - val_loss: 0.3446 - val_accuracy: 0.6554\n",
      "Epoch 2/5000\n",
      "1977/1977 [==============================] - 7s 3ms/step - loss: 0.3445 - accuracy: 0.6555 - val_loss: 0.3446 - val_accuracy: 0.6554\n",
      "Epoch 3/5000\n",
      "1977/1977 [==============================] - 8s 4ms/step - loss: 0.3445 - accuracy: 0.6555 - val_loss: 0.3446 - val_accuracy: 0.6554\n",
      "Epoch 4/5000\n",
      "1977/1977 [==============================] - 10s 5ms/step - loss: 0.3445 - accuracy: 0.6555 - val_loss: 0.3446 - val_accuracy: 0.6554\n",
      "Epoch 5/5000\n",
      "1977/1977 [==============================] - 7s 4ms/step - loss: 0.3445 - accuracy: 0.6555 - val_loss: 0.3446 - val_accuracy: 0.6554\n",
      "Epoch 6/5000\n",
      "1977/1977 [==============================] - 7s 3ms/step - loss: 0.3445 - accuracy: 0.6555 - val_loss: 0.3446 - val_accuracy: 0.6554\n",
      "Epoch 7/5000\n",
      "1977/1977 [==============================] - 7s 4ms/step - loss: 0.3445 - accuracy: 0.6555 - val_loss: 0.3446 - val_accuracy: 0.6554\n",
      "Epoch 8/5000\n",
      "1977/1977 [==============================] - 7s 4ms/step - loss: 0.3445 - accuracy: 0.6555 - val_loss: 0.3446 - val_accuracy: 0.6554\n",
      "Epoch 9/5000\n",
      "1977/1977 [==============================] - 8s 4ms/step - loss: 0.3445 - accuracy: 0.6555 - val_loss: 0.3446 - val_accuracy: 0.6554\n",
      "Epoch 10/5000\n",
      "1977/1977 [==============================] - 7s 4ms/step - loss: 0.3445 - accuracy: 0.6555 - val_loss: 0.3446 - val_accuracy: 0.6554\n",
      "Epoch 11/5000\n",
      "1967/1977 [============================>.] - ETA: 0s - loss: 0.3445 - accuracy: 0.6555Restoring model weights from the end of the best epoch: 1.\n",
      "1977/1977 [==============================] - 7s 4ms/step - loss: 0.3445 - accuracy: 0.6555 - val_loss: 0.3446 - val_accuracy: 0.6554\n",
      "Epoch 11: early stopping\n",
      "4257/4257 [==============================] - 7s 2ms/step - loss: 0.3446 - accuracy: 0.6554\n"
     ]
    },
    {
     "name": "stderr",
     "output_type": "stream",
     "text": [
      "\u001b[32m[I 2023-03-29 19:34:23,821]\u001b[0m Trial 5 finished with value: 0.34456583857536316 and parameters: {'hidden_layer_sizes': 256, 'activation': 'tanh', 'hidden_layers': 1, 'output_activation': 'softmax', 'alpha': 0.01, 'optimizer': 'SGD', 'batch_size': 128, 'max_iter': 5000}. Best is trial 4 with value: 0.20473061501979828.\u001b[0m\n"
     ]
    },
    {
     "name": "stdout",
     "output_type": "stream",
     "text": [
      "Epoch 1/10000\n",
      "3953/3953 [==============================] - 8s 2ms/step - loss: 0.2278 - accuracy: 0.6555 - val_loss: 0.2273 - val_accuracy: 0.6554\n",
      "Epoch 2/10000\n",
      "3953/3953 [==============================] - 7s 2ms/step - loss: 0.2269 - accuracy: 0.6555 - val_loss: 0.2266 - val_accuracy: 0.6554\n",
      "Epoch 3/10000\n",
      "3953/3953 [==============================] - 8s 2ms/step - loss: 0.2265 - accuracy: 0.6555 - val_loss: 0.2263 - val_accuracy: 0.6554\n",
      "Epoch 4/10000\n",
      "3953/3953 [==============================] - 7s 2ms/step - loss: 0.2262 - accuracy: 0.6555 - val_loss: 0.2262 - val_accuracy: 0.6554\n",
      "Epoch 5/10000\n",
      "3953/3953 [==============================] - 7s 2ms/step - loss: 0.2261 - accuracy: 0.6555 - val_loss: 0.2261 - val_accuracy: 0.6554\n",
      "Epoch 6/10000\n",
      "3953/3953 [==============================] - 7s 2ms/step - loss: 0.2261 - accuracy: 0.6555 - val_loss: 0.2261 - val_accuracy: 0.6554\n",
      "Epoch 7/10000\n",
      "3953/3953 [==============================] - 8s 2ms/step - loss: 0.2261 - accuracy: 0.6555 - val_loss: 0.2260 - val_accuracy: 0.6554\n",
      "Epoch 8/10000\n",
      "3953/3953 [==============================] - 8s 2ms/step - loss: 0.2260 - accuracy: 0.6555 - val_loss: 0.2260 - val_accuracy: 0.6554\n",
      "Epoch 9/10000\n",
      "3953/3953 [==============================] - 9s 2ms/step - loss: 0.2260 - accuracy: 0.6555 - val_loss: 0.2260 - val_accuracy: 0.6554\n",
      "Epoch 10/10000\n",
      "3953/3953 [==============================] - 8s 2ms/step - loss: 0.2260 - accuracy: 0.6555 - val_loss: 0.2260 - val_accuracy: 0.6554\n",
      "Epoch 11/10000\n",
      "3953/3953 [==============================] - 8s 2ms/step - loss: 0.2260 - accuracy: 0.6555 - val_loss: 0.2260 - val_accuracy: 0.6554\n",
      "Epoch 12/10000\n",
      "3953/3953 [==============================] - 8s 2ms/step - loss: 0.2260 - accuracy: 0.6555 - val_loss: 0.2260 - val_accuracy: 0.6554\n",
      "Epoch 13/10000\n",
      "3953/3953 [==============================] - 8s 2ms/step - loss: 0.2260 - accuracy: 0.6555 - val_loss: 0.2260 - val_accuracy: 0.6554\n",
      "Epoch 14/10000\n",
      "3917/3953 [============================>.] - ETA: 0s - loss: 0.2260 - accuracy: 0.6555Restoring model weights from the end of the best epoch: 4.\n",
      "3953/3953 [==============================] - 7s 2ms/step - loss: 0.2260 - accuracy: 0.6555 - val_loss: 0.2260 - val_accuracy: 0.6554\n",
      "Epoch 14: early stopping\n",
      "4257/4257 [==============================] - 5s 1ms/step - loss: 0.2262 - accuracy: 0.6554\n"
     ]
    },
    {
     "name": "stderr",
     "output_type": "stream",
     "text": [
      "\u001b[32m[I 2023-03-29 19:36:18,764]\u001b[0m Trial 6 finished with value: 0.2261623740196228 and parameters: {'hidden_layer_sizes': 32, 'activation': 'sigmoid', 'hidden_layers': 1, 'output_activation': 'sigmoid', 'alpha': 0.0001, 'optimizer': 'SGD', 'batch_size': 64, 'max_iter': 10000}. Best is trial 4 with value: 0.20473061501979828.\u001b[0m\n"
     ]
    },
    {
     "name": "stdout",
     "output_type": "stream",
     "text": [
      "Epoch 1/10000\n",
      "1977/1977 [==============================] - 7s 4ms/step - loss: 0.3445 - accuracy: 0.6555 - val_loss: 0.3446 - val_accuracy: 0.6554\n",
      "Epoch 2/10000\n",
      "1977/1977 [==============================] - 5s 3ms/step - loss: 0.3445 - accuracy: 0.6555 - val_loss: 0.3446 - val_accuracy: 0.6554\n",
      "Epoch 3/10000\n",
      "1977/1977 [==============================] - 5s 2ms/step - loss: 0.3445 - accuracy: 0.6555 - val_loss: 0.3446 - val_accuracy: 0.6554\n",
      "Epoch 4/10000\n",
      "1977/1977 [==============================] - 4s 2ms/step - loss: 0.3445 - accuracy: 0.6555 - val_loss: 0.3446 - val_accuracy: 0.6554\n",
      "Epoch 5/10000\n",
      "1977/1977 [==============================] - 5s 2ms/step - loss: 0.3445 - accuracy: 0.6555 - val_loss: 0.3446 - val_accuracy: 0.6554\n",
      "Epoch 6/10000\n",
      "1977/1977 [==============================] - 5s 2ms/step - loss: 0.3445 - accuracy: 0.6555 - val_loss: 0.3446 - val_accuracy: 0.6554\n",
      "Epoch 7/10000\n",
      "1977/1977 [==============================] - 5s 3ms/step - loss: 0.3445 - accuracy: 0.6555 - val_loss: 0.3446 - val_accuracy: 0.6554\n",
      "Epoch 8/10000\n",
      "1977/1977 [==============================] - 5s 2ms/step - loss: 0.3445 - accuracy: 0.6555 - val_loss: 0.3446 - val_accuracy: 0.6554\n",
      "Epoch 9/10000\n",
      "1977/1977 [==============================] - 5s 2ms/step - loss: 0.3445 - accuracy: 0.6555 - val_loss: 0.3446 - val_accuracy: 0.6554\n",
      "Epoch 10/10000\n",
      "1977/1977 [==============================] - 5s 3ms/step - loss: 0.3445 - accuracy: 0.6555 - val_loss: 0.3446 - val_accuracy: 0.6554\n",
      "Epoch 11/10000\n",
      "1976/1977 [============================>.] - ETA: 0s - loss: 0.3446 - accuracy: 0.6554Restoring model weights from the end of the best epoch: 1.\n",
      "1977/1977 [==============================] - 5s 2ms/step - loss: 0.3445 - accuracy: 0.6555 - val_loss: 0.3446 - val_accuracy: 0.6554\n",
      "Epoch 11: early stopping\n",
      "4257/4257 [==============================] - 5s 1ms/step - loss: 0.3446 - accuracy: 0.6554\n"
     ]
    },
    {
     "name": "stderr",
     "output_type": "stream",
     "text": [
      "\u001b[32m[I 2023-03-29 19:37:20,204]\u001b[0m Trial 7 finished with value: 0.34456583857536316 and parameters: {'hidden_layer_sizes': 32, 'activation': 'sigmoid', 'hidden_layers': 1, 'output_activation': 'softmax', 'alpha': 0.0001, 'optimizer': 'Adam', 'batch_size': 128, 'max_iter': 10000}. Best is trial 4 with value: 0.20473061501979828.\u001b[0m\n"
     ]
    },
    {
     "name": "stdout",
     "output_type": "stream",
     "text": [
      "Epoch 1/2000\n",
      "1977/1977 [==============================] - 8s 4ms/step - loss: 0.3445 - accuracy: 0.6555 - val_loss: 0.3446 - val_accuracy: 0.6554\n",
      "Epoch 2/2000\n",
      "1977/1977 [==============================] - 7s 4ms/step - loss: 0.3445 - accuracy: 0.6555 - val_loss: 0.3446 - val_accuracy: 0.6554\n",
      "Epoch 3/2000\n",
      "1977/1977 [==============================] - 8s 4ms/step - loss: 0.3445 - accuracy: 0.6555 - val_loss: 0.3446 - val_accuracy: 0.6554\n",
      "Epoch 4/2000\n",
      "1977/1977 [==============================] - 8s 4ms/step - loss: 0.3445 - accuracy: 0.6555 - val_loss: 0.3446 - val_accuracy: 0.6554\n",
      "Epoch 5/2000\n",
      "1977/1977 [==============================] - 7s 4ms/step - loss: 0.3445 - accuracy: 0.6555 - val_loss: 0.3446 - val_accuracy: 0.6554\n",
      "Epoch 6/2000\n",
      "1977/1977 [==============================] - 7s 4ms/step - loss: 0.3445 - accuracy: 0.6555 - val_loss: 0.3446 - val_accuracy: 0.6554\n",
      "Epoch 7/2000\n",
      "1977/1977 [==============================] - 7s 4ms/step - loss: 0.3445 - accuracy: 0.6555 - val_loss: 0.3446 - val_accuracy: 0.6554\n",
      "Epoch 8/2000\n",
      "1977/1977 [==============================] - 7s 4ms/step - loss: 0.3445 - accuracy: 0.6555 - val_loss: 0.3446 - val_accuracy: 0.6554\n",
      "Epoch 9/2000\n",
      "1977/1977 [==============================] - 7s 4ms/step - loss: 0.3445 - accuracy: 0.6555 - val_loss: 0.3446 - val_accuracy: 0.6554\n",
      "Epoch 10/2000\n",
      "1977/1977 [==============================] - 7s 4ms/step - loss: 0.3445 - accuracy: 0.6555 - val_loss: 0.3446 - val_accuracy: 0.6554\n",
      "Epoch 11/2000\n",
      "1969/1977 [============================>.] - ETA: 0s - loss: 0.3446 - accuracy: 0.6554Restoring model weights from the end of the best epoch: 1.\n",
      "1977/1977 [==============================] - 7s 4ms/step - loss: 0.3445 - accuracy: 0.6555 - val_loss: 0.3446 - val_accuracy: 0.6554\n",
      "Epoch 11: early stopping\n",
      "4257/4257 [==============================] - 6s 1ms/step - loss: 0.3446 - accuracy: 0.6554\n"
     ]
    },
    {
     "name": "stderr",
     "output_type": "stream",
     "text": [
      "\u001b[32m[I 2023-03-29 19:38:48,913]\u001b[0m Trial 8 finished with value: 0.34456583857536316 and parameters: {'hidden_layer_sizes': 256, 'activation': 'sigmoid', 'hidden_layers': 1, 'output_activation': 'softmax', 'alpha': 0.01, 'optimizer': 'Adam', 'batch_size': 128, 'max_iter': 2000}. Best is trial 4 with value: 0.20473061501979828.\u001b[0m\n"
     ]
    },
    {
     "name": "stdout",
     "output_type": "stream",
     "text": [
      "Epoch 1/2000\n",
      "3953/3953 [==============================] - 8s 2ms/step - loss: 0.2480 - accuracy: 0.5390 - val_loss: 0.2387 - val_accuracy: 0.6554\n",
      "Epoch 2/2000\n",
      "3953/3953 [==============================] - 7s 2ms/step - loss: 0.2340 - accuracy: 0.6555 - val_loss: 0.2307 - val_accuracy: 0.6554\n",
      "Epoch 3/2000\n",
      "3953/3953 [==============================] - 7s 2ms/step - loss: 0.2289 - accuracy: 0.6555 - val_loss: 0.2277 - val_accuracy: 0.6554\n",
      "Epoch 4/2000\n",
      "3953/3953 [==============================] - 7s 2ms/step - loss: 0.2270 - accuracy: 0.6555 - val_loss: 0.2266 - val_accuracy: 0.6554\n",
      "Epoch 5/2000\n",
      "3953/3953 [==============================] - 7s 2ms/step - loss: 0.2263 - accuracy: 0.6555 - val_loss: 0.2261 - val_accuracy: 0.6554\n",
      "Epoch 6/2000\n",
      "3953/3953 [==============================] - 8s 2ms/step - loss: 0.2260 - accuracy: 0.6555 - val_loss: 0.2259 - val_accuracy: 0.6554\n",
      "Epoch 7/2000\n",
      "3953/3953 [==============================] - 8s 2ms/step - loss: 0.2259 - accuracy: 0.6555 - val_loss: 0.2258 - val_accuracy: 0.6554\n",
      "Epoch 8/2000\n",
      "3953/3953 [==============================] - 7s 2ms/step - loss: 0.2258 - accuracy: 0.6555 - val_loss: 0.2258 - val_accuracy: 0.6554\n",
      "Epoch 9/2000\n",
      "3953/3953 [==============================] - 7s 2ms/step - loss: 0.2258 - accuracy: 0.6555 - val_loss: 0.2258 - val_accuracy: 0.6554\n",
      "Epoch 10/2000\n",
      "3953/3953 [==============================] - 7s 2ms/step - loss: 0.2258 - accuracy: 0.6555 - val_loss: 0.2258 - val_accuracy: 0.6554\n",
      "Epoch 11/2000\n",
      "3953/3953 [==============================] - 7s 2ms/step - loss: 0.2258 - accuracy: 0.6555 - val_loss: 0.2258 - val_accuracy: 0.6554\n",
      "Epoch 12/2000\n",
      "3953/3953 [==============================] - 8s 2ms/step - loss: 0.2258 - accuracy: 0.6555 - val_loss: 0.2258 - val_accuracy: 0.6554\n",
      "Epoch 13/2000\n",
      "3953/3953 [==============================] - 7s 2ms/step - loss: 0.2258 - accuracy: 0.6555 - val_loss: 0.2258 - val_accuracy: 0.6554\n",
      "Epoch 14/2000\n",
      "3918/3953 [============================>.] - ETA: 0s - loss: 0.2257 - accuracy: 0.6556Restoring model weights from the end of the best epoch: 4.\n",
      "3953/3953 [==============================] - 7s 2ms/step - loss: 0.2258 - accuracy: 0.6555 - val_loss: 0.2258 - val_accuracy: 0.6554\n",
      "Epoch 14: early stopping\n",
      "4257/4257 [==============================] - 5s 1ms/step - loss: 0.2266 - accuracy: 0.6554\n"
     ]
    },
    {
     "name": "stderr",
     "output_type": "stream",
     "text": [
      "\u001b[32m[I 2023-03-29 19:40:38,216]\u001b[0m Trial 9 finished with value: 0.2265513390302658 and parameters: {'hidden_layer_sizes': 32, 'activation': 'sigmoid', 'hidden_layers': 2, 'output_activation': 'sigmoid', 'alpha': 0.0001, 'optimizer': 'SGD', 'batch_size': 64, 'max_iter': 2000}. Best is trial 4 with value: 0.20473061501979828.\u001b[0m\n"
     ]
    }
   ],
   "source": [
    "n_trials = 10\n",
    "\n",
    "study = optuna.create_study(direction='minimize')\n",
    "study.optimize(objective, n_trials=n_trials)"
   ]
  },
  {
   "cell_type": "code",
   "execution_count": 7,
   "metadata": {},
   "outputs": [
    {
     "name": "stdout",
     "output_type": "stream",
     "text": [
      "Best hyperparameters:  {'hidden_layer_sizes': 32, 'activation': 'sigmoid', 'hidden_layers': 2, 'output_activation': 'sigmoid', 'alpha': 0.0001, 'optimizer': 'Adam', 'batch_size': 64, 'max_iter': 5000}\n",
      "Best objective value:  0.20473061501979828\n"
     ]
    }
   ],
   "source": [
    "print('Best hyperparameters: ', study.best_params)\n",
    "print('Best objective value: ', study.best_value)"
   ]
  },
  {
   "attachments": {},
   "cell_type": "markdown",
   "metadata": {},
   "source": [
    "#### **Saving study**"
   ]
  },
  {
   "cell_type": "code",
   "execution_count": 8,
   "metadata": {},
   "outputs": [],
   "source": [
    "import joblib"
   ]
  },
  {
   "cell_type": "code",
   "execution_count": 9,
   "metadata": {},
   "outputs": [
    {
     "data": {
      "text/plain": [
       "['./optuna_studies/mlp_study.pkl']"
      ]
     },
     "execution_count": 9,
     "metadata": {},
     "output_type": "execute_result"
    }
   ],
   "source": [
    "save_path = './optuna_studies/mlp_study.pkl'\n",
    "\n",
    "joblib.dump(study, save_path)"
   ]
  }
 ],
 "metadata": {
  "kernelspec": {
   "display_name": "machine_learning",
   "language": "python",
   "name": "python3"
  },
  "language_info": {
   "codemirror_mode": {
    "name": "ipython",
    "version": 3
   },
   "file_extension": ".py",
   "mimetype": "text/x-python",
   "name": "python",
   "nbconvert_exporter": "python",
   "pygments_lexer": "ipython3",
   "version": "3.8.16"
  },
  "orig_nbformat": 4
 },
 "nbformat": 4,
 "nbformat_minor": 2
}

{
 "cells": [
  {
   "cell_type": "code",
   "execution_count": null,
   "metadata": {},
   "outputs": [],
   "source": [
    "import pandas as pd\n",
    "import numpy as np\n",
    "\n",
    "import tensorflow as tf\n",
    "from tensorflow import keras\n",
    "from tensorflow.keras.callbacks import EarlyStopping\n",
    "from sklearn.decomposition import PCA\n",
    "\n",
    "import optuna\n",
    "import optuna.visualization as vis"
   ]
  },
  {
   "attachments": {},
   "cell_type": "markdown",
   "metadata": {},
   "source": [
    "#### **Getting training & validation data**"
   ]
  },
  {
   "cell_type": "code",
   "execution_count": null,
   "metadata": {},
   "outputs": [],
   "source": [
    "df_train = pd.read_csv('../databases/training.csv')\n",
    "df_valid = pd.read_csv('../databases/validation.csv')"
   ]
  },
  {
   "cell_type": "code",
   "execution_count": null,
   "metadata": {},
   "outputs": [],
   "source": [
    "X_train, y_train = df_train.drop(['IND_BOM_1_1'], axis=1), df_train['IND_BOM_1_1']\n",
    "X_val, y_val = df_valid.drop(['IND_BOM_1_1'], axis=1), df_valid['IND_BOM_1_1']"
   ]
  },
  {
   "attachments": {},
   "cell_type": "markdown",
   "metadata": {},
   "source": [
    "#### **Parameters selection**"
   ]
  },
  {
   "cell_type": "code",
   "execution_count": null,
   "metadata": {},
   "outputs": [],
   "source": [
    "params = {\n",
    "    'hidden_layer_sizes': [32, 64, 128],\n",
    "    'alpha': [0.0001, 0.0],\n",
    "    'max_iter': [2000, 5000, 10000],\n",
    "    'batch_size': [32, 64, 128],\n",
    "    'activation': ['tanh', 'relu', 'sigmoid']\n",
    "}\n",
    "\n",
    "early_stopping = EarlyStopping(\n",
    "    monitor='val_loss',\n",
    "    patience=10,\n",
    "    verbose=1,\n",
    "    restore_best_weights=True\n",
    ")\n",
    "\n",
    "def objective(trial):\n",
    "    \n",
    "    model = keras.Sequential([\n",
    "        keras.layers.Dense(\n",
    "            units=trial.suggest_categorical(\n",
    "                'hidden_layer_sizes',\n",
    "                params['hidden_layer_sizes']\n",
    "            ),\n",
    "            activation=trial.suggest_categorical(\n",
    "                'activation',\n",
    "                params['activation']\n",
    "            )\n",
    "        ),\n",
    "        keras.layers.Dense(\n",
    "            units=trial.suggest_categorical(\n",
    "                'hidden_layer_sizes',\n",
    "                params['hidden_layer_sizes']\n",
    "            ),\n",
    "            activation=trial.suggest_categorical(\n",
    "                'activation',\n",
    "                params['activation']\n",
    "            )\n",
    "        ),\n",
    "        keras.layers.Dense(units=1, activation='softmax')\n",
    "    ])\n",
    "\n",
    "    model.compile(\n",
    "        optimizer=keras.optimizers.Adam(\n",
    "            trial.suggest_categorical(\n",
    "                'alpha',\n",
    "                params['alpha']\n",
    "            )\n",
    "        ),\n",
    "        loss=keras.losses.BinaryCrossentropy(),\n",
    "        metrics=['accuracy']\n",
    "    )\n",
    "\n",
    "    model.fit(\n",
    "        X_train,\n",
    "        y_train,\n",
    "        batch_size=trial.suggest_categorical(\n",
    "            'batch_size',\n",
    "            params['batch_size']\n",
    "        ),\n",
    "        epochs=trial.suggest_categorical(\n",
    "            'max_iter',\n",
    "            params['max_iter']\n",
    "        ),\n",
    "        validation_data=(X_val, y_val),\n",
    "        callbacks=[early_stopping]\n",
    "    )\n",
    "\n",
    "    loss, accuracy = model.evaluate(X_val, y_val)\n",
    "\n",
    "    return accuracy"
   ]
  },
  {
   "cell_type": "code",
   "execution_count": null,
   "metadata": {},
   "outputs": [],
   "source": [
    "n_trials = 15\n",
    "\n",
    "study = optuna.create_study(direction='minimize')\n",
    "study.optimize(objective, n_trials=n_trials)"
   ]
  },
  {
   "cell_type": "code",
   "execution_count": null,
   "metadata": {},
   "outputs": [],
   "source": [
    "print('Best hyperparameters: ', study.best_params)\n",
    "print('Best objective value: ', study.best_value)"
   ]
  },
  {
   "attachments": {},
   "cell_type": "markdown",
   "metadata": {},
   "source": [
    "#### **Saving study**"
   ]
  },
  {
   "cell_type": "code",
   "execution_count": null,
   "metadata": {},
   "outputs": [],
   "source": [
    "import joblib"
   ]
  },
  {
   "cell_type": "code",
   "execution_count": null,
   "metadata": {},
   "outputs": [],
   "source": [
    "save_path = './optuna_studies/mlp_study.pkl'\n",
    "\n",
    "joblib.dump(study, save_path)"
   ]
  }
 ],
 "metadata": {
  "kernelspec": {
   "display_name": "machine_learning",
   "language": "python",
   "name": "python3"
  },
  "language_info": {
   "codemirror_mode": {
    "name": "ipython",
    "version": 3
   },
   "file_extension": ".py",
   "mimetype": "text/x-python",
   "name": "python",
   "nbconvert_exporter": "python",
   "pygments_lexer": "ipython3",
   "version": "3.8.16"
  },
  "orig_nbformat": 4
 },
 "nbformat": 4,
 "nbformat_minor": 2
}

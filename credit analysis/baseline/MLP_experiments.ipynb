{
 "cells": [
  {
   "cell_type": "code",
   "execution_count": null,
   "metadata": {},
   "outputs": [],
   "source": [
    "import pandas as pd\n",
    "import numpy as np\n",
    "\n",
    "from keras import Sequential\n",
    "from keras.layers import Dense, Dropout\n",
    "from keras.callbacks import EarlyStopping\n",
    "from keras.optimizers import SGD, Adam\n",
    "\n",
    "import optuna"
   ]
  },
  {
   "attachments": {},
   "cell_type": "markdown",
   "metadata": {},
   "source": [
    "#### **Getting training & validation data**"
   ]
  },
  {
   "cell_type": "code",
   "execution_count": null,
   "metadata": {},
   "outputs": [],
   "source": [
    "df_train = pd.read_csv('../databases/training.csv')\n",
    "df_valid = pd.read_csv('../databases/validation.csv')"
   ]
  },
  {
   "cell_type": "code",
   "execution_count": null,
   "metadata": {},
   "outputs": [],
   "source": [
    "X_train, y_train = df_train.drop(['IND_BOM_1_1'], axis=1), df_train['IND_BOM_1_1']\n",
    "X_val, y_val = df_valid.drop(['IND_BOM_1_1'], axis=1), df_valid['IND_BOM_1_1']"
   ]
  },
  {
   "cell_type": "code",
   "execution_count": null,
   "metadata": {},
   "outputs": [],
   "source": [
    "X_train = np.array(X_train)\n",
    "X_val = np.array(X_val)"
   ]
  },
  {
   "attachments": {},
   "cell_type": "markdown",
   "metadata": {},
   "source": [
    "#### **Parameters selection**"
   ]
  },
  {
   "cell_type": "code",
   "execution_count": null,
   "metadata": {},
   "outputs": [],
   "source": [
    "params = {\n",
    "    'hidden_layer_units': [32, 128, 256],\n",
    "    'hidden_layers': {\n",
    "        'low': 1,\n",
    "        'high': 2\n",
    "    },\n",
    "    'alpha': [0.0001, 0.01],\n",
    "    'max_iter': [2000, 5000, 10000],\n",
    "    'batch_size': [32, 64, 128],\n",
    "    'activation': ['tanh', 'relu', 'sigmoid'],\n",
    "    'optimizer': ['SGD', 'Adam'],\n",
    "    'output_activation': ['sigmoid', 'softmax'],\n",
    "    'loss_function': ['binary_crossentropy', 'mse'],\n",
    "    'dropout_rate': [0.5, 0.3, 0.02]\n",
    "}\n",
    "\n",
    "early_stopping = EarlyStopping(\n",
    "    monitor='val_loss',\n",
    "    patience=10,\n",
    "    verbose=1,\n",
    "    restore_best_weights=True,\n",
    "    min_delta=0.001\n",
    ")\n",
    "\n",
    "def objective(trial):\n",
    "    model = Sequential()\n",
    "    input_dimension = X_train.shape[1]\n",
    "    \n",
    "    model.add(\n",
    "        Dense(\n",
    "            input_dim=input_dimension,\n",
    "            units=trial.suggest_categorical(\n",
    "                'hidden_layer_units',\n",
    "                params['hidden_layer_units']\n",
    "            ),\n",
    "            activation=trial.suggest_categorical(\n",
    "                'activation',\n",
    "                params['activation']\n",
    "            )\n",
    "        )\n",
    "    )\n",
    "\n",
    "    hidden_layers = trial.suggest_int('hidden_layers', params['hidden_layers']['low'], params['hidden_layers']['high'])\n",
    "    \n",
    "    for _ in range(hidden_layers):\n",
    "        model.add(\n",
    "            Dense(\n",
    "                units=trial.suggest_categorical(\n",
    "                    'hidden_layer_units',\n",
    "                    params['hidden_layer_units']\n",
    "                ),\n",
    "                activation=trial.suggest_categorical(\n",
    "                    'activation',\n",
    "                    params['activation']\n",
    "                )\n",
    "            )\n",
    "        )\n",
    "\n",
    "        model.add(\n",
    "            Dropout(\n",
    "                trial.suggest_categorical(\n",
    "                    'dropout_rate',\n",
    "                    params['dropout_rate']\n",
    "                )\n",
    "            )\n",
    "        )\n",
    "    \n",
    "    model.add(\n",
    "        Dense(\n",
    "            units=1,\n",
    "            activation=trial.suggest_categorical(\n",
    "                'output_activation',\n",
    "                params['output_activation']\n",
    "            )\n",
    "        )\n",
    "    )\n",
    "\n",
    "    alpha = trial.suggest_categorical('alpha', params['alpha'])\n",
    "    optimizer_name = trial.suggest_categorical('optimizer', params['optimizer'])\n",
    "\n",
    "    if optimizer_name == 'SGD':\n",
    "        optimizer = SGD(learning_rate=alpha)\n",
    "    elif optimizer_name == 'Adam':\n",
    "        optimizer = Adam(learning_rate=alpha)\n",
    "\n",
    "    model.compile(\n",
    "        optimizer=optimizer,\n",
    "        loss=trial.suggest_categorical('loss_function', params['loss_function']),\n",
    "        metrics=['accuracy']\n",
    "    )\n",
    "\n",
    "    model.fit(\n",
    "        X_train,\n",
    "        y_train,\n",
    "        batch_size=trial.suggest_categorical(\n",
    "            'batch_size',\n",
    "            params['batch_size']\n",
    "        ),\n",
    "        epochs=trial.suggest_categorical(\n",
    "            'max_iter',\n",
    "            params['max_iter']\n",
    "        ),\n",
    "        validation_data=(X_val, y_val),\n",
    "        callbacks=[early_stopping]\n",
    "    )\n",
    "\n",
    "    loss, accuracy = model.evaluate(X_val, y_val)\n",
    "\n",
    "    return loss"
   ]
  },
  {
   "cell_type": "code",
   "execution_count": null,
   "metadata": {},
   "outputs": [],
   "source": [
    "n_trials = 150\n",
    "\n",
    "study = optuna.create_study(direction='minimize')\n",
    "study.optimize(objective, n_trials=n_trials)"
   ]
  },
  {
   "attachments": {},
   "cell_type": "markdown",
   "metadata": {},
   "source": [
    "#### **Saving study**"
   ]
  },
  {
   "cell_type": "code",
   "execution_count": null,
   "metadata": {},
   "outputs": [],
   "source": [
    "import joblib"
   ]
  },
  {
   "cell_type": "code",
   "execution_count": null,
   "metadata": {},
   "outputs": [],
   "source": [
    "save_path = './optuna_studies/mlp_study.pkl'\n",
    "\n",
    "joblib.dump(study, save_path)"
   ]
  }
 ],
 "metadata": {
  "kernelspec": {
   "display_name": "machine_learning",
   "language": "python",
   "name": "python3"
  },
  "language_info": {
   "codemirror_mode": {
    "name": "ipython",
    "version": 3
   },
   "file_extension": ".py",
   "mimetype": "text/x-python",
   "name": "python",
   "nbconvert_exporter": "python",
   "pygments_lexer": "ipython3",
   "version": "3.8.16"
  },
  "orig_nbformat": 4,
  "vscode": {
   "interpreter": {
    "hash": "bc61db7a6070c6c86b8447c28f804503118115942a6f856c38354ea7f041d17b"
   }
  }
 },
 "nbformat": 4,
 "nbformat_minor": 2
}

{
 "cells": [
  {
   "cell_type": "code",
   "execution_count": 1,
   "metadata": {},
   "outputs": [
    {
     "name": "stderr",
     "output_type": "stream",
     "text": [
      "C:\\Users\\yveem\\miniconda3\\envs\\machine_learning\\lib\\site-packages\\tqdm\\auto.py:21: TqdmWarning: IProgress not found. Please update jupyter and ipywidgets. See https://ipywidgets.readthedocs.io/en/stable/user_install.html\n",
      "  from .autonotebook import tqdm as notebook_tqdm\n"
     ]
    }
   ],
   "source": [
    "import pandas as pd\n",
    "import numpy as np\n",
    "\n",
    "import optuna\n",
    "\n",
    "from xgboost import XGBClassifier\n",
    "from sklearn.metrics import log_loss\n",
    "import joblib"
   ]
  },
  {
   "cell_type": "markdown",
   "metadata": {},
   "source": [
    "#### **Getting training && validation data**"
   ]
  },
  {
   "cell_type": "code",
   "execution_count": 2,
   "metadata": {},
   "outputs": [],
   "source": [
    "df_train = pd.read_csv('../databases/training.csv')\n",
    "df_valid = pd.read_csv('../databases/validation.csv')"
   ]
  },
  {
   "cell_type": "code",
   "execution_count": 3,
   "metadata": {},
   "outputs": [],
   "source": [
    "X_train, y_train = df_train.drop(['IND_BOM_1_1'], axis=1), df_train['IND_BOM_1_1']\n",
    "X_val, y_val = df_valid.drop(['IND_BOM_1_1'], axis=1), df_valid['IND_BOM_1_1']"
   ]
  },
  {
   "cell_type": "code",
   "execution_count": 4,
   "metadata": {},
   "outputs": [],
   "source": [
    "X_train = np.array(X_train)\n",
    "X_val = np.array(X_val)"
   ]
  },
  {
   "cell_type": "markdown",
   "metadata": {},
   "source": [
    "#### **Parameters selection**"
   ]
  },
  {
   "cell_type": "code",
   "execution_count": 5,
   "metadata": {},
   "outputs": [],
   "source": [
    "params = {\n",
    "    'max_depth': (3, 10),\n",
    "    'learning_rate': (0.001, 0.1),\n",
    "    'subsample': (0.5, 1.0),\n",
    "    'colsample_bytree': (0.5, 1.0),\n",
    "    'gamma': (1, 5),\n",
    "    'min_child_weight': (1, 10),\n",
    "    'n_estimators': (50, 200)\n",
    "}\n",
    "\n",
    "def objective(trial):\n",
    "    model = XGBClassifier(\n",
    "        max_depth=trial.suggest_int('max_depth', *params['max_depth']),\n",
    "        learning_rate=trial.suggest_float('learning_rate', *params['learning_rate']),\n",
    "        subsample=trial.suggest_float('subsample', *params['subsample']),\n",
    "        colsample_bytree=trial.suggest_float('colsample_bytree', *params['colsample_bytree']),\n",
    "        gamma=trial.suggest_float('gamma', *params['gamma']),\n",
    "        min_child_weight=trial.suggest_int('min_child_weight', *params['min_child_weight']),\n",
    "        n_estimators=trial.suggest_int('n_estimators', *params['n_estimators']),\n",
    "        n_jobs=-1\n",
    "    )\n",
    "\n",
    "    model.fit(X_train, y_train, verbose=True)\n",
    "\n",
    "    y_probas = model.predict_proba(X_val)\n",
    "\n",
    "    loss = log_loss(y_val, y_probas)\n",
    "\n",
    "    return loss"
   ]
  },
  {
   "cell_type": "code",
   "execution_count": 6,
   "metadata": {},
   "outputs": [
    {
     "name": "stderr",
     "output_type": "stream",
     "text": [
      "\u001b[32m[I 2023-04-29 18:09:08,690]\u001b[0m A new study created in memory with name: no-name-13798e5b-2c93-48a1-b30c-f1f40ff5a765\u001b[0m\n",
      "\u001b[32m[I 2023-04-29 18:09:47,262]\u001b[0m Trial 0 finished with value: 0.6046263211501588 and parameters: {'max_depth': 8, 'learning_rate': 0.08861571124444137, 'subsample': 0.7814340841967233, 'colsample_bytree': 0.5413943258281566, 'gamma': 3.663043710958109, 'min_child_weight': 4, 'n_estimators': 114}. Best is trial 0 with value: 0.6046263211501588.\u001b[0m\n",
      "\u001b[32m[I 2023-04-29 18:10:30,702]\u001b[0m Trial 1 finished with value: 0.620459642447132 and parameters: {'max_depth': 4, 'learning_rate': 0.05304835308849388, 'subsample': 0.7491451488524594, 'colsample_bytree': 0.9402923339441683, 'gamma': 3.7216453854168594, 'min_child_weight': 8, 'n_estimators': 172}. Best is trial 0 with value: 0.6046263211501588.\u001b[0m\n",
      "\u001b[32m[I 2023-04-29 18:11:10,244]\u001b[0m Trial 2 finished with value: 0.6089623689531368 and parameters: {'max_depth': 8, 'learning_rate': 0.07767826980944188, 'subsample': 0.7884939434551204, 'colsample_bytree': 0.8848823270575872, 'gamma': 1.2364972401975787, 'min_child_weight': 8, 'n_estimators': 76}. Best is trial 0 with value: 0.6046263211501588.\u001b[0m\n",
      "\u001b[32m[I 2023-04-29 18:12:09,001]\u001b[0m Trial 3 finished with value: 0.6025345179978862 and parameters: {'max_depth': 9, 'learning_rate': 0.09212161220165821, 'subsample': 0.6241663170366175, 'colsample_bytree': 0.7327313663027524, 'gamma': 4.836987378766633, 'min_child_weight': 1, 'n_estimators': 120}. Best is trial 3 with value: 0.6025345179978862.\u001b[0m\n",
      "\u001b[32m[I 2023-04-29 18:12:25,692]\u001b[0m Trial 4 finished with value: 0.6183245352276977 and parameters: {'max_depth': 6, 'learning_rate': 0.07528733971413769, 'subsample': 0.8839841419102448, 'colsample_bytree': 0.5623700812982242, 'gamma': 2.355489397099929, 'min_child_weight': 6, 'n_estimators': 63}. Best is trial 3 with value: 0.6025345179978862.\u001b[0m\n",
      "\u001b[32m[I 2023-04-29 18:12:46,255]\u001b[0m Trial 5 finished with value: 0.6284813395796099 and parameters: {'max_depth': 6, 'learning_rate': 0.034925600560665855, 'subsample': 0.5404286366151854, 'colsample_bytree': 0.751525574536712, 'gamma': 3.286256269700391, 'min_child_weight': 7, 'n_estimators': 66}. Best is trial 3 with value: 0.6025345179978862.\u001b[0m\n",
      "\u001b[32m[I 2023-04-29 18:13:37,603]\u001b[0m Trial 6 finished with value: 0.6204896144403961 and parameters: {'max_depth': 7, 'learning_rate': 0.019104240565814855, 'subsample': 0.9110209670596563, 'colsample_bytree': 0.6484920314002013, 'gamma': 2.5225612215009243, 'min_child_weight': 5, 'n_estimators': 144}. Best is trial 3 with value: 0.6025345179978862.\u001b[0m\n",
      "\u001b[32m[I 2023-04-29 18:14:00,022]\u001b[0m Trial 7 finished with value: 0.6295418119050501 and parameters: {'max_depth': 7, 'learning_rate': 0.03368682416158846, 'subsample': 0.8464445449949416, 'colsample_bytree': 0.7852644023906165, 'gamma': 1.7486911508238032, 'min_child_weight': 2, 'n_estimators': 51}. Best is trial 3 with value: 0.6025345179978862.\u001b[0m\n",
      "\u001b[32m[I 2023-04-29 18:14:21,367]\u001b[0m Trial 8 finished with value: 0.6591485048529749 and parameters: {'max_depth': 6, 'learning_rate': 0.008415104359663781, 'subsample': 0.7486045106805084, 'colsample_bytree': 0.6749307154422585, 'gamma': 4.011014926657336, 'min_child_weight': 4, 'n_estimators': 68}. Best is trial 3 with value: 0.6025345179978862.\u001b[0m\n",
      "\u001b[32m[I 2023-04-29 18:15:11,222]\u001b[0m Trial 9 finished with value: 0.6146694811341514 and parameters: {'max_depth': 5, 'learning_rate': 0.08506883832020863, 'subsample': 0.6354286929698568, 'colsample_bytree': 0.6264023187364249, 'gamma': 4.596808751357843, 'min_child_weight': 4, 'n_estimators': 197}. Best is trial 3 with value: 0.6025345179978862.\u001b[0m\n",
      "\u001b[32m[I 2023-04-29 18:16:10,775]\u001b[0m Trial 10 finished with value: 0.6012919485181104 and parameters: {'max_depth': 10, 'learning_rate': 0.060331747935857785, 'subsample': 0.5209878175114635, 'colsample_bytree': 0.799199443444176, 'gamma': 4.946799561433105, 'min_child_weight': 1, 'n_estimators': 108}. Best is trial 10 with value: 0.6012919485181104.\u001b[0m\n",
      "\u001b[32m[I 2023-04-29 18:17:11,287]\u001b[0m Trial 11 finished with value: 0.6054271920753207 and parameters: {'max_depth': 10, 'learning_rate': 0.0985635723873719, 'subsample': 0.5007218480461371, 'colsample_bytree': 0.8237765479616472, 'gamma': 4.8406161160898105, 'min_child_weight': 1, 'n_estimators': 109}. Best is trial 10 with value: 0.6012919485181104.\u001b[0m\n",
      "\u001b[32m[I 2023-04-29 18:18:56,542]\u001b[0m Trial 12 finished with value: 0.6031719001991572 and parameters: {'max_depth': 10, 'learning_rate': 0.06203390851331825, 'subsample': 0.6009349173548545, 'colsample_bytree': 0.9939062420350095, 'gamma': 4.953318807171643, 'min_child_weight': 10, 'n_estimators': 137}. Best is trial 10 with value: 0.6012919485181104.\u001b[0m\n",
      "\u001b[32m[I 2023-04-29 18:19:56,319]\u001b[0m Trial 13 finished with value: 0.599399307565802 and parameters: {'max_depth': 9, 'learning_rate': 0.06088261522071256, 'subsample': 0.9991640518050253, 'colsample_bytree': 0.7099521072760531, 'gamma': 4.412269169019736, 'min_child_weight': 1, 'n_estimators': 96}. Best is trial 13 with value: 0.599399307565802.\u001b[0m\n",
      "\u001b[32m[I 2023-04-29 18:21:01,448]\u001b[0m Trial 14 finished with value: 0.6002002486119041 and parameters: {'max_depth': 9, 'learning_rate': 0.0611436550856033, 'subsample': 0.9869467115072255, 'colsample_bytree': 0.8356400090078597, 'gamma': 4.179379426044001, 'min_child_weight': 2, 'n_estimators': 94}. Best is trial 13 with value: 0.599399307565802.\u001b[0m\n",
      "\u001b[32m[I 2023-04-29 18:22:03,645]\u001b[0m Trial 15 finished with value: 0.6008957050119712 and parameters: {'max_depth': 9, 'learning_rate': 0.0675458278845845, 'subsample': 0.9631472504411903, 'colsample_bytree': 0.8670566993573356, 'gamma': 4.205070177363671, 'min_child_weight': 3, 'n_estimators': 92}. Best is trial 13 with value: 0.599399307565802.\u001b[0m\n",
      "\u001b[32m[I 2023-04-29 18:22:20,135]\u001b[0m Trial 16 finished with value: 0.6323204496608231 and parameters: {'max_depth': 3, 'learning_rate': 0.0482984768270786, 'subsample': 0.9873353587667566, 'colsample_bytree': 0.7063953702362263, 'gamma': 4.265569529085432, 'min_child_weight': 2, 'n_estimators': 95}. Best is trial 13 with value: 0.599399307565802.\u001b[0m\n",
      "\u001b[32m[I 2023-04-29 18:23:05,579]\u001b[0m Trial 17 finished with value: 0.6057864753822523 and parameters: {'max_depth': 8, 'learning_rate': 0.07217874300850957, 'subsample': 0.9948818797649932, 'colsample_bytree': 0.748895111592596, 'gamma': 3.277201672467037, 'min_child_weight': 3, 'n_estimators': 87}. Best is trial 13 with value: 0.599399307565802.\u001b[0m\n",
      "\u001b[32m[I 2023-04-29 18:24:23,370]\u001b[0m Trial 18 finished with value: 0.5981081006760522 and parameters: {'max_depth': 9, 'learning_rate': 0.049309488191439446, 'subsample': 0.9335887378206891, 'colsample_bytree': 0.8492477930206339, 'gamma': 4.399972882537829, 'min_child_weight': 2, 'n_estimators': 138}. Best is trial 18 with value: 0.5981081006760522.\u001b[0m\n",
      "\u001b[32m[I 2023-04-29 18:25:54,306]\u001b[0m Trial 19 finished with value: 0.59781355013676 and parameters: {'max_depth': 9, 'learning_rate': 0.04792407924958684, 'subsample': 0.9478083157427886, 'colsample_bytree': 0.9073854168788571, 'gamma': 4.437947159763211, 'min_child_weight': 3, 'n_estimators': 153}. Best is trial 19 with value: 0.59781355013676.\u001b[0m\n"
     ]
    }
   ],
   "source": [
    "n_trials = 20\n",
    "\n",
    "study = optuna.create_study(direction='minimize')\n",
    "study.optimize(objective, n_trials=n_trials)"
   ]
  },
  {
   "cell_type": "markdown",
   "metadata": {},
   "source": [
    "#### **Saving study**"
   ]
  },
  {
   "cell_type": "code",
   "execution_count": 7,
   "metadata": {
    "tags": []
   },
   "outputs": [
    {
     "data": {
      "text/plain": [
       "['./optuna_studies/xgboost_study.pkl']"
      ]
     },
     "execution_count": 7,
     "metadata": {},
     "output_type": "execute_result"
    }
   ],
   "source": [
    "save_path = './optuna_studies/xgboost_study.pkl'\n",
    "\n",
    "joblib.dump(study, save_path)"
   ]
  }
 ],
 "metadata": {
  "kernelspec": {
   "display_name": "Python 3 (ipykernel)",
   "language": "python",
   "name": "python3"
  },
  "language_info": {
   "codemirror_mode": {
    "name": "ipython",
    "version": 3
   },
   "file_extension": ".py",
   "mimetype": "text/x-python",
   "name": "python",
   "nbconvert_exporter": "python",
   "pygments_lexer": "ipython3",
   "version": "3.8.16"
  }
 },
 "nbformat": 4,
 "nbformat_minor": 4
}

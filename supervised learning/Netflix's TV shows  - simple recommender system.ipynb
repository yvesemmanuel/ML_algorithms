{
 "cells": [
  {
   "cell_type": "markdown",
   "id": "f299ed35",
   "metadata": {},
   "source": [
    "#### Data and dependencies"
   ]
  },
  {
   "cell_type": "code",
   "execution_count": 42,
   "id": "759aeaec",
   "metadata": {},
   "outputs": [],
   "source": [
    "import pandas as pd\n",
    "import seaborn as sn\n",
    "import matplotlib.pyplot as plt\n",
    "import numpy as np"
   ]
  },
  {
   "cell_type": "code",
   "execution_count": 43,
   "id": "f5aae7f2",
   "metadata": {},
   "outputs": [
    {
     "data": {
      "text/html": [
       "<div>\n",
       "<style scoped>\n",
       "    .dataframe tbody tr th:only-of-type {\n",
       "        vertical-align: middle;\n",
       "    }\n",
       "\n",
       "    .dataframe tbody tr th {\n",
       "        vertical-align: top;\n",
       "    }\n",
       "\n",
       "    .dataframe thead th {\n",
       "        text-align: right;\n",
       "    }\n",
       "</style>\n",
       "<table border=\"1\" class=\"dataframe\">\n",
       "  <thead>\n",
       "    <tr style=\"text-align: right;\">\n",
       "      <th></th>\n",
       "      <th>Title</th>\n",
       "      <th>Genre</th>\n",
       "      <th>Premiere</th>\n",
       "      <th>No_of_Seasons</th>\n",
       "      <th>No_of_Episodes</th>\n",
       "    </tr>\n",
       "  </thead>\n",
       "  <tbody>\n",
       "    <tr>\n",
       "      <th>0</th>\n",
       "      <td>Stranger Things</td>\n",
       "      <td>Science Fiction Horror</td>\n",
       "      <td>July 15, 2016</td>\n",
       "      <td>3</td>\n",
       "      <td>25</td>\n",
       "    </tr>\n",
       "    <tr>\n",
       "      <th>1</th>\n",
       "      <td>The Crown</td>\n",
       "      <td>Historical Drama</td>\n",
       "      <td>November 4, 2016</td>\n",
       "      <td>4</td>\n",
       "      <td>40</td>\n",
       "    </tr>\n",
       "    <tr>\n",
       "      <th>2</th>\n",
       "      <td>Ozark</td>\n",
       "      <td>Crime Drama</td>\n",
       "      <td>July 21, 2017</td>\n",
       "      <td>3</td>\n",
       "      <td>30</td>\n",
       "    </tr>\n",
       "    <tr>\n",
       "      <th>3</th>\n",
       "      <td>Lost in Space</td>\n",
       "      <td>Science Fiction</td>\n",
       "      <td>April 13, 2018</td>\n",
       "      <td>2</td>\n",
       "      <td>20</td>\n",
       "    </tr>\n",
       "    <tr>\n",
       "      <th>4</th>\n",
       "      <td>Narcos: Mexico</td>\n",
       "      <td>Crime Drama</td>\n",
       "      <td>November 16, 2018</td>\n",
       "      <td>2</td>\n",
       "      <td>20</td>\n",
       "    </tr>\n",
       "  </tbody>\n",
       "</table>\n",
       "</div>"
      ],
      "text/plain": [
       "             Title                   Genre           Premiere No_of_Seasons  \\\n",
       "0  Stranger Things  Science Fiction Horror      July 15, 2016             3   \n",
       "1        The Crown        Historical Drama   November 4, 2016             4   \n",
       "2            Ozark             Crime Drama      July 21, 2017             3   \n",
       "3    Lost in Space         Science Fiction     April 13, 2018             2   \n",
       "4   Narcos: Mexico             Crime Drama  November 16, 2018             2   \n",
       "\n",
       "  No_of_Episodes  \n",
       "0             25  \n",
       "1             40  \n",
       "2             30  \n",
       "3             20  \n",
       "4             20  "
      ]
     },
     "execution_count": 43,
     "metadata": {},
     "output_type": "execute_result"
    }
   ],
   "source": [
    "df = pd.read_csv(\"data/tv_shows_data.csv\")\n",
    "df.head()"
   ]
  },
  {
   "cell_type": "markdown",
   "id": "2142466c",
   "metadata": {},
   "source": [
    "#### Descriptive Analysis"
   ]
  },
  {
   "cell_type": "code",
   "execution_count": 44,
   "id": "97258da7",
   "metadata": {},
   "outputs": [
    {
     "data": {
      "text/plain": [
       "171"
      ]
     },
     "execution_count": 44,
     "metadata": {},
     "output_type": "execute_result"
    }
   ],
   "source": [
    "df[\"Genre\"].nunique()"
   ]
  },
  {
   "cell_type": "code",
   "execution_count": 45,
   "id": "4eb857ca",
   "metadata": {},
   "outputs": [
    {
     "data": {
      "image/png": "[encoded data removed]",
      "text/plain": [
       "<Figure size 360x360 with 1 Axes>"
      ]
     },
     "metadata": {
      "needs_background": "light"
     },
     "output_type": "display_data"
    }
   ],
   "source": [
    "# top 10 genres' movies\n",
    "df[\"Genre\"].value_counts()[:10].plot(kind = \"barh\",figsize = (5, 5),\n",
    "                                     fontsize = 18, color = \"black\").invert_yaxis()"
   ]
  },
  {
   "cell_type": "markdown",
   "id": "64d3f7a8",
   "metadata": {},
   "source": [
    "### *Recommender Systems* are widely used to filter entertainment data. There are two types: *content-based* e *collaborative filtering*."
   ]
  },
  {
   "cell_type": "markdown",
   "id": "d1f43de6",
   "metadata": {},
   "source": [
    "#### based on a TV show previously watched, what TV shows should be recommended to a netflix user?"
   ]
  },
  {
   "cell_type": "code",
   "execution_count": 46,
   "id": "bf13a915",
   "metadata": {},
   "outputs": [],
   "source": [
    "    # to compute features similarity\n",
    "from sklearn.metrics.pairwise import cosine_similarity\n",
    "from sklearn.metrics.pairwise import linear_kernel\n",
    "    # to extract features\n",
    "from sklearn.feature_extraction.text import TfidfVectorizer"
   ]
  },
  {
   "cell_type": "code",
   "execution_count": 47,
   "id": "ac0884d9",
   "metadata": {},
   "outputs": [],
   "source": [
    "vectorizer = TfidfVectorizer(stop_words = \"english\") # convert a collection of raw documents\n",
    "                                                     # to a matrix of TF-IDF features\n",
    "\n",
    "                                                     # TF-IDF = TF(t, d) x IDF(t) (dot product)\n",
    "                                                     # TF -> term frequency vector\n",
    "                                                     # IDF -> inverse document frequency\n",
    "\n",
    "\n",
    "df[\"Title\"] = df[\"Title\"].fillna(\"\") # removing NaN\n",
    "\n",
    "count_series_matrix = vectorizer.fit_transform(df[\"Title\"]) # document-term matrix"
   ]
  },
  {
   "cell_type": "code",
   "execution_count": 48,
   "id": "7e1afdb0",
   "metadata": {},
   "outputs": [
    {
     "data": {
      "text/plain": [
       "(641, 1014)"
      ]
     },
     "execution_count": 48,
     "metadata": {},
     "output_type": "execute_result"
    }
   ],
   "source": [
    "count_series_matrix.shape"
   ]
  },
  {
   "cell_type": "markdown",
   "id": "ef8c92ed",
   "metadata": {},
   "source": [
    "#### from the shape of the the matrix token I can conclude that 1106 different vocabularies/words in the dataset class \"title\"."
   ]
  },
  {
   "cell_type": "code",
   "execution_count": 49,
   "id": "750ed61b",
   "metadata": {},
   "outputs": [],
   "source": [
    "cosine_sim = linear_kernel(count_series_matrix, count_series_matrix)"
   ]
  },
  {
   "cell_type": "code",
   "execution_count": 50,
   "id": "6658b66e",
   "metadata": {},
   "outputs": [
    {
     "data": {
      "text/plain": [
       "(641, 641)"
      ]
     },
     "execution_count": 50,
     "metadata": {},
     "output_type": "execute_result"
    }
   ],
   "source": [
    "cosine_sim.shape"
   ]
  },
  {
   "cell_type": "code",
   "execution_count": 51,
   "id": "b1c98850",
   "metadata": {},
   "outputs": [
    {
     "data": {
      "text/plain": [
       "array([0., 1., 0., 0., 0., 0., 0., 0., 0., 0., 0., 0., 0., 0., 0., 0., 0.,\n",
       "       0., 0., 0., 0., 0., 0., 0., 0., 0., 0., 0., 0., 0., 0., 0., 0., 0.,\n",
       "       0., 0., 0., 0., 0., 0., 0., 0., 0., 0., 0., 0., 0., 0., 0., 0., 0.,\n",
       "       0., 0., 0., 0., 0., 0., 0., 0., 0., 0., 0., 0., 0., 0., 0., 0., 0.,\n",
       "       0., 0., 0., 0., 0., 0., 0., 0., 0., 0., 0., 0., 0., 0., 0., 0., 0.,\n",
       "       0., 0., 0., 0., 0., 0., 0., 0., 0., 0., 0., 0., 0., 0., 0., 0., 0.,\n",
       "       0., 0., 0., 0., 0., 0., 0., 0., 0., 0., 0., 0., 0., 0., 0., 0., 0.,\n",
       "       0., 0., 0., 0., 0., 0., 0., 0., 0., 0., 0., 0., 0., 0., 0., 0., 0.,\n",
       "       0., 0., 0., 0., 0., 0., 0., 0., 0., 0., 0., 0., 0., 0., 0., 0., 0.,\n",
       "       0., 0., 0., 0., 0., 0., 0., 0., 0., 0., 0., 0., 0., 0., 0., 0., 0.,\n",
       "       0., 0., 0., 0., 0., 0., 0., 0., 0., 0., 0., 0., 0., 0., 0., 0., 0.,\n",
       "       0., 0., 0., 0., 0., 0., 0., 0., 0., 0., 0., 0., 0., 0., 0., 0., 0.,\n",
       "       0., 0., 0., 0., 0., 0., 0., 0., 0., 0., 0., 0., 0., 0., 0., 0., 0.,\n",
       "       0., 0., 0., 0., 0., 0., 0., 0., 0., 0., 0., 0., 0., 0., 0., 0., 0.,\n",
       "       0., 0., 0., 0., 0., 0., 0., 0., 0., 0., 0., 0., 0., 0., 0., 0., 0.,\n",
       "       0., 0., 0., 0., 0., 0., 0., 0., 0., 0., 0., 0., 0., 0., 0., 0., 0.,\n",
       "       0., 0., 0., 0., 0., 0., 0., 0., 0., 0., 0., 0., 0., 0., 0., 0., 0.,\n",
       "       0., 0., 0., 0., 0., 0., 0., 0., 0., 0., 0., 0., 0., 0., 0., 0., 0.,\n",
       "       0., 0., 0., 0., 0., 0., 0., 0., 0., 0., 0., 0., 0., 0., 0., 0., 0.,\n",
       "       0., 0., 0., 0., 0., 0., 0., 0., 0., 0., 0., 0., 0., 0., 0., 0., 0.,\n",
       "       0., 0., 0., 0., 0., 0., 0., 0., 0., 0., 0., 0., 0., 0., 0., 0., 0.,\n",
       "       0., 0., 0., 0., 0., 0., 0., 0., 0., 0., 0., 0., 0., 0., 0., 0., 0.,\n",
       "       0., 0., 0., 0., 0., 0., 0., 0., 0., 0., 0., 0., 0., 0., 0., 0., 0.,\n",
       "       0., 0., 0., 0., 0., 0., 0., 0., 0., 0., 0., 0., 0., 0., 0., 0., 0.,\n",
       "       0., 0., 0., 0., 0., 0., 0., 0., 0., 0., 0., 0., 0., 0., 0., 0., 0.,\n",
       "       0., 0., 0., 0., 0., 0., 0., 0., 0., 0., 0., 0., 0., 0., 0., 0., 0.,\n",
       "       0., 0., 0., 0., 0., 0., 0., 0., 0., 0., 0., 0., 0., 0., 0., 0., 0.,\n",
       "       0., 0., 0., 0., 0., 0., 0., 0., 0., 0., 0., 0., 0., 0., 0., 0., 0.,\n",
       "       0., 0., 0., 0., 0., 0., 0., 0., 0., 0., 0., 0., 0., 0., 0., 0., 0.,\n",
       "       0., 0., 0., 0., 0., 0., 0., 0., 0., 0., 0., 0., 0., 0., 0., 0., 0.,\n",
       "       0., 0., 0., 0., 0., 0., 0., 0., 0., 0., 0., 0., 0., 0., 0., 0., 0.,\n",
       "       0., 0., 0., 0., 0., 0., 0., 0., 0., 0., 0., 0., 0., 0., 0., 0., 0.,\n",
       "       0., 0., 0., 0., 0., 0., 0., 0., 0., 0., 0., 0., 0., 0., 0., 0., 0.,\n",
       "       0., 0., 0., 0., 0., 0., 0., 0., 0., 0., 0., 0., 0., 0., 0., 0., 0.,\n",
       "       0., 0., 0., 0., 0., 0., 0., 0., 0., 0., 0., 0., 0., 0., 0., 0., 0.,\n",
       "       0., 0., 0., 0., 0., 0., 0., 0., 0., 0., 0., 0., 0., 0., 0., 0., 0.,\n",
       "       0., 0., 0., 0., 0., 0., 0., 0., 0., 0., 0., 0., 0., 0., 0., 0., 0.,\n",
       "       0., 0., 0., 0., 0., 0., 0., 0., 0., 0., 0., 0.])"
      ]
     },
     "execution_count": 51,
     "metadata": {},
     "output_type": "execute_result"
    }
   ],
   "source": [
    "cosine_sim[1]"
   ]
  },
  {
   "cell_type": "markdown",
   "id": "39e2180f",
   "metadata": {},
   "source": [
    "#### a 641x641 matrix because each TV has a cosine similarity score with every other TV."
   ]
  },
  {
   "cell_type": "code",
   "execution_count": 52,
   "id": "4f913f1b",
   "metadata": {},
   "outputs": [
    {
     "data": {
      "text/plain": [
       "Title\n",
       "Stranger Things    0\n",
       "The Crown          1\n",
       "Ozark              2\n",
       "Lost in Space      3\n",
       "Narcos: Mexico     4\n",
       "dtype: int64"
      ]
     },
     "execution_count": 52,
     "metadata": {},
     "output_type": "execute_result"
    }
   ],
   "source": [
    "indices = pd.Series(df.index, index = df[\"Title\"]).drop_duplicates()\n",
    "indices[:5]"
   ]
  },
  {
   "cell_type": "code",
   "execution_count": 53,
   "id": "59eafc11",
   "metadata": {},
   "outputs": [],
   "source": [
    "def recommender(title, cosine_sim = cosine_sim):\n",
    "    title_idx = indices[title]\n",
    "    sim_scores = list(enumerate(cosine_sim[title_idx])) # similarity score of all TV shows with the\n",
    "                                                        # TV show previoulsy watched\n",
    "        \n",
    "    sim_scores = sorted(sim_scores, key = lambda x: x[1], reverse = True) # reverse to get the top matched scores\n",
    "    sim_scores = sim_scores[1:11] # top 10: notice we don't take the first one\n",
    "                                  # because it's the same movie (cosine_sim(x, x) = 1)\n",
    "    \n",
    "    shows_indices = [idx[0] for idx in sim_scores] # recommended TV shows' indices\n",
    "    \n",
    "    return df[\"Title\"].iloc[shows_indices]"
   ]
  },
  {
   "cell_type": "markdown",
   "id": "f9430113",
   "metadata": {},
   "source": [
    "#### I just finished *The Umbrealla Academy*, so what TV show should I watch next?"
   ]
  },
  {
   "cell_type": "code",
   "execution_count": 54,
   "id": "cce578da",
   "metadata": {},
   "outputs": [
    {
     "data": {
      "text/plain": [
       "227    Greenhouse Academy\n",
       "0         Stranger Things\n",
       "1               The Crown\n",
       "2                   Ozark\n",
       "3           Lost in Space\n",
       "4          Narcos: Mexico\n",
       "6            Black Summer\n",
       "7            Another Life\n",
       "8            Criminal: UK\n",
       "9            Raising Dion\n",
       "Name: Title, dtype: object"
      ]
     },
     "execution_count": 54,
     "metadata": {},
     "output_type": "execute_result"
    }
   ],
   "source": [
    "recommender(\"The Umbrella Academy\")"
   ]
  },
  {
   "cell_type": "code",
   "execution_count": 55,
   "id": "dfe9fe2e",
   "metadata": {},
   "outputs": [
    {
     "data": {
      "text/html": [
       "<div>\n",
       "<style scoped>\n",
       "    .dataframe tbody tr th:only-of-type {\n",
       "        vertical-align: middle;\n",
       "    }\n",
       "\n",
       "    .dataframe tbody tr th {\n",
       "        vertical-align: top;\n",
       "    }\n",
       "\n",
       "    .dataframe thead th {\n",
       "        text-align: right;\n",
       "    }\n",
       "</style>\n",
       "<table border=\"1\" class=\"dataframe\">\n",
       "  <thead>\n",
       "    <tr style=\"text-align: right;\">\n",
       "      <th></th>\n",
       "      <th>Title</th>\n",
       "      <th>Genre</th>\n",
       "      <th>Premiere</th>\n",
       "      <th>No_of_Seasons</th>\n",
       "      <th>No_of_Episodes</th>\n",
       "    </tr>\n",
       "  </thead>\n",
       "  <tbody>\n",
       "    <tr>\n",
       "      <th>0</th>\n",
       "      <td>Stranger Things</td>\n",
       "      <td>Science Fiction Horror</td>\n",
       "      <td>July 15, 2016</td>\n",
       "      <td>3</td>\n",
       "      <td>25</td>\n",
       "    </tr>\n",
       "    <tr>\n",
       "      <th>1</th>\n",
       "      <td>The Crown</td>\n",
       "      <td>Historical Drama</td>\n",
       "      <td>November 4, 2016</td>\n",
       "      <td>4</td>\n",
       "      <td>40</td>\n",
       "    </tr>\n",
       "    <tr>\n",
       "      <th>2</th>\n",
       "      <td>Ozark</td>\n",
       "      <td>Crime Drama</td>\n",
       "      <td>July 21, 2017</td>\n",
       "      <td>3</td>\n",
       "      <td>30</td>\n",
       "    </tr>\n",
       "    <tr>\n",
       "      <th>3</th>\n",
       "      <td>Lost in Space</td>\n",
       "      <td>Science Fiction</td>\n",
       "      <td>April 13, 2018</td>\n",
       "      <td>2</td>\n",
       "      <td>20</td>\n",
       "    </tr>\n",
       "    <tr>\n",
       "      <th>4</th>\n",
       "      <td>Narcos: Mexico</td>\n",
       "      <td>Crime Drama</td>\n",
       "      <td>November 16, 2018</td>\n",
       "      <td>2</td>\n",
       "      <td>20</td>\n",
       "    </tr>\n",
       "    <tr>\n",
       "      <th>6</th>\n",
       "      <td>Black Summer</td>\n",
       "      <td>Zombie Drama</td>\n",
       "      <td>April 11, 2019</td>\n",
       "      <td>1</td>\n",
       "      <td>8</td>\n",
       "    </tr>\n",
       "    <tr>\n",
       "      <th>7</th>\n",
       "      <td>Another Life</td>\n",
       "      <td>Science Fiction Drama</td>\n",
       "      <td>July 25, 2019</td>\n",
       "      <td>1</td>\n",
       "      <td>10</td>\n",
       "    </tr>\n",
       "    <tr>\n",
       "      <th>8</th>\n",
       "      <td>Criminal: UK</td>\n",
       "      <td>Police Procedural Anthology Series</td>\n",
       "      <td>September 20, 2019</td>\n",
       "      <td>2</td>\n",
       "      <td>7</td>\n",
       "    </tr>\n",
       "    <tr>\n",
       "      <th>9</th>\n",
       "      <td>Raising Dion</td>\n",
       "      <td>Superhero Science Fiction Drama</td>\n",
       "      <td>October 4, 2019</td>\n",
       "      <td>1</td>\n",
       "      <td>9</td>\n",
       "    </tr>\n",
       "    <tr>\n",
       "      <th>227</th>\n",
       "      <td>Greenhouse Academy</td>\n",
       "      <td>Science Fiction Teen Drama</td>\n",
       "      <td>September 8, 2017</td>\n",
       "      <td>4</td>\n",
       "      <td>40</td>\n",
       "    </tr>\n",
       "  </tbody>\n",
       "</table>\n",
       "</div>"
      ],
      "text/plain": [
       "                  Title                               Genre  \\\n",
       "0       Stranger Things              Science Fiction Horror   \n",
       "1             The Crown                    Historical Drama   \n",
       "2                 Ozark                         Crime Drama   \n",
       "3         Lost in Space                     Science Fiction   \n",
       "4        Narcos: Mexico                         Crime Drama   \n",
       "6          Black Summer                        Zombie Drama   \n",
       "7          Another Life               Science Fiction Drama   \n",
       "8          Criminal: UK  Police Procedural Anthology Series   \n",
       "9          Raising Dion     Superhero Science Fiction Drama   \n",
       "227  Greenhouse Academy          Science Fiction Teen Drama   \n",
       "\n",
       "               Premiere No_of_Seasons No_of_Episodes  \n",
       "0         July 15, 2016             3             25  \n",
       "1      November 4, 2016             4             40  \n",
       "2         July 21, 2017             3             30  \n",
       "3        April 13, 2018             2             20  \n",
       "4     November 16, 2018             2             20  \n",
       "6        April 11, 2019             1              8  \n",
       "7         July 25, 2019             1             10  \n",
       "8    September 20, 2019             2              7  \n",
       "9       October 4, 2019             1              9  \n",
       "227   September 8, 2017             4             40  "
      ]
     },
     "execution_count": 55,
     "metadata": {},
     "output_type": "execute_result"
    }
   ],
   "source": [
    "all_recommendations = recommender(\"The Umbrella Academy\")\n",
    "\n",
    "# top recommendations to users who just finished The Umbrella Academy\n",
    "df_recommendations = df[df[\"Title\"].isin(all_recommendations)]\n",
    "df_recommendations"
   ]
  }
 ],
 "metadata": {
  "kernelspec": {
   "display_name": "Python 3.10.5 64-bit (windows store)",
   "language": "python",
   "name": "python3"
  },
  "language_info": {
   "codemirror_mode": {
    "name": "ipython",
    "version": 3
   },
   "file_extension": ".py",
   "mimetype": "text/x-python",
   "name": "python",
   "nbconvert_exporter": "python",
   "pygments_lexer": "ipython3",
   "version": "3.10.5"
  },
  "vscode": {
   "interpreter": {
    "hash": "e75f86a392d821c6ffa2fd0ad6af67d519df4ad6878bbc920b3afeeb9500102d"
   }
  }
 },
 "nbformat": 4,
 "nbformat_minor": 5
}

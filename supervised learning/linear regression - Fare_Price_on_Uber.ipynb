{
  "nbformat": 4,
  "nbformat_minor": 0,
  "metadata": {
    "colab": {
      "name": "Fare Price on Uber - linear regression.ipynb",
      "provenance": [],
      "collapsed_sections": [
        "QxwFi5jIouCW",
        "DSMgP3xirkST",
        "hbS7iyfouZAO"
      ]
    },
    "kernelspec": {
      "name": "python3",
      "display_name": "Python 3"
    },
    "language_info": {
      "name": "python"
    }
  },
  "cells": [
    {
      "cell_type": "markdown",
      "source": [
        "# Fare Price on Uber - Linear Regression\n",
        "#### dataset: https://www.kaggle.com/datasets/yasserh/uber-fares-dataset"
      ],
      "metadata": {
        "id": "chGDbU7ryg4y"
      }
    },
    {
      "cell_type": "code",
      "source": [
        "import pandas as pd\n",
        "\n",
        "import numpy as np\n",
        "\n",
        "import matplotlib.pyplot as plt\n",
        "import seaborn as sns\n",
        "\n",
        "from math import radians, cos, sin, asin, sqrt\n",
        "\n",
        "from sklearn.model_selection import train_test_split\n",
        "from sklearn.model_selection import cross_validate\n",
        "\n",
        "from sklearn.linear_model import LinearRegression\n",
        "\n",
        "from sklearn.metrics import mean_squared_error, r2_score"
      ],
      "metadata": {
        "id": "9RnJncyXolSp"
      },
      "execution_count": 1,
      "outputs": []
    },
    {
      "cell_type": "code",
      "execution_count": 2,
      "metadata": {
        "id": "3UL5gbR7nVw0",
        "colab": {
          "base_uri": "https://localhost:8080/"
        },
        "outputId": "a02d4cbd-45a5-4a57-b915-a17f89843d71"
      },
      "outputs": [
        {
          "output_type": "stream",
          "name": "stdout",
          "text": [
            "Drive already mounted at /content/gdrive; to attempt to forcibly remount, call drive.mount(\"/content/gdrive\", force_remount=True).\n"
          ]
        }
      ],
      "source": [
        "from google.colab import drive\n",
        "drive.mount(\"/content/gdrive\")"
      ]
    },
    {
      "cell_type": "markdown",
      "source": [
        "#### **Exploratory data analysis**"
      ],
      "metadata": {
        "id": "QxwFi5jIouCW"
      }
    },
    {
      "cell_type": "code",
      "source": [
        "data = pd.read_csv(\"/content/gdrive/MyDrive/Colab Notebooks/data/uber.csv\")\n",
        "data.head(3)"
      ],
      "metadata": {
        "id": "B-ugdu1snezI",
        "colab": {
          "base_uri": "https://localhost:8080/",
          "height": 257
        },
        "outputId": "70478c37-601a-4bfc-a247-41bebf45b5f6"
      },
      "execution_count": 3,
      "outputs": [
        {
          "output_type": "execute_result",
          "data": {
            "text/plain": [
              "   Unnamed: 0                           key  fare_amount  \\\n",
              "0    24238194   2015-05-07 19:52:06.0000003          7.5   \n",
              "1    27835199   2009-07-17 20:04:56.0000002          7.7   \n",
              "2    44984355  2009-08-24 21:45:00.00000061         12.9   \n",
              "\n",
              "           pickup_datetime  pickup_longitude  pickup_latitude  \\\n",
              "0  2015-05-07 19:52:06 UTC        -73.999817        40.738354   \n",
              "1  2009-07-17 20:04:56 UTC        -73.994355        40.728225   \n",
              "2  2009-08-24 21:45:00 UTC        -74.005043        40.740770   \n",
              "\n",
              "   dropoff_longitude  dropoff_latitude  passenger_count  \n",
              "0         -73.999512         40.723217                1  \n",
              "1         -73.994710         40.750325                1  \n",
              "2         -73.962565         40.772647                1  "
            ],
            "text/html": [
              "\n",
              "  <div id=\"df-51c76b59-f6c6-4ace-a744-114d60ac7634\">\n",
              "    <div class=\"colab-df-container\">\n",
              "      <div>\n",
              "<style scoped>\n",
              "    .dataframe tbody tr th:only-of-type {\n",
              "        vertical-align: middle;\n",
              "    }\n",
              "\n",
              "    .dataframe tbody tr th {\n",
              "        vertical-align: top;\n",
              "    }\n",
              "\n",
              "    .dataframe thead th {\n",
              "        text-align: right;\n",
              "    }\n",
              "</style>\n",
              "<table border=\"1\" class=\"dataframe\">\n",
              "  <thead>\n",
              "    <tr style=\"text-align: right;\">\n",
              "      <th></th>\n",
              "      <th>Unnamed: 0</th>\n",
              "      <th>key</th>\n",
              "      <th>fare_amount</th>\n",
              "      <th>pickup_datetime</th>\n",
              "      <th>pickup_longitude</th>\n",
              "      <th>pickup_latitude</th>\n",
              "      <th>dropoff_longitude</th>\n",
              "      <th>dropoff_latitude</th>\n",
              "      <th>passenger_count</th>\n",
              "    </tr>\n",
              "  </thead>\n",
              "  <tbody>\n",
              "    <tr>\n",
              "      <th>0</th>\n",
              "      <td>24238194</td>\n",
              "      <td>2015-05-07 19:52:06.0000003</td>\n",
              "      <td>7.5</td>\n",
              "      <td>2015-05-07 19:52:06 UTC</td>\n",
              "      <td>-73.999817</td>\n",
              "      <td>40.738354</td>\n",
              "      <td>-73.999512</td>\n",
              "      <td>40.723217</td>\n",
              "      <td>1</td>\n",
              "    </tr>\n",
              "    <tr>\n",
              "      <th>1</th>\n",
              "      <td>27835199</td>\n",
              "      <td>2009-07-17 20:04:56.0000002</td>\n",
              "      <td>7.7</td>\n",
              "      <td>2009-07-17 20:04:56 UTC</td>\n",
              "      <td>-73.994355</td>\n",
              "      <td>40.728225</td>\n",
              "      <td>-73.994710</td>\n",
              "      <td>40.750325</td>\n",
              "      <td>1</td>\n",
              "    </tr>\n",
              "    <tr>\n",
              "      <th>2</th>\n",
              "      <td>44984355</td>\n",
              "      <td>2009-08-24 21:45:00.00000061</td>\n",
              "      <td>12.9</td>\n",
              "      <td>2009-08-24 21:45:00 UTC</td>\n",
              "      <td>-74.005043</td>\n",
              "      <td>40.740770</td>\n",
              "      <td>-73.962565</td>\n",
              "      <td>40.772647</td>\n",
              "      <td>1</td>\n",
              "    </tr>\n",
              "  </tbody>\n",
              "</table>\n",
              "</div>\n",
              "      <button class=\"colab-df-convert\" onclick=\"convertToInteractive('df-51c76b59-f6c6-4ace-a744-114d60ac7634')\"\n",
              "              title=\"Convert this dataframe to an interactive table.\"\n",
              "              style=\"display:none;\">\n",
              "        \n",
              "  <svg xmlns=\"http://www.w3.org/2000/svg\" height=\"24px\"viewBox=\"0 0 24 24\"\n",
              "       width=\"24px\">\n",
              "    <path d=\"M0 0h24v24H0V0z\" fill=\"none\"/>\n",
              "    <path d=\"M18.56 5.44l.94 2.06.94-2.06 2.06-.94-2.06-.94-.94-2.06-.94 2.06-2.06.94zm-11 1L8.5 8.5l.94-2.06 2.06-.94-2.06-.94L8.5 2.5l-.94 2.06-2.06.94zm10 10l.94 2.06.94-2.06 2.06-.94-2.06-.94-.94-2.06-.94 2.06-2.06.94z\"/><path d=\"M17.41 7.96l-1.37-1.37c-.4-.4-.92-.59-1.43-.59-.52 0-1.04.2-1.43.59L10.3 9.45l-7.72 7.72c-.78.78-.78 2.05 0 2.83L4 21.41c.39.39.9.59 1.41.59.51 0 1.02-.2 1.41-.59l7.78-7.78 2.81-2.81c.8-.78.8-2.07 0-2.86zM5.41 20L4 18.59l7.72-7.72 1.47 1.35L5.41 20z\"/>\n",
              "  </svg>\n",
              "      </button>\n",
              "      \n",
              "  <style>\n",
              "    .colab-df-container {\n",
              "      display:flex;\n",
              "      flex-wrap:wrap;\n",
              "      gap: 12px;\n",
              "    }\n",
              "\n",
              "    .colab-df-convert {\n",
              "      background-color: #E8F0FE;\n",
              "      border: none;\n",
              "      border-radius: 50%;\n",
              "      cursor: pointer;\n",
              "      display: none;\n",
              "      fill: #1967D2;\n",
              "      height: 32px;\n",
              "      padding: 0 0 0 0;\n",
              "      width: 32px;\n",
              "    }\n",
              "\n",
              "    .colab-df-convert:hover {\n",
              "      background-color: #E2EBFA;\n",
              "      box-shadow: 0px 1px 2px rgba(60, 64, 67, 0.3), 0px 1px 3px 1px rgba(60, 64, 67, 0.15);\n",
              "      fill: #174EA6;\n",
              "    }\n",
              "\n",
              "    [theme=dark] .colab-df-convert {\n",
              "      background-color: #3B4455;\n",
              "      fill: #D2E3FC;\n",
              "    }\n",
              "\n",
              "    [theme=dark] .colab-df-convert:hover {\n",
              "      background-color: #434B5C;\n",
              "      box-shadow: 0px 1px 3px 1px rgba(0, 0, 0, 0.15);\n",
              "      filter: drop-shadow(0px 1px 2px rgba(0, 0, 0, 0.3));\n",
              "      fill: #FFFFFF;\n",
              "    }\n",
              "  </style>\n",
              "\n",
              "      <script>\n",
              "        const buttonEl =\n",
              "          document.querySelector('#df-51c76b59-f6c6-4ace-a744-114d60ac7634 button.colab-df-convert');\n",
              "        buttonEl.style.display =\n",
              "          google.colab.kernel.accessAllowed ? 'block' : 'none';\n",
              "\n",
              "        async function convertToInteractive(key) {\n",
              "          const element = document.querySelector('#df-51c76b59-f6c6-4ace-a744-114d60ac7634');\n",
              "          const dataTable =\n",
              "            await google.colab.kernel.invokeFunction('convertToInteractive',\n",
              "                                                     [key], {});\n",
              "          if (!dataTable) return;\n",
              "\n",
              "          const docLinkHtml = 'Like what you see? Visit the ' +\n",
              "            '<a target=\"_blank\" href=https://colab.research.google.com/notebooks/data_table.ipynb>data table notebook</a>'\n",
              "            + ' to learn more about interactive tables.';\n",
              "          element.innerHTML = '';\n",
              "          dataTable['output_type'] = 'display_data';\n",
              "          await google.colab.output.renderOutput(dataTable, element);\n",
              "          const docLink = document.createElement('div');\n",
              "          docLink.innerHTML = docLinkHtml;\n",
              "          element.appendChild(docLink);\n",
              "        }\n",
              "      </script>\n",
              "    </div>\n",
              "  </div>\n",
              "  "
            ]
          },
          "metadata": {},
          "execution_count": 3
        }
      ]
    },
    {
      "cell_type": "code",
      "source": [
        "data.shape"
      ],
      "metadata": {
        "colab": {
          "base_uri": "https://localhost:8080/"
        },
        "id": "kAHGQUu7rNV6",
        "outputId": "955e2711-c433-419f-cdd7-b30972dc3976"
      },
      "execution_count": 4,
      "outputs": [
        {
          "output_type": "execute_result",
          "data": {
            "text/plain": [
              "(200000, 9)"
            ]
          },
          "metadata": {},
          "execution_count": 4
        }
      ]
    },
    {
      "cell_type": "markdown",
      "source": [
        "##### **Validating features' data type**"
      ],
      "metadata": {
        "id": "FcBLM2aCKJOx"
      }
    },
    {
      "cell_type": "code",
      "source": [
        "data.dtypes"
      ],
      "metadata": {
        "colab": {
          "base_uri": "https://localhost:8080/"
        },
        "id": "PLi4uFP4HuG7",
        "outputId": "98c252eb-353b-4de2-fed9-fb7f9701bcce"
      },
      "execution_count": 5,
      "outputs": [
        {
          "output_type": "execute_result",
          "data": {
            "text/plain": [
              "Unnamed: 0             int64\n",
              "key                   object\n",
              "fare_amount          float64\n",
              "pickup_datetime       object\n",
              "pickup_longitude     float64\n",
              "pickup_latitude      float64\n",
              "dropoff_longitude    float64\n",
              "dropoff_latitude     float64\n",
              "passenger_count        int64\n",
              "dtype: object"
            ]
          },
          "metadata": {},
          "execution_count": 5
        }
      ]
    },
    {
      "cell_type": "code",
      "source": [
        "# the pickup_datetime data type is not appropriate\n",
        "data[\"pickup_datetime\"] = pd.to_datetime(data[\"pickup_datetime\"])\n",
        "\n",
        "# let's decompose it to numerical features\n",
        "data[\"hour\"] = data[\"pickup_datetime\"].dt.hour\n",
        "data[\"dayofweek\"] = data[\"pickup_datetime\"].dt.dayofweek\n",
        "data[\"day\"] = data[\"pickup_datetime\"].dt.day\n",
        "data[\"month\"] = data[\"pickup_datetime\"].dt.month\n",
        "data[\"year\"] = data[\"pickup_datetime\"].dt.year"
      ],
      "metadata": {
        "id": "FGwY3OrvHzcr"
      },
      "execution_count": 6,
      "outputs": []
    },
    {
      "cell_type": "code",
      "source": [
        "data.dtypes"
      ],
      "metadata": {
        "colab": {
          "base_uri": "https://localhost:8080/"
        },
        "id": "nDjid53YIRs2",
        "outputId": "8b864a40-bf1b-462e-fbd6-1dff56a2a032"
      },
      "execution_count": 7,
      "outputs": [
        {
          "output_type": "execute_result",
          "data": {
            "text/plain": [
              "Unnamed: 0                         int64\n",
              "key                               object\n",
              "fare_amount                      float64\n",
              "pickup_datetime      datetime64[ns, UTC]\n",
              "pickup_longitude                 float64\n",
              "pickup_latitude                  float64\n",
              "dropoff_longitude                float64\n",
              "dropoff_latitude                 float64\n",
              "passenger_count                    int64\n",
              "hour                               int64\n",
              "dayofweek                          int64\n",
              "day                                int64\n",
              "month                              int64\n",
              "year                               int64\n",
              "dtype: object"
            ]
          },
          "metadata": {},
          "execution_count": 7
        }
      ]
    },
    {
      "cell_type": "markdown",
      "source": [
        "##### **Identifying missing values**"
      ],
      "metadata": {
        "id": "3fLO8hmHKlmQ"
      }
    },
    {
      "cell_type": "code",
      "source": [
        "data.isnull().sum()"
      ],
      "metadata": {
        "colab": {
          "base_uri": "https://localhost:8080/"
        },
        "id": "YGzuUrptJ7vM",
        "outputId": "f0b0ccf7-1623-483c-f0a0-7c8f676f688c"
      },
      "execution_count": 8,
      "outputs": [
        {
          "output_type": "execute_result",
          "data": {
            "text/plain": [
              "Unnamed: 0           0\n",
              "key                  0\n",
              "fare_amount          0\n",
              "pickup_datetime      0\n",
              "pickup_longitude     0\n",
              "pickup_latitude      0\n",
              "dropoff_longitude    1\n",
              "dropoff_latitude     1\n",
              "passenger_count      0\n",
              "hour                 0\n",
              "dayofweek            0\n",
              "day                  0\n",
              "month                0\n",
              "year                 0\n",
              "dtype: int64"
            ]
          },
          "metadata": {},
          "execution_count": 8
        }
      ]
    },
    {
      "cell_type": "code",
      "source": [
        "data = data.dropna()"
      ],
      "metadata": {
        "id": "VR7APaaCKyTo"
      },
      "execution_count": 9,
      "outputs": []
    },
    {
      "cell_type": "code",
      "source": [
        "data.isnull().sum()"
      ],
      "metadata": {
        "colab": {
          "base_uri": "https://localhost:8080/"
        },
        "id": "Pal1p-LfK13w",
        "outputId": "ba2e5f86-f50a-409b-b148-5a4f33ec57fe"
      },
      "execution_count": 10,
      "outputs": [
        {
          "output_type": "execute_result",
          "data": {
            "text/plain": [
              "Unnamed: 0           0\n",
              "key                  0\n",
              "fare_amount          0\n",
              "pickup_datetime      0\n",
              "pickup_longitude     0\n",
              "pickup_latitude      0\n",
              "dropoff_longitude    0\n",
              "dropoff_latitude     0\n",
              "passenger_count      0\n",
              "hour                 0\n",
              "dayofweek            0\n",
              "day                  0\n",
              "month                0\n",
              "year                 0\n",
              "dtype: int64"
            ]
          },
          "metadata": {},
          "execution_count": 10
        }
      ]
    },
    {
      "cell_type": "markdown",
      "source": [
        "##### **Feature engineering**\n",
        "###### Extracting a new and useful feature from raw data."
      ],
      "metadata": {
        "id": "VY1Xo7e3P-Mg"
      }
    },
    {
      "cell_type": "code",
      "source": [
        "# given two points on a sphere,\n",
        "# this function determines it\"s distance using latitude and longitude\n",
        "\n",
        "def haversine_formula(lat0, lat1, long0, long1):\n",
        "    # degrees to radians\n",
        "    long0 = radians(long0)\n",
        "    long1 = radians(long1)\n",
        "    lat0 = radians(lat0)\n",
        "    lat1 = radians(lat1)\n",
        "      \n",
        "    # formula expression\n",
        "    dlon = long1 - long0\n",
        "    dlat = lat1 - lat0\n",
        "    a = sin(dlat / 2)**2 + cos(lat0) * cos(lat1) * sin(dlon / 2)**2\n",
        " \n",
        "    c = 2 * asin(sqrt(a))\n",
        "    \n",
        "    # earth radius [km]\n",
        "    r = 6371\n",
        "      \n",
        "    # calculate the result\n",
        "    return c * r"
      ],
      "metadata": {
        "id": "GwNmaU2LQGNH"
      },
      "execution_count": 11,
      "outputs": []
    },
    {
      "cell_type": "code",
      "source": [
        "rides_distance = []\n",
        "\n",
        "for idx, sample in data.iterrows():\n",
        "  distance = haversine_formula(sample.pickup_latitude, sample.dropoff_latitude,\n",
        "                               sample.pickup_longitude, sample.dropoff_longitude)\n",
        "  \n",
        "  rides_distance.append(distance)\n",
        "\n",
        "data[\"distance\"] = rides_distance"
      ],
      "metadata": {
        "id": "G9XkV0QcSEVF"
      },
      "execution_count": 12,
      "outputs": []
    },
    {
      "cell_type": "markdown",
      "source": [
        "##### **Discovering outliers**"
      ],
      "metadata": {
        "id": "6uCRbJE8njRo"
      }
    },
    {
      "cell_type": "code",
      "source": [
        "data.describe().transpose()"
      ],
      "metadata": {
        "colab": {
          "base_uri": "https://localhost:8080/",
          "height": 0
        },
        "id": "Bsx6J2AlnkDY",
        "outputId": "7550e890-fdd3-46dd-8369-bafab4b2a5ba"
      },
      "execution_count": 13,
      "outputs": [
        {
          "output_type": "execute_result",
          "data": {
            "text/plain": [
              "                      count          mean           std          min  \\\n",
              "Unnamed: 0         199999.0  2.771248e+07  1.601386e+07     1.000000   \n",
              "fare_amount        199999.0  1.135989e+01  9.901760e+00   -52.000000   \n",
              "pickup_longitude   199999.0 -7.252763e+01  1.143782e+01 -1340.648410   \n",
              "pickup_latitude    199999.0  3.993588e+01  7.720558e+00   -74.015515   \n",
              "dropoff_longitude  199999.0 -7.252529e+01  1.311741e+01 -3356.666300   \n",
              "dropoff_latitude   199999.0  3.992389e+01  6.794829e+00  -881.985513   \n",
              "passenger_count    199999.0  1.684543e+00  1.385995e+00     0.000000   \n",
              "hour               199999.0  1.349139e+01  6.515505e+00     0.000000   \n",
              "dayofweek          199999.0  3.048435e+00  1.946946e+00     0.000000   \n",
              "day                199999.0  1.570474e+01  8.687377e+00     1.000000   \n",
              "month              199999.0  6.281791e+00  3.438933e+00     1.000000   \n",
              "year               199999.0  2.011742e+03  1.856400e+00  2009.000000   \n",
              "distance           199999.0  2.085535e+01  3.829646e+02     0.000000   \n",
              "\n",
              "                            25%           50%           75%           max  \n",
              "Unnamed: 0         1.382534e+07  2.774524e+07  4.155535e+07  5.542357e+07  \n",
              "fare_amount        6.000000e+00  8.500000e+00  1.250000e+01  4.990000e+02  \n",
              "pickup_longitude  -7.399206e+01 -7.398182e+01 -7.396715e+01  5.741846e+01  \n",
              "pickup_latitude    4.073480e+01  4.075259e+01  4.076716e+01  1.644421e+03  \n",
              "dropoff_longitude -7.399141e+01 -7.398009e+01 -7.396366e+01  1.153573e+03  \n",
              "dropoff_latitude   4.073382e+01  4.075304e+01  4.076800e+01  8.726976e+02  \n",
              "passenger_count    1.000000e+00  1.000000e+00  2.000000e+00  2.080000e+02  \n",
              "hour               9.000000e+00  1.400000e+01  1.900000e+01  2.300000e+01  \n",
              "dayofweek          1.000000e+00  3.000000e+00  5.000000e+00  6.000000e+00  \n",
              "day                8.000000e+00  1.600000e+01  2.300000e+01  3.100000e+01  \n",
              "month              3.000000e+00  6.000000e+00  9.000000e+00  1.200000e+01  \n",
              "year               2.010000e+03  2.012000e+03  2.013000e+03  2.015000e+03  \n",
              "distance           1.215222e+00  2.120992e+00  3.875169e+00  1.640924e+04  "
            ],
            "text/html": [
              "\n",
              "  <div id=\"df-876e7b31-6daa-465a-8737-4714f7b4d9d1\">\n",
              "    <div class=\"colab-df-container\">\n",
              "      <div>\n",
              "<style scoped>\n",
              "    .dataframe tbody tr th:only-of-type {\n",
              "        vertical-align: middle;\n",
              "    }\n",
              "\n",
              "    .dataframe tbody tr th {\n",
              "        vertical-align: top;\n",
              "    }\n",
              "\n",
              "    .dataframe thead th {\n",
              "        text-align: right;\n",
              "    }\n",
              "</style>\n",
              "<table border=\"1\" class=\"dataframe\">\n",
              "  <thead>\n",
              "    <tr style=\"text-align: right;\">\n",
              "      <th></th>\n",
              "      <th>count</th>\n",
              "      <th>mean</th>\n",
              "      <th>std</th>\n",
              "      <th>min</th>\n",
              "      <th>25%</th>\n",
              "      <th>50%</th>\n",
              "      <th>75%</th>\n",
              "      <th>max</th>\n",
              "    </tr>\n",
              "  </thead>\n",
              "  <tbody>\n",
              "    <tr>\n",
              "      <th>Unnamed: 0</th>\n",
              "      <td>199999.0</td>\n",
              "      <td>2.771248e+07</td>\n",
              "      <td>1.601386e+07</td>\n",
              "      <td>1.000000</td>\n",
              "      <td>1.382534e+07</td>\n",
              "      <td>2.774524e+07</td>\n",
              "      <td>4.155535e+07</td>\n",
              "      <td>5.542357e+07</td>\n",
              "    </tr>\n",
              "    <tr>\n",
              "      <th>fare_amount</th>\n",
              "      <td>199999.0</td>\n",
              "      <td>1.135989e+01</td>\n",
              "      <td>9.901760e+00</td>\n",
              "      <td>-52.000000</td>\n",
              "      <td>6.000000e+00</td>\n",
              "      <td>8.500000e+00</td>\n",
              "      <td>1.250000e+01</td>\n",
              "      <td>4.990000e+02</td>\n",
              "    </tr>\n",
              "    <tr>\n",
              "      <th>pickup_longitude</th>\n",
              "      <td>199999.0</td>\n",
              "      <td>-7.252763e+01</td>\n",
              "      <td>1.143782e+01</td>\n",
              "      <td>-1340.648410</td>\n",
              "      <td>-7.399206e+01</td>\n",
              "      <td>-7.398182e+01</td>\n",
              "      <td>-7.396715e+01</td>\n",
              "      <td>5.741846e+01</td>\n",
              "    </tr>\n",
              "    <tr>\n",
              "      <th>pickup_latitude</th>\n",
              "      <td>199999.0</td>\n",
              "      <td>3.993588e+01</td>\n",
              "      <td>7.720558e+00</td>\n",
              "      <td>-74.015515</td>\n",
              "      <td>4.073480e+01</td>\n",
              "      <td>4.075259e+01</td>\n",
              "      <td>4.076716e+01</td>\n",
              "      <td>1.644421e+03</td>\n",
              "    </tr>\n",
              "    <tr>\n",
              "      <th>dropoff_longitude</th>\n",
              "      <td>199999.0</td>\n",
              "      <td>-7.252529e+01</td>\n",
              "      <td>1.311741e+01</td>\n",
              "      <td>-3356.666300</td>\n",
              "      <td>-7.399141e+01</td>\n",
              "      <td>-7.398009e+01</td>\n",
              "      <td>-7.396366e+01</td>\n",
              "      <td>1.153573e+03</td>\n",
              "    </tr>\n",
              "    <tr>\n",
              "      <th>dropoff_latitude</th>\n",
              "      <td>199999.0</td>\n",
              "      <td>3.992389e+01</td>\n",
              "      <td>6.794829e+00</td>\n",
              "      <td>-881.985513</td>\n",
              "      <td>4.073382e+01</td>\n",
              "      <td>4.075304e+01</td>\n",
              "      <td>4.076800e+01</td>\n",
              "      <td>8.726976e+02</td>\n",
              "    </tr>\n",
              "    <tr>\n",
              "      <th>passenger_count</th>\n",
              "      <td>199999.0</td>\n",
              "      <td>1.684543e+00</td>\n",
              "      <td>1.385995e+00</td>\n",
              "      <td>0.000000</td>\n",
              "      <td>1.000000e+00</td>\n",
              "      <td>1.000000e+00</td>\n",
              "      <td>2.000000e+00</td>\n",
              "      <td>2.080000e+02</td>\n",
              "    </tr>\n",
              "    <tr>\n",
              "      <th>hour</th>\n",
              "      <td>199999.0</td>\n",
              "      <td>1.349139e+01</td>\n",
              "      <td>6.515505e+00</td>\n",
              "      <td>0.000000</td>\n",
              "      <td>9.000000e+00</td>\n",
              "      <td>1.400000e+01</td>\n",
              "      <td>1.900000e+01</td>\n",
              "      <td>2.300000e+01</td>\n",
              "    </tr>\n",
              "    <tr>\n",
              "      <th>dayofweek</th>\n",
              "      <td>199999.0</td>\n",
              "      <td>3.048435e+00</td>\n",
              "      <td>1.946946e+00</td>\n",
              "      <td>0.000000</td>\n",
              "      <td>1.000000e+00</td>\n",
              "      <td>3.000000e+00</td>\n",
              "      <td>5.000000e+00</td>\n",
              "      <td>6.000000e+00</td>\n",
              "    </tr>\n",
              "    <tr>\n",
              "      <th>day</th>\n",
              "      <td>199999.0</td>\n",
              "      <td>1.570474e+01</td>\n",
              "      <td>8.687377e+00</td>\n",
              "      <td>1.000000</td>\n",
              "      <td>8.000000e+00</td>\n",
              "      <td>1.600000e+01</td>\n",
              "      <td>2.300000e+01</td>\n",
              "      <td>3.100000e+01</td>\n",
              "    </tr>\n",
              "    <tr>\n",
              "      <th>month</th>\n",
              "      <td>199999.0</td>\n",
              "      <td>6.281791e+00</td>\n",
              "      <td>3.438933e+00</td>\n",
              "      <td>1.000000</td>\n",
              "      <td>3.000000e+00</td>\n",
              "      <td>6.000000e+00</td>\n",
              "      <td>9.000000e+00</td>\n",
              "      <td>1.200000e+01</td>\n",
              "    </tr>\n",
              "    <tr>\n",
              "      <th>year</th>\n",
              "      <td>199999.0</td>\n",
              "      <td>2.011742e+03</td>\n",
              "      <td>1.856400e+00</td>\n",
              "      <td>2009.000000</td>\n",
              "      <td>2.010000e+03</td>\n",
              "      <td>2.012000e+03</td>\n",
              "      <td>2.013000e+03</td>\n",
              "      <td>2.015000e+03</td>\n",
              "    </tr>\n",
              "    <tr>\n",
              "      <th>distance</th>\n",
              "      <td>199999.0</td>\n",
              "      <td>2.085535e+01</td>\n",
              "      <td>3.829646e+02</td>\n",
              "      <td>0.000000</td>\n",
              "      <td>1.215222e+00</td>\n",
              "      <td>2.120992e+00</td>\n",
              "      <td>3.875169e+00</td>\n",
              "      <td>1.640924e+04</td>\n",
              "    </tr>\n",
              "  </tbody>\n",
              "</table>\n",
              "</div>\n",
              "      <button class=\"colab-df-convert\" onclick=\"convertToInteractive('df-876e7b31-6daa-465a-8737-4714f7b4d9d1')\"\n",
              "              title=\"Convert this dataframe to an interactive table.\"\n",
              "              style=\"display:none;\">\n",
              "        \n",
              "  <svg xmlns=\"http://www.w3.org/2000/svg\" height=\"24px\"viewBox=\"0 0 24 24\"\n",
              "       width=\"24px\">\n",
              "    <path d=\"M0 0h24v24H0V0z\" fill=\"none\"/>\n",
              "    <path d=\"M18.56 5.44l.94 2.06.94-2.06 2.06-.94-2.06-.94-.94-2.06-.94 2.06-2.06.94zm-11 1L8.5 8.5l.94-2.06 2.06-.94-2.06-.94L8.5 2.5l-.94 2.06-2.06.94zm10 10l.94 2.06.94-2.06 2.06-.94-2.06-.94-.94-2.06-.94 2.06-2.06.94z\"/><path d=\"M17.41 7.96l-1.37-1.37c-.4-.4-.92-.59-1.43-.59-.52 0-1.04.2-1.43.59L10.3 9.45l-7.72 7.72c-.78.78-.78 2.05 0 2.83L4 21.41c.39.39.9.59 1.41.59.51 0 1.02-.2 1.41-.59l7.78-7.78 2.81-2.81c.8-.78.8-2.07 0-2.86zM5.41 20L4 18.59l7.72-7.72 1.47 1.35L5.41 20z\"/>\n",
              "  </svg>\n",
              "      </button>\n",
              "      \n",
              "  <style>\n",
              "    .colab-df-container {\n",
              "      display:flex;\n",
              "      flex-wrap:wrap;\n",
              "      gap: 12px;\n",
              "    }\n",
              "\n",
              "    .colab-df-convert {\n",
              "      background-color: #E8F0FE;\n",
              "      border: none;\n",
              "      border-radius: 50%;\n",
              "      cursor: pointer;\n",
              "      display: none;\n",
              "      fill: #1967D2;\n",
              "      height: 32px;\n",
              "      padding: 0 0 0 0;\n",
              "      width: 32px;\n",
              "    }\n",
              "\n",
              "    .colab-df-convert:hover {\n",
              "      background-color: #E2EBFA;\n",
              "      box-shadow: 0px 1px 2px rgba(60, 64, 67, 0.3), 0px 1px 3px 1px rgba(60, 64, 67, 0.15);\n",
              "      fill: #174EA6;\n",
              "    }\n",
              "\n",
              "    [theme=dark] .colab-df-convert {\n",
              "      background-color: #3B4455;\n",
              "      fill: #D2E3FC;\n",
              "    }\n",
              "\n",
              "    [theme=dark] .colab-df-convert:hover {\n",
              "      background-color: #434B5C;\n",
              "      box-shadow: 0px 1px 3px 1px rgba(0, 0, 0, 0.15);\n",
              "      filter: drop-shadow(0px 1px 2px rgba(0, 0, 0, 0.3));\n",
              "      fill: #FFFFFF;\n",
              "    }\n",
              "  </style>\n",
              "\n",
              "      <script>\n",
              "        const buttonEl =\n",
              "          document.querySelector('#df-876e7b31-6daa-465a-8737-4714f7b4d9d1 button.colab-df-convert');\n",
              "        buttonEl.style.display =\n",
              "          google.colab.kernel.accessAllowed ? 'block' : 'none';\n",
              "\n",
              "        async function convertToInteractive(key) {\n",
              "          const element = document.querySelector('#df-876e7b31-6daa-465a-8737-4714f7b4d9d1');\n",
              "          const dataTable =\n",
              "            await google.colab.kernel.invokeFunction('convertToInteractive',\n",
              "                                                     [key], {});\n",
              "          if (!dataTable) return;\n",
              "\n",
              "          const docLinkHtml = 'Like what you see? Visit the ' +\n",
              "            '<a target=\"_blank\" href=https://colab.research.google.com/notebooks/data_table.ipynb>data table notebook</a>'\n",
              "            + ' to learn more about interactive tables.';\n",
              "          element.innerHTML = '';\n",
              "          dataTable['output_type'] = 'display_data';\n",
              "          await google.colab.output.renderOutput(dataTable, element);\n",
              "          const docLink = document.createElement('div');\n",
              "          docLink.innerHTML = docLinkHtml;\n",
              "          element.appendChild(docLink);\n",
              "        }\n",
              "      </script>\n",
              "    </div>\n",
              "  </div>\n",
              "  "
            ]
          },
          "metadata": {},
          "execution_count": 13
        }
      ]
    },
    {
      "cell_type": "markdown",
      "source": [
        "###### As we can see, the minimum value for **passenger_count**, **distance**, **fare_amount**, **latitude** and **longitude** are not feasible, so let's handle those kind of outliers.\n",
        "\n",
        "###### What should be considered an outlier:\n",
        "* `fare_amount < -52` (min value found)\n",
        "* `130km < distance < 0` (min and maximum ride distance)\n",
        "* `90 < latitude < -90` (latitude limitation)\n",
        "* `180 < longitude < -180` (longitude limitation)"
      ],
      "metadata": {
        "id": "s_o-J3Gnntew"
      }
    },
    {
      "cell_type": "code",
      "source": [
        "features = data.select_dtypes(include=np.number).columns.tolist()\n",
        "features.remove(\"Unnamed: 0\")"
      ],
      "metadata": {
        "id": "6-PY7o50stG7"
      },
      "execution_count": 14,
      "outputs": []
    },
    {
      "cell_type": "code",
      "source": [
        "# visualizing outliers with boxplot\n",
        "\n",
        "plt.figure(figsize=(20, 20))\n",
        "\n",
        "for idx, feature in enumerate(features):\n",
        "    plt.subplot(6, 5, idx + 1)\n",
        "    plt.boxplot(data[feature], whis=1.5)\n",
        "    plt.tight_layout()\n",
        "    plt.title(feature)\n",
        "    \n",
        "plt.show()"
      ],
      "metadata": {
        "colab": {
          "base_uri": "https://localhost:8080/",
          "height": 0
        },
        "id": "RtkAsFNfsGl4",
        "outputId": "21882237-b053-4929-f4a7-eef2ea3781af"
      },
      "execution_count": 15,
      "outputs": [
        {
          "output_type": "display_data",
          "data": {
            "text/plain": [
              "<Figure size 1440x1440 with 12 Axes>"
            ],
            "image/png": "[encoded data removed]"
          },
          "metadata": {
            "needs_background": "light"
          }
        }
      ]
    },
    {
      "cell_type": "code",
      "source": [
        "def IQR_rule(column):\n",
        "    Q1, Q3 = np.percentile(column, [25, 75])\n",
        "    IQR = Q3 - Q1\n",
        "    lower_range = Q1 - (1.5 * IQR)\n",
        "    upper_range = Q3 + (1.5 * IQR)\n",
        "\n",
        "    return lower_range, upper_range"
      ],
      "metadata": {
        "id": "hdzKrdG4vjKj"
      },
      "execution_count": 16,
      "outputs": []
    },
    {
      "cell_type": "code",
      "source": [
        "for j in features:\n",
        "    lowerbound, upperbound = IQR_rule(data[j])\n",
        "    data[j] = np.clip(data[j] , lowerbound , upperbound)"
      ],
      "metadata": {
        "id": "ncYOr7kLvrrW"
      },
      "execution_count": 17,
      "outputs": []
    },
    {
      "cell_type": "code",
      "source": [
        "# visualizing outliers with boxplot\n",
        "# after limiting values\n",
        "\n",
        "plt.figure(figsize=(20, 20))\n",
        "\n",
        "for idx, feature in enumerate(features):\n",
        "    plt.subplot(6, 5, idx + 1)\n",
        "    plt.boxplot(data[feature], whis=1.5)\n",
        "    plt.tight_layout()\n",
        "    plt.title(feature)\n",
        "    \n",
        "plt.show()"
      ],
      "metadata": {
        "colab": {
          "base_uri": "https://localhost:8080/",
          "height": 0
        },
        "id": "VgfoBZafw0WO",
        "outputId": "31774f9e-7f63-4b7b-8b26-3089ffab0c38"
      },
      "execution_count": 18,
      "outputs": [
        {
          "output_type": "display_data",
          "data": {
            "text/plain": [
              "<Figure size 1440x1440 with 12 Axes>"
            ],
            "image/png": "[encoded data removed]"
          },
          "metadata": {
            "needs_background": "light"
          }
        }
      ]
    },
    {
      "cell_type": "code",
      "source": [
        "# removing observations\n",
        "# without latitude and longitude limitation range\n",
        "\n",
        "incorrect_coordinates = data.loc[(data.pickup_latitude > 90) | (data.pickup_latitude < -90)\n",
        "                                  | (data.dropoff_latitude > 90) | (data.dropoff_latitude < -90)\n",
        "                                  | (data.pickup_longitude > 180) | (data.pickup_longitude < -180)\n",
        "                                  | (data.dropoff_longitude > 90) | (data.dropoff_longitude < -90)]\n",
        "\n",
        "data = data.drop(incorrect_coordinates, errors=\"ignore\")"
      ],
      "metadata": {
        "id": "KPOevYICzR-g"
      },
      "execution_count": 19,
      "outputs": []
    },
    {
      "cell_type": "code",
      "source": [
        "# removing observations\n",
        "# without distance limitation range\n",
        "\n",
        "data = data.loc[(data.distance >= 1) | (data.distance <= 130)]"
      ],
      "metadata": {
        "id": "8KbZBgdV1npy"
      },
      "execution_count": 20,
      "outputs": []
    },
    {
      "cell_type": "markdown",
      "source": [
        "##### **Features correlation**"
      ],
      "metadata": {
        "id": "BuiUPNl53PED"
      }
    },
    {
      "cell_type": "code",
      "source": [
        "corr = data.corr()"
      ],
      "metadata": {
        "id": "Hkx1kD-23VAr"
      },
      "execution_count": 21,
      "outputs": []
    },
    {
      "cell_type": "code",
      "source": [
        "plt.figure(figsize=(8, 5))\n",
        "\n",
        "mask = np.zeros_like(corr)\n",
        "mask[np.tril_indices_from(mask, k=-1)] = True\n",
        "\n",
        "sns.heatmap(corr, cmap=\"YlGnBu\", vmax= 1.0, vmin=-1.0, annot=True, mask=mask)\n",
        "\n",
        "plt.show()"
      ],
      "metadata": {
        "colab": {
          "base_uri": "https://localhost:8080/",
          "height": 0
        },
        "id": "fPXfmSoQ3_-9",
        "outputId": "7d2f244e-b785-4a7f-89f7-c9eeaaecc55c"
      },
      "execution_count": 22,
      "outputs": [
        {
          "output_type": "display_data",
          "data": {
            "text/plain": [
              "<Figure size 576x360 with 2 Axes>"
            ],
            "image/png": "[encoded data removed]"
          },
          "metadata": {
            "needs_background": "light"
          }
        }
      ]
    },
    {
      "cell_type": "markdown",
      "source": [
        "##### **Distribution of main numerical variables**"
      ],
      "metadata": {
        "id": "IKLH2yx-7AFr"
      }
    },
    {
      "cell_type": "code",
      "source": [
        "plt.figure(figsize=(10, 8))\n",
        "sns.set_style(\"darkgrid\")\n",
        "plt.title(\"Distribution of the fare amount\")\n",
        "plt.xlabel(\"Fare Amount (USD)\")\n",
        "plt.ylabel(\"Frequency\")\n",
        "plt.xlim(-10, 20)\n",
        "plt.xticks(range(0, 100, 5))\n",
        "\n",
        "snsplot = sns.kdeplot(data.fare_amount, shade=True)"
      ],
      "metadata": {
        "colab": {
          "base_uri": "https://localhost:8080/",
          "height": 0
        },
        "id": "G-MhQm-z7F0A",
        "outputId": "74d49265-688c-4d15-ca67-db87613bf00d"
      },
      "execution_count": 23,
      "outputs": [
        {
          "output_type": "display_data",
          "data": {
            "text/plain": [
              "<Figure size 720x576 with 1 Axes>"
            ],
            "image/png": "[encoded data removed]"
          },
          "metadata": {
            "needs_background": "light"
          }
        }
      ]
    },
    {
      "cell_type": "code",
      "source": [
        "plt.figure(figsize=(10, 8))\n",
        "sns.set_style(\"darkgrid\")\n",
        "plt.title(\"Distribution of the fare amount\")\n",
        "plt.xlabel(\"Distance (Km)\")\n",
        "plt.ylabel(\"Frequency\")\n",
        "plt.xlim(-10, 20)\n",
        "plt.xticks(range(0, 100, 5))\n",
        "\n",
        "snsplot = sns.kdeplot(data.distance, shade=True)"
      ],
      "metadata": {
        "colab": {
          "base_uri": "https://localhost:8080/",
          "height": 0
        },
        "id": "1rtQHsRT7lCU",
        "outputId": "e01f3b0e-6cde-4adc-a674-7316e8f8b1a4"
      },
      "execution_count": 24,
      "outputs": [
        {
          "output_type": "display_data",
          "data": {
            "text/plain": [
              "<Figure size 720x576 with 1 Axes>"
            ],
            "image/png": "[encoded data removed]"
          },
          "metadata": {}
        }
      ]
    },
    {
      "cell_type": "markdown",
      "source": [
        "#### **Model fitting**"
      ],
      "metadata": {
        "id": "5XsSeU_cZDEA"
      }
    },
    {
      "cell_type": "code",
      "source": [
        "data.head(3)"
      ],
      "metadata": {
        "colab": {
          "base_uri": "https://localhost:8080/",
          "height": 277
        },
        "id": "4CGT-reV9pdl",
        "outputId": "4a4681e4-0954-447b-bf76-d0a628341f57"
      },
      "execution_count": 25,
      "outputs": [
        {
          "output_type": "execute_result",
          "data": {
            "text/plain": [
              "   Unnamed: 0                           key  fare_amount  \\\n",
              "0    24238194   2015-05-07 19:52:06.0000003          7.5   \n",
              "1    27835199   2009-07-17 20:04:56.0000002          7.7   \n",
              "2    44984355  2009-08-24 21:45:00.00000061         12.9   \n",
              "\n",
              "            pickup_datetime  pickup_longitude  pickup_latitude  \\\n",
              "0 2015-05-07 19:52:06+00:00        -73.999817        40.738354   \n",
              "1 2009-07-17 20:04:56+00:00        -73.994355        40.728225   \n",
              "2 2009-08-24 21:45:00+00:00        -74.005043        40.740770   \n",
              "\n",
              "   dropoff_longitude  dropoff_latitude  passenger_count  hour  dayofweek  day  \\\n",
              "0         -73.999512         40.723217              1.0    19          3    7   \n",
              "1         -73.994710         40.750325              1.0    20          4   17   \n",
              "2         -73.962565         40.772647              1.0    21          0   24   \n",
              "\n",
              "   month  year  distance  \n",
              "0      5  2015  1.683323  \n",
              "1      7  2009  2.457590  \n",
              "2      8  2009  5.036377  "
            ],
            "text/html": [
              "\n",
              "  <div id=\"df-a8208ad6-d9e9-403f-8527-16ffe8163071\">\n",
              "    <div class=\"colab-df-container\">\n",
              "      <div>\n",
              "<style scoped>\n",
              "    .dataframe tbody tr th:only-of-type {\n",
              "        vertical-align: middle;\n",
              "    }\n",
              "\n",
              "    .dataframe tbody tr th {\n",
              "        vertical-align: top;\n",
              "    }\n",
              "\n",
              "    .dataframe thead th {\n",
              "        text-align: right;\n",
              "    }\n",
              "</style>\n",
              "<table border=\"1\" class=\"dataframe\">\n",
              "  <thead>\n",
              "    <tr style=\"text-align: right;\">\n",
              "      <th></th>\n",
              "      <th>Unnamed: 0</th>\n",
              "      <th>key</th>\n",
              "      <th>fare_amount</th>\n",
              "      <th>pickup_datetime</th>\n",
              "      <th>pickup_longitude</th>\n",
              "      <th>pickup_latitude</th>\n",
              "      <th>dropoff_longitude</th>\n",
              "      <th>dropoff_latitude</th>\n",
              "      <th>passenger_count</th>\n",
              "      <th>hour</th>\n",
              "      <th>dayofweek</th>\n",
              "      <th>day</th>\n",
              "      <th>month</th>\n",
              "      <th>year</th>\n",
              "      <th>distance</th>\n",
              "    </tr>\n",
              "  </thead>\n",
              "  <tbody>\n",
              "    <tr>\n",
              "      <th>0</th>\n",
              "      <td>24238194</td>\n",
              "      <td>2015-05-07 19:52:06.0000003</td>\n",
              "      <td>7.5</td>\n",
              "      <td>2015-05-07 19:52:06+00:00</td>\n",
              "      <td>-73.999817</td>\n",
              "      <td>40.738354</td>\n",
              "      <td>-73.999512</td>\n",
              "      <td>40.723217</td>\n",
              "      <td>1.0</td>\n",
              "      <td>19</td>\n",
              "      <td>3</td>\n",
              "      <td>7</td>\n",
              "      <td>5</td>\n",
              "      <td>2015</td>\n",
              "      <td>1.683323</td>\n",
              "    </tr>\n",
              "    <tr>\n",
              "      <th>1</th>\n",
              "      <td>27835199</td>\n",
              "      <td>2009-07-17 20:04:56.0000002</td>\n",
              "      <td>7.7</td>\n",
              "      <td>2009-07-17 20:04:56+00:00</td>\n",
              "      <td>-73.994355</td>\n",
              "      <td>40.728225</td>\n",
              "      <td>-73.994710</td>\n",
              "      <td>40.750325</td>\n",
              "      <td>1.0</td>\n",
              "      <td>20</td>\n",
              "      <td>4</td>\n",
              "      <td>17</td>\n",
              "      <td>7</td>\n",
              "      <td>2009</td>\n",
              "      <td>2.457590</td>\n",
              "    </tr>\n",
              "    <tr>\n",
              "      <th>2</th>\n",
              "      <td>44984355</td>\n",
              "      <td>2009-08-24 21:45:00.00000061</td>\n",
              "      <td>12.9</td>\n",
              "      <td>2009-08-24 21:45:00+00:00</td>\n",
              "      <td>-74.005043</td>\n",
              "      <td>40.740770</td>\n",
              "      <td>-73.962565</td>\n",
              "      <td>40.772647</td>\n",
              "      <td>1.0</td>\n",
              "      <td>21</td>\n",
              "      <td>0</td>\n",
              "      <td>24</td>\n",
              "      <td>8</td>\n",
              "      <td>2009</td>\n",
              "      <td>5.036377</td>\n",
              "    </tr>\n",
              "  </tbody>\n",
              "</table>\n",
              "</div>\n",
              "      <button class=\"colab-df-convert\" onclick=\"convertToInteractive('df-a8208ad6-d9e9-403f-8527-16ffe8163071')\"\n",
              "              title=\"Convert this dataframe to an interactive table.\"\n",
              "              style=\"display:none;\">\n",
              "        \n",
              "  <svg xmlns=\"http://www.w3.org/2000/svg\" height=\"24px\"viewBox=\"0 0 24 24\"\n",
              "       width=\"24px\">\n",
              "    <path d=\"M0 0h24v24H0V0z\" fill=\"none\"/>\n",
              "    <path d=\"M18.56 5.44l.94 2.06.94-2.06 2.06-.94-2.06-.94-.94-2.06-.94 2.06-2.06.94zm-11 1L8.5 8.5l.94-2.06 2.06-.94-2.06-.94L8.5 2.5l-.94 2.06-2.06.94zm10 10l.94 2.06.94-2.06 2.06-.94-2.06-.94-.94-2.06-.94 2.06-2.06.94z\"/><path d=\"M17.41 7.96l-1.37-1.37c-.4-.4-.92-.59-1.43-.59-.52 0-1.04.2-1.43.59L10.3 9.45l-7.72 7.72c-.78.78-.78 2.05 0 2.83L4 21.41c.39.39.9.59 1.41.59.51 0 1.02-.2 1.41-.59l7.78-7.78 2.81-2.81c.8-.78.8-2.07 0-2.86zM5.41 20L4 18.59l7.72-7.72 1.47 1.35L5.41 20z\"/>\n",
              "  </svg>\n",
              "      </button>\n",
              "      \n",
              "  <style>\n",
              "    .colab-df-container {\n",
              "      display:flex;\n",
              "      flex-wrap:wrap;\n",
              "      gap: 12px;\n",
              "    }\n",
              "\n",
              "    .colab-df-convert {\n",
              "      background-color: #E8F0FE;\n",
              "      border: none;\n",
              "      border-radius: 50%;\n",
              "      cursor: pointer;\n",
              "      display: none;\n",
              "      fill: #1967D2;\n",
              "      height: 32px;\n",
              "      padding: 0 0 0 0;\n",
              "      width: 32px;\n",
              "    }\n",
              "\n",
              "    .colab-df-convert:hover {\n",
              "      background-color: #E2EBFA;\n",
              "      box-shadow: 0px 1px 2px rgba(60, 64, 67, 0.3), 0px 1px 3px 1px rgba(60, 64, 67, 0.15);\n",
              "      fill: #174EA6;\n",
              "    }\n",
              "\n",
              "    [theme=dark] .colab-df-convert {\n",
              "      background-color: #3B4455;\n",
              "      fill: #D2E3FC;\n",
              "    }\n",
              "\n",
              "    [theme=dark] .colab-df-convert:hover {\n",
              "      background-color: #434B5C;\n",
              "      box-shadow: 0px 1px 3px 1px rgba(0, 0, 0, 0.15);\n",
              "      filter: drop-shadow(0px 1px 2px rgba(0, 0, 0, 0.3));\n",
              "      fill: #FFFFFF;\n",
              "    }\n",
              "  </style>\n",
              "\n",
              "      <script>\n",
              "        const buttonEl =\n",
              "          document.querySelector('#df-a8208ad6-d9e9-403f-8527-16ffe8163071 button.colab-df-convert');\n",
              "        buttonEl.style.display =\n",
              "          google.colab.kernel.accessAllowed ? 'block' : 'none';\n",
              "\n",
              "        async function convertToInteractive(key) {\n",
              "          const element = document.querySelector('#df-a8208ad6-d9e9-403f-8527-16ffe8163071');\n",
              "          const dataTable =\n",
              "            await google.colab.kernel.invokeFunction('convertToInteractive',\n",
              "                                                     [key], {});\n",
              "          if (!dataTable) return;\n",
              "\n",
              "          const docLinkHtml = 'Like what you see? Visit the ' +\n",
              "            '<a target=\"_blank\" href=https://colab.research.google.com/notebooks/data_table.ipynb>data table notebook</a>'\n",
              "            + ' to learn more about interactive tables.';\n",
              "          element.innerHTML = '';\n",
              "          dataTable['output_type'] = 'display_data';\n",
              "          await google.colab.output.renderOutput(dataTable, element);\n",
              "          const docLink = document.createElement('div');\n",
              "          docLink.innerHTML = docLinkHtml;\n",
              "          element.appendChild(docLink);\n",
              "        }\n",
              "      </script>\n",
              "    </div>\n",
              "  </div>\n",
              "  "
            ]
          },
          "metadata": {},
          "execution_count": 25
        }
      ]
    },
    {
      "cell_type": "code",
      "source": [
        "data.drop([\"Unnamed: 0\", \"key\", \"pickup_datetime\"], axis=1, inplace=True)"
      ],
      "metadata": {
        "id": "TZOG06To9OeJ"
      },
      "execution_count": 26,
      "outputs": []
    },
    {
      "cell_type": "code",
      "source": [
        "X = data.drop([\"fare_amount\"], axis=1)\n",
        "y = data[\"fare_amount\"]"
      ],
      "metadata": {
        "id": "OzkZY793owgV"
      },
      "execution_count": 27,
      "outputs": []
    },
    {
      "cell_type": "code",
      "source": [
        "X_train, X_valid, y_train, y_valid = train_test_split(X, y, test_size=0.2, random_state=33)\n",
        "X_train.shape, X_valid.shape, y_train.shape, y_valid.shape"
      ],
      "metadata": {
        "id": "qfaMD6qOrZr8",
        "colab": {
          "base_uri": "https://localhost:8080/"
        },
        "outputId": "2fbf3df9-ac55-4004-f847-4591e8f1de40"
      },
      "execution_count": 28,
      "outputs": [
        {
          "output_type": "execute_result",
          "data": {
            "text/plain": [
              "((159999, 11), (40000, 11), (159999,), (40000,))"
            ]
          },
          "metadata": {},
          "execution_count": 28
        }
      ]
    },
    {
      "cell_type": "code",
      "source": [
        "model = LinearRegression()\n",
        "model.fit(X_train, y_train)"
      ],
      "metadata": {
        "colab": {
          "base_uri": "https://localhost:8080/"
        },
        "id": "YPnqHTV6Wd3z",
        "outputId": "0cc3706c-ab9b-4c39-e2fb-f3f89a702c00"
      },
      "execution_count": 29,
      "outputs": [
        {
          "output_type": "execute_result",
          "data": {
            "text/plain": [
              "LinearRegression()"
            ]
          },
          "metadata": {},
          "execution_count": 29
        }
      ]
    },
    {
      "cell_type": "markdown",
      "source": [
        "#### **Model prediction**"
      ],
      "metadata": {
        "id": "nbXqTRawZNmy"
      }
    },
    {
      "cell_type": "code",
      "source": [
        "y_pred = model.predict(X_valid)"
      ],
      "metadata": {
        "id": "359Hp4MWZL7o"
      },
      "execution_count": 30,
      "outputs": []
    },
    {
      "cell_type": "markdown",
      "source": [
        "#### **Evaluating model**\n",
        "##### Getting RMSE and R2 metrics"
      ],
      "metadata": {
        "id": "m7jpd60ZHoz8"
      }
    },
    {
      "cell_type": "code",
      "source": [
        "rmse = mean_squared_error(y_valid, y_pred)\n",
        "r2 = r2_score(y_valid, y_pred)"
      ],
      "metadata": {
        "id": "RBJOJBncZefX"
      },
      "execution_count": 31,
      "outputs": []
    },
    {
      "cell_type": "code",
      "source": [
        "print(\"Slope: \", model.coef_)\n",
        "print(\"Intercept: \", model.intercept_)\n",
        "print(\"Root mean squared error: \", rmse)\n",
        "print(\"R2 score: \", r2)"
      ],
      "metadata": {
        "colab": {
          "base_uri": "https://localhost:8080/"
        },
        "id": "qUAXihgicRBe",
        "outputId": "8215b40d-1c41-4e2f-9608-0c33918fd3cc"
      },
      "execution_count": 32,
      "outputs": [
        {
          "output_type": "stream",
          "name": "stdout",
          "text": [
            "Slope:  [ 1.69393438e+01 -9.36468872e+00  1.46578604e+01 -1.72725075e+01\n",
            "  5.35365425e-02  9.24537912e-03 -3.03433982e-02  3.47356766e-03\n",
            "  5.61947448e-02  3.58954468e-01  2.00216957e+00]\n",
            "Intercept:  2704.6731432843367\n",
            "Root mean squared error:  7.343322306266582\n",
            "R2 score:  0.7503092557034939\n"
          ]
        }
      ]
    }
  ]
}
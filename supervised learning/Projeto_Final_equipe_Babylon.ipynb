{
  "nbformat": 4,
  "nbformat_minor": 0,
  "metadata": {
    "colab": {
      "name": "Projeto Final - equipe Babylon.ipynb",
      "provenance": [],
      "collapsed_sections": []
    },
    "kernelspec": {
      "name": "python3",
      "display_name": "Python 3"
    },
    "language_info": {
      "name": "python"
    }
  },
  "cells": [
    {
      "cell_type": "markdown",
      "source": [
        "# **Utilizando 3 modelos de classificação para prever predisposição de ataque cardíaco**"
      ],
      "metadata": {
        "id": "PJcQoeDD10NM"
      }
    },
    {
      "cell_type": "markdown",
      "source": [
        "# **`EQUIPE BABYLON:`**`Yves Emmanuel && David Londres`"
      ],
      "metadata": {
        "id": "TwnC4Qz9061d"
      }
    },
    {
      "cell_type": "code",
      "execution_count": 1,
      "metadata": {
        "id": "7pIDBKloc218"
      },
      "outputs": [],
      "source": [
        "import pandas as pd\n",
        "import matplotlib.pyplot as plt\n",
        "import numpy as np"
      ]
    },
    {
      "cell_type": "code",
      "source": [
        "df = pd.read_csv(\"./heart.csv\")\n",
        "df.shape"
      ],
      "metadata": {
        "colab": {
          "base_uri": "https://localhost:8080/"
        },
        "id": "h2bMwkAOdeIF",
        "outputId": "eeb60079-9a0e-471d-8c9f-adc345fbbfdb"
      },
      "execution_count": 2,
      "outputs": [
        {
          "output_type": "execute_result",
          "data": {
            "text/plain": [
              "(303, 14)"
            ]
          },
          "metadata": {},
          "execution_count": 2
        }
      ]
    },
    {
      "cell_type": "code",
      "source": [
        "df.head()"
      ],
      "metadata": {
        "colab": {
          "base_uri": "https://localhost:8080/",
          "height": 206
        },
        "id": "Tw1tv7msdlHD",
        "outputId": "c3622552-9c5e-41aa-f129-45c46f4b0399"
      },
      "execution_count": 3,
      "outputs": [
        {
          "output_type": "execute_result",
          "data": {
            "text/plain": [
              "   age  sex  cp  trtbps  chol  fbs  restecg  thalachh  exng  oldpeak  slp  \\\n",
              "0   63    1   3     145   233    1        0       150     0      2.3    0   \n",
              "1   37    1   2     130   250    0        1       187     0      3.5    0   \n",
              "2   41    0   1     130   204    0        0       172     0      1.4    2   \n",
              "3   56    1   1     120   236    0        1       178     0      0.8    2   \n",
              "4   57    0   0     120   354    0        1       163     1      0.6    2   \n",
              "\n",
              "   caa  thall  output  \n",
              "0    0      1       1  \n",
              "1    0      2       1  \n",
              "2    0      2       1  \n",
              "3    0      2       1  \n",
              "4    0      2       1  "
            ],
            "text/html": [
              "\n",
              "  <div id=\"df-0d4aa580-2345-4fb6-a61a-9c0e6fdcb549\">\n",
              "    <div class=\"colab-df-container\">\n",
              "      <div>\n",
              "<style scoped>\n",
              "    .dataframe tbody tr th:only-of-type {\n",
              "        vertical-align: middle;\n",
              "    }\n",
              "\n",
              "    .dataframe tbody tr th {\n",
              "        vertical-align: top;\n",
              "    }\n",
              "\n",
              "    .dataframe thead th {\n",
              "        text-align: right;\n",
              "    }\n",
              "</style>\n",
              "<table border=\"1\" class=\"dataframe\">\n",
              "  <thead>\n",
              "    <tr style=\"text-align: right;\">\n",
              "      <th></th>\n",
              "      <th>age</th>\n",
              "      <th>sex</th>\n",
              "      <th>cp</th>\n",
              "      <th>trtbps</th>\n",
              "      <th>chol</th>\n",
              "      <th>fbs</th>\n",
              "      <th>restecg</th>\n",
              "      <th>thalachh</th>\n",
              "      <th>exng</th>\n",
              "      <th>oldpeak</th>\n",
              "      <th>slp</th>\n",
              "      <th>caa</th>\n",
              "      <th>thall</th>\n",
              "      <th>output</th>\n",
              "    </tr>\n",
              "  </thead>\n",
              "  <tbody>\n",
              "    <tr>\n",
              "      <th>0</th>\n",
              "      <td>63</td>\n",
              "      <td>1</td>\n",
              "      <td>3</td>\n",
              "      <td>145</td>\n",
              "      <td>233</td>\n",
              "      <td>1</td>\n",
              "      <td>0</td>\n",
              "      <td>150</td>\n",
              "      <td>0</td>\n",
              "      <td>2.3</td>\n",
              "      <td>0</td>\n",
              "      <td>0</td>\n",
              "      <td>1</td>\n",
              "      <td>1</td>\n",
              "    </tr>\n",
              "    <tr>\n",
              "      <th>1</th>\n",
              "      <td>37</td>\n",
              "      <td>1</td>\n",
              "      <td>2</td>\n",
              "      <td>130</td>\n",
              "      <td>250</td>\n",
              "      <td>0</td>\n",
              "      <td>1</td>\n",
              "      <td>187</td>\n",
              "      <td>0</td>\n",
              "      <td>3.5</td>\n",
              "      <td>0</td>\n",
              "      <td>0</td>\n",
              "      <td>2</td>\n",
              "      <td>1</td>\n",
              "    </tr>\n",
              "    <tr>\n",
              "      <th>2</th>\n",
              "      <td>41</td>\n",
              "      <td>0</td>\n",
              "      <td>1</td>\n",
              "      <td>130</td>\n",
              "      <td>204</td>\n",
              "      <td>0</td>\n",
              "      <td>0</td>\n",
              "      <td>172</td>\n",
              "      <td>0</td>\n",
              "      <td>1.4</td>\n",
              "      <td>2</td>\n",
              "      <td>0</td>\n",
              "      <td>2</td>\n",
              "      <td>1</td>\n",
              "    </tr>\n",
              "    <tr>\n",
              "      <th>3</th>\n",
              "      <td>56</td>\n",
              "      <td>1</td>\n",
              "      <td>1</td>\n",
              "      <td>120</td>\n",
              "      <td>236</td>\n",
              "      <td>0</td>\n",
              "      <td>1</td>\n",
              "      <td>178</td>\n",
              "      <td>0</td>\n",
              "      <td>0.8</td>\n",
              "      <td>2</td>\n",
              "      <td>0</td>\n",
              "      <td>2</td>\n",
              "      <td>1</td>\n",
              "    </tr>\n",
              "    <tr>\n",
              "      <th>4</th>\n",
              "      <td>57</td>\n",
              "      <td>0</td>\n",
              "      <td>0</td>\n",
              "      <td>120</td>\n",
              "      <td>354</td>\n",
              "      <td>0</td>\n",
              "      <td>1</td>\n",
              "      <td>163</td>\n",
              "      <td>1</td>\n",
              "      <td>0.6</td>\n",
              "      <td>2</td>\n",
              "      <td>0</td>\n",
              "      <td>2</td>\n",
              "      <td>1</td>\n",
              "    </tr>\n",
              "  </tbody>\n",
              "</table>\n",
              "</div>\n",
              "      <button class=\"colab-df-convert\" onclick=\"convertToInteractive('df-0d4aa580-2345-4fb6-a61a-9c0e6fdcb549')\"\n",
              "              title=\"Convert this dataframe to an interactive table.\"\n",
              "              style=\"display:none;\">\n",
              "        \n",
              "  <svg xmlns=\"http://www.w3.org/2000/svg\" height=\"24px\"viewBox=\"0 0 24 24\"\n",
              "       width=\"24px\">\n",
              "    <path d=\"M0 0h24v24H0V0z\" fill=\"none\"/>\n",
              "    <path d=\"M18.56 5.44l.94 2.06.94-2.06 2.06-.94-2.06-.94-.94-2.06-.94 2.06-2.06.94zm-11 1L8.5 8.5l.94-2.06 2.06-.94-2.06-.94L8.5 2.5l-.94 2.06-2.06.94zm10 10l.94 2.06.94-2.06 2.06-.94-2.06-.94-.94-2.06-.94 2.06-2.06.94z\"/><path d=\"M17.41 7.96l-1.37-1.37c-.4-.4-.92-.59-1.43-.59-.52 0-1.04.2-1.43.59L10.3 9.45l-7.72 7.72c-.78.78-.78 2.05 0 2.83L4 21.41c.39.39.9.59 1.41.59.51 0 1.02-.2 1.41-.59l7.78-7.78 2.81-2.81c.8-.78.8-2.07 0-2.86zM5.41 20L4 18.59l7.72-7.72 1.47 1.35L5.41 20z\"/>\n",
              "  </svg>\n",
              "      </button>\n",
              "      \n",
              "  <style>\n",
              "    .colab-df-container {\n",
              "      display:flex;\n",
              "      flex-wrap:wrap;\n",
              "      gap: 12px;\n",
              "    }\n",
              "\n",
              "    .colab-df-convert {\n",
              "      background-color: #E8F0FE;\n",
              "      border: none;\n",
              "      border-radius: 50%;\n",
              "      cursor: pointer;\n",
              "      display: none;\n",
              "      fill: #1967D2;\n",
              "      height: 32px;\n",
              "      padding: 0 0 0 0;\n",
              "      width: 32px;\n",
              "    }\n",
              "\n",
              "    .colab-df-convert:hover {\n",
              "      background-color: #E2EBFA;\n",
              "      box-shadow: 0px 1px 2px rgba(60, 64, 67, 0.3), 0px 1px 3px 1px rgba(60, 64, 67, 0.15);\n",
              "      fill: #174EA6;\n",
              "    }\n",
              "\n",
              "    [theme=dark] .colab-df-convert {\n",
              "      background-color: #3B4455;\n",
              "      fill: #D2E3FC;\n",
              "    }\n",
              "\n",
              "    [theme=dark] .colab-df-convert:hover {\n",
              "      background-color: #434B5C;\n",
              "      box-shadow: 0px 1px 3px 1px rgba(0, 0, 0, 0.15);\n",
              "      filter: drop-shadow(0px 1px 2px rgba(0, 0, 0, 0.3));\n",
              "      fill: #FFFFFF;\n",
              "    }\n",
              "  </style>\n",
              "\n",
              "      <script>\n",
              "        const buttonEl =\n",
              "          document.querySelector('#df-0d4aa580-2345-4fb6-a61a-9c0e6fdcb549 button.colab-df-convert');\n",
              "        buttonEl.style.display =\n",
              "          google.colab.kernel.accessAllowed ? 'block' : 'none';\n",
              "\n",
              "        async function convertToInteractive(key) {\n",
              "          const element = document.querySelector('#df-0d4aa580-2345-4fb6-a61a-9c0e6fdcb549');\n",
              "          const dataTable =\n",
              "            await google.colab.kernel.invokeFunction('convertToInteractive',\n",
              "                                                     [key], {});\n",
              "          if (!dataTable) return;\n",
              "\n",
              "          const docLinkHtml = 'Like what you see? Visit the ' +\n",
              "            '<a target=\"_blank\" href=https://colab.research.google.com/notebooks/data_table.ipynb>data table notebook</a>'\n",
              "            + ' to learn more about interactive tables.';\n",
              "          element.innerHTML = '';\n",
              "          dataTable['output_type'] = 'display_data';\n",
              "          await google.colab.output.renderOutput(dataTable, element);\n",
              "          const docLink = document.createElement('div');\n",
              "          docLink.innerHTML = docLinkHtml;\n",
              "          element.appendChild(docLink);\n",
              "        }\n",
              "      </script>\n",
              "    </div>\n",
              "  </div>\n",
              "  "
            ]
          },
          "metadata": {},
          "execution_count": 3
        }
      ]
    },
    {
      "cell_type": "markdown",
      "source": [
        "# **Validação e Limpeza dos Dados**"
      ],
      "metadata": {
        "id": "iEDv55NOJ5HH"
      }
    },
    {
      "cell_type": "code",
      "source": [
        "# checando missing values\n",
        "df.isnull().sum()"
      ],
      "metadata": {
        "colab": {
          "base_uri": "https://localhost:8080/"
        },
        "id": "3uOjkRnQdoLt",
        "outputId": "ebb9b0a1-d694-465a-f83d-bf7a3595853a"
      },
      "execution_count": 4,
      "outputs": [
        {
          "output_type": "execute_result",
          "data": {
            "text/plain": [
              "age         0\n",
              "sex         0\n",
              "cp          0\n",
              "trtbps      0\n",
              "chol        0\n",
              "fbs         0\n",
              "restecg     0\n",
              "thalachh    0\n",
              "exng        0\n",
              "oldpeak     0\n",
              "slp         0\n",
              "caa         0\n",
              "thall       0\n",
              "output      0\n",
              "dtype: int64"
            ]
          },
          "metadata": {},
          "execution_count": 4
        }
      ]
    },
    {
      "cell_type": "markdown",
      "source": [
        "# **Análise Exploratória de Dados**"
      ],
      "metadata": {
        "id": "MSfIWODrHJ-Z"
      }
    },
    {
      "cell_type": "markdown",
      "source": [
        "### **Gráficos de Frequência**"
      ],
      "metadata": {
        "id": "Seq1VfnKR9rb"
      }
    },
    {
      "cell_type": "code",
      "source": [
        "# 1 = masculino\n",
        "# 0 = feminino\n",
        "df.groupby(\"sex\")[\"sex\"].count().plot(kind=\"pie\", autopct=\"%1.1f%%\", shadow=True, figsize=(5, 5), title=\"Sexo\")"
      ],
      "metadata": {
        "colab": {
          "base_uri": "https://localhost:8080/",
          "height": 336
        },
        "id": "Ioe5BGlMKcfZ",
        "outputId": "b0d80beb-2d89-4f34-ccab-c4f1f5269563"
      },
      "execution_count": 5,
      "outputs": [
        {
          "output_type": "execute_result",
          "data": {
            "text/plain": [
              "<matplotlib.axes._subplots.AxesSubplot at 0x7fb83c25f390>"
            ]
          },
          "metadata": {},
          "execution_count": 5
        },
        {
          "output_type": "display_data",
          "data": {
            "text/plain": [
              "<Figure size 360x360 with 1 Axes>"
            ],
            "image/png": "[encoded data removed]"
          },
          "metadata": {}
        }
      ]
    },
    {
      "cell_type": "code",
      "source": [
        "df.groupby(\"fbs\")[\"output\"].count().plot(kind=\"pie\", autopct=\"%1.1f%%\", shadow=True, figsize=(5, 5), title=\"Glicemia em Jejum > 120 mg/dl\")"
      ],
      "metadata": {
        "colab": {
          "base_uri": "https://localhost:8080/",
          "height": 336
        },
        "id": "m4C7x8BYPeTA",
        "outputId": "6f06de26-2421-480d-ae1a-795770108fb5"
      },
      "execution_count": 6,
      "outputs": [
        {
          "output_type": "execute_result",
          "data": {
            "text/plain": [
              "<matplotlib.axes._subplots.AxesSubplot at 0x7fb83efc0690>"
            ]
          },
          "metadata": {},
          "execution_count": 6
        },
        {
          "output_type": "display_data",
          "data": {
            "text/plain": [
              "<Figure size 360x360 with 1 Axes>"
            ],
            "image/png": "[encoded data removed]"
          },
          "metadata": {}
        }
      ]
    },
    {
      "cell_type": "code",
      "source": [
        "# 1 = alto\n",
        "# 0 = baixo\n",
        "df.groupby(\"output\")[\"output\"].count().plot(kind=\"pie\", autopct=\"%1.1f%%\", shadow=True, figsize=(5, 5), title=\"Risco de Ataque Cardíaco\")"
      ],
      "metadata": {
        "colab": {
          "base_uri": "https://localhost:8080/",
          "height": 336
        },
        "id": "2djnHRj8Lq-n",
        "outputId": "b50e9cb9-42ee-4ad5-c6d6-ab338378dbfa"
      },
      "execution_count": 7,
      "outputs": [
        {
          "output_type": "execute_result",
          "data": {
            "text/plain": [
              "<matplotlib.axes._subplots.AxesSubplot at 0x7fb83bcaa350>"
            ]
          },
          "metadata": {},
          "execution_count": 7
        },
        {
          "output_type": "display_data",
          "data": {
            "text/plain": [
              "<Figure size 360x360 with 1 Axes>"
            ],
            "image/png": "[encoded data removed]"
          },
          "metadata": {}
        }
      ]
    },
    {
      "cell_type": "markdown",
      "source": [
        "### **Gráfico de Correlação**"
      ],
      "metadata": {
        "id": "7_kQ_jXiSDWh"
      }
    },
    {
      "cell_type": "code",
      "source": [
        "import seaborn as sns\n",
        "\n",
        "fig = plt.figure(figsize=(10, 10))\n",
        "gs = fig.add_gridspec(1, 1)\n",
        "gs.update(wspace=0.3, hspace=0.15)\n",
        "ax0 = fig.add_subplot(gs[0, 0])\n",
        "\n",
        "df_corr = df[[\"sex\", \"exng\", \"caa\", \"cp\", \"fbs\", \"restecg\", \"slp\", \"thall\", ]].corr().transpose()\n",
        "\n",
        "color_palette = [\"#FFD700\", \"#C0C0C0\"]\n",
        "mask = np.triu(np.ones_like(df_corr))\n",
        "sns.heatmap(df_corr, mask=mask, fmt=\".1f\", annot=True, cmap=\"YlGnBu\")\n",
        "plt.show()"
      ],
      "metadata": {
        "colab": {
          "base_uri": "https://localhost:8080/",
          "height": 592
        },
        "id": "syVYoMLYSIkU",
        "outputId": "f5d1896e-9ab0-4937-d732-34bbb05c6f2c"
      },
      "execution_count": 8,
      "outputs": [
        {
          "output_type": "display_data",
          "data": {
            "text/plain": [
              "<Figure size 720x720 with 2 Axes>"
            ],
            "image/png": "[encoded data removed]"
          },
          "metadata": {
            "needs_background": "light"
          }
        }
      ]
    },
    {
      "cell_type": "markdown",
      "source": [
        "# **Classificação**"
      ],
      "metadata": {
        "id": "1e7rEQkhJwTA"
      }
    },
    {
      "cell_type": "markdown",
      "source": [
        "### **Processamento e Divisão dos Dados**"
      ],
      "metadata": {
        "id": "Vy-b2ap9QjUU"
      }
    },
    {
      "cell_type": "code",
      "source": [
        "from sklearn.preprocessing import StandardScaler\n",
        "from sklearn.model_selection import train_test_split\n",
        "from sklearn.metrics import accuracy_score, classification_report\n",
        "\n",
        "categoricos_cols = [\"sex\", \"exng\", \"caa\", \"cp\", \"fbs\", \"restecg\", \"slp\", \"thall\"]\n",
        "continuos_cols = [\"age\", \"trtbps\", \"chol\", \"thalachh\", \"oldpeak\"]\n",
        "\n",
        "X = df.drop([\"output\"], axis=1)\n",
        "y = df[[\"output\"]]\n",
        "\n",
        "st_scaler = StandardScaler()\n",
        "X = st_scaler.fit_transform(X)\n",
        "\n",
        "X_train, X_test, y_train, y_test = train_test_split(X, y, test_size = 0.2, random_state = 42)"
      ],
      "metadata": {
        "id": "8fxx6sh6u--A"
      },
      "execution_count": 9,
      "outputs": []
    },
    {
      "cell_type": "markdown",
      "source": [
        "### Modelo: **Support Vector Machine**\n",
        "#### O SVM é um algoritmo que performa bem em conjuntos de dados menores e com altas dimensões, como o nosso.\n",
        "#### Nesse algoritmo a função do Kernel é utilizada para aumentar a dimensionalidade de sua entrada. **No nosso caso, escolhemos uma função do Kernel linear, que computa o produto interno entre duas observações:** `K(x, xi) = sum(x * xi)`"
      ],
      "metadata": {
        "id": "K-kY3XLtP7iE"
      }
    },
    {
      "cell_type": "code",
      "source": [
        "from sklearn.svm import SVC\n",
        "\n",
        "model_svm = SVC(kernel=\"linear\", random_state=30)\n",
        "\n",
        "# fitting\n",
        "model_svm.fit(X_train, np.ravel(y_train))\n",
        "\n",
        "# testing\n",
        "y_pred = model_svm.predict(X_test)\n",
        "\n",
        "print(\"Acurácia do SVM: \", accuracy_score(y_test, y_pred))"
      ],
      "metadata": {
        "colab": {
          "base_uri": "https://localhost:8080/"
        },
        "id": "PPJum6navpft",
        "outputId": "50148e19-583b-448f-f193-1fa49f0f9e16"
      },
      "execution_count": 10,
      "outputs": [
        {
          "output_type": "stream",
          "name": "stdout",
          "text": [
            "Acurácia do SVM:  0.8688524590163934\n"
          ]
        }
      ]
    },
    {
      "cell_type": "code",
      "source": [
        "print(classification_report(y_test, y_pred))"
      ],
      "metadata": {
        "colab": {
          "base_uri": "https://localhost:8080/"
        },
        "id": "C72XEqC-xzns",
        "outputId": "e21b621e-9215-4605-c9cb-909f3fb912b9"
      },
      "execution_count": 11,
      "outputs": [
        {
          "output_type": "stream",
          "name": "stdout",
          "text": [
            "              precision    recall  f1-score   support\n",
            "\n",
            "           0       0.86      0.86      0.86        29\n",
            "           1       0.88      0.88      0.88        32\n",
            "\n",
            "    accuracy                           0.87        61\n",
            "   macro avg       0.87      0.87      0.87        61\n",
            "weighted avg       0.87      0.87      0.87        61\n",
            "\n"
          ]
        }
      ]
    },
    {
      "cell_type": "markdown",
      "source": [
        "### Modelo: **K-Neighbors**\n",
        "#### Para o número de vizinhos, decidimos buscar pelo melhor valor para esse parâmetro de forma iterativa."
      ],
      "metadata": {
        "id": "cVqXAsm3QD1L"
      }
    },
    {
      "cell_type": "code",
      "source": [
        "from sklearn.neighbors import  KNeighborsClassifier\n",
        "\n",
        "k_neighbors = np.arange(1, 11)\n",
        "optimal_k = None\n",
        "model_optimal = None\n",
        "best_accuracy = 0\n",
        "\n",
        "test_accuracy = np.empty(len(k_neighbors))\n",
        "train_accuracy = np.empty(len(k_neighbors))\n",
        "\n",
        "for i, k in enumerate(k_neighbors):\n",
        "  model = KNeighborsClassifier(n_neighbors=k)\n",
        "  model.fit(X_train, np.ravel(y_train))\n",
        "\n",
        "  # computando a acurácia de teste para K\n",
        "  y_pred_test = model.predict(X_test)\n",
        "  test_accuracy[i] = accuracy_score(y_test, y_pred_test)\n",
        "\n",
        "  # computando a acurácia de treinamento para K\n",
        "  y_pred_train = model.predict(X_train)\n",
        "  train_accuracy[i] = accuracy_score(y_train, y_pred_train)\n",
        "\n",
        "  # buscando o melhor modelo\n",
        "  if test_accuracy[i] > best_accuracy:\n",
        "    optimal_k = k\n",
        "    model_optimal = model\n",
        "    best_accuracy = test_accuracy[i]\n",
        "\n",
        "y_pred = model_optimal.predict(X_test)\n",
        "print(\"Acurácia do KNN:\", accuracy_score(y_test, y_pred))\n",
        "print(\"Número Ótimo de Vizinhos:\", optimal_k)"
      ],
      "metadata": {
        "colab": {
          "base_uri": "https://localhost:8080/"
        },
        "id": "TXgQWxxp9AdC",
        "outputId": "5d90c9fa-8a72-4caa-cff1-1272aa8131b9"
      },
      "execution_count": 12,
      "outputs": [
        {
          "output_type": "stream",
          "name": "stdout",
          "text": [
            "Acurácia do KNN: 0.9344262295081968\n",
            "Número Ótimo de Vizinhos: 6\n"
          ]
        }
      ]
    },
    {
      "cell_type": "code",
      "source": [
        "print(classification_report(y_test, y_pred))"
      ],
      "metadata": {
        "colab": {
          "base_uri": "https://localhost:8080/"
        },
        "id": "fJzm7q-C9_eY",
        "outputId": "fb05cc65-e475-44e8-e809-6be9d583edec"
      },
      "execution_count": 13,
      "outputs": [
        {
          "output_type": "stream",
          "name": "stdout",
          "text": [
            "              precision    recall  f1-score   support\n",
            "\n",
            "           0       0.90      0.97      0.93        29\n",
            "           1       0.97      0.91      0.94        32\n",
            "\n",
            "    accuracy                           0.93        61\n",
            "   macro avg       0.93      0.94      0.93        61\n",
            "weighted avg       0.94      0.93      0.93        61\n",
            "\n"
          ]
        }
      ]
    },
    {
      "cell_type": "code",
      "source": [
        "plt.title(\"k-NN: Variando o Número de Vizinhos\")\n",
        "plt.plot(k_neighbors, test_accuracy, label = \"Acurácia do Teste\")\n",
        "plt.plot(k_neighbors, train_accuracy, label = \"Acurácia do Treinamento\")\n",
        "plt.legend()\n",
        "plt.xlabel(\"Número de Vizinhos\")\n",
        "plt.ylabel(\"Acurácia\")\n",
        "plt.show()"
      ],
      "metadata": {
        "colab": {
          "base_uri": "https://localhost:8080/",
          "height": 295
        },
        "id": "0o3ijAdHsq4t",
        "outputId": "09e91a81-52ad-4f22-859e-183a30611031"
      },
      "execution_count": 14,
      "outputs": [
        {
          "output_type": "display_data",
          "data": {
            "text/plain": [
              "<Figure size 432x288 with 1 Axes>"
            ],
            "image/png": "[encoded data removed]"
          },
          "metadata": {
            "needs_background": "light"
          }
        }
      ]
    },
    {
      "cell_type": "markdown",
      "source": [
        "### Modelo: **Naive Bayes**"
      ],
      "metadata": {
        "id": "iEufrxoxQMBX"
      }
    },
    {
      "cell_type": "code",
      "source": [
        "# o primeiro modelo\n",
        "from sklearn.naive_bayes import GaussianNB\n",
        "\n",
        "model_gnb = GaussianNB()\n",
        "\n",
        "# fitting\n",
        "model_gnb.fit(X_train, np.ravel(y_train))\n",
        "\n",
        "# testing\n",
        "y_pred = model_gnb.predict(X_test)\n",
        "\n",
        "print(\"Acurácia do NaiveBayes:\", accuracy_score(y_test, y_pred))"
      ],
      "metadata": {
        "colab": {
          "base_uri": "https://localhost:8080/"
        },
        "id": "3txfe3M0-3Y5",
        "outputId": "c62ebaff-a832-44d8-e88d-bbf2e4a30be9"
      },
      "execution_count": 15,
      "outputs": [
        {
          "output_type": "stream",
          "name": "stdout",
          "text": [
            "Acurácia do NaiveBayes: 0.8688524590163934\n"
          ]
        }
      ]
    },
    {
      "cell_type": "code",
      "source": [
        "print(model_gnb.class_prior_)"
      ],
      "metadata": {
        "colab": {
          "base_uri": "https://localhost:8080/"
        },
        "id": "77uAkQQizx13",
        "outputId": "68038cd2-e987-432f-fc07-2fee64a95aa4"
      },
      "execution_count": 16,
      "outputs": [
        {
          "output_type": "stream",
          "name": "stdout",
          "text": [
            "[0.45041322 0.54958678]\n"
          ]
        }
      ]
    },
    {
      "cell_type": "code",
      "source": [
        ""
      ],
      "metadata": {
        "id": "nIAq5CQA08SF"
      },
      "execution_count": null,
      "outputs": []
    }
  ]
}
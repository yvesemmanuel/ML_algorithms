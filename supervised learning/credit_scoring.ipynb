{
 "cells": [
  {
   "cell_type": "code",
   "execution_count": 83,
   "metadata": {},
   "outputs": [],
   "source": [
    "import pandas as pd\n",
    "import numpy as np\n",
    "\n",
    "import warnings\n",
    "warnings.filterwarnings(\"ignore\")"
   ]
  },
  {
   "cell_type": "code",
   "execution_count": 84,
   "metadata": {},
   "outputs": [],
   "source": [
    "training_data = pd.read_csv(\"train.csv\")\n",
    "# testing_data = pd.read_csv(\"test.csv\")"
   ]
  },
  {
   "cell_type": "markdown",
   "metadata": {},
   "source": [
    "## Treinamento"
   ]
  },
  {
   "cell_type": "markdown",
   "metadata": {},
   "source": [
    "### Tratamento dos dados"
   ]
  },
  {
   "cell_type": "code",
   "execution_count": 85,
   "metadata": {},
   "outputs": [
    {
     "name": "stdout",
     "output_type": "stream",
     "text": [
      "<class 'pandas.core.frame.DataFrame'>\n",
      "RangeIndex: 100000 entries, 0 to 99999\n",
      "Data columns (total 28 columns):\n",
      " #   Column                    Non-Null Count   Dtype  \n",
      "---  ------                    --------------   -----  \n",
      " 0   ID                        100000 non-null  object \n",
      " 1   Customer_ID               100000 non-null  object \n",
      " 2   Month                     100000 non-null  object \n",
      " 3   Name                      90015 non-null   object \n",
      " 4   Age                       100000 non-null  object \n",
      " 5   SSN                       100000 non-null  object \n",
      " 6   Occupation                100000 non-null  object \n",
      " 7   Annual_Income             100000 non-null  object \n",
      " 8   Monthly_Inhand_Salary     84998 non-null   float64\n",
      " 9   Num_Bank_Accounts         100000 non-null  int64  \n",
      " 10  Num_Credit_Card           100000 non-null  int64  \n",
      " 11  Interest_Rate             100000 non-null  int64  \n",
      " 12  Num_of_Loan               100000 non-null  object \n",
      " 13  Type_of_Loan              88592 non-null   object \n",
      " 14  Delay_from_due_date       100000 non-null  int64  \n",
      " 15  Num_of_Delayed_Payment    92998 non-null   object \n",
      " 16  Changed_Credit_Limit      100000 non-null  object \n",
      " 17  Num_Credit_Inquiries      98035 non-null   float64\n",
      " 18  Credit_Mix                100000 non-null  object \n",
      " 19  Outstanding_Debt          100000 non-null  object \n",
      " 20  Credit_Utilization_Ratio  100000 non-null  float64\n",
      " 21  Credit_History_Age        90970 non-null   object \n",
      " 22  Payment_of_Min_Amount     100000 non-null  object \n",
      " 23  Total_EMI_per_month       100000 non-null  float64\n",
      " 24  Amount_invested_monthly   95521 non-null   object \n",
      " 25  Payment_Behaviour         100000 non-null  object \n",
      " 26  Monthly_Balance           98800 non-null   object \n",
      " 27  Credit_Score              100000 non-null  object \n",
      "dtypes: float64(4), int64(4), object(20)\n",
      "memory usage: 21.4+ MB\n"
     ]
    }
   ],
   "source": [
    "training_data.info()"
   ]
  },
  {
   "cell_type": "code",
   "execution_count": 86,
   "metadata": {},
   "outputs": [],
   "source": [
    "# removendo as colunas que não são úteis\n",
    "training_data.drop([\"SSN\", \"Name\", \"Type_of_Loan\"], axis=1, inplace=True)"
   ]
  },
  {
   "cell_type": "markdown",
   "metadata": {},
   "source": [
    "#### Tratando as variáveis categóricas"
   ]
  },
  {
   "cell_type": "code",
   "execution_count": 87,
   "metadata": {},
   "outputs": [],
   "source": [
    "categorical_cols = [j for j in training_data.columns if training_data[j].dtype == \"object\"]"
   ]
  },
  {
   "cell_type": "code",
   "execution_count": 88,
   "metadata": {},
   "outputs": [
    {
     "name": "stdout",
     "output_type": "stream",
     "text": [
      "Valores únicos para 'ID'\n",
      "['0x1602' '0x1603' '0x1604' ... '0x25feb' '0x25fec' '0x25fed']\n",
      "==================================================\n",
      "Valores únicos para 'Customer_ID'\n",
      "['CUS_0xd40' 'CUS_0x21b1' 'CUS_0x2dbc' ... 'CUS_0xaf61' 'CUS_0x8600'\n",
      " 'CUS_0x942c']\n",
      "==================================================\n",
      "Valores únicos para 'Month'\n",
      "['January' 'February' 'March' 'April' 'May' 'June' 'July' 'August']\n",
      "==================================================\n",
      "Valores únicos para 'Age'\n",
      "['23' '-500' '28_' ... '4808_' '2263' '1342']\n",
      "==================================================\n",
      "Valores únicos para 'Occupation'\n",
      "['Scientist' '_______' 'Teacher' 'Engineer' 'Entrepreneur' 'Developer'\n",
      " 'Lawyer' 'Media_Manager' 'Doctor' 'Journalist' 'Manager' 'Accountant'\n",
      " 'Musician' 'Mechanic' 'Writer' 'Architect']\n",
      "==================================================\n",
      "Valores únicos para 'Annual_Income'\n",
      "['19114.12' '34847.84' '34847.84_' ... '20002.88' '39628.99' '39628.99_']\n",
      "==================================================\n",
      "Valores únicos para 'Num_of_Loan'\n",
      "['4' '1' '3' '967' '-100' '0' '0_' '2' '3_' '2_' '7' '5' '5_' '6' '8' '8_'\n",
      " '9' '9_' '4_' '7_' '1_' '1464' '6_' '622' '352' '472' '1017' '945' '146'\n",
      " '563' '341' '444' '720' '1485' '49' '737' '1106' '466' '728' '313' '843'\n",
      " '597_' '617' '119' '663' '640' '92_' '1019' '501' '1302' '39' '716' '848'\n",
      " '931' '1214' '186' '424' '1001' '1110' '1152' '457' '1433' '1187' '52'\n",
      " '1480' '1047' '1035' '1347_' '33' '193' '699' '329' '1451' '484' '132'\n",
      " '649' '995' '545' '684' '1135' '1094' '1204' '654' '58' '348' '614'\n",
      " '1363' '323' '1406' '1348' '430' '153' '1461' '905' '1312' '1424' '1154'\n",
      " '95' '1353' '1228' '819' '1006' '795' '359' '1209' '590' '696' '1185_'\n",
      " '1465' '911' '1181' '70' '816' '1369' '143' '1416' '455' '55' '1096'\n",
      " '1474' '420' '1131' '904' '89' '1259' '527' '1241' '449' '983' '418'\n",
      " '319' '23' '238' '638' '138' '235_' '280' '1070' '1484' '274' '494'\n",
      " '1459_' '404' '1354' '1495' '1391' '601' '1313' '1319' '898' '231' '752'\n",
      " '174' '961' '1046' '834' '284' '438' '288' '1463' '1151' '719' '198'\n",
      " '1015' '855' '841' '392' '1444' '103' '1320_' '745' '172' '252' '630_'\n",
      " '241' '31' '405' '1217' '1030' '1257' '137' '157' '164' '1088' '1236'\n",
      " '777' '1048' '613' '330' '1439' '321' '661' '952' '939' '562' '1202'\n",
      " '302' '943' '394' '955' '1318' '936' '781' '100' '1329' '1365' '860'\n",
      " '217' '191' '32' '282' '351' '1387' '757' '416' '833' '359_' '292'\n",
      " '1225_' '1227' '639' '859' '243' '267' '510' '332' '996' '597' '311'\n",
      " '492' '820' '336' '123' '540' '131_' '1311_' '1441' '895' '891' '50'\n",
      " '940' '935' '596' '29' '1182' '1129_' '1014' '251' '365' '291' '1447'\n",
      " '742' '1085' '148' '462' '832' '881' '1225' '1412' '785_' '1127' '910'\n",
      " '538' '999' '733' '101' '237' '87' '659' '633' '387' '447' '629' '831'\n",
      " '1384' '773' '621' '1419' '289' '143_' '285' '1393' '1131_' '27_' '1359'\n",
      " '1482' '1189' '1294' '201' '579' '814' '141' '1320' '581' '1171_' '295'\n",
      " '290' '433' '679' '1040' '1054' '1430' '1023' '1077' '1457' '1150' '701'\n",
      " '1382' '889' '437' '372' '1222' '126' '1159' '868' '19' '1297' '227_'\n",
      " '190' '809' '1216' '1074' '571' '520' '1274' '1340' '991' '316' '697'\n",
      " '926' '873' '1002' '378_' '65' '875' '867' '548' '652' '1372' '606'\n",
      " '1036' '1300' '17' '1178' '802' '1219_' '1271' '1137' '1496' '439' '196'\n",
      " '636' '192' '228' '1053' '229' '753' '1296' '1371' '254' '863' '464'\n",
      " '515' '838' '1160' '1289' '1298' '799' '182' '574' '527_' '242' '415'\n",
      " '869' '958' '54' '1265' '656' '275' '778' '208' '147' '350' '507' '463'\n",
      " '497' '1129' '927' '653' '662' '529' '635' '1027_' '897' '1039' '227'\n",
      " '1345' '924' '696_' '1279' '546' '1112' '1210' '526' '300' '1103' '504'\n",
      " '136' '1400' '78' '686' '1091' '344' '215' '84' '628' '1470' '968' '1478'\n",
      " '83' '1196' '1307' '1132_' '1008' '917' '657' '56' '18' '41' '801' '978'\n",
      " '216' '349' '966']\n",
      "==================================================\n",
      "Valores únicos para 'Num_of_Delayed_Payment'\n",
      "['7' nan '4' '8_' '6' '1' '-1' '3_' '0' '8' '5' '3' '9' '12' '15' '17'\n",
      " '10' '2' '2_' '11' '14' '20' '22' '13' '13_' '14_' '16' '12_' '18' '19'\n",
      " '23' '24' '21' '3318' '3083' '22_' '1338' '4_' '26' '11_' '3104' '21_'\n",
      " '25' '10_' '183_' '9_' '1106' '834' '19_' '24_' '17_' '23_' '2672' '20_'\n",
      " '2008' '-3' '538' '6_' '1_' '16_' '27' '-2' '3478' '2420' '15_' '707'\n",
      " '708' '26_' '18_' '3815' '28' '5_' '1867' '2250' '1463' '25_' '7_' '4126'\n",
      " '2882' '1941' '2655' '2628' '132' '3069' '306' '0_' '3539' '3684' '1823'\n",
      " '4128' '1946' '827' '2297' '2566' '904' '182' '929' '3568' '2503' '1552'\n",
      " '2812' '1697' '3764' '851' '3905' '923' '88' '1668' '3253' '808' '2689'\n",
      " '3858' '642' '3457' '1402' '1732' '3154' '847' '3037' '2204' '3103'\n",
      " '1063' '2056' '1282' '1841' '2569_' '211' '793' '3484' '411' '3491'\n",
      " '2072' '3050' '1049' '2162' '3402' '2753' '27_' '1718' '1014' '3260'\n",
      " '3855' '84' '2311' '3251' '1832' '4069' '3010' '733' '4241' '166' '2461'\n",
      " '1749' '3200' '663_' '2185' '4161' '3009' '359' '2015' '1523' '594'\n",
      " '1079' '1199' '186' '1015' '1989' '281' '559' '2165' '1509' '3545' '779'\n",
      " '192' '4311' '-2_' '2323' '1471' '1538' '3529' '439' '3456' '3040' '2697'\n",
      " '3179' '1332' '3175' '3112' '829' '4022' '3870' '4023' '531' '1511'\n",
      " '3092' '3191' '2400' '3621' '3536' '544' '1864' '28_' '142' '2300' '264'\n",
      " '72' '497' '398' '2222' '3960' '1473' '3043' '4216' '2903' '2658' '-1_'\n",
      " '4042' '1323_' '2184' '921' '1328' '3404' '2438' '809' '47' '1996' '4164'\n",
      " '1370' '1204' '2167' '4011' '2590' '2594' '2533' '1663' '1018' '2919'\n",
      " '3458' '3316' '2589' '2801' '3355' '2529' '2488' '4266' '1243' '739'\n",
      " '845' '4107' '1884' '337' '2660' '290' '674' '2450' '3738' '1792' '2823'\n",
      " '2570' '775' '960' '482' '1706' '2493' '3623' '3031' '2794_' '2219_'\n",
      " '758_' '1849' '3559' '4096' '3726' '1953' '2657' '4043' '2938' '4384'\n",
      " '1647' '2694' '3533' '519' '2677' '2413' '-3_' '4139' '2609' '4326'\n",
      " '4211' '823' '3011' '1608' '2860' '4219' '4047' '1531' '742' '52' '4024'\n",
      " '1673' '49' '2243' '1685' '1869' '2587' '3489' '749' '1164' '2616' '848_'\n",
      " '4134' '1530' '1502' '4075' '3845' '1060' '2573' '2128' '328' '640'\n",
      " '2585' '2230' '1795' '1180' '1534' '3739' '3313' '4191' '996' '372'\n",
      " '3340' '3177' '602' '787' '4135' '3878' '4059' '1218' '4051' '1766'\n",
      " '1359' '3107' '585' '1263' '2511' '709' '3632' '4077' '2943' '2793'\n",
      " '3245' '2317' '1640' '2237_' '3819' '252' '3978' '1498' '1833' '2737'\n",
      " '1192' '1481' '700' '271' '2286' '273' '1215' '3944' '2070' '1478' '3749'\n",
      " '871' '2508' '2959' '130' '294' '3097_' '3511' '415' '2196' '2138' '2149'\n",
      " '1874' '1553' '3847' '3222' '1222' '2907' '3051' '98' '1598' '416' '2314'\n",
      " '2955' '1691' '1450' '2021' '1636' '80' '3708' '195' '320' '2945' '1911'\n",
      " '3416' '3796' '4159' '2255' '938' '4397' '3776' '2148' '1994' '853'\n",
      " '1178' '1633' '196' '3864' '714' '1687' '1034' '468' '1337' '2044' '1541'\n",
      " '3661' '1211' '2645' '2007' '102' '1891' '3162' '3142' '2566_' '2766'\n",
      " '3881' '2728' '2671' '1952' '3580' '2705' '4251' '3840_' '972' '3119'\n",
      " '3502' '4185' '2954' '683' '1614' '1572' '4302' '3447' '1852' '2131'\n",
      " '1900' '1699' '133' '2018' '2127' '508' '210' '577' '1664' '2604' '1411'\n",
      " '2351' '867' '1371' '2352' '1191' '905' '4053' '3869' '933' '3660' '3300'\n",
      " '3629' '3208' '2142' '2521' '450' '583' '876' '121' '3919' '2560' '2578'\n",
      " '2060' '813' '1236' '1489' '4360' '1154' '2544' '4172' '2924' '426'\n",
      " '4270' '2768' '3909' '3951' '2712' '2498' '3171' '1750' '197' '2569'\n",
      " '265' '4293' '887' '2707' '2397' '4337' '4249' '2751' '2950' '1859' '107'\n",
      " '2348' '2506' '2810' '2873' '1301' '2262' '1890' '3078' '3865' '3268'\n",
      " '2777' '3105' '1278' '3793' '2276' '2879' '4298' '2141' '223' '2239'\n",
      " '846' '1862' '2756' '1181' '1184' '2617' '3972' '2334' '3900' '2759'\n",
      " '4169' '2280' '2492' '2729' '3750' '1825' '309' '2431' '3099' '2080'\n",
      " '2279' '2666' '3722' '1976' '529' '1985' '3060' '4278' '3212' '46' '3148'\n",
      " '3467' '4231' '3790' '473' '1536' '3955' '2324' '2381' '1177' '371'\n",
      " '2896' '3880' '2991' '4319' '1061' '662' '4144' '693' '2006' '3115'\n",
      " '2278_' '3751' '1861' '4262' '2913' '2615' '3492' '800' '3766' '384'\n",
      " '3407' '1087' '3329' '1086' '2216' '1087_' '2457' '3522' '3274' '3488'\n",
      " '2854' '238' '351' '3706' '4280' '4095' '2926' '1329' '3370' '283' '1392'\n",
      " '1743' '2429' '974' '3156' '1133' '4388' '3243' '4282' '2523' '4281'\n",
      " '3415' '2001' '441' '94' '3499' '969' '3368' '106' '1004' '2638' '3946'\n",
      " '2956' '4324' '85' '4113' '819' '615' '1172' '2553' '1765' '3495' '2820'\n",
      " '4239' '4340' '1295_' '2636' '4295' '1653' '1325' '1879' '1096' '1735'\n",
      " '3584' '1073' '1975' '3827' '2552' '3754' '2378' '532' '926' '2376'\n",
      " '3636' '3763' '778' '2621' '804' '754' '2418' '4019' '3926' '3861_'\n",
      " '3574' '175' '162' '2834' '3765' '2354' '523' '2274' '1606' '1443' '1354'\n",
      " '2142_' '1422' '2278' '1045' '4106' '3155' '666' '659' '3229' '1216'\n",
      " '2076' '1473_' '2384' '1954' '719' '2534' '4002' '541' '2875' '4344'\n",
      " '2081' '3894' '1256' '676' '4178' '399' '86' '1571' '4037' '1967' '4005'\n",
      " '3216' '1150' '2591' '1801' '3721' '1775' '2260' '3707' '4292' '1820'\n",
      " '145' '1480' '1850' '430' '217' '3920_' '1389' '1579' '3391' '2385'\n",
      " '3336' '3392' '3688' '221' '2047']\n",
      "==================================================\n",
      "Valores únicos para 'Changed_Credit_Limit'\n",
      "['11.27' '_' '6.27' ... '17.509999999999998' '25.16' '21.17']\n",
      "==================================================\n",
      "Valores únicos para 'Credit_Mix'\n",
      "['_' 'Good' 'Standard' 'Bad']\n",
      "==================================================\n",
      "Valores únicos para 'Outstanding_Debt'\n",
      "['809.98' '605.03' '1303.01' ... '3571.7_' '3571.7' '502.38']\n",
      "==================================================\n",
      "Valores únicos para 'Credit_History_Age'\n",
      "['22 Years and 1 Months' nan '22 Years and 3 Months'\n",
      " '22 Years and 4 Months' '22 Years and 5 Months' '22 Years and 6 Months'\n",
      " '22 Years and 7 Months' '26 Years and 7 Months' '26 Years and 8 Months'\n",
      " '26 Years and 9 Months' '26 Years and 10 Months' '26 Years and 11 Months'\n",
      " '27 Years and 0 Months' '27 Years and 1 Months' '27 Years and 2 Months'\n",
      " '17 Years and 9 Months' '17 Years and 10 Months' '17 Years and 11 Months'\n",
      " '18 Years and 1 Months' '18 Years and 2 Months' '18 Years and 3 Months'\n",
      " '18 Years and 4 Months' '17 Years and 3 Months' '17 Years and 4 Months'\n",
      " '17 Years and 5 Months' '17 Years and 6 Months' '17 Years and 7 Months'\n",
      " '17 Years and 8 Months' '30 Years and 8 Months' '30 Years and 9 Months'\n",
      " '30 Years and 10 Months' '30 Years and 11 Months' '31 Years and 0 Months'\n",
      " '31 Years and 1 Months' '31 Years and 2 Months' '31 Years and 3 Months'\n",
      " '32 Years and 0 Months' '32 Years and 2 Months' '32 Years and 3 Months'\n",
      " '32 Years and 5 Months' '32 Years and 6 Months' '30 Years and 7 Months'\n",
      " '14 Years and 8 Months' '14 Years and 9 Months' '14 Years and 10 Months'\n",
      " '14 Years and 11 Months' '15 Years and 0 Months' '15 Years and 1 Months'\n",
      " '15 Years and 2 Months' '21 Years and 4 Months' '21 Years and 5 Months'\n",
      " '21 Years and 6 Months' '21 Years and 7 Months' '21 Years and 8 Months'\n",
      " '21 Years and 9 Months' '21 Years and 10 Months' '21 Years and 11 Months'\n",
      " '26 Years and 6 Months' '19 Years and 2 Months' '19 Years and 3 Months'\n",
      " '19 Years and 4 Months' '19 Years and 5 Months' '19 Years and 6 Months'\n",
      " '19 Years and 7 Months' '19 Years and 8 Months' '25 Years and 5 Months'\n",
      " '25 Years and 6 Months' '25 Years and 7 Months' '25 Years and 8 Months'\n",
      " '25 Years and 9 Months' '25 Years and 10 Months' '25 Years and 11 Months'\n",
      " '26 Years and 0 Months' '27 Years and 3 Months' '27 Years and 4 Months'\n",
      " '27 Years and 5 Months' '8 Years and 11 Months' '9 Years and 0 Months'\n",
      " '9 Years and 1 Months' '9 Years and 2 Months' '9 Years and 3 Months'\n",
      " '9 Years and 4 Months' '9 Years and 6 Months' '18 Years and 5 Months'\n",
      " '18 Years and 6 Months' '18 Years and 8 Months' '18 Years and 9 Months'\n",
      " '16 Years and 10 Months' '16 Years and 11 Months' '17 Years and 0 Months'\n",
      " '17 Years and 1 Months' '17 Years and 2 Months' '29 Years and 2 Months'\n",
      " '29 Years and 3 Months' '29 Years and 4 Months' '29 Years and 6 Months'\n",
      " '29 Years and 8 Months' '29 Years and 9 Months' '6 Years and 5 Months'\n",
      " '6 Years and 6 Months' '6 Years and 7 Months' '6 Years and 8 Months'\n",
      " '6 Years and 9 Months' '6 Years and 10 Months' '6 Years and 11 Months'\n",
      " '7 Years and 0 Months' '27 Years and 6 Months' '27 Years and 7 Months'\n",
      " '27 Years and 8 Months' '27 Years and 9 Months' '18 Years and 7 Months'\n",
      " '19 Years and 9 Months' '19 Years and 10 Months' '10 Years and 1 Months'\n",
      " '10 Years and 2 Months' '10 Years and 3 Months' '10 Years and 4 Months'\n",
      " '10 Years and 5 Months' '10 Years and 6 Months' '10 Years and 7 Months'\n",
      " '10 Years and 8 Months' '32 Years and 9 Months' '32 Years and 10 Months'\n",
      " '32 Years and 11 Months' '33 Years and 0 Months' '33 Years and 1 Months'\n",
      " '33 Years and 4 Months' '12 Years and 3 Months' '12 Years and 4 Months'\n",
      " '12 Years and 5 Months' '12 Years and 6 Months' '12 Years and 7 Months'\n",
      " '12 Years and 8 Months' '12 Years and 10 Months' '12 Years and 9 Months'\n",
      " '13 Years and 8 Months' '13 Years and 11 Months' '14 Years and 0 Months'\n",
      " '14 Years and 1 Months' '14 Years and 2 Months' '14 Years and 3 Months'\n",
      " '30 Years and 3 Months' '30 Years and 4 Months' '30 Years and 5 Months'\n",
      " '30 Years and 6 Months' '8 Years and 9 Months' '8 Years and 10 Months'\n",
      " '18 Years and 10 Months' '18 Years and 11 Months' '19 Years and 0 Months'\n",
      " '19 Years and 1 Months' '8 Years and 8 Months' '13 Years and 1 Months'\n",
      " '13 Years and 2 Months' '13 Years and 3 Months' '13 Years and 5 Months'\n",
      " '13 Years and 6 Months' '13 Years and 7 Months' '22 Years and 0 Months'\n",
      " '26 Years and 1 Months' '26 Years and 2 Months' '13 Years and 4 Months'\n",
      " '13 Years and 9 Months' '27 Years and 11 Months' '28 Years and 0 Months'\n",
      " '28 Years and 1 Months' '28 Years and 2 Months' '28 Years and 3 Months'\n",
      " '28 Years and 4 Months' '28 Years and 5 Months' '28 Years and 6 Months'\n",
      " '7 Years and 10 Months' '7 Years and 11 Months' '8 Years and 0 Months'\n",
      " '8 Years and 1 Months' '8 Years and 2 Months' '8 Years and 3 Months'\n",
      " '8 Years and 4 Months' '8 Years and 5 Months' '24 Years and 3 Months'\n",
      " '24 Years and 4 Months' '24 Years and 5 Months' '24 Years and 6 Months'\n",
      " '24 Years and 7 Months' '24 Years and 8 Months' '24 Years and 9 Months'\n",
      " '1 Years and 2 Months' '1 Years and 3 Months' '1 Years and 4 Months'\n",
      " '1 Years and 5 Months' '1 Years and 6 Months' '1 Years and 7 Months'\n",
      " '1 Years and 8 Months' '10 Years and 11 Months' '11 Years and 0 Months'\n",
      " '11 Years and 1 Months' '11 Years and 2 Months' '11 Years and 3 Months'\n",
      " '11 Years and 4 Months' '11 Years and 5 Months' '11 Years and 6 Months'\n",
      " '19 Years and 11 Months' '20 Years and 0 Months' '20 Years and 1 Months'\n",
      " '10 Years and 9 Months' '10 Years and 10 Months' '14 Years and 4 Months'\n",
      " '14 Years and 5 Months' '14 Years and 6 Months' '20 Years and 8 Months'\n",
      " '20 Years and 9 Months' '20 Years and 10 Months' '20 Years and 11 Months'\n",
      " '21 Years and 0 Months' '21 Years and 1 Months' '21 Years and 2 Months'\n",
      " '21 Years and 3 Months' '0 Years and 4 Months' '0 Years and 5 Months'\n",
      " '0 Years and 6 Months' '0 Years and 8 Months' '0 Years and 9 Months'\n",
      " '0 Years and 10 Months' '31 Years and 7 Months' '31 Years and 8 Months'\n",
      " '31 Years and 9 Months' '31 Years and 10 Months' '31 Years and 11 Months'\n",
      " '32 Years and 1 Months' '12 Years and 11 Months' '13 Years and 0 Months'\n",
      " '27 Years and 10 Months' '11 Years and 7 Months' '11 Years and 8 Months'\n",
      " '11 Years and 9 Months' '11 Years and 10 Months' '24 Years and 10 Months'\n",
      " '24 Years and 11 Months' '25 Years and 0 Months' '25 Years and 1 Months'\n",
      " '25 Years and 2 Months' '25 Years and 3 Months' '18 Years and 0 Months'\n",
      " '31 Years and 4 Months' '31 Years and 5 Months' '31 Years and 6 Months'\n",
      " '5 Years and 2 Months' '5 Years and 3 Months' '5 Years and 4 Months'\n",
      " '5 Years and 5 Months' '5 Years and 6 Months' '5 Years and 7 Months'\n",
      " '5 Years and 8 Months' '5 Years and 9 Months' '2 Years and 11 Months'\n",
      " '3 Years and 0 Months' '3 Years and 1 Months' '3 Years and 2 Months'\n",
      " '3 Years and 3 Months' '3 Years and 4 Months' '3 Years and 5 Months'\n",
      " '3 Years and 6 Months' '16 Years and 4 Months' '16 Years and 5 Months'\n",
      " '16 Years and 6 Months' '16 Years and 7 Months' '16 Years and 8 Months'\n",
      " '16 Years and 9 Months' '22 Years and 11 Months' '23 Years and 0 Months'\n",
      " '23 Years and 2 Months' '23 Years and 3 Months' '23 Years and 4 Months'\n",
      " '23 Years and 5 Months' '23 Years and 6 Months' '8 Years and 6 Months'\n",
      " '8 Years and 7 Months' '4 Years and 5 Months' '4 Years and 6 Months'\n",
      " '4 Years and 7 Months' '4 Years and 8 Months' '4 Years and 9 Months'\n",
      " '4 Years and 10 Months' '4 Years and 11 Months' '5 Years and 0 Months'\n",
      " '32 Years and 8 Months' '33 Years and 2 Months' '33 Years and 3 Months'\n",
      " '12 Years and 2 Months' '32 Years and 4 Months' '29 Years and 11 Months'\n",
      " '30 Years and 0 Months' '30 Years and 2 Months' '26 Years and 3 Months'\n",
      " '26 Years and 4 Months' '26 Years and 5 Months' '7 Years and 6 Months'\n",
      " '7 Years and 7 Months' '7 Years and 8 Months' '7 Years and 9 Months'\n",
      " '28 Years and 7 Months' '28 Years and 8 Months' '28 Years and 9 Months'\n",
      " '28 Years and 10 Months' '29 Years and 5 Months' '29 Years and 7 Months'\n",
      " '20 Years and 2 Months' '20 Years and 3 Months' '20 Years and 4 Months'\n",
      " '20 Years and 5 Months' '20 Years and 6 Months' '20 Years and 7 Months'\n",
      " '28 Years and 11 Months' '29 Years and 0 Months' '13 Years and 10 Months'\n",
      " '1 Years and 9 Months' '1 Years and 10 Months' '1 Years and 11 Months'\n",
      " '33 Years and 5 Months' '33 Years and 6 Months' '33 Years and 7 Months'\n",
      " '33 Years and 8 Months' '29 Years and 1 Months' '5 Years and 1 Months'\n",
      " '5 Years and 10 Months' '5 Years and 11 Months' '6 Years and 0 Months'\n",
      " '6 Years and 1 Months' '6 Years and 2 Months' '6 Years and 3 Months'\n",
      " '22 Years and 9 Months' '22 Years and 10 Months' '23 Years and 1 Months'\n",
      " '22 Years and 2 Months' '15 Years and 4 Months' '15 Years and 5 Months'\n",
      " '15 Years and 6 Months' '15 Years and 7 Months' '15 Years and 8 Months'\n",
      " '15 Years and 9 Months' '15 Years and 10 Months' '15 Years and 11 Months'\n",
      " '2 Years and 3 Months' '2 Years and 4 Months' '2 Years and 5 Months'\n",
      " '2 Years and 6 Months' '2 Years and 7 Months' '2 Years and 8 Months'\n",
      " '2 Years and 9 Months' '2 Years and 10 Months' '2 Years and 0 Months'\n",
      " '16 Years and 2 Months' '16 Years and 3 Months' '22 Years and 8 Months'\n",
      " '9 Years and 5 Months' '9 Years and 7 Months' '9 Years and 8 Months'\n",
      " '9 Years and 9 Months' '11 Years and 11 Months' '12 Years and 0 Months'\n",
      " '12 Years and 1 Months' '24 Years and 2 Months' '16 Years and 0 Months'\n",
      " '16 Years and 1 Months' '14 Years and 7 Months' '25 Years and 4 Months'\n",
      " '15 Years and 3 Months' '7 Years and 1 Months' '7 Years and 2 Months'\n",
      " '7 Years and 3 Months' '7 Years and 4 Months' '7 Years and 5 Months'\n",
      " '23 Years and 7 Months' '23 Years and 8 Months' '23 Years and 9 Months'\n",
      " '30 Years and 1 Months' '29 Years and 10 Months' '9 Years and 10 Months'\n",
      " '9 Years and 11 Months' '10 Years and 0 Months' '2 Years and 2 Months'\n",
      " '23 Years and 10 Months' '23 Years and 11 Months' '24 Years and 0 Months'\n",
      " '24 Years and 1 Months' '6 Years and 4 Months' '0 Years and 1 Months'\n",
      " '0 Years and 2 Months' '0 Years and 3 Months' '0 Years and 7 Months'\n",
      " '3 Years and 8 Months' '32 Years and 7 Months' '3 Years and 7 Months'\n",
      " '3 Years and 9 Months' '3 Years and 10 Months' '0 Years and 11 Months'\n",
      " '1 Years and 0 Months' '1 Years and 1 Months' '4 Years and 4 Months'\n",
      " '3 Years and 11 Months' '4 Years and 0 Months' '4 Years and 1 Months'\n",
      " '4 Years and 2 Months' '4 Years and 3 Months' '2 Years and 1 Months']\n",
      "==================================================\n",
      "Valores únicos para 'Payment_of_Min_Amount'\n",
      "['No' 'NM' 'Yes']\n",
      "==================================================\n",
      "Valores únicos para 'Amount_invested_monthly'\n",
      "['80.41529543900253' '118.28022162236736' '81.699521264648' ...\n",
      " '24.02847744864441' '251.67258219721603' '167.1638651610451']\n",
      "==================================================\n",
      "Valores únicos para 'Payment_Behaviour'\n",
      "['High_spent_Small_value_payments' 'Low_spent_Large_value_payments'\n",
      " 'Low_spent_Medium_value_payments' 'Low_spent_Small_value_payments'\n",
      " 'High_spent_Medium_value_payments' '!@9#%8'\n",
      " 'High_spent_Large_value_payments']\n",
      "==================================================\n",
      "Valores únicos para 'Monthly_Balance'\n",
      "['312.49408867943663' '284.62916249607184' '331.2098628537912' ...\n",
      " 516.8090832742814 319.1649785257098 393.6736955618808]\n",
      "==================================================\n",
      "Valores únicos para 'Credit_Score'\n",
      "['Good' 'Standard' 'Poor']\n",
      "==================================================\n"
     ]
    }
   ],
   "source": [
    "for j in categorical_cols:\n",
    "    print(f\"Valores únicos para '{j}'\")\n",
    "    print(training_data[j].unique())\n",
    "    print(\"==================================================\")"
   ]
  },
  {
   "cell_type": "code",
   "execution_count": 89,
   "metadata": {},
   "outputs": [],
   "source": [
    "for j in categorical_cols:\n",
    "    # muitas dados possuem underscore entre seus valores, basta removê-los\n",
    "    training_data[j] = training_data[j].str.strip(\"_\")\n",
    "    \n",
    "    # substituindo dados faltantes por NaN\n",
    "    training_data[j] = training_data[j].replace({\"\": np.nan})\n",
    "\n",
    "    # algumas linhas possuem esses valores bizarros, basta substituir por NaN\n",
    "    training_data[j] = training_data[j].replace({\"!@9#%8\": np.nan, \"#F%$D@*&8\": np.nan})\n",
    "\n",
    "    try:\n",
    "        # algumas colunas \"categóricas\" são de dados númericos, mas possuem o tipo 'object'\n",
    "        training_data[j] = training_data[j].astype(\"float64\")\n",
    "    except:\n",
    "        training_data[j] = training_data[j]"
   ]
  },
  {
   "cell_type": "code",
   "execution_count": 90,
   "metadata": {},
   "outputs": [],
   "source": [
    "# o ano do histórico de crédito do cliente também é uma variável categórica baseada em ano e mês\n",
    "# podemos converter essa coluna para uma coluna numérica que representa apenas a quantidade de anos do histórico\n",
    "\n",
    "credit_history_age = []\n",
    "for i in training_data[\"Credit_History_Age\"]:\n",
    "    credit_history_age.append(str(i).split()[0])\n",
    "    \n",
    "training_data[\"Credit_History_Age\"] = credit_history_age\n",
    "training_data[\"Credit_History_Age\"] = training_data[\"Credit_History_Age\"].replace({\"nan\" : np.nan})\n",
    "training_data[\"Credit_History_Age\"] = training_data[\"Credit_History_Age\"].astype(\"float64\")"
   ]
  },
  {
   "cell_type": "code",
   "execution_count": 91,
   "metadata": {},
   "outputs": [
    {
     "name": "stdout",
     "output_type": "stream",
     "text": [
      "<class 'pandas.core.frame.DataFrame'>\n",
      "RangeIndex: 100000 entries, 0 to 99999\n",
      "Data columns (total 25 columns):\n",
      " #   Column                    Non-Null Count   Dtype  \n",
      "---  ------                    --------------   -----  \n",
      " 0   ID                        100000 non-null  object \n",
      " 1   Customer_ID               100000 non-null  object \n",
      " 2   Month                     100000 non-null  object \n",
      " 3   Age                       100000 non-null  float64\n",
      " 4   Occupation                92938 non-null   object \n",
      " 5   Annual_Income             100000 non-null  float64\n",
      " 6   Monthly_Inhand_Salary     84998 non-null   float64\n",
      " 7   Num_Bank_Accounts         100000 non-null  int64  \n",
      " 8   Num_Credit_Card           100000 non-null  int64  \n",
      " 9   Interest_Rate             100000 non-null  int64  \n",
      " 10  Num_of_Loan               100000 non-null  float64\n",
      " 11  Delay_from_due_date       100000 non-null  int64  \n",
      " 12  Num_of_Delayed_Payment    92998 non-null   float64\n",
      " 13  Changed_Credit_Limit      97909 non-null   float64\n",
      " 14  Num_Credit_Inquiries      98035 non-null   float64\n",
      " 15  Credit_Mix                79805 non-null   object \n",
      " 16  Outstanding_Debt          100000 non-null  float64\n",
      " 17  Credit_Utilization_Ratio  100000 non-null  float64\n",
      " 18  Credit_History_Age        90970 non-null   float64\n",
      " 19  Payment_of_Min_Amount     100000 non-null  object \n",
      " 20  Total_EMI_per_month       100000 non-null  float64\n",
      " 21  Amount_invested_monthly   95521 non-null   float64\n",
      " 22  Payment_Behaviour         92400 non-null   object \n",
      " 23  Monthly_Balance           97132 non-null   float64\n",
      " 24  Credit_Score              100000 non-null  object \n",
      "dtypes: float64(13), int64(4), object(8)\n",
      "memory usage: 19.1+ MB\n"
     ]
    }
   ],
   "source": [
    "training_data.info()"
   ]
  },
  {
   "cell_type": "markdown",
   "metadata": {},
   "source": [
    "#### Tratando as variáveis numéricas"
   ]
  },
  {
   "cell_type": "code",
   "execution_count": 92,
   "metadata": {},
   "outputs": [],
   "source": [
    "numerical_cols = [col for col in training_data.columns if (training_data[col].dtype == \"int64\")\n",
    "                                                        | (training_data[col].dtype == \"float64\")]"
   ]
  },
  {
   "cell_type": "code",
   "execution_count": 93,
   "metadata": {},
   "outputs": [],
   "source": [
    "def outlier_treatment(column):\n",
    "    Q1, Q3 = np.percentile(column, [25, 75])\n",
    "    IQR = Q3 - Q1\n",
    "    lower_range = Q1 - (1.5 * IQR)\n",
    "    upper_range = Q3 + (1.5 * IQR)\n",
    "\n",
    "    return lower_range, upper_range"
   ]
  },
  {
   "cell_type": "code",
   "execution_count": 94,
   "metadata": {},
   "outputs": [],
   "source": [
    "# existem idades incorretas (negativas), bem como outros outliers\n",
    "# utilizo o método IQR para substituir esses valores por NaN\n",
    "\n",
    "for j in numerical_cols:\n",
    "    lowerbound, upperbound = outlier_treatment(training_data[j])\n",
    "\n",
    "    training_data.loc[training_data[j] < lowerbound, j] = np.nan\n",
    "    training_data.loc[training_data[j] > upperbound, j] = np.nan"
   ]
  },
  {
   "cell_type": "markdown",
   "metadata": {},
   "source": [
    "#### Tratando os dados faltantes"
   ]
  },
  {
   "cell_type": "code",
   "execution_count": 95,
   "metadata": {},
   "outputs": [
    {
     "data": {
      "text/plain": [
       "Age                          2781\n",
       "Occupation                   7062\n",
       "Annual_Income                2783\n",
       "Monthly_Inhand_Salary       15002\n",
       "Num_Bank_Accounts            1315\n",
       "Num_Credit_Card              2271\n",
       "Interest_Rate                2034\n",
       "Num_of_Loan                  4348\n",
       "Delay_from_due_date          4002\n",
       "Num_of_Delayed_Payment       7002\n",
       "Changed_Credit_Limit         2091\n",
       "Num_Credit_Inquiries         1965\n",
       "Credit_Mix                  20195\n",
       "Outstanding_Debt             5272\n",
       "Credit_Utilization_Ratio        4\n",
       "Credit_History_Age           9030\n",
       "Total_EMI_per_month          6795\n",
       "Amount_invested_monthly      4479\n",
       "Payment_Behaviour            7600\n",
       "Monthly_Balance              2868\n",
       "dtype: int64"
      ]
     },
     "execution_count": 95,
     "metadata": {},
     "output_type": "execute_result"
    }
   ],
   "source": [
    "missing = training_data.isnull().sum()\n",
    "missing[missing > 0]"
   ]
  },
  {
   "cell_type": "code",
   "execution_count": 96,
   "metadata": {},
   "outputs": [],
   "source": [
    "missing_cols = list(missing.index)"
   ]
  },
  {
   "cell_type": "markdown",
   "metadata": {},
   "source": [
    "##### Tratando os dados númericos faltantes"
   ]
  },
  {
   "cell_type": "code",
   "execution_count": 99,
   "metadata": {},
   "outputs": [],
   "source": [
    "# intersecção das colunas de variáveis númericas com as colunas com dados faltantes\n",
    "numerical_cols_missing = list(set(numerical_cols).intersection(set(missing_cols)))\n",
    "\n",
    "numerical_cols_missing.append(\"Customer_ID\")"
   ]
  },
  {
   "cell_type": "code",
   "execution_count": 100,
   "metadata": {},
   "outputs": [
    {
     "data": {
      "text/plain": [
       "'Customer_ID'"
      ]
     },
     "execution_count": 100,
     "metadata": {},
     "output_type": "execute_result"
    }
   ],
   "source": [
    "numerical_cols_missing.pop()"
   ]
  }
 ],
 "metadata": {
  "kernelspec": {
   "display_name": "Python 3.10.5 64-bit (windows store)",
   "language": "python",
   "name": "python3"
  },
  "language_info": {
   "codemirror_mode": {
    "name": "ipython",
    "version": 3
   },
   "file_extension": ".py",
   "mimetype": "text/x-python",
   "name": "python",
   "nbconvert_exporter": "python",
   "pygments_lexer": "ipython3",
   "version": "3.10.5"
  },
  "orig_nbformat": 4,
  "vscode": {
   "interpreter": {
    "hash": "e75f86a392d821c6ffa2fd0ad6af67d519df4ad6878bbc920b3afeeb9500102d"
   }
  }
 },
 "nbformat": 4,
 "nbformat_minor": 2
}

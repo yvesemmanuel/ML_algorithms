{
  "nbformat": 4,
  "nbformat_minor": 0,
  "metadata": {
    "colab": {
      "name": "k-nearest neighbors algorithm.ipynb",
      "provenance": [],
      "collapsed_sections": []
    },
    "kernelspec": {
      "name": "python3",
      "display_name": "Python 3"
    },
    "language_info": {
      "name": "python"
    }
  },
  "cells": [
    {
      "cell_type": "markdown",
      "source": [
        "# dependencies"
      ],
      "metadata": {
        "id": "YJ-J4MermSNX"
      }
    },
    {
      "cell_type": "code",
      "source": [
        "import warnings\n",
        "warnings.filterwarnings(\"ignore\")"
      ],
      "metadata": {
        "id": "Gcd1gSFIloCP"
      },
      "execution_count": 1,
      "outputs": []
    },
    {
      "cell_type": "code",
      "execution_count": 2,
      "metadata": {
        "id": "-FopbuosiNTL"
      },
      "outputs": [],
      "source": [
        "import pandas as pd\n",
        "import numpy as np\n",
        "import matplotlib.pyplot as plt\n",
        "import seaborn as sns"
      ]
    },
    {
      "cell_type": "markdown",
      "source": [
        "# data handling"
      ],
      "metadata": {
        "id": "zzVEmaszmWKG"
      }
    },
    {
      "cell_type": "code",
      "source": [
        "df = pd.read_csv(\"/content/water_potability.csv\")"
      ],
      "metadata": {
        "id": "UHIfnOpmjWQJ"
      },
      "execution_count": 3,
      "outputs": []
    },
    {
      "cell_type": "code",
      "source": [
        "df.info()"
      ],
      "metadata": {
        "colab": {
          "base_uri": "https://localhost:8080/"
        },
        "id": "1sA6EkGhjlH3",
        "outputId": "42db7452-50d4-45ca-fa0c-02cc096bf09a"
      },
      "execution_count": 4,
      "outputs": [
        {
          "output_type": "stream",
          "name": "stdout",
          "text": [
            "<class 'pandas.core.frame.DataFrame'>\n",
            "RangeIndex: 3276 entries, 0 to 3275\n",
            "Data columns (total 10 columns):\n",
            " #   Column           Non-Null Count  Dtype  \n",
            "---  ------           --------------  -----  \n",
            " 0   ph               2785 non-null   float64\n",
            " 1   Hardness         3276 non-null   float64\n",
            " 2   Solids           3276 non-null   float64\n",
            " 3   Chloramines      3276 non-null   float64\n",
            " 4   Sulfate          2495 non-null   float64\n",
            " 5   Conductivity     3276 non-null   float64\n",
            " 6   Organic_carbon   3276 non-null   float64\n",
            " 7   Trihalomethanes  3114 non-null   float64\n",
            " 8   Turbidity        3276 non-null   float64\n",
            " 9   Potability       3276 non-null   int64  \n",
            "dtypes: float64(9), int64(1)\n",
            "memory usage: 256.1 KB\n"
          ]
        }
      ]
    },
    {
      "cell_type": "code",
      "source": [
        "# plot style\n",
        "sns.set(style=\"dark\")\n",
        "plt.figure(figsize=(8,5))\n",
        "plt.title(\"Classes Distribution\", fontweight=\"bold\", fontsize=20)\n",
        "\n",
        "# create plot\n",
        "ax = sns.countplot(x=\"Potability\", hue=\"Potability\", dodge=False, palette=\"husl\", data=df)\n",
        "\n",
        "# plot legend\n",
        "proportion_0, proportion_1 = df[\"Potability\"].value_counts(normalize=True)\n",
        "plt.legend(labels = [\"Non-potable ({:.2%})\".format(proportion_0), \"Potable ({:.2%})\".format(proportion_1)], fontsize=12)\n",
        "\n",
        "plt.show()"
      ],
      "metadata": {
        "colab": {
          "base_uri": "https://localhost:8080/",
          "height": 360
        },
        "id": "_JE59dyWlOmY",
        "outputId": "e8cb5af9-f08e-4202-aab9-f3c195046377"
      },
      "execution_count": 5,
      "outputs": [
        {
          "output_type": "display_data",
          "data": {
            "text/plain": [
              "<Figure size 576x360 with 1 Axes>"
            ],
            "image/png": "[encoded data removed]"
          },
          "metadata": {}
        }
      ]
    },
    {
      "cell_type": "markdown",
      "source": [
        "## data cleaning"
      ],
      "metadata": {
        "id": "oLDfHnrYmqr2"
      }
    },
    {
      "cell_type": "code",
      "source": [
        "# checking missing values\n",
        "df.isnull().sum()"
      ],
      "metadata": {
        "colab": {
          "base_uri": "https://localhost:8080/"
        },
        "id": "f-raZZW8mNIf",
        "outputId": "63a7a29e-caea-47ed-c8e3-7381e313141c"
      },
      "execution_count": 6,
      "outputs": [
        {
          "output_type": "execute_result",
          "data": {
            "text/plain": [
              "ph                 491\n",
              "Hardness             0\n",
              "Solids               0\n",
              "Chloramines          0\n",
              "Sulfate            781\n",
              "Conductivity         0\n",
              "Organic_carbon       0\n",
              "Trihalomethanes    162\n",
              "Turbidity            0\n",
              "Potability           0\n",
              "dtype: int64"
            ]
          },
          "metadata": {},
          "execution_count": 6
        }
      ]
    },
    {
      "cell_type": "code",
      "source": [
        "# removing missing values\n",
        "clean_df = df.dropna()"
      ],
      "metadata": {
        "id": "DXTX5s0u1e1Y"
      },
      "execution_count": 7,
      "outputs": []
    },
    {
      "cell_type": "markdown",
      "source": [
        "# building model"
      ],
      "metadata": {
        "id": "TzxFK7AImxQ3"
      }
    },
    {
      "cell_type": "code",
      "source": [
        "from sklearn.neighbors import KNeighborsClassifier\n",
        "from sklearn.metrics import accuracy_score, classification_report, plot_confusion_matrix\n",
        "from sklearn.model_selection import train_test_split\n",
        "from sklearn.preprocessing import StandardScaler"
      ],
      "metadata": {
        "id": "HJ3wX_JDkdHZ"
      },
      "execution_count": 8,
      "outputs": []
    },
    {
      "cell_type": "code",
      "source": [
        "# axis\n",
        "X = clean_df.drop(\"Potability\", axis=1)\n",
        "y = clean_df[\"Potability\"]\n",
        "\n",
        "# preprocessing data\n",
        "st_scaler = StandardScaler()\n",
        "X = st_scaler.fit_transform(X)\n",
        "\n",
        "# splitting data into training and testing parts\n",
        "X_train, X_test, y_train, y_test = train_test_split(X, y, test_size = 0.25, random_state = 42)"
      ],
      "metadata": {
        "id": "rec7vPae2-Pc"
      },
      "execution_count": 9,
      "outputs": []
    },
    {
      "cell_type": "code",
      "source": [
        "# getting best model based on number optimal number of neighbors in range [1, 10]\n",
        "\n",
        "k_neighbors = np.arange(1, 11)\n",
        "optimal_k = None\n",
        "optimal_model = None\n",
        "optimal_accuracy = 0\n",
        "\n",
        "test_accuracy = np.empty(len(k_neighbors))\n",
        "train_accuracy = np.empty(len(k_neighbors))\n",
        "\n",
        "for i, k in enumerate(k_neighbors):\n",
        "  model = KNeighborsClassifier(n_neighbors=k)\n",
        "  model.fit(X_train, y_train)\n",
        "\n",
        "  # compute testing accuracy to 'k' neighbors\n",
        "  y_pred_test = model.predict(X_test)\n",
        "  test_accuracy[i] = accuracy_score(y_test, y_pred_test)\n",
        "\n",
        "  # compute training accuracy to 'k' neighbors\n",
        "  y_pred_train = model.predict(X_train)\n",
        "  train_accuracy[i] = accuracy_score(y_train, y_pred_train)\n",
        "\n",
        "  # selecting best model\n",
        "  if test_accuracy[i] > optimal_accuracy:\n",
        "    optimal_k = k\n",
        "    optimal_model = model\n",
        "    optimal_accuracy = test_accuracy[i]\n",
        "\n",
        "y_pred = optimal_model.predict(X_test)\n",
        "print(\"KNN accuracy:\", accuracy_score(y_test, y_pred))\n",
        "print(\"Optimal Number of Neighbors:\", optimal_k)"
      ],
      "metadata": {
        "colab": {
          "base_uri": "https://localhost:8080/"
        },
        "id": "-WclWtSf4JhL",
        "outputId": "0c9033aa-d32f-4589-bb91-a954db0491d0"
      },
      "execution_count": 10,
      "outputs": [
        {
          "output_type": "stream",
          "name": "stdout",
          "text": [
            "KNN accuracy: 0.6481113320079522\n",
            "Optimal Number of Neighbors: 6\n"
          ]
        }
      ]
    },
    {
      "cell_type": "code",
      "source": [
        "print(classification_report(y_test, y_pred))"
      ],
      "metadata": {
        "colab": {
          "base_uri": "https://localhost:8080/"
        },
        "id": "VCvwlqpd79O_",
        "outputId": "a28e359c-55ff-45ff-de39-9bbcb4eea030"
      },
      "execution_count": 11,
      "outputs": [
        {
          "output_type": "stream",
          "name": "stdout",
          "text": [
            "              precision    recall  f1-score   support\n",
            "\n",
            "           0       0.64      0.89      0.75       293\n",
            "           1       0.67      0.31      0.42       210\n",
            "\n",
            "    accuracy                           0.65       503\n",
            "   macro avg       0.66      0.60      0.59       503\n",
            "weighted avg       0.65      0.65      0.61       503\n",
            "\n"
          ]
        }
      ]
    },
    {
      "cell_type": "code",
      "source": [
        "plot_confusion_matrix(optimal_model, X_test, y_test)\n",
        "plt.show()"
      ],
      "metadata": {
        "colab": {
          "base_uri": "https://localhost:8080/",
          "height": 285
        },
        "id": "9pZhnZeI8jTz",
        "outputId": "080f2d8f-a17a-4614-f129-8bef1a7c6891"
      },
      "execution_count": 12,
      "outputs": [
        {
          "output_type": "display_data",
          "data": {
            "text/plain": [
              "<Figure size 432x288 with 2 Axes>"
            ],
            "image/png": "[encoded data removed]"
          },
          "metadata": {}
        }
      ]
    }
  ]
}
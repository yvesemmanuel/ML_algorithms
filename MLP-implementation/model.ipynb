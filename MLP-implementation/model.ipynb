{
 "cells": [
  {
   "cell_type": "code",
   "execution_count": 1,
   "metadata": {},
   "outputs": [],
   "source": [
    "import warnings\n",
    "warnings.filterwarnings(\"ignore\")"
   ]
  },
  {
   "attachments": {},
   "cell_type": "markdown",
   "metadata": {},
   "source": [
    "#### data"
   ]
  },
  {
   "cell_type": "code",
   "execution_count": 2,
   "metadata": {},
   "outputs": [],
   "source": [
    "from data.mnist_loader import load_data_wrapper\n",
    "from preprocessing import normalize\n",
    "import numpy as np"
   ]
  },
  {
   "cell_type": "code",
   "execution_count": 3,
   "metadata": {},
   "outputs": [],
   "source": [
    "train_data, validation_data, test_data = load_data_wrapper()"
   ]
  },
  {
   "cell_type": "code",
   "execution_count": 4,
   "metadata": {},
   "outputs": [],
   "source": [
    "X, y = list(zip(*train_data))"
   ]
  },
  {
   "cell_type": "code",
   "execution_count": 5,
   "metadata": {},
   "outputs": [
    {
     "name": "stdout",
     "output_type": "stream",
     "text": [
      "training data\n",
      "mean = 0.13040000200271606\n",
      "std = 0\n"
     ]
    }
   ],
   "source": [
    "print('training data\\nmean = {}\\nstd = {}'.format(round(np.mean(X), 4), round(np.std(X)), 4))"
   ]
  },
  {
   "cell_type": "code",
   "execution_count": 6,
   "metadata": {},
   "outputs": [],
   "source": [
    "X = normalize(X)\n",
    "\n",
    "train_data = list(zip(X, y))"
   ]
  },
  {
   "cell_type": "code",
   "execution_count": 7,
   "metadata": {},
   "outputs": [
    {
     "name": "stdout",
     "output_type": "stream",
     "text": [
      "training data\n",
      "mean = -0.0\n",
      "std = 1\n"
     ]
    }
   ],
   "source": [
    "print('training data\\nmean = {}\\nstd = {}'.format(round(np.mean(X), 4), round(np.std(X)), 4))"
   ]
  },
  {
   "cell_type": "code",
   "execution_count": 8,
   "metadata": {},
   "outputs": [],
   "source": [
    "X_test, y_test = list(zip(*test_data))\n",
    "\n",
    "test_data = list(zip(X_test, y_test))"
   ]
  },
  {
   "attachments": {},
   "cell_type": "markdown",
   "metadata": {},
   "source": [
    "#### training"
   ]
  },
  {
   "cell_type": "code",
   "execution_count": 9,
   "metadata": {},
   "outputs": [],
   "source": [
    "from network import Network"
   ]
  },
  {
   "cell_type": "code",
   "execution_count": 10,
   "metadata": {},
   "outputs": [],
   "source": [
    "layers = [784, 15, 10]\n",
    "epochs = 300\n",
    "mini_batch_size = 2*32\n",
    "learning_rate = 0.46"
   ]
  },
  {
   "cell_type": "code",
   "execution_count": 11,
   "metadata": {},
   "outputs": [
    {
     "name": "stdout",
     "output_type": "stream",
     "text": [
      "Epoch 0: 0.1063\n",
      "Epoch 1: 0.1059\n",
      "Epoch 2: 0.0947\n",
      "Epoch 3: 0.0956\n"
     ]
    },
    {
     "ename": "KeyboardInterrupt",
     "evalue": "",
     "output_type": "error",
     "traceback": [
      "\u001b[0;31m---------------------------------------------------------------------------\u001b[0m",
      "\u001b[0;31mKeyboardInterrupt\u001b[0m                         Traceback (most recent call last)",
      "Cell \u001b[0;32mIn [11], line 2\u001b[0m\n\u001b[1;32m      1\u001b[0m net \u001b[39m=\u001b[39m Network(layers, activate_hidden_layer\u001b[39m=\u001b[39m\u001b[39m'\u001b[39m\u001b[39msigmoid\u001b[39m\u001b[39m'\u001b[39m)\n\u001b[0;32m----> 2\u001b[0m net\u001b[39m.\u001b[39;49mSGD(train_data, epochs, mini_batch_size, learning_rate, test_data)\n",
      "File \u001b[0;32m~/Desktop/machine_learning/MLP-implementation/network.py:74\u001b[0m, in \u001b[0;36mNetwork.SGD\u001b[0;34m(self, training_data, epochs, mini_batch_size, eta, test_data)\u001b[0m\n\u001b[1;32m     72\u001b[0m mini_batches \u001b[39m=\u001b[39m [training_data[k:k\u001b[39m+\u001b[39mmini_batch_size] \u001b[39mfor\u001b[39;00m k \u001b[39min\u001b[39;00m \u001b[39mrange\u001b[39m(\u001b[39m0\u001b[39m, n, mini_batch_size)]\n\u001b[1;32m     73\u001b[0m \u001b[39mfor\u001b[39;00m mini_batch \u001b[39min\u001b[39;00m mini_batches:\n\u001b[0;32m---> 74\u001b[0m     \u001b[39mself\u001b[39;49m\u001b[39m.\u001b[39;49mupdate_mini_batch(mini_batch, eta)\n\u001b[1;32m     76\u001b[0m \u001b[39mif\u001b[39;00m test_data:\n\u001b[1;32m     77\u001b[0m     \u001b[39mprint\u001b[39m(\u001b[39m\"\u001b[39m\u001b[39mEpoch \u001b[39m\u001b[39m{}\u001b[39;00m\u001b[39m: \u001b[39m\u001b[39m{}\u001b[39;00m\u001b[39m\"\u001b[39m\u001b[39m.\u001b[39mformat(j, \u001b[39mself\u001b[39m\u001b[39m.\u001b[39mscore(test_data)))\n",
      "File \u001b[0;32m~/Desktop/machine_learning/MLP-implementation/network.py:90\u001b[0m, in \u001b[0;36mNetwork.update_mini_batch\u001b[0;34m(self, mini_batch, eta)\u001b[0m\n\u001b[1;32m     88\u001b[0m nabla_w \u001b[39m=\u001b[39m [np\u001b[39m.\u001b[39mzeros(w\u001b[39m.\u001b[39mshape) \u001b[39mfor\u001b[39;00m w \u001b[39min\u001b[39;00m \u001b[39mself\u001b[39m\u001b[39m.\u001b[39mweights]\n\u001b[1;32m     89\u001b[0m \u001b[39mfor\u001b[39;00m x, y \u001b[39min\u001b[39;00m mini_batch:\n\u001b[0;32m---> 90\u001b[0m     delta_nabla_b, delta_nabla_w \u001b[39m=\u001b[39m \u001b[39mself\u001b[39;49m\u001b[39m.\u001b[39;49mbackprop(x, y)\n\u001b[1;32m     91\u001b[0m     nabla_b \u001b[39m=\u001b[39m [nb\u001b[39m+\u001b[39mdnb \u001b[39mfor\u001b[39;00m nb, dnb \u001b[39min\u001b[39;00m \u001b[39mzip\u001b[39m(nabla_b, delta_nabla_b)]\n\u001b[1;32m     92\u001b[0m     nabla_w \u001b[39m=\u001b[39m [nw\u001b[39m+\u001b[39mdnw \u001b[39mfor\u001b[39;00m nw, dnw \u001b[39min\u001b[39;00m \u001b[39mzip\u001b[39m(nabla_w, delta_nabla_w)]\n",
      "File \u001b[0;32m~/Desktop/machine_learning/MLP-implementation/network.py:118\u001b[0m, in \u001b[0;36mNetwork.backprop\u001b[0;34m(self, x, y)\u001b[0m\n\u001b[1;32m    116\u001b[0m         activation \u001b[39m=\u001b[39m softmax(z)\n\u001b[1;32m    117\u001b[0m     \u001b[39melse\u001b[39;00m:\n\u001b[0;32m--> 118\u001b[0m         activation \u001b[39m=\u001b[39m \u001b[39mself\u001b[39;49m\u001b[39m.\u001b[39;49mactivate_hidden_layer(z)\n\u001b[1;32m    120\u001b[0m     activations\u001b[39m.\u001b[39mappend(activation)\n\u001b[1;32m    122\u001b[0m \u001b[39m# backward pass\u001b[39;00m\n",
      "File \u001b[0;32m~/Desktop/machine_learning/MLP-implementation/network.py:191\u001b[0m, in \u001b[0;36msigmoid\u001b[0;34m(z, derivative)\u001b[0m\n\u001b[1;32m    188\u001b[0m \u001b[39mif\u001b[39;00m derivative:\n\u001b[1;32m    189\u001b[0m     \u001b[39mreturn\u001b[39;00m sigmoid(z)\u001b[39m*\u001b[39m(\u001b[39m1\u001b[39m\u001b[39m-\u001b[39msigmoid(z))\n\u001b[0;32m--> 191\u001b[0m \u001b[39mreturn\u001b[39;00m \u001b[39m1.0\u001b[39;49m\u001b[39m/\u001b[39;49m(\u001b[39m1.0\u001b[39;49m\u001b[39m+\u001b[39;49mnp\u001b[39m.\u001b[39;49mexp(\u001b[39m-\u001b[39;49mz))\n",
      "\u001b[0;31mKeyboardInterrupt\u001b[0m: "
     ]
    }
   ],
   "source": [
    "net = Network(layers, activate_hidden_layer='sigmoid')\n",
    "net.SGD(train_data, epochs, mini_batch_size, learning_rate, test_data)"
   ]
  },
  {
   "attachments": {},
   "cell_type": "markdown",
   "metadata": {},
   "source": [
    "#### validation"
   ]
  },
  {
   "cell_type": "code",
   "execution_count": null,
   "metadata": {},
   "outputs": [],
   "source": [
    "net.score(validation_data)"
   ]
  }
 ],
 "metadata": {
  "kernelspec": {
   "display_name": "base",
   "language": "python",
   "name": "python3"
  },
  "language_info": {
   "codemirror_mode": {
    "name": "ipython",
    "version": 3
   },
   "file_extension": ".py",
   "mimetype": "text/x-python",
   "name": "python",
   "nbconvert_exporter": "python",
   "pygments_lexer": "ipython3",
   "version": "3.8.15 (default, Nov 24 2022, 15:19:38) \n[GCC 11.2.0]"
  },
  "orig_nbformat": 4,
  "vscode": {
   "interpreter": {
    "hash": "d3c200d6a13644ebf9c9d65b10e2813a095c194238b43ad2d4b47adc181ee041"
   }
  }
 },
 "nbformat": 4,
 "nbformat_minor": 2
}

{
  "cells": [
    {
      "cell_type": "code",
      "execution_count": 1,
      "metadata": {
        "id": "jCpliksIJYbR"
      },
      "outputs": [],
      "source": [
        "from data.mnist_loader import load_data_wrapper\n",
        "import numpy as np\n",
        "\n",
        "from sklearn.neural_network import MLPClassifier\n",
        "from sklearn.model_selection import GridSearchCV\n",
        "from sklearn.metrics import confusion_matrix\n",
        "import matplotlib.pyplot as plt"
      ]
    },
    {
      "cell_type": "markdown",
      "metadata": {
        "id": "R_gvlDn2Jjgf"
      },
      "source": [
        "### Getting data"
      ]
    },
    {
      "cell_type": "code",
      "execution_count": 2,
      "metadata": {
        "id": "NGBAwPVABEyt"
      },
      "outputs": [],
      "source": [
        "train_data, validation_data, test_data = load_data_wrapper()\n",
        "train_data = train_data + test_data"
      ]
    },
    {
      "cell_type": "code",
      "execution_count": 3,
      "metadata": {},
      "outputs": [],
      "source": [
        "X_train, y_train = list(zip(*train_data))\n",
        "X_val, y_val = list(zip(*validation_data))"
      ]
    },
    {
      "cell_type": "code",
      "execution_count": 4,
      "metadata": {},
      "outputs": [],
      "source": [
        "X_train = [x.reshape(784) for x in X_train]\n",
        "y_train = [np.argmax(yi) for yi in y_train]\n",
        "\n",
        "X_val = [x.reshape(784) for x in X_val]"
      ]
    },
    {
      "cell_type": "markdown",
      "metadata": {
        "id": "pASv-1FKJmI4"
      },
      "source": [
        "### Model selection"
      ]
    },
    {
      "cell_type": "code",
      "execution_count": 5,
      "metadata": {},
      "outputs": [],
      "source": [
        "mlp = MLPClassifier(solver='sgd', activation='relu', random_state=1, alpha=0.01, batch_size=128, hidden_layer_sizes=(64,), max_iter=100, verbose=10, learning_rate_init=1, tol=1e-4)\n",
        "\n",
        "# mlp = MLPClassifier(solver='sgd', activation='relu', random_state=1, alpha=0.46, batch_size=128, hidden_layer_sizes=(64,), max_iter=100, learning_rate_init=1)"
      ]
    },
    {
      "cell_type": "markdown",
      "metadata": {
        "id": "pRlLKhWbJvCO"
      },
      "source": [
        "### Training"
      ]
    },
    {
      "cell_type": "code",
      "execution_count": 6,
      "metadata": {
        "id": "gKAF6LDMDR-U"
      },
      "outputs": [
        {
          "name": "stdout",
          "output_type": "stream",
          "text": [
            "Iteration 1, loss = 2.50554461\n",
            "Iteration 2, loss = 2.36619704\n",
            "Iteration 3, loss = 2.29518612\n",
            "Iteration 4, loss = 2.25674135\n",
            "Iteration 5, loss = 2.23836824\n",
            "Iteration 6, loss = 2.22958757\n",
            "Iteration 7, loss = 2.22539120\n",
            "Iteration 8, loss = 2.22338572\n",
            "Iteration 9, loss = 2.22242728\n",
            "Iteration 10, loss = 2.22196924\n",
            "Iteration 11, loss = 2.22175033\n",
            "Iteration 12, loss = 2.22164572\n",
            "Iteration 13, loss = 2.22159572\n",
            "Iteration 14, loss = 2.22157183\n",
            "Iteration 15, loss = 2.22202252\n",
            "Iteration 16, loss = 2.22299915\n",
            "Iteration 17, loss = 2.22224254\n",
            "Iteration 18, loss = 2.22188095\n",
            "Iteration 19, loss = 2.22170814\n",
            "Iteration 20, loss = 2.22162555\n",
            "Iteration 21, loss = 2.22158608\n",
            "Iteration 22, loss = 2.22156722\n",
            "Iteration 23, loss = 2.22155821\n",
            "Training loss did not improve more than tol=0.000100 for 10 consecutive epochs. Stopping.\n",
            "Iteration 24, loss = 2.22155390\n",
            "Training loss did not improve more than tol=0.000100 for 10 consecutive epochs. Stopping.\n",
            "Iteration 25, loss = 2.22155184\n",
            "Training loss did not improve more than tol=0.000100 for 10 consecutive epochs. Stopping.\n",
            "Iteration 26, loss = 2.22155085\n",
            "Training loss did not improve more than tol=0.000100 for 10 consecutive epochs. Stopping.\n",
            "Iteration 27, loss = 2.22155038\n",
            "Training loss did not improve more than tol=0.000100 for 10 consecutive epochs. Stopping.\n",
            "Iteration 28, loss = 2.22155016\n",
            "Training loss did not improve more than tol=0.000100 for 10 consecutive epochs. Stopping.\n",
            "Iteration 29, loss = 2.22155005\n",
            "Training loss did not improve more than tol=0.000100 for 10 consecutive epochs. Stopping.\n",
            "Iteration 30, loss = 2.22155000\n",
            "Training loss did not improve more than tol=0.000100 for 10 consecutive epochs. Stopping.\n",
            "Iteration 31, loss = 2.22154998\n",
            "Training loss did not improve more than tol=0.000100 for 10 consecutive epochs. Stopping.\n",
            "Iteration 32, loss = 2.22154996\n",
            "Training loss did not improve more than tol=0.000100 for 10 consecutive epochs. Stopping.\n",
            "Iteration 33, loss = 2.22154996\n",
            "Training loss did not improve more than tol=0.000100 for 10 consecutive epochs. Stopping.\n",
            "Iteration 34, loss = 2.22154996\n",
            "Training loss did not improve more than tol=0.000100 for 10 consecutive epochs. Stopping.\n",
            "Iteration 35, loss = 2.22154996\n",
            "Training loss did not improve more than tol=0.000100 for 10 consecutive epochs. Stopping.\n"
          ]
        },
        {
          "name": "stderr",
          "output_type": "stream",
          "text": [
            "/home/yvesemmanuel/miniconda3/lib/python3.8/site-packages/sklearn/neural_network/_multilayer_perceptron.py:691: UserWarning: Training interrupted by user.\n",
            "  warnings.warn(\"Training interrupted by user.\")\n"
          ]
        },
        {
          "name": "stdout",
          "output_type": "stream",
          "text": [
            "Iteration 36, loss = 2.22141119\n",
            "Iteration 37, loss = 2.22154995\n",
            "Iteration 38, loss = 2.22154995\n",
            "Iteration 39, loss = 2.22154995\n",
            "Iteration 40, loss = 2.22154995\n",
            "Iteration 41, loss = 2.22154995\n",
            "Iteration 42, loss = 2.22154995\n",
            "Iteration 43, loss = 2.22154995\n",
            "Iteration 44, loss = 2.22154995\n"
          ]
        },
        {
          "name": "stderr",
          "output_type": "stream",
          "text": [
            "/home/yvesemmanuel/miniconda3/lib/python3.8/site-packages/sklearn/neural_network/_multilayer_perceptron.py:691: UserWarning: Training interrupted by user.\n",
            "  warnings.warn(\"Training interrupted by user.\")\n"
          ]
        },
        {
          "name": "stdout",
          "output_type": "stream",
          "text": [
            "Iteration 45, loss = 2.22146122\n",
            "Iteration 46, loss = 2.22154995\n"
          ]
        }
      ],
      "source": [
        "train_losses = []\n",
        "val_losses = []\n",
        "train_accs = []\n",
        "val_accs = []\n",
        "grad_norms = []\n",
        "\n",
        "\n",
        "while not converged:\n",
        "    mlp.partial_fit(X_train, y_train, classes=np.unique(y_train))\n",
        "    \n",
        "    train_loss = mlp.loss_\n",
        "    n_iter += 1\n",
        "\n",
        "    grad_norm = np.linalg.norm(mlp.coefs_[0])\n",
        "    grad_norms.append(grad_norm) # gradient at each step\n",
        "\n",
        "    train_loss = mlp.loss_\n",
        "    train_losses.append(train_loss) # train loss\n",
        "    \n",
        "    test_pred = mlp.predict(X_val)\n",
        "    mean_squared_error = np.mean((test_pred - y_val)**2)\n",
        "    val_losses.append(mean_squared_error) # test loss\n",
        "\n",
        "    train_acc = mlp.score(X_train, y_train) \n",
        "    train_accs.append(train_acc) # train accuracy\n",
        "\n",
        "    val_acc = mlp.score(X_val, y_val)\n",
        "    val_accs.append(val_acc) # test accuracy\n",
        "\n",
        "    if train_loss < best_loss - tolerance:\n",
        "        best_loss = train_loss\n",
        "        n_iter_no_change = 0\n",
        "    else:\n",
        "        n_iter_no_change += 1\n",
        "\n",
        "    if n_iter_no_change >= 10:\n",
        "        converged = True\n",
        "        print(\"Training converged after {} iterations\".format(n_iter))\n",
        "\n",
        "    if n_iter >= mlp.max_iter:\n",
        "        converged = True\n",
        "        print(\"Training stopped after reaching max_iter\")"
      ]
    },
    {
      "cell_type": "markdown",
      "metadata": {
        "id": "JLiwGTkvPqEt"
      },
      "source": [
        "### Model analysis"
      ]
    },
    {
      "cell_type": "markdown",
      "metadata": {
        "id": "6obfhqiCNXk7"
      },
      "source": [
        "#### Filters: Visualize the filters learned by the model to see what kind of patterns the model is looking for in the input."
      ]
    },
    {
      "cell_type": "code",
      "execution_count": null,
      "metadata": {
        "colab": {
          "base_uri": "https://localhost:8080/",
          "height": 0
        },
        "id": "hB3DL-qgNSYa",
        "outputId": "94aa65b1-3f6d-4119-9311-ad0465d596ee"
      },
      "outputs": [],
      "source": [
        "weights = mlp.coefs_[0]\n",
        "\n",
        "# Create figure and axis objects\n",
        "fig, axes = plt.subplots(nrows=8, ncols=8, figsize=(8, 8))\n",
        "fig.subplots_adjust(hspace=0.3, wspace=0.3)\n",
        "\n",
        "# Plot filters\n",
        "for i, ax in enumerate(axes.flat):\n",
        "    filter = weights[:, i]\n",
        "    image = filter.reshape(28, 28)\n",
        "    ax.imshow(image, cmap='gray')\n",
        "    ax.set_xticks([])\n",
        "    ax.set_yticks([])\n",
        "    ax.set_title(f'Filter {i+1}')"
      ]
    },
    {
      "cell_type": "markdown",
      "metadata": {
        "id": "LrHzVs5lJ2oe"
      },
      "source": [
        "#### Gradient Norm: Plot the gradient norm over time to see if the gradients are exploding or vanishing."
      ]
    },
    {
      "cell_type": "code",
      "execution_count": null,
      "metadata": {
        "colab": {
          "base_uri": "https://localhost:8080/",
          "height": 0
        },
        "id": "-gtb9uEMIPzJ",
        "outputId": "e98c95d8-f1d2-4f8f-b127-b7330e518af8"
      },
      "outputs": [],
      "source": [
        "plt.plot(grad_norms, label='Gradient Norm')\n",
        "plt.xlabel('Epoch')\n",
        "plt.ylabel('Gradient Norm')\n",
        "plt.show()"
      ]
    },
    {
      "cell_type": "markdown",
      "metadata": {
        "id": "kUTEBYaqKFd9"
      },
      "source": [
        "#### Training and Validation Loss: Plot the training and validation loss over time to see how the model is performing. This can help you determine if the model is overfitting or underfitting."
      ]
    },
    {
      "cell_type": "code",
      "execution_count": null,
      "metadata": {
        "colab": {
          "base_uri": "https://localhost:8080/",
          "height": 0
        },
        "id": "q5ahvon_CE8w",
        "outputId": "a03d756d-3b2a-401f-b978-62ead42d7761"
      },
      "outputs": [],
      "source": [
        "plt.plot(train_losses, label='Training Loss')\n",
        "plt.plot(val_losses, label='Test Loss')\n",
        "plt.xlabel('Epoch')\n",
        "plt.ylabel('Loss')\n",
        "plt.legend()\n",
        "plt.show()"
      ]
    },
    {
      "cell_type": "markdown",
      "metadata": {
        "id": "sJykWEGxKBN1"
      },
      "source": [
        "#### Training and Validation Accuracy: Plot the training and validation accuracy over time to see how well the model is classifying the MNIST digits."
      ]
    },
    {
      "cell_type": "code",
      "execution_count": null,
      "metadata": {
        "colab": {
          "base_uri": "https://localhost:8080/",
          "height": 0
        },
        "id": "IwiiCTFyGF1K",
        "outputId": "247342c8-0c90-4bf8-9bfb-21ad312e8502"
      },
      "outputs": [],
      "source": [
        "plt.plot(train_accs, label='Training Accuracy')\n",
        "plt.plot(val_accs, label='Validation Accuracy')\n",
        "plt.xlabel('Epoch')\n",
        "plt.ylabel('Accuracy')\n",
        "plt.legend()\n",
        "plt.show()"
      ]
    },
    {
      "cell_type": "markdown",
      "metadata": {
        "id": "eQ0akHQKJ77U"
      },
      "source": [
        "#### Confusion Matrix: A confusion matrix can help you understand how the model is misclassifying digits. It shows the number of true positive, false positive, true negative, and false negative predictions."
      ]
    },
    {
      "cell_type": "code",
      "execution_count": null,
      "metadata": {
        "colab": {
          "base_uri": "https://localhost:8080/",
          "height": 350
        },
        "id": "hVPqvymiGHbT",
        "outputId": "204fba3b-afa0-4f29-f4fb-c7a7ff930fc7"
      },
      "outputs": [],
      "source": [
        "y_pred = mlp.predict(X_val)\n",
        "\n",
        "conf_matrix = confusion_matrix( y_val,y_pred)\n",
        "\n",
        "fig, ax = plt.subplots(figsize=(5, 5))\n",
        "ax.imshow(conf_matrix, cmap='Blues')\n",
        "ax.set_xticks(np.arange(10))\n",
        "ax.set_yticks(np.arange(10))\n",
        "ax.set_xticklabels(np.arange(10))\n",
        "ax.set_yticklabels(np.arange(10))\n",
        "for i in range(10):\n",
        "    for j in range(10):\n",
        "        ax.text(j, i, conf_matrix[i, j], ha='center', va='center', color='white')\n",
        "\n",
        "plt.xlabel('Predicted Label')\n",
        "plt.ylabel('True Label')\n",
        "plt.title('Confusion Matrix')\n",
        "plt.show()"
      ]
    }
  ],
  "metadata": {
    "colab": {
      "collapsed_sections": [
        "6obfhqiCNXk7",
        "LrHzVs5lJ2oe",
        "kUTEBYaqKFd9",
        "sJykWEGxKBN1"
      ],
      "provenance": []
    },
    "gpuClass": "standard",
    "kernelspec": {
      "display_name": "base",
      "language": "python",
      "name": "python3"
    },
    "language_info": {
      "codemirror_mode": {
        "name": "ipython",
        "version": 3
      },
      "file_extension": ".py",
      "mimetype": "text/x-python",
      "name": "python",
      "nbconvert_exporter": "python",
      "pygments_lexer": "ipython3",
      "version": "3.8.16"
    },
    "vscode": {
      "interpreter": {
        "hash": "d3c200d6a13644ebf9c9d65b10e2813a095c194238b43ad2d4b47adc181ee041"
      }
    }
  },
  "nbformat": 4,
  "nbformat_minor": 0
}

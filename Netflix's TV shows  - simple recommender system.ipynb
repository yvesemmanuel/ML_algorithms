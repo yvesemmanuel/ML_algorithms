{
 "cells": [
  {
   "cell_type": "code",
   "execution_count": 1,
   "id": "759aeaec",
   "metadata": {},
   "outputs": [],
   "source": [
    "import pandas as pd\n",
    "import seaborn as sn\n",
    "import matplotlib.pyplot as plt\n",
    "import numpy as np"
   ]
  },
  {
   "cell_type": "code",
   "execution_count": 2,
   "id": "f5aae7f2",
   "metadata": {},
   "outputs": [
    {
     "data": {
      "text/html": [
       "<div>\n",
       "<style scoped>\n",
       "    .dataframe tbody tr th:only-of-type {\n",
       "        vertical-align: middle;\n",
       "    }\n",
       "\n",
       "    .dataframe tbody tr th {\n",
       "        vertical-align: top;\n",
       "    }\n",
       "\n",
       "    .dataframe thead th {\n",
       "        text-align: right;\n",
       "    }\n",
       "</style>\n",
       "<table border=\"1\" class=\"dataframe\">\n",
       "  <thead>\n",
       "    <tr style=\"text-align: right;\">\n",
       "      <th></th>\n",
       "      <th>Title</th>\n",
       "      <th>Genre</th>\n",
       "      <th>Premiere</th>\n",
       "      <th>No_of_Seasons</th>\n",
       "      <th>No_of_Episodes</th>\n",
       "    </tr>\n",
       "  </thead>\n",
       "  <tbody>\n",
       "    <tr>\n",
       "      <th>0</th>\n",
       "      <td>Stranger Things</td>\n",
       "      <td>Science Fiction Horror</td>\n",
       "      <td>July 15, 2016</td>\n",
       "      <td>3</td>\n",
       "      <td>25</td>\n",
       "    </tr>\n",
       "    <tr>\n",
       "      <th>1</th>\n",
       "      <td>The Crown</td>\n",
       "      <td>Historical Drama</td>\n",
       "      <td>November 4, 2016</td>\n",
       "      <td>4</td>\n",
       "      <td>40</td>\n",
       "    </tr>\n",
       "    <tr>\n",
       "      <th>2</th>\n",
       "      <td>Ozark</td>\n",
       "      <td>Crime Drama</td>\n",
       "      <td>July 21, 2017</td>\n",
       "      <td>3</td>\n",
       "      <td>30</td>\n",
       "    </tr>\n",
       "    <tr>\n",
       "      <th>3</th>\n",
       "      <td>Lost in Space</td>\n",
       "      <td>Science Fiction</td>\n",
       "      <td>April 13, 2018</td>\n",
       "      <td>2</td>\n",
       "      <td>20</td>\n",
       "    </tr>\n",
       "    <tr>\n",
       "      <th>4</th>\n",
       "      <td>Narcos: Mexico</td>\n",
       "      <td>Crime Drama</td>\n",
       "      <td>November 16, 2018</td>\n",
       "      <td>2</td>\n",
       "      <td>20</td>\n",
       "    </tr>\n",
       "  </tbody>\n",
       "</table>\n",
       "</div>"
      ],
      "text/plain": [
       "             Title                   Genre           Premiere No_of_Seasons  \\\n",
       "0  Stranger Things  Science Fiction Horror      July 15, 2016             3   \n",
       "1        The Crown        Historical Drama   November 4, 2016             4   \n",
       "2            Ozark             Crime Drama      July 21, 2017             3   \n",
       "3    Lost in Space         Science Fiction     April 13, 2018             2   \n",
       "4   Narcos: Mexico             Crime Drama  November 16, 2018             2   \n",
       "\n",
       "  No_of_Episodes  \n",
       "0             25  \n",
       "1             40  \n",
       "2             30  \n",
       "3             20  \n",
       "4             20  "
      ]
     },
     "execution_count": 2,
     "metadata": {},
     "output_type": "execute_result"
    }
   ],
   "source": [
    "df = pd.read_csv(\"data/tv_shows_data.csv\")\n",
    "df.head()"
   ]
  },
  {
   "cell_type": "code",
   "execution_count": 3,
   "id": "7a797e98",
   "metadata": {},
   "outputs": [
    {
     "data": {
      "text/html": [
       "<div>\n",
       "<style scoped>\n",
       "    .dataframe tbody tr th:only-of-type {\n",
       "        vertical-align: middle;\n",
       "    }\n",
       "\n",
       "    .dataframe tbody tr th {\n",
       "        vertical-align: top;\n",
       "    }\n",
       "\n",
       "    .dataframe thead th {\n",
       "        text-align: right;\n",
       "    }\n",
       "</style>\n",
       "<table border=\"1\" class=\"dataframe\">\n",
       "  <thead>\n",
       "    <tr style=\"text-align: right;\">\n",
       "      <th></th>\n",
       "      <th>Title</th>\n",
       "      <th>Genre</th>\n",
       "      <th>Premiere</th>\n",
       "      <th>No_of_Seasons</th>\n",
       "      <th>No_of_Episodes</th>\n",
       "    </tr>\n",
       "  </thead>\n",
       "  <tbody>\n",
       "    <tr>\n",
       "      <th>208</th>\n",
       "      <td>Title</td>\n",
       "      <td>Genre</td>\n",
       "      <td>Premiere</td>\n",
       "      <td>No_of_Seasons</td>\n",
       "      <td>No_of_Episodes</td>\n",
       "    </tr>\n",
       "    <tr>\n",
       "      <th>491</th>\n",
       "      <td>Title</td>\n",
       "      <td>Genre</td>\n",
       "      <td>Premiere</td>\n",
       "      <td>No_of_Seasons</td>\n",
       "      <td>No_of_Episodes</td>\n",
       "    </tr>\n",
       "  </tbody>\n",
       "</table>\n",
       "</div>"
      ],
      "text/plain": [
       "     Title  Genre  Premiere  No_of_Seasons  No_of_Episodes\n",
       "208  Title  Genre  Premiere  No_of_Seasons  No_of_Episodes\n",
       "491  Title  Genre  Premiere  No_of_Seasons  No_of_Episodes"
      ]
     },
     "execution_count": 3,
     "metadata": {},
     "output_type": "execute_result"
    }
   ],
   "source": [
    "df[df[\"Title\"] == \"Title\"]"
   ]
  },
  {
   "cell_type": "markdown",
   "id": "2142466c",
   "metadata": {},
   "source": [
    "# Análise Descritiva"
   ]
  },
  {
   "cell_type": "code",
   "execution_count": 4,
   "id": "25836de1",
   "metadata": {},
   "outputs": [
    {
     "data": {
      "text/plain": [
       "641"
      ]
     },
     "execution_count": 4,
     "metadata": {},
     "output_type": "execute_result"
    }
   ],
   "source": [
    "len(df)"
   ]
  },
  {
   "cell_type": "code",
   "execution_count": 5,
   "id": "97258da7",
   "metadata": {},
   "outputs": [
    {
     "data": {
      "text/plain": [
       "171"
      ]
     },
     "execution_count": 5,
     "metadata": {},
     "output_type": "execute_result"
    }
   ],
   "source": [
    "df[\"Genre\"].nunique()"
   ]
  },
  {
   "cell_type": "code",
   "execution_count": 6,
   "id": "d9a007ba",
   "metadata": {},
   "outputs": [
    {
     "data": {
      "text/plain": [
       "array(['Science Fiction Horror', 'Historical Drama', 'Crime Drama',\n",
       "       'Science Fiction', 'Superhero Action', 'Zombie Drama',\n",
       "       'Science Fiction Drama', 'Police Procedural Anthology Series',\n",
       "       'Superhero Science Fiction Drama', 'Romantic Drama',\n",
       "       'Fantasy Drama', 'Horror Teen Drama', 'Fantasy',\n",
       "       'Coming Of Age Drama', 'Romance Drama', 'Teen Drama',\n",
       "       'Anthology Series', 'Detective Drama', 'Drama', 'Horror',\n",
       "       'Romance', 'Biopic', 'Teen Drama Fantasy', 'Comedy Drama',\n",
       "       'Comedy', 'Satire Drama', 'Coming Of Age Comedy', 'Sketch Comedy',\n",
       "       'Dark Comedy', 'Black Comedy Drama', 'Sitcom', 'Dramedy',\n",
       "       'Musical Comedy', 'Medieval Fantasy Comedy', 'Anthology',\n",
       "       'Mockumentary', 'Science Fantasy Dark Comedy', 'War Drama',\n",
       "       'Dark Fantasy', 'Suspense', 'Workplace Comedy',\n",
       "       \"Children'S Series\", 'Disaster', 'Dark Fantasy Adventure',\n",
       "       'Fantasy Action', 'Romantic Comedy', 'Supernatural Drama',\n",
       "       'Thriller', 'Police Procedural', 'Period Drama Comedy',\n",
       "       'Period Horror Thriller', 'Drama Anthology Series',\n",
       "       'Teen Crime Drama', 'Fantasy Superhero Drama', 'Horror Anthology',\n",
       "       'Period Drama', 'Zombie Horror', 'Awaiting Release',\n",
       "       'Crime Teen Drama', 'Horror Fantasy Thriller', 'Family Drama',\n",
       "       'Superhero Comedy', 'Sports Crime Drama', 'Crime Anthology Series',\n",
       "       'Travel Documentary', 'Documentary', 'Docu Series', 'Sport',\n",
       "       'Culinary Art', 'Nature Documentary', 'Making Of',\n",
       "       'Coming Of Age Documentary', 'True Crime', 'Genre',\n",
       "       'Political Drama', 'Horror Thriller',\n",
       "       'Superhero Fiction Crime Drama Legal Drama',\n",
       "       'Superhero Fiction Neo Noir Psychological Thriller',\n",
       "       'Musical Drama',\n",
       "       'Superhero Fiction Neo Blaxploitation Neo Western', 'Mystery',\n",
       "       'Black Comedy Mystery', 'Superhero Fiction Martial Arts',\n",
       "       'Teen Drama Mystery', 'Psychological Thriller',\n",
       "       'Science Fiction Teen Drama',\n",
       "       'Superhero Fiction Crime Drama Conspiracy Thriller',\n",
       "       'Supernatural Fiction', 'Supernatural Coming Of Age Horror',\n",
       "       'Supernatural Crime Drama', 'Supernatural Horror Drama',\n",
       "       'Teen Psychological Thriller', 'Mystery Drama',\n",
       "       'Supernatural Martial Arts Drama', 'Science Fiction Horror Drama',\n",
       "       'Romantic Comedy Anthology', 'Comedy Horror',\n",
       "       'Comic Science Fiction', 'Dark Comedy Drama',\n",
       "       'Police Procedural Comedy Drama', 'Family Comedy',\n",
       "       'Satirical Comedy', 'Superhero Action Drama', 'Western',\n",
       "       'Social Thriller Anthology', 'Science Fiction Thriller',\n",
       "       'Science Fantasy Comedy', 'Superhero Lgbt Comedy',\n",
       "       'Sitcom Television Comedy', 'Supernatural Horror', 'Supernatural',\n",
       "       'Musical Fantasy', 'Martial Arts', 'Crime',\n",
       "       'Stop Motion Slice Of Life', 'Action', 'Supernatural Action',\n",
       "       'Science Fiction Action', 'Supernatural Comedy',\n",
       "       'Fantasy Adventure', 'Post Apocalyptic Drama', 'Horror Drama',\n",
       "       'Espionage Thriller', 'Action Comedy', 'Science Fiction Romance',\n",
       "       'Crime Drama Romance', 'Spy Thriller', 'Thriller Drama', 'Musical',\n",
       "       'Mystery Period Drama', 'Crime Drama Thriller',\n",
       "       'Police Procedural Anthology', 'Supernatural Mystery', 'Biography',\n",
       "       'Psychological Drama', 'Nature', 'History', 'Docudrama',\n",
       "       'Detective Fiction', 'Alternative History', 'Legal Drama',\n",
       "       'Historical Period Drama', 'Anthology Horror',\n",
       "       'Political Thriller', 'Superhero', 'Young Adult Drama',\n",
       "       'Political Satire', 'Teen Sitcom Fantasy', 'Teen Sitcom',\n",
       "       'Action Historical', 'Crime Thriller', 'Sports Drama',\n",
       "       'Horror Comedy', 'Romantic Comedy Drama', 'Crime Thriller Action',\n",
       "       'Action Horror', 'Science Fiction Comedy', 'Action Drama',\n",
       "       'Cooking Comedy', 'Action Comedy Drama', 'Comedy Drama Anthology',\n",
       "       'Mystery Thriller', 'Adventure', 'Sports Documentary', 'Motoring',\n",
       "       'Cooking Documentary', 'Comedian Documentary', 'Docuseries',\n",
       "       'Comedy Docudrama', 'Drug Documentary', 'Cooking Show'],\n",
       "      dtype=object)"
      ]
     },
     "execution_count": 6,
     "metadata": {},
     "output_type": "execute_result"
    }
   ],
   "source": [
    "df[\"Genre\"].unique()"
   ]
  },
  {
   "cell_type": "code",
   "execution_count": 7,
   "id": "e695f975",
   "metadata": {},
   "outputs": [
    {
     "data": {
      "text/plain": [
       "Docu Series                    78\n",
       "Comedy                         60\n",
       "Drama                          35\n",
       "Comedy Drama                   30\n",
       "Crime Drama                    25\n",
       "                               ..\n",
       "Suspense                        1\n",
       "Zombie Horror                   1\n",
       "Teen Sitcom Fantasy             1\n",
       "Science Fiction Comedy          1\n",
       "Science Fantasy Dark Comedy     1\n",
       "Name: Genre, Length: 171, dtype: int64"
      ]
     },
     "execution_count": 7,
     "metadata": {},
     "output_type": "execute_result"
    }
   ],
   "source": [
    "df[\"Genre\"].value_counts()"
   ]
  },
  {
   "cell_type": "code",
   "execution_count": 8,
   "id": "4eb857ca",
   "metadata": {},
   "outputs": [
    {
     "data": {
      "image/png": "[encoded data removed]",
      "text/plain": [
       "<Figure size 720x576 with 1 Axes>"
      ]
     },
     "metadata": {
      "needs_background": "light"
     },
     "output_type": "display_data"
    }
   ],
   "source": [
    "# top 10 genres' movies\n",
    "df[\"Genre\"].value_counts()[:10].plot(kind = \"barh\",figsize = (10, 8),\n",
    "                                     fontsize = 18, color = \"black\").invert_yaxis()"
   ]
  },
  {
   "cell_type": "markdown",
   "id": "64d3f7a8",
   "metadata": {},
   "source": [
    "## *Recommender Systems* are widely used to filter entertainment data. There are two types: *content-based* e *collaborative filtering*."
   ]
  },
  {
   "cell_type": "markdown",
   "id": "d1f43de6",
   "metadata": {},
   "source": [
    "### based on a TV show previously watched, what TV shows should be recommended to a netflix user?"
   ]
  },
  {
   "cell_type": "code",
   "execution_count": 9,
   "id": "bf13a915",
   "metadata": {},
   "outputs": [],
   "source": [
    "    # to compute features similarity\n",
    "from sklearn.metrics.pairwise import cosine_similarity\n",
    "from sklearn.metrics.pairwise import linear_kernel\n",
    "    # to extract features\n",
    "from sklearn.feature_extraction.text import TfidfVectorizer"
   ]
  },
  {
   "cell_type": "code",
   "execution_count": 10,
   "id": "ac0884d9",
   "metadata": {},
   "outputs": [],
   "source": [
    "# creating a vector with TV shows' titles\n",
    "\n",
    "vectorizer = TfidfVectorizer(stop_words = \"english\") # convert a collection of raw documents\n",
    "                                                     # to a matrix of TF-IDF features\n",
    "\n",
    "df[\"Title\"] = df[\"Title\"].fillna(\"\") # removing NaN\n",
    "\n",
    "count_series_matrix = vectorizer.fit_transform(df[\"Title\"]) # fit_transform() is used on the training data\n",
    "                                                            # so that we can scale the training data and also\n",
    "                                                            # learn the scaling parameters of that data\n",
    "        \n",
    "                                                            # I need to extract some kind of\n",
    "                                                            # features from TV shows' title"
   ]
  },
  {
   "cell_type": "code",
   "execution_count": 11,
   "id": "7e1afdb0",
   "metadata": {},
   "outputs": [
    {
     "data": {
      "text/plain": [
       "(641, 1014)"
      ]
     },
     "execution_count": 11,
     "metadata": {},
     "output_type": "execute_result"
    }
   ],
   "source": [
    "count_series_matrix.shape"
   ]
  },
  {
   "cell_type": "code",
   "execution_count": 12,
   "id": "1f9c4fbe",
   "metadata": {},
   "outputs": [
    {
     "data": {
      "text/plain": [
       "['101', '13', '1983', '1989', '1994', '2020', '2806', '3000', '72', '7seeds']"
      ]
     },
     "execution_count": 12,
     "metadata": {},
     "output_type": "execute_result"
    }
   ],
   "source": [
    "vectorizer.get_feature_names()[:10]"
   ]
  },
  {
   "cell_type": "markdown",
   "id": "ef8c92ed",
   "metadata": {},
   "source": [
    "### from the shape of the the matrix token I can conclude that 1106 different vocabularies/words in the dataset class \"title\"."
   ]
  },
  {
   "cell_type": "code",
   "execution_count": 13,
   "id": "750ed61b",
   "metadata": {},
   "outputs": [],
   "source": [
    "cosine_sim = linear_kernel(count_series_matrix, count_series_matrix) # dot product between vectors"
   ]
  },
  {
   "cell_type": "code",
   "execution_count": 14,
   "id": "6658b66e",
   "metadata": {},
   "outputs": [
    {
     "data": {
      "text/plain": [
       "(641, 641)"
      ]
     },
     "execution_count": 14,
     "metadata": {},
     "output_type": "execute_result"
    }
   ],
   "source": [
    "cosine_sim.shape"
   ]
  },
  {
   "cell_type": "code",
   "execution_count": 15,
   "id": "b1c98850",
   "metadata": {},
   "outputs": [
    {
     "data": {
      "text/plain": [
       "array([0., 0., 0., 0., 0., 0., 0., 0., 0., 0., 1., 0., 0., 0., 0., 0., 0.,\n",
       "       0., 0., 0., 0., 0., 0., 0., 0., 0., 0., 0., 0., 0., 0., 0., 0., 0.,\n",
       "       0., 0., 0., 0., 0., 0., 0., 0., 0., 0., 0., 0., 0., 0., 0., 0., 0.,\n",
       "       0., 0., 0., 0., 0., 0., 0., 0., 0., 0., 0., 0., 0., 0., 0., 0., 0.,\n",
       "       0., 0., 0., 0., 0., 0., 0., 0., 0., 0., 0., 0., 0., 0., 0., 0., 0.,\n",
       "       0., 0., 0., 0., 0., 0., 0., 0., 0., 0., 0., 0., 0., 0., 0., 0., 0.,\n",
       "       0., 0., 0., 0., 0., 0., 0., 0., 0., 0., 0., 0., 0., 0., 0., 0., 0.,\n",
       "       0., 0., 0., 0., 0., 0., 0., 0., 0., 0., 0., 0., 0., 0., 0., 0., 0.,\n",
       "       0., 0., 0., 0., 0., 0., 0., 0., 0., 0., 0., 0., 0., 0., 0., 0., 0.,\n",
       "       0., 0., 0., 0., 0., 0., 0., 0., 0., 0., 0., 0., 0., 0., 0., 0., 0.,\n",
       "       0., 0., 0., 0., 0., 0., 0., 0., 0., 0., 0., 0., 0., 0., 0., 0., 0.,\n",
       "       0., 0., 0., 0., 0., 0., 0., 0., 0., 0., 0., 0., 0., 0., 0., 0., 0.,\n",
       "       0., 0., 0., 0., 0., 0., 0., 0., 0., 0., 0., 0., 0., 0., 0., 0., 0.,\n",
       "       0., 0., 0., 0., 0., 0., 0., 0., 0., 0., 0., 0., 0., 0., 0., 0., 0.,\n",
       "       0., 0., 0., 0., 0., 0., 0., 0., 0., 0., 0., 0., 0., 0., 0., 0., 0.,\n",
       "       0., 0., 0., 0., 0., 0., 0., 0., 0., 0., 0., 0., 0., 0., 0., 0., 0.,\n",
       "       0., 0., 0., 0., 0., 0., 0., 0., 0., 0., 0., 0., 0., 0., 0., 0., 0.,\n",
       "       0., 0., 0., 0., 0., 0., 0., 0., 0., 0., 0., 0., 0., 0., 0., 0., 0.,\n",
       "       0., 0., 0., 0., 0., 0., 0., 0., 0., 0., 0., 0., 0., 0., 0., 0., 0.,\n",
       "       0., 0., 0., 0., 0., 0., 0., 0., 0., 0., 0., 0., 0., 0., 0., 0., 0.,\n",
       "       0., 0., 0., 0., 0., 0., 0., 0., 0., 0., 0., 0., 0., 0., 0., 0., 0.,\n",
       "       0., 0., 0., 0., 0., 0., 0., 0., 0., 0., 0., 0., 0., 0., 0., 0., 0.,\n",
       "       0., 0., 0., 0., 0., 0., 0., 0., 0., 0., 0., 0., 0., 0., 0., 0., 0.,\n",
       "       0., 0., 0., 0., 0., 0., 0., 0., 0., 0., 0., 0., 0., 0., 0., 0., 0.,\n",
       "       0., 0., 0., 0., 0., 0., 0., 0., 0., 0., 0., 0., 0., 0., 0., 0., 0.,\n",
       "       0., 0., 0., 0., 0., 0., 0., 0., 0., 0., 0., 0., 0., 0., 0., 0., 0.,\n",
       "       0., 0., 0., 0., 0., 0., 0., 0., 0., 0., 0., 0., 0., 0., 0., 0., 0.,\n",
       "       0., 0., 0., 0., 0., 0., 0., 0., 0., 0., 0., 0., 0., 0., 0., 0., 0.,\n",
       "       0., 0., 0., 0., 0., 0., 0., 0., 0., 0., 0., 0., 0., 0., 0., 0., 0.,\n",
       "       0., 0., 0., 0., 0., 0., 0., 0., 0., 0., 0., 0., 0., 0., 0., 0., 0.,\n",
       "       0., 0., 0., 0., 0., 0., 0., 0., 0., 0., 0., 0., 0., 0., 0., 0., 0.,\n",
       "       0., 0., 0., 0., 0., 0., 0., 0., 0., 0., 0., 0., 0., 0., 0., 0., 0.,\n",
       "       0., 0., 0., 0., 0., 0., 0., 0., 0., 0., 0., 0., 0., 0., 0., 0., 0.,\n",
       "       0., 0., 0., 0., 0., 0., 0., 0., 0., 0., 0., 0., 0., 0., 0., 0., 0.,\n",
       "       0., 0., 0., 0., 0., 0., 0., 0., 0., 0., 0., 0., 0., 0., 0., 0., 0.,\n",
       "       0., 0., 0., 0., 0., 0., 0., 0., 0., 0., 0., 0., 0., 0., 0., 0., 0.,\n",
       "       0., 0., 0., 0., 0., 0., 0., 0., 0., 0., 0., 0., 0., 0., 0., 0., 0.,\n",
       "       0., 0., 0., 0., 0., 0., 0., 0., 0., 0., 0., 0.])"
      ]
     },
     "execution_count": 15,
     "metadata": {},
     "output_type": "execute_result"
    }
   ],
   "source": [
    "cosine_sim[10]"
   ]
  },
  {
   "cell_type": "markdown",
   "id": "39e2180f",
   "metadata": {},
   "source": [
    "### a 641x641 matrix because each TV show cosine similarity score with every other TV show cosine similarity."
   ]
  },
  {
   "cell_type": "code",
   "execution_count": 16,
   "id": "4f913f1b",
   "metadata": {},
   "outputs": [
    {
     "data": {
      "text/plain": [
       "Title\n",
       "Stranger Things         0\n",
       "The Crown               1\n",
       "Ozark                   2\n",
       "Lost in Space           3\n",
       "Narcos: Mexico          4\n",
       "The Umbrella Academy    5\n",
       "Black Summer            6\n",
       "Another Life            7\n",
       "Criminal: UK            8\n",
       "Raising Dion            9\n",
       "dtype: int64"
      ]
     },
     "execution_count": 16,
     "metadata": {},
     "output_type": "execute_result"
    }
   ],
   "source": [
    "indices = pd.Series(df.index, index = df[\"Title\"]).drop_duplicates()\n",
    "indices[:10]"
   ]
  },
  {
   "cell_type": "code",
   "execution_count": 17,
   "id": "59eafc11",
   "metadata": {},
   "outputs": [],
   "source": [
    "# creating a simple recommender system function\n",
    "\n",
    "def recommender(title, cosine_sim = cosine_sim): # title stands for the title of the previously watched TV show\n",
    "    title_idx = indices[title] # index of the TV show previously watched\n",
    "    \n",
    "    sim_scores = list(enumerate(cosine_sim[title_idx])) # similarity score of all TV shows with the\n",
    "                                                        # TV show previoulsy watched\n",
    "        \n",
    "    sim_scores = sorted(sim_scores, key = lambda x: x[1], reverse = True) # reverse to get the top matched scores\n",
    "    sim_scores = sim_scores[1:11] # top 10: notice we don't take the first one\n",
    "                                  # because it's the same movie (cosine_sim = 1)\n",
    "    \n",
    "    shows_indices = [idx[0] for idx in sim_scores] # recommended TV shows' indices\n",
    "    \n",
    "    return df[\"Title\"].iloc[shows_indices]"
   ]
  },
  {
   "cell_type": "markdown",
   "id": "f9430113",
   "metadata": {},
   "source": [
    "### I just finished *The Witcher*, so what TV show should I watch next?"
   ]
  },
  {
   "cell_type": "code",
   "execution_count": 18,
   "id": "cce578da",
   "metadata": {},
   "outputs": [
    {
     "data": {
      "text/plain": [
       "180    The Witcher: A Look Inside the Episodes\n",
       "0                              Stranger Things\n",
       "1                                    The Crown\n",
       "2                                        Ozark\n",
       "3                                Lost in Space\n",
       "4                               Narcos: Mexico\n",
       "5                         The Umbrella Academy\n",
       "6                                 Black Summer\n",
       "7                                 Another Life\n",
       "8                                 Criminal: UK\n",
       "Name: Title, dtype: object"
      ]
     },
     "execution_count": 18,
     "metadata": {},
     "output_type": "execute_result"
    }
   ],
   "source": [
    "recommender(\"The Witcher\")"
   ]
  },
  {
   "cell_type": "code",
   "execution_count": 19,
   "id": "dfe9fe2e",
   "metadata": {},
   "outputs": [
    {
     "data": {
      "text/html": [
       "<div>\n",
       "<style scoped>\n",
       "    .dataframe tbody tr th:only-of-type {\n",
       "        vertical-align: middle;\n",
       "    }\n",
       "\n",
       "    .dataframe tbody tr th {\n",
       "        vertical-align: top;\n",
       "    }\n",
       "\n",
       "    .dataframe thead th {\n",
       "        text-align: right;\n",
       "    }\n",
       "</style>\n",
       "<table border=\"1\" class=\"dataframe\">\n",
       "  <thead>\n",
       "    <tr style=\"text-align: right;\">\n",
       "      <th></th>\n",
       "      <th>Title</th>\n",
       "      <th>Genre</th>\n",
       "      <th>Premiere</th>\n",
       "      <th>No_of_Seasons</th>\n",
       "      <th>No_of_Episodes</th>\n",
       "    </tr>\n",
       "  </thead>\n",
       "  <tbody>\n",
       "    <tr>\n",
       "      <th>0</th>\n",
       "      <td>Stranger Things</td>\n",
       "      <td>Science Fiction Horror</td>\n",
       "      <td>July 15, 2016</td>\n",
       "      <td>3</td>\n",
       "      <td>25</td>\n",
       "    </tr>\n",
       "    <tr>\n",
       "      <th>1</th>\n",
       "      <td>The Crown</td>\n",
       "      <td>Historical Drama</td>\n",
       "      <td>November 4, 2016</td>\n",
       "      <td>4</td>\n",
       "      <td>40</td>\n",
       "    </tr>\n",
       "    <tr>\n",
       "      <th>2</th>\n",
       "      <td>Ozark</td>\n",
       "      <td>Crime Drama</td>\n",
       "      <td>July 21, 2017</td>\n",
       "      <td>3</td>\n",
       "      <td>30</td>\n",
       "    </tr>\n",
       "    <tr>\n",
       "      <th>3</th>\n",
       "      <td>Lost in Space</td>\n",
       "      <td>Science Fiction</td>\n",
       "      <td>April 13, 2018</td>\n",
       "      <td>2</td>\n",
       "      <td>20</td>\n",
       "    </tr>\n",
       "    <tr>\n",
       "      <th>4</th>\n",
       "      <td>Narcos: Mexico</td>\n",
       "      <td>Crime Drama</td>\n",
       "      <td>November 16, 2018</td>\n",
       "      <td>2</td>\n",
       "      <td>20</td>\n",
       "    </tr>\n",
       "    <tr>\n",
       "      <th>5</th>\n",
       "      <td>The Umbrella Academy</td>\n",
       "      <td>Superhero Action</td>\n",
       "      <td>February 15, 2019</td>\n",
       "      <td>2</td>\n",
       "      <td>20</td>\n",
       "    </tr>\n",
       "    <tr>\n",
       "      <th>6</th>\n",
       "      <td>Black Summer</td>\n",
       "      <td>Zombie Drama</td>\n",
       "      <td>April 11, 2019</td>\n",
       "      <td>1</td>\n",
       "      <td>8</td>\n",
       "    </tr>\n",
       "    <tr>\n",
       "      <th>7</th>\n",
       "      <td>Another Life</td>\n",
       "      <td>Science Fiction Drama</td>\n",
       "      <td>July 25, 2019</td>\n",
       "      <td>1</td>\n",
       "      <td>10</td>\n",
       "    </tr>\n",
       "    <tr>\n",
       "      <th>8</th>\n",
       "      <td>Criminal: UK</td>\n",
       "      <td>Police Procedural Anthology Series</td>\n",
       "      <td>September 20, 2019</td>\n",
       "      <td>2</td>\n",
       "      <td>7</td>\n",
       "    </tr>\n",
       "    <tr>\n",
       "      <th>180</th>\n",
       "      <td>The Witcher: A Look Inside the Episodes</td>\n",
       "      <td>Making Of</td>\n",
       "      <td>September 2, 2020</td>\n",
       "      <td>1</td>\n",
       "      <td>8</td>\n",
       "    </tr>\n",
       "  </tbody>\n",
       "</table>\n",
       "</div>"
      ],
      "text/plain": [
       "                                       Title  \\\n",
       "0                            Stranger Things   \n",
       "1                                  The Crown   \n",
       "2                                      Ozark   \n",
       "3                              Lost in Space   \n",
       "4                             Narcos: Mexico   \n",
       "5                       The Umbrella Academy   \n",
       "6                               Black Summer   \n",
       "7                               Another Life   \n",
       "8                               Criminal: UK   \n",
       "180  The Witcher: A Look Inside the Episodes   \n",
       "\n",
       "                                  Genre            Premiere No_of_Seasons  \\\n",
       "0                Science Fiction Horror       July 15, 2016             3   \n",
       "1                      Historical Drama    November 4, 2016             4   \n",
       "2                           Crime Drama       July 21, 2017             3   \n",
       "3                       Science Fiction      April 13, 2018             2   \n",
       "4                           Crime Drama   November 16, 2018             2   \n",
       "5                      Superhero Action   February 15, 2019             2   \n",
       "6                          Zombie Drama      April 11, 2019             1   \n",
       "7                 Science Fiction Drama       July 25, 2019             1   \n",
       "8    Police Procedural Anthology Series  September 20, 2019             2   \n",
       "180                           Making Of   September 2, 2020             1   \n",
       "\n",
       "    No_of_Episodes  \n",
       "0               25  \n",
       "1               40  \n",
       "2               30  \n",
       "3               20  \n",
       "4               20  \n",
       "5               20  \n",
       "6                8  \n",
       "7               10  \n",
       "8                7  \n",
       "180              8  "
      ]
     },
     "execution_count": 19,
     "metadata": {},
     "output_type": "execute_result"
    }
   ],
   "source": [
    "all_recommendations = recommender(\"The Witcher\")\n",
    "\n",
    "# top recommendations to users who just finished The Witcher\n",
    "df_recommendations = df[df[\"Title\"].isin(all_recommendations)]\n",
    "df_recommendations"
   ]
  }
 ],
 "metadata": {
  "kernelspec": {
   "display_name": "Python 3 (ipykernel)",
   "language": "python",
   "name": "python3"
  },
  "language_info": {
   "codemirror_mode": {
    "name": "ipython",
    "version": 3
   },
   "file_extension": ".py",
   "mimetype": "text/x-python",
   "name": "python",
   "nbconvert_exporter": "python",
   "pygments_lexer": "ipython3",
   "version": "3.8.10"
  }
 },
 "nbformat": 4,
 "nbformat_minor": 5
}
